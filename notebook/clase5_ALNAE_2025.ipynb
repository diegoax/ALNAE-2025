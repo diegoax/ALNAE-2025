{
  "nbformat": 4,
  "nbformat_minor": 0,
  "metadata": {
    "colab": {
      "provenance": [],
      "authorship_tag": "ABX9TyMEhPRceWJjh6jX76dEoqqF",
      "include_colab_link": true
    },
    "kernelspec": {
      "name": "julia",
      "display_name": "Julia"
    },
    "language_info": {
      "name": "julia"
    }
  },
  "cells": [
    {
      "cell_type": "markdown",
      "metadata": {
        "id": "view-in-github",
        "colab_type": "text"
      },
      "source": [
        "<a href=\"https://colab.research.google.com/github/diegoax/ALNAE-2025/blob/main/notebook/clase5_ALNAE_2025.ipynb\" target=\"_parent\"><img src=\"https://colab.research.google.com/assets/colab-badge.svg\" alt=\"Open In Colab\"/></a>"
      ]
    },
    {
      "cell_type": "markdown",
      "source": [
        "# Clase 5 (Viernes 28 de marzo, 2025)\n",
        "---"
      ],
      "metadata": {
        "id": "X4LxHqF6tmVN"
      }
    },
    {
      "cell_type": "markdown",
      "source": [
        "\n",
        "\n",
        "## Matrices y Subespacios Ortogonales (sección 1.5 Strang)\n",
        "\n",
        "Por **ortogonal** entendemos *perpendicular*, y típicamente lo referimos a dos vectores (que son ortogonales si su ángulo es $\\pi/2$).\n",
        "\n",
        "Sin embargo en este  extenderemos el concepto de ortogonalidad más allá del ángulo entre dos vectores (como ya vimos en la clase anterior sobre ortogonalidad de subespacios).\n",
        "\n",
        "Aquí hay importantes extensiones de esa idea clave:\n",
        "\n",
        "---\n"
      ],
      "metadata": {
        "id": "5TBS-wlx3H6z"
      }
    },
    {
      "cell_type": "markdown",
      "source": [
        "\n",
        "**1. Vectores ortogonales**\n",
        "\n",
        "Decimos que $\\mathbf{x}$ y $\\mathbf{y}$ son ortogonales si\n",
        "$$\n",
        "\\mathbf{x}^T \\mathbf{y} = x_1 y_1 + \\cdots + x_n y_n = 0\n",
        "$$  \n",
        "<details>\n",
        "<summary>Caso complejo:</summary>\n",
        "\n",
        "Si $\\mathbf{x}$ y $\\mathbf{y}$ tienen componentes complejos, se usa:  \n",
        "$$\n",
        "\\overline{\\mathbf{x}}^T \\mathbf{y} = \\overline{x}_1 y_1 + \\cdots + \\overline{x}_n y_n = 0\n",
        "$$\n",
        "</details>\n",
        "---\n"
      ],
      "metadata": {
        "id": "OTzQRApythQe"
      }
    },
    {
      "cell_type": "markdown",
      "source": [
        "\n",
        "**2. Base ortogonal para un subespacio**\n",
        "\n",
        "Cada par de vectores base cumple ${v}_i^T {v}_j = 0$ si $i\\neq j$.\n",
        "\n",
        "**Base ortonormal**: Base ortogonal con vectores unitarios:  \n",
        "$$\n",
        "{v}_i^T{v}_i = 1\n",
        "$$  \n",
        "Se abrevia esto escribiendo\n",
        "$$\n",
        "v_i^Tv_j=\\delta_{ij},\n",
        "$$\n",
        "siendo $\\delta_{ij}$ la funcion que toma el valor $1$ si $i=j$ y $0$ sino.\n",
        "\n",
        "Para pasar de ortogonal a ortonormal, se divide cada vector base $\\mathbf{v}_i$ por su norma $\\|\\mathbf{v}_i\\|$.\n",
        "\n",
        "---\n",
        "\n"
      ],
      "metadata": {
        "id": "lsLDL5oFtiVF"
      }
    },
    {
      "cell_type": "markdown",
      "source": [
        "**3. Subespacios ortogonales**\n",
        "\n",
        "Decimos que dos subespacios $V$ y $W$ son ortogonales, y  escribimos $V\\perp W$, cuando cada vector de  $V$ es ortogonal a cada vector en $W$.   \n",
        "Un ejemplo de esto es lo que vimos en la clase anterior: si $A$ es una matriz, entonces $\\mathcal{N(A)}\\perp C(A^T)$, i.e. el núclo y el espacio fila de $A$ son ortogonales. (De hecho vimos más, a saber, estos espacios descomponen $\\mathbb{R^n}$ en esos dos espacios ortogonales.\n",
        "\n",
        "---\n",
        "\n"
      ],
      "metadata": {
        "id": "SrNRzjpf3OP1"
      }
    },
    {
      "cell_type": "markdown",
      "source": [
        "**4. Matrices de Stiefel**\n",
        "\n",
        "Son matrices con **columnas ortonormales**:\n",
        "Eso es, una matriz $Q\\in\\mathbb{R}^{n\\times r}$ es de Stiefel (de parámetros $n,r$) si es de la forma:\n",
        "$$\n",
        "Q=(q_1,\\ldots,q_r), \\quad q_i\\in\\mathbb{R}^n,\n",
        "$$\n",
        "con $q_i^Tq_h=\\delta_{ij}$.\n",
        "\n",
        "O análogamente, que\n",
        "$Q^T Q = \\mathrm{Id}_r:$\n",
        "$$\n",
        "Q^T Q =\n",
        "\\begin{bmatrix}\n",
        "q_1^T \\\\\n",
        "\\vdots \\\\\n",
        "q_r^T\n",
        "\\end{bmatrix}\n",
        "\\begin{bmatrix}\n",
        "q_1 & \\cdots & q_r\n",
        "\\end{bmatrix}\n",
        "=\n",
        "\\begin{bmatrix}\n",
        "1 & 0 & 0 \\\\\n",
        "0 & \\ddots & 0 \\\\\n",
        "0 & 0 & 1\n",
        "\\end{bmatrix}\n",
        "= \\mathrm{Id}_r\n",
        "$$\n",
        "\n",
        "Si esta matriz $Q$ multiplica un vector $\\mathbf{x}$, la longitud del vector no cambia:\n",
        "\n",
        "$$\n",
        "\\| Q \\mathbf{x} \\| = \\| \\mathbf{x} \\| \\quad \\text{porque } (Q \\mathbf{x})^T (Q \\mathbf{x}) = \\mathbf{x}^T Q^T Q \\mathbf{x} =\\mathbf{x}^T \\textrm{Id}_r\\mathbf{x}=\\mathbf{x}^T \\mathbf{x}\n",
        "$$\n",
        "\n",
        "<details> <summary>Prueba alternativa a pedal</summary>\n",
        "Si la prueba anterior le parece muy concisa, desarrollemos un poco las cuentas.\n",
        "Observar que si $\\textbf{x}=(x_1,\\ldots,x_n)$\n",
        "$$\n",
        "Q\\textbf{x}=x_1q_1+\\cdots+x_nq_n.\n",
        "$$\n",
        "Luego\n",
        "$$\n",
        "\\|Q\\textbf{x}\\|^2=\\|x_1q_1+\\cdots+x_nq_n\\|^2=\n",
        "x_1^2\\|q_1\\|^2+\\cdots+x_n^2\\|q_n\\|^2=\n",
        "x_1^2\\cdots+x_n^2\n",
        "$$\n",
        "donde la igualdad del medio es Pitágoras. (Formalmente por definición $\\|\\cdot\\|^2=\\langle\\cdot,\\cdot\\rangle$; usando $\\langle q_i,q_j\\rangle=\\delta_{ij}$ el resultado sigue.)\n",
        "</details>\n",
        "\n",
        "**Proyecciones Ortogonales**\n",
        "\n",
        "Una propiedad importante que tienen las matrices de Stiefel es que con ellas se construyen fácilmente las proyecciones ortogonales. Veamos esto.\n",
        "\n",
        "Sea $Q\\in\\mathbb{R}^{n\\times r}$ de Stiefel. Entonces consideramos la nueva matriz\n",
        "$$\n",
        "P=QQ^T\\in\\mathbb{R}^{n\\times n.}\n",
        "$$.\n",
        "Observar que $P$ es una matriz $n\\times n$, por lo que opera sobre vectores de $\\mathbb{R}^n$.\n",
        "Esta matriz $P$ verfica dos propiedades fundamentales:\n",
        "-  $P^2=P$: lo que dice que es que $P$ es una *proyección*.\n",
        "- $P=P^T$ i.e. es simétrica.\n",
        "\n",
        "Veamos que $P$ es la proyección ortogonal sobre el espacio columna $C(Q)$.\n",
        "Para eso veremos que\n",
        "1.  $P$ es la identidad sobre el subespacio $C(Q)$\n",
        "2. $w-Pw$ es ortogonal a $C(Q)$ para todo $w\\in\\mathbb{R}^n$.\n",
        "\n",
        "(Hacer un dibujito!)\n",
        "\n",
        "<details><summary> Dar una prueba de esto</summary>\n",
        "- Si $v\\in C(Q)$, entonces $Pv=v$\n",
        " Esto resulta porque\n",
        " $v=Qx$ para algún $x\\in\\mathbb{R}^n$, y por lo tanto\n",
        " $$\n",
        " Pv=PQx=QQ^TQx=Qx=v.\n",
        " $$\n",
        " - Queremos probar que $w-Pw\\perp C(Q)$ para todo $w\\in\\mathbb{R}^n$.\n",
        " Por lo tanto alcanza probar que\n",
        "$Q^T(w-Pw)=0$ para todo $w$. Eso resulta de que\n",
        "$$\n",
        "Q^T(w-Pw)=Q^T(w-QQ^Tw)=Q^Tw-\\underbrace{Q^TQ}_{\\textrm{Id_r}}Q^Tw=Q^Tw-Q^Tw=0.\n",
        "$$\n",
        "</details>\n",
        "\n",
        "---\n"
      ],
      "metadata": {
        "id": "dO53FWww3SBr"
      }
    },
    {
      "cell_type": "markdown",
      "source": [
        "**4.1 Aplicación a Modelos Lineales** (tuya Manuel)"
      ],
      "metadata": {
        "id": "PON3RSSNYRRh"
      }
    },
    {
      "cell_type": "markdown",
      "source": [
        "\n",
        "**5. Matrices ortogonales**\n",
        "\n",
        "Son matrices **cuadradas** con columnas ortonormales:  \n",
        "$$Q^TQ=\\textrm{Id_n}.$$\n",
        "Observar que para matrices cuadradas:  \n",
        "$$\n",
        "Q^T Q = I \\quad \\Rightarrow \\quad Q^T = Q^{-1}\n",
        "$$\n",
        "\n",
        "- Las columnas forman una base ortonormal de $\\mathbb{R}^n$.\n",
        "- Las filas también forman otra base ortonormal (posiblemente distinta).\n",
        "- El nombre \"matriz ortogonal\" debería ser \"matriz ortonormal\".\n",
        "\n",
        "### Base ortogonal = Ejes ortogonales en $\\mathbb{R}^n$\n",
        "\n",
        "Supongamos que una matriz ortogonal $n \\times n$ tiene como columnas a los vectores unitarios $q_1, \\dots, q_n$.  \n",
        "Estos vectores forman una **base ortonormal** del espacio $\\mathbb{R}^n$.  \n",
        "Entonces, cualquier vector $\\mathbf{v}$ puede escribirse como una combinación lineal de estos vectores base:\n",
        "\n",
        "$$\n",
        "\\mathbf{v} = c_1 \\mathbf{q}_1 + \\cdots + c_n \\mathbf{q}_n\n",
        "\\qquad(1)\n",
        "$$\n",
        "\n",
        "Los coeficientes $c_1, c_2, \\dots, c_n$ son las **componentes** de $\\mathbf{v}$ en la dirección de cada vector base.  \n",
        "¡Son las proyecciones ortogonales de $\\mathbf{v}$ sobre cada eje!  \n",
        "\n",
        "Cómo los calculamos?\n",
        "\n",
        "\n",
        "#### Coeficientes en una base ortonormal:\n",
        "\n",
        "$$\n",
        "c_1 = \\mathbf{q}_1^T \\mathbf{v}, \\quad\n",
        "c_2 = \\mathbf{q}_2^T \\mathbf{v}, \\quad \\dots, \\quad\n",
        "c_n = \\mathbf{q}_n^T \\mathbf{v}\n",
        "$$\n",
        "\n",
        "\n",
        "<details><summary>Demostrarlo:</summary>\n",
        "Toma el producto punto con $\\mathbf{q}_1$ en la ecuación (1):\n",
        "$$\n",
        "\\mathbf{q}_1^T \\mathbf{v} = c_1 \\mathbf{q}_1^T \\mathbf{q}_1 + c_2 \\mathbf{q}_1^T \\mathbf{q}_2 + \\cdots + c_n \\mathbf{q}_1^T \\mathbf{q}_n = c_1\n",
        "$$\n",
        "Todos los términos excepto el primero son cero, ya que $\\mathbf{q}_1^T \\mathbf{q}_j = 0$ para $j \\ne 1$  \n",
        "(y $\\mathbf{q}_1^T \\mathbf{q}_1 = 1$).  \n",
        "Así que: $\\mathbf{q}_1^T \\mathbf{v} = c_1$ y en general $\\mathbf{q}_i^T \\mathbf{v} = c_i$.\n",
        "</details>\n",
        "\n",
        "---\n",
        "\n",
        "Si escribimos (1) como ecuación matricial: $\\mathbf{v} = Q \\mathbf{c}$,  \n",
        "multiplicamos por $Q^T$ obtenemos\n",
        "$$\n",
        "Q^T \\mathbf{v} = Q^T Q \\mathbf{c} = \\mathbf{c}\n",
        "$$\n",
        "\n",
        "Esto da **todos los coeficientes a la vez**:\n",
        "\n",
        "$$\n",
        "\\mathbf{c} = Q^T \\mathbf{v}\n",
        "$$\n",
        "\n",
        "**Ejercicio:** Si $Q$ no fuera ortogonal, i.e. los vectores en (1) son una base arbitraria de $\\mathbb{R}^n$. Cómo se calcularían los coeficientes de $\\textbf{v}$ en esa base?\n",
        "(Más abajo está la respuesta.)\n",
        "---\n",
        "\n",
        "> Esta es una idea clave en bases ortogonales (por ejemplo, para series de Fourier):  \n",
        "Cuando los vectores base son ortonormales, **cada coeficiente se encuentra por separado** fácilmente.\n",
        "\n",
        "\n",
        "\n",
        "---\n"
      ],
      "metadata": {
        "id": "Sw7Peuql3T2l"
      }
    },
    {
      "cell_type": "markdown",
      "source": [
        "### Ejemplo en Julia: Cálculo de los coeficientes $c_i$ usando una base ortonormal\n",
        "\n",
        "Dado un conjunto de vectores ortonormales (columnas de $Q$), cualquier vector $\\mathbf{v}$ puede escribirse como:\n",
        "\n",
        "$$\n",
        "\\mathbf{v} = Q \\mathbf{c}, \\quad \\text{donde} \\quad \\mathbf{c} = Q^T \\mathbf{v}\n",
        "$$\n",
        "\n",
        "Esto significa que los coeficientes $c_i$ son simplemente las proyecciones ortogonales de $\\mathbf{v}$ sobre cada eje base.\n",
        "\n",
        "A continuación, un ejemplo en Julia.\n"
      ],
      "metadata": {
        "id": "XaINX_Ws-ASL"
      }
    },
    {
      "cell_type": "code",
      "source": [
        "using LinearAlgebra\n",
        "\n",
        "# Definir una base ortonormal Q (matriz 3x3 ortogonal)\n",
        "Q = (1/3) * [2 2 -1;\n",
        "             2 -1 2;\n",
        "            -1 2 2]\n"
      ],
      "metadata": {
        "colab": {
          "base_uri": "https://localhost:8080/"
        },
        "id": "c7A33CYc-0xQ",
        "outputId": "76b0af39-502c-4d13-d6f9-f8c390a4fc2b"
      },
      "execution_count": null,
      "outputs": [
        {
          "output_type": "execute_result",
          "data": {
            "text/plain": [
              "3×3 Matrix{Float64}:\n",
              "  0.666667   0.666667  -0.333333\n",
              "  0.666667  -0.333333   0.666667\n",
              " -0.333333   0.666667   0.666667"
            ]
          },
          "metadata": {},
          "execution_count": 2
        }
      ]
    },
    {
      "cell_type": "code",
      "source": [
        "# Verificamos que es ortonormal\n",
        "Q'*Q"
      ],
      "metadata": {
        "colab": {
          "base_uri": "https://localhost:8080/"
        },
        "id": "_ZAb9FLt-3Ey",
        "outputId": "7ce3a9a5-2885-4cb3-bdb6-cfa316432b5d"
      },
      "execution_count": null,
      "outputs": [
        {
          "output_type": "execute_result",
          "data": {
            "text/plain": [
              "3×3 Matrix{Float64}:\n",
              " 1.0  0.0  0.0\n",
              " 0.0  1.0  0.0\n",
              " 0.0  0.0  1.0"
            ]
          },
          "metadata": {},
          "execution_count": 10
        }
      ]
    },
    {
      "cell_type": "code",
      "source": [
        "# Definir un vector v\n",
        "v = [3.0, 1.0, -2.0]\n",
        "\n",
        "# Calcular los coeficientes c = Q^T * v\n",
        "c = Q' * v"
      ],
      "metadata": {
        "colab": {
          "base_uri": "https://localhost:8080/"
        },
        "id": "A0Ob2P5P_HFm",
        "outputId": "692122e1-e922-4bcb-ea38-44b3d0d8753d"
      },
      "execution_count": null,
      "outputs": [
        {
          "output_type": "execute_result",
          "data": {
            "text/plain": [
              "3-element Vector{Float64}:\n",
              "  3.333333333333333\n",
              "  0.33333333333333326\n",
              " -1.6666666666666665"
            ]
          },
          "metadata": {},
          "execution_count": 11
        }
      ]
    },
    {
      "cell_type": "code",
      "source": [
        "# Reconstruir v como combinación de columnas de Q\n",
        "v_reconstruido = Q * c\n",
        "\n",
        "println(\"\\nCoeficientes c:\")\n",
        "println(c)\n",
        "\n",
        "println(\"\\nReconstrucción de v = Q * c:\")\n",
        "println(v_reconstruido)\n",
        "\n",
        "println(\"\\n¿v original ≈ v reconstruido?\")\n",
        "println(v ≈ v_reconstruido)\n"
      ],
      "metadata": {
        "colab": {
          "base_uri": "https://localhost:8080/"
        },
        "id": "Nwfy004G_K6k",
        "outputId": "6a4a62a8-4be6-42d2-bba9-a849b6d6d4e6"
      },
      "execution_count": null,
      "outputs": [
        {
          "output_type": "stream",
          "name": "stdout",
          "text": [
            "\n",
            "Coeficientes c:\n",
            "[3.333333333333333, 0.33333333333333326, -1.6666666666666665]\n",
            "\n",
            "Reconstrucción de v = Q * c:\n",
            "[2.9999999999999996, 0.9999999999999998, -1.9999999999999998]\n",
            "\n",
            "¿v original ≈ v reconstruido?\n",
            "true\n"
          ]
        }
      ]
    },
    {
      "cell_type": "markdown",
      "source": [
        "### Comparación: Base no ortonormal\n",
        "\n",
        "Si usamos una base **no ortonormal**, ya no podemos calcular los coeficientes $c_i$ con la simple fórmula:\n",
        "\n",
        "$$\n",
        "\\mathbf{c} = Q^T \\mathbf{v}\n",
        "$$\n",
        "\n",
        "En cambio, debemos resolver el sistema lineal:\n",
        "\n",
        "$$\n",
        "Q \\mathbf{c} = \\mathbf{v}\n",
        "$$\n",
        "\n",
        "porque las columnas de $Q$ no son ortonormales. Eso puede requerir invertir o pseudo-invertir la matriz $Q$.\n",
        "\n",
        "A continuación, un ejemplo en Julia.\n"
      ],
      "metadata": {
        "id": "xlDbWXjjCmsf"
      }
    },
    {
      "cell_type": "code",
      "source": [
        "# Definir una base NO ortonormal (columnas no perpendiculares ni unitarias)\n",
        "Q = [1.0 1.0 0.0;\n",
        "     1.0 2.0 1.0;\n",
        "     0.0 1.0 2.0]"
      ],
      "metadata": {
        "colab": {
          "base_uri": "https://localhost:8080/"
        },
        "id": "-_i6pPEsC-33",
        "outputId": "9e5d3ad8-55de-4d72-b54f-b709e369ca38"
      },
      "execution_count": null,
      "outputs": [
        {
          "output_type": "execute_result",
          "data": {
            "text/plain": [
              "3×3 Matrix{Float64}:\n",
              " 1.0  1.0  0.0\n",
              " 1.0  2.0  1.0\n",
              " 0.0  1.0  2.0"
            ]
          },
          "metadata": {},
          "execution_count": 20
        }
      ]
    },
    {
      "cell_type": "code",
      "source": [
        "# Verificamos que Q no es ortonormal\n",
        "println(\"Q^T * Q ≈ I?\")\n",
        "println(Q' * Q ≈ I)"
      ],
      "metadata": {
        "colab": {
          "base_uri": "https://localhost:8080/"
        },
        "id": "jkNijX3pDI9S",
        "outputId": "112a4189-eb11-47e1-93b1-207d7b64d3ad"
      },
      "execution_count": null,
      "outputs": [
        {
          "output_type": "stream",
          "name": "stdout",
          "text": [
            "Q^T * Q ≈ I?\n",
            "false\n"
          ]
        }
      ]
    },
    {
      "cell_type": "code",
      "source": [
        "# Vector objetivo\n",
        "v = [2.0, 3.0, 1.0]"
      ],
      "metadata": {
        "colab": {
          "base_uri": "https://localhost:8080/"
        },
        "id": "mEnxPjK9DMTs",
        "outputId": "04944e43-48f5-493b-ac57-8bb68c0b15da"
      },
      "execution_count": null,
      "outputs": [
        {
          "output_type": "execute_result",
          "data": {
            "text/plain": [
              "3-element Vector{Float64}:\n",
              " 2.0\n",
              " 3.0\n",
              " 1.0"
            ]
          },
          "metadata": {},
          "execution_count": 23
        }
      ]
    },
    {
      "cell_type": "code",
      "source": [
        "# Resolver Q * c = v para obtener los coeficientes\n",
        "# Usamos el operador \\ que resuelve sistemas lineales\n",
        "c = Q \\ v\n"
      ],
      "metadata": {
        "colab": {
          "base_uri": "https://localhost:8080/"
        },
        "id": "Fg1ItuxPDPu4",
        "outputId": "21b59746-31a6-4d7b-821e-45a1870fd468"
      },
      "execution_count": null,
      "outputs": [
        {
          "output_type": "execute_result",
          "data": {
            "text/plain": [
              "3-element Vector{Float64}:\n",
              " 1.0\n",
              " 1.0\n",
              " 0.0"
            ]
          },
          "metadata": {},
          "execution_count": 24
        }
      ]
    },
    {
      "cell_type": "code",
      "source": [
        "\n",
        "# Reconstruimos v como combinación de columnas de Q\n",
        "v_reconstruido = Q * c\n"
      ],
      "metadata": {
        "colab": {
          "base_uri": "https://localhost:8080/"
        },
        "id": "Y1hZ3Z9gDRqg",
        "outputId": "cb1115c5-2488-45e3-ed49-dd587c5e0788"
      },
      "execution_count": null,
      "outputs": [
        {
          "output_type": "execute_result",
          "data": {
            "text/plain": [
              "3-element Vector{Float64}:\n",
              " 2.0\n",
              " 3.0\n",
              " 1.0"
            ]
          },
          "metadata": {},
          "execution_count": 25
        }
      ]
    },
    {
      "cell_type": "code",
      "source": [
        "println(\"\\nCoeficientes c (base no ortonormal):\")\n",
        "println(c)\n",
        "\n",
        "println(\"\\nReconstrucción de v = Q * c:\")\n",
        "println(v_reconstruido)\n",
        "\n",
        "println(\"\\n¿v original ≈ v reconstruido?\")\n",
        "println(v ≈ v_reconstruido)\n"
      ],
      "metadata": {
        "colab": {
          "base_uri": "https://localhost:8080/"
        },
        "id": "t6Twjo64DTZ4",
        "outputId": "62919874-29b6-4586-9ee1-86650b88982f"
      },
      "execution_count": null,
      "outputs": [
        {
          "output_type": "stream",
          "name": "stdout",
          "text": [
            "\n",
            "Coeficientes c (base no ortonormal):\n",
            "[1.0, 1.0, 0.0]\n",
            "\n",
            "Reconstrucción de v = Q * c:\n",
            "[2.0, 3.0, 1.0]\n",
            "\n",
            "¿v original ≈ v reconstruido?\n",
            "true\n"
          ]
        }
      ]
    },
    {
      "cell_type": "code",
      "source": [],
      "metadata": {
        "id": "yYd1662ADT5U"
      },
      "execution_count": null,
      "outputs": []
    }
  ]
}