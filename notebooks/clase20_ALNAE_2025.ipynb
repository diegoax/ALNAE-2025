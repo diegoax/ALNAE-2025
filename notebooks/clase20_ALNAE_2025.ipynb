{
  "nbformat": 4,
  "nbformat_minor": 0,
  "metadata": {
    "colab": {
      "provenance": [],
      "include_colab_link": true
    },
    "kernelspec": {
      "name": "julia",
      "display_name": "Julia"
    },
    "language_info": {
      "name": "julia"
    }
  },
  "cells": [
    {
      "cell_type": "markdown",
      "metadata": {
        "id": "view-in-github",
        "colab_type": "text"
      },
      "source": [
        "<a href=\"https://colab.research.google.com/github/diegoax/ALNAE-2025/blob/main/notebooks/clase20_ALNAE_2025.ipynb\" target=\"_parent\"><img src=\"https://colab.research.google.com/assets/colab-badge.svg\" alt=\"Open In Colab\"/></a>"
      ]
    },
    {
      "cell_type": "markdown",
      "source": [
        "# Clase 20 (miércoles 11 de junio, 2025)\n",
        "---\n",
        "\n",
        "# Compressive Sensing (Pedro Raigorodsky)\n",
        "\n",
        "[Link a PDF](https://github.com/diegoax/ALNAE-2025/blob/01147fc0fe54ccc164907e31ca8a70f2e36b2ebc/Oral_ALNAE%20(1).pdf)"
      ],
      "metadata": {
        "id": "eRyZv9o2Szwz"
      }
    },
    {
      "cell_type": "code",
      "source": [],
      "metadata": {
        "id": "242cEtCA1Usy"
      },
      "execution_count": null,
      "outputs": []
    }
  ]
}