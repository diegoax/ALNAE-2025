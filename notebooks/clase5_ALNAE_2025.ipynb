{
  "nbformat": 4,
  "nbformat_minor": 0,
  "metadata": {
    "colab": {
      "provenance": [],
      "authorship_tag": "ABX9TyP8odnTuug+nIO+OXW9HHCA",
      "include_colab_link": true
    },
    "kernelspec": {
      "name": "julia",
      "display_name": "Julia"
    },
    "language_info": {
      "name": "julia"
    }
  },
  "cells": [
    {
      "cell_type": "markdown",
      "metadata": {
        "id": "view-in-github",
        "colab_type": "text"
      },
      "source": [
        "<a href=\"https://colab.research.google.com/github/diegoax/ALNAE-2025/blob/main/notebooks/clase5_ALNAE_2025.ipynb\" target=\"_parent\"><img src=\"https://colab.research.google.com/assets/colab-badge.svg\" alt=\"Open In Colab\"/></a>"
      ]
    },
    {
      "cell_type": "markdown",
      "source": [
        "# Clase 5 (Viernes 28 de marzo, 2025)\n",
        "---"
      ],
      "metadata": {
        "id": "X4LxHqF6tmVN"
      }
    },
    {
      "cell_type": "markdown",
      "source": [
        "\n",
        "\n",
        "## Matrices y Subespacios Ortogonales (sección 1.5 Strang)\n",
        "\n",
        "Por **ortogonal** entendemos *perpendicular*, y típicamente lo referimos a dos vectores (que son ortogonales si su ángulo es $\\pi/2$).\n",
        "\n",
        "Sin embargo en este  extenderemos el concepto de ortogonalidad más allá del ángulo entre dos vectores (como ya vimos en la clase anterior sobre ortogonalidad de subespacios).\n",
        "\n",
        "Aquí hay importantes extensiones de esa idea clave:\n",
        "\n",
        "---\n"
      ],
      "metadata": {
        "id": "5TBS-wlx3H6z"
      }
    },
    {
      "cell_type": "markdown",
      "source": [
        "\n",
        "**1. Vectores ortogonales**\n",
        "\n",
        "Decimos que $\\mathbf{x}$ y $\\mathbf{y}$ son ortogonales si\n",
        "$$\n",
        "\\mathbf{x}^T \\mathbf{y} = x_1 y_1 + \\cdots + x_n y_n = 0\n",
        "$$  \n",
        "<details>\n",
        "<summary>Caso complejo:</summary>\n",
        "\n",
        "Si $\\mathbf{x}$ y $\\mathbf{y}$ tienen componentes complejos, se usa:  \n",
        "$$\n",
        "\\overline{\\mathbf{x}}^T \\mathbf{y} = \\overline{x}_1 y_1 + \\cdots + \\overline{x}_n y_n = 0\n",
        "$$\n",
        "</details>\n",
        "---\n"
      ],
      "metadata": {
        "id": "OTzQRApythQe"
      }
    },
    {
      "cell_type": "markdown",
      "source": [
        "\n",
        "**2. Base ortogonal para un subespacio**\n",
        "\n",
        "Cada par de vectores base cumple ${v}_i^T {v}_j = 0$ si $i\\neq j$.\n",
        "\n",
        "**Base ortonormal**: Base ortogonal con vectores unitarios:  \n",
        "$$\n",
        "{v}_i^T{v}_i = 1\n",
        "$$  \n",
        "Se abrevia esto escribiendo\n",
        "$$\n",
        "v_i^Tv_j=\\delta_{ij},\n",
        "$$\n",
        "siendo $\\delta_{ij}$ la funcion que toma el valor $1$ si $i=j$ y $0$ sino.\n",
        "\n",
        "Para pasar de ortogonal a ortonormal, se divide cada vector base $\\mathbf{v}_i$ por su norma $\\|\\mathbf{v}_i\\|$.\n",
        "\n",
        "---\n",
        "\n"
      ],
      "metadata": {
        "id": "lsLDL5oFtiVF"
      }
    },
    {
      "cell_type": "markdown",
      "source": [
        "**3. Subespacios ortogonales**\n",
        "\n",
        "Decimos que dos subespacios $V$ y $W$ son ortogonales, y  escribimos $V\\perp W$, cuando cada vector de  $V$ es ortogonal a cada vector en $W$.   \n",
        "Un ejemplo de esto es lo que vimos en la clase anterior: si $A$ es una matriz, entonces $\\mathcal{N(A)}\\perp C(A^T)$, i.e. el núclo y el espacio fila de $A$ son ortogonales. (De hecho vimos más, a saber, estos espacios descomponen $\\mathbb{R^n}$ en esos dos espacios ortogonales.\n",
        "\n",
        "---\n",
        "\n"
      ],
      "metadata": {
        "id": "SrNRzjpf3OP1"
      }
    },
    {
      "cell_type": "markdown",
      "source": [
        "**4. Matrices de Stiefel**\n",
        "\n",
        "Son matrices con **columnas ortonormales**:\n",
        "Eso es, una matriz $Q\\in\\mathbb{R}^{n\\times r}$ es de Stiefel (de parámetros $n,r$) si es de la forma:\n",
        "$$\n",
        "Q=(q_1,\\ldots,q_r), \\quad q_i\\in\\mathbb{R}^n,\n",
        "$$\n",
        "con $q_i^Tq_h=\\delta_{ij}$.\n",
        "\n",
        "O análogamente, que\n",
        "$Q^T Q = \\mathrm{Id}_r:$\n",
        "$$\n",
        "Q^T Q =\n",
        "\\begin{bmatrix}\n",
        "q_1^T \\\\\n",
        "\\vdots \\\\\n",
        "q_r^T\n",
        "\\end{bmatrix}\n",
        "\\begin{bmatrix}\n",
        "q_1 & \\cdots & q_r\n",
        "\\end{bmatrix}\n",
        "=\n",
        "\\begin{bmatrix}\n",
        "1 & 0 & 0 \\\\\n",
        "0 & \\ddots & 0 \\\\\n",
        "0 & 0 & 1\n",
        "\\end{bmatrix}\n",
        "= \\mathrm{Id}_r\n",
        "$$\n",
        "\n",
        "Si esta matriz $Q$ multiplica un vector $\\mathbf{x}$, la longitud del vector no cambia:\n",
        "\n",
        "$$\n",
        "\\| Q \\mathbf{x} \\| = \\| \\mathbf{x} \\| \\quad \\text{porque } (Q \\mathbf{x})^T (Q \\mathbf{x}) = \\mathbf{x}^T Q^T Q \\mathbf{x} =\\mathbf{x}^T \\textrm{Id}_r\\mathbf{x}=\\mathbf{x}^T \\mathbf{x}\n",
        "$$\n",
        "\n",
        "<details> <summary>Prueba alternativa a pedal</summary>\n",
        "Si la prueba anterior le parece muy concisa, desarrollemos un poco las cuentas.\n",
        "Observar que si $\\textbf{x}=(x_1,\\ldots,x_n)$\n",
        "$$\n",
        "Q\\textbf{x}=x_1q_1+\\cdots+x_nq_n.\n",
        "$$\n",
        "Luego\n",
        "$$\n",
        "\\|Q\\textbf{x}\\|^2=\\|x_1q_1+\\cdots+x_nq_n\\|^2=\n",
        "x_1^2\\|q_1\\|^2+\\cdots+x_n^2\\|q_n\\|^2=\n",
        "x_1^2\\cdots+x_n^2\n",
        "$$\n",
        "donde la igualdad del medio es Pitágoras. (Formalmente por definición $\\|\\cdot\\|^2=\\langle\\cdot,\\cdot\\rangle$; usando $\\langle q_i,q_j\\rangle=\\delta_{ij}$ el resultado sigue.)\n",
        "</details>\n",
        "\n",
        "**Proyecciones Ortogonales**\n",
        "\n",
        "Una propiedad importante que tienen las matrices de Stiefel es que con ellas se construyen fácilmente las proyecciones ortogonales. Veamos esto.\n",
        "\n",
        "Sea $Q\\in\\mathbb{R}^{n\\times r}$ de Stiefel. Entonces consideramos la nueva matriz\n",
        "$$\n",
        "P=QQ^T\\in\\mathbb{R}^{n\\times n.}\n",
        "$$.\n",
        "Observar que $P$ es una matriz $n\\times n$, por lo que opera sobre vectores de $\\mathbb{R}^n$.\n",
        "Esta matriz $P$ verfica dos propiedades fundamentales:\n",
        "-  $P^2=P$: lo que dice que es que $P$ es una *proyección*.\n",
        "- $P=P^T$ i.e. es simétrica.\n",
        "\n",
        "Veamos que $P$ es la proyección ortogonal sobre el espacio columna $C(Q)$.\n",
        "Para eso veremos que\n",
        "1.  $P$ es la identidad sobre el subespacio $C(Q)$\n",
        "2. $w-Pw$ es ortogonal a $C(Q)$ para todo $w\\in\\mathbb{R}^n$.\n",
        "\n",
        "(Hacer un dibujito!)\n",
        "\n",
        "<details><summary> Dar una prueba de esto</summary>\n",
        "- Si $v\\in C(Q)$, entonces $Pv=v$\n",
        " Esto resulta porque\n",
        " $v=Qx$ para algún $x\\in\\mathbb{R}^n$, y por lo tanto\n",
        " $$\n",
        " Pv=PQx=QQ^TQx=Qx=v.\n",
        " $$\n",
        " - Queremos probar que $w-Pw\\perp C(Q)$ para todo $w\\in\\mathbb{R}^n$.\n",
        " Por lo tanto alcanza probar que\n",
        "$Q^T(w-Pw)=0$ para todo $w$. Eso resulta de que\n",
        "$$\n",
        "Q^T(w-Pw)=Q^T(w-QQ^Tw)=Q^Tw-\\underbrace{Q^TQ}_{\\textrm{Id_r}}Q^Tw=Q^Tw-Q^Tw=0.\n",
        "$$\n",
        "</details>\n",
        "\n",
        "---\n"
      ],
      "metadata": {
        "id": "dO53FWww3SBr"
      }
    },
    {
      "cell_type": "markdown",
      "source": [
        "**4.1 Aplicación a Modelos Lineales** (tuya Manuel)\n",
        "\n",
        "---\n"
      ],
      "metadata": {
        "id": "PON3RSSNYRRh"
      }
    }
  ]
}