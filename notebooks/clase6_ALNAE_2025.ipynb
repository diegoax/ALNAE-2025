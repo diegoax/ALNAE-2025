{
  "nbformat": 4,
  "nbformat_minor": 0,
  "metadata": {
    "colab": {
      "provenance": [],
      "authorship_tag": "ABX9TyMvUtmrzjDAtF7Ygm9/4KLz",
      "include_colab_link": true
    },
    "kernelspec": {
      "name": "julia",
      "display_name": "Julia"
    },
    "language_info": {
      "name": "julia"
    }
  },
  "cells": [
    {
      "cell_type": "markdown",
      "metadata": {
        "id": "view-in-github",
        "colab_type": "text"
      },
      "source": [
        "<a href=\"https://colab.research.google.com/github/diegoax/ALNAE-2025/blob/main/notebooks/clase6_ALNAE_2025.ipynb\" target=\"_parent\"><img src=\"https://colab.research.google.com/assets/colab-badge.svg\" alt=\"Open In Colab\"/></a>"
      ]
    },
    {
      "cell_type": "markdown",
      "source": [
        "# Clase 6 (Miércoles 2 de abril, 2025)\n",
        "---"
      ],
      "metadata": {
        "id": "X4LxHqF6tmVN"
      }
    },
    {
      "cell_type": "markdown",
      "source": [
        "\n",
        "**5. Matrices ortogonales**\n",
        "\n",
        "Son matrices **cuadradas** con columnas ortonormales:  \n",
        "$$Q^TQ=\\textrm{Id_n}.$$\n",
        "Observar que para matrices cuadradas:  \n",
        "$$\n",
        "Q^T Q = I \\quad \\Rightarrow \\quad Q^T = Q^{-1}\n",
        "$$\n",
        "\n",
        "- Las columnas forman una base ortonormal de $\\mathbb{R}^n$.\n",
        "- Las filas también forman otra base ortonormal (posiblemente distinta).\n",
        "- El nombre \"matriz ortogonal\" debería ser \"matriz ortonormal\".\n",
        "\n",
        "### Base ortogonal = Ejes ortogonales en $\\mathbb{R}^n$\n",
        "\n",
        "Supongamos que una matriz ortogonal $n \\times n$ tiene como columnas a los vectores unitarios $q_1, \\dots, q_n$.  \n",
        "Estos vectores forman una **base ortonormal** del espacio $\\mathbb{R}^n$.  \n",
        "Entonces, cualquier vector $\\mathbf{v}$ puede escribirse como una combinación lineal de estos vectores base:\n",
        "\n",
        "$$\n",
        "\\mathbf{v} = c_1 \\mathbf{q}_1 + \\cdots + c_n \\mathbf{q}_n\n",
        "\\qquad(1)\n",
        "$$\n",
        "\n",
        "Los coeficientes $c_1, c_2, \\dots, c_n$ son las **componentes** de $\\mathbf{v}$ en la dirección de cada vector base.  \n",
        "¡Son las proyecciones ortogonales de $\\mathbf{v}$ sobre cada eje!  \n",
        "Y hay una fórmula sencilla para calcularlos:\n",
        "\n",
        "---\n",
        "\n",
        "#### Coeficientes en una base ortonormal:\n",
        "\n",
        "$$\n",
        "c_1 = \\mathbf{q}_1^T \\mathbf{v}, \\quad\n",
        "c_2 = \\mathbf{q}_2^T \\mathbf{v}, \\quad \\dots, \\quad\n",
        "c_n = \\mathbf{q}_n^T \\mathbf{v}\n",
        "$$\n",
        "\n",
        "---\n",
        "\n",
        "Demostración:  \n",
        "Toma el producto punto con $\\mathbf{q}_1$ en la ecuación (13):\n",
        "\n",
        "$$\n",
        "\\mathbf{q}_1^T \\mathbf{v} = c_1 \\mathbf{q}_1^T \\mathbf{q}_1 + c_2 \\mathbf{q}_1^T \\mathbf{q}_2 + \\cdots + c_n \\mathbf{q}_1^T \\mathbf{q}_n = c_1\n",
        "$$\n",
        "\n",
        "Todos los términos excepto el primero son cero, ya que $\\mathbf{q}_1^T \\mathbf{q}_j = 0$ para $j \\ne 1$  \n",
        "(y $\\mathbf{q}_1^T \\mathbf{q}_1 = 1$).  \n",
        "Así que: $\\mathbf{q}_1^T \\mathbf{v} = c_1$ y en general $\\mathbf{q}_i^T \\mathbf{v} = c_i$.\n",
        "\n",
        "---\n",
        "\n",
        "Si escribimos (1) como ecuación matricial: $\\mathbf{v} = Q \\mathbf{c}$,  \n",
        "multiplicamos por $Q^T$ para ver la fórmula (14):\n",
        "\n",
        "$$\n",
        "Q^T \\mathbf{v} = Q^T Q \\mathbf{c} = \\mathbf{c}\n",
        "$$\n",
        "\n",
        "Esto da **todos los coeficientes a la vez**:\n",
        "\n",
        "$$\n",
        "\\mathbf{c} = Q^T \\mathbf{v}\n",
        "$$\n",
        "\n",
        "**Ejercicio:** Si $Q$ no fuera ortogonal, i.e. los vectores en (1) son una base arbitraria de $\\mathbb{R}^n$. Cómo se calcularían los coeficientes de $\\textbf{v}$ en esa base?\n",
        "(Más abajo está la respuesta.)\n",
        "---\n",
        "\n",
        "> Esta es una idea clave en bases ortogonales (por ejemplo, para series de Fourier):  \n",
        "Cuando los vectores base son ortonormales, **cada coeficiente se encuentra por separado** fácilmente.\n",
        "\n",
        "\n",
        "\n",
        "---\n"
      ],
      "metadata": {
        "id": "Sw7Peuql3T2l"
      }
    },
    {
      "cell_type": "markdown",
      "source": [
        "### Ejemplo en Julia: Cálculo de los coeficientes $c_i$ usando una base ortonormal\n",
        "\n",
        "Dado un conjunto de vectores ortonormales (columnas de $Q$), cualquier vector $\\mathbf{v}$ puede escribirse como:\n",
        "\n",
        "$$\n",
        "\\mathbf{v} = Q \\mathbf{c}, \\quad \\text{donde} \\quad \\mathbf{c} = Q^T \\mathbf{v}\n",
        "$$\n",
        "\n",
        "Esto significa que los coeficientes $c_i$ son simplemente las proyecciones ortogonales de $\\mathbf{v}$ sobre cada eje base.\n",
        "\n",
        "A continuación, un ejemplo en Julia.\n"
      ],
      "metadata": {
        "id": "XaINX_Ws-ASL"
      }
    },
    {
      "cell_type": "code",
      "source": [
        "using LinearAlgebra\n",
        "\n",
        "# Definir una base ortonormal Q (matriz 3x3 ortogonal)\n",
        "Q = (1/3) * [2 2 -1;\n",
        "             2 -1 2;\n",
        "            -1 2 2]\n"
      ],
      "metadata": {
        "colab": {
          "base_uri": "https://localhost:8080/"
        },
        "id": "c7A33CYc-0xQ",
        "outputId": "76b0af39-502c-4d13-d6f9-f8c390a4fc2b"
      },
      "execution_count": null,
      "outputs": [
        {
          "output_type": "execute_result",
          "data": {
            "text/plain": [
              "3×3 Matrix{Float64}:\n",
              "  0.666667   0.666667  -0.333333\n",
              "  0.666667  -0.333333   0.666667\n",
              " -0.333333   0.666667   0.666667"
            ]
          },
          "metadata": {},
          "execution_count": 2
        }
      ]
    },
    {
      "cell_type": "code",
      "source": [
        "# Verificamos que es ortonormal\n",
        "Q'*Q"
      ],
      "metadata": {
        "colab": {
          "base_uri": "https://localhost:8080/"
        },
        "id": "_ZAb9FLt-3Ey",
        "outputId": "7ce3a9a5-2885-4cb3-bdb6-cfa316432b5d"
      },
      "execution_count": null,
      "outputs": [
        {
          "output_type": "execute_result",
          "data": {
            "text/plain": [
              "3×3 Matrix{Float64}:\n",
              " 1.0  0.0  0.0\n",
              " 0.0  1.0  0.0\n",
              " 0.0  0.0  1.0"
            ]
          },
          "metadata": {},
          "execution_count": 10
        }
      ]
    },
    {
      "cell_type": "code",
      "source": [
        "# Definir un vector v\n",
        "v = [3.0, 1.0, -2.0]\n",
        "\n",
        "# Calcular los coeficientes c = Q^T * v\n",
        "c = Q' * v"
      ],
      "metadata": {
        "colab": {
          "base_uri": "https://localhost:8080/"
        },
        "id": "A0Ob2P5P_HFm",
        "outputId": "692122e1-e922-4bcb-ea38-44b3d0d8753d"
      },
      "execution_count": null,
      "outputs": [
        {
          "output_type": "execute_result",
          "data": {
            "text/plain": [
              "3-element Vector{Float64}:\n",
              "  3.333333333333333\n",
              "  0.33333333333333326\n",
              " -1.6666666666666665"
            ]
          },
          "metadata": {},
          "execution_count": 11
        }
      ]
    },
    {
      "cell_type": "code",
      "source": [
        "# Reconstruir v como combinación de columnas de Q\n",
        "v_reconstruido = Q * c\n",
        "\n",
        "println(\"\\nCoeficientes c:\")\n",
        "println(c)\n",
        "\n",
        "println(\"\\nReconstrucción de v = Q * c:\")\n",
        "println(v_reconstruido)\n",
        "\n",
        "println(\"\\n¿v original ≈ v reconstruido?\")\n",
        "println(v ≈ v_reconstruido)\n"
      ],
      "metadata": {
        "colab": {
          "base_uri": "https://localhost:8080/"
        },
        "id": "Nwfy004G_K6k",
        "outputId": "6a4a62a8-4be6-42d2-bba9-a849b6d6d4e6"
      },
      "execution_count": null,
      "outputs": [
        {
          "output_type": "stream",
          "name": "stdout",
          "text": [
            "\n",
            "Coeficientes c:\n",
            "[3.333333333333333, 0.33333333333333326, -1.6666666666666665]\n",
            "\n",
            "Reconstrucción de v = Q * c:\n",
            "[2.9999999999999996, 0.9999999999999998, -1.9999999999999998]\n",
            "\n",
            "¿v original ≈ v reconstruido?\n",
            "true\n"
          ]
        }
      ]
    },
    {
      "cell_type": "markdown",
      "source": [
        "### Comparación: Base no ortonormal\n",
        "\n",
        "Si usamos una base **no ortonormal**, ya no podemos calcular los coeficientes $c_i$ con la simple fórmula:\n",
        "\n",
        "$$\n",
        "\\mathbf{c} = Q^T \\mathbf{v}\n",
        "$$\n",
        "\n",
        "En cambio, debemos resolver el sistema lineal:\n",
        "\n",
        "$$\n",
        "Q \\mathbf{c} = \\mathbf{v}\n",
        "$$\n",
        "\n",
        "porque las columnas de $Q$ no son ortonormales. Eso puede requerir invertir o pseudo-invertir la matriz $Q$.\n",
        "\n",
        "A continuación, un ejemplo en Julia.\n"
      ],
      "metadata": {
        "id": "xlDbWXjjCmsf"
      }
    },
    {
      "cell_type": "code",
      "source": [
        "# Definir una base NO ortonormal (columnas no perpendiculares ni unitarias)\n",
        "Q = [1.0 1.0 0.0;\n",
        "     1.0 2.0 1.0;\n",
        "     0.0 1.0 2.0]"
      ],
      "metadata": {
        "colab": {
          "base_uri": "https://localhost:8080/"
        },
        "id": "-_i6pPEsC-33",
        "outputId": "9e5d3ad8-55de-4d72-b54f-b709e369ca38"
      },
      "execution_count": null,
      "outputs": [
        {
          "output_type": "execute_result",
          "data": {
            "text/plain": [
              "3×3 Matrix{Float64}:\n",
              " 1.0  1.0  0.0\n",
              " 1.0  2.0  1.0\n",
              " 0.0  1.0  2.0"
            ]
          },
          "metadata": {},
          "execution_count": 20
        }
      ]
    },
    {
      "cell_type": "code",
      "source": [
        "# Verificamos que Q no es ortonormal\n",
        "println(\"Q^T * Q ≈ I?\")\n",
        "println(Q' * Q ≈ I)"
      ],
      "metadata": {
        "colab": {
          "base_uri": "https://localhost:8080/"
        },
        "id": "jkNijX3pDI9S",
        "outputId": "112a4189-eb11-47e1-93b1-207d7b64d3ad"
      },
      "execution_count": null,
      "outputs": [
        {
          "output_type": "stream",
          "name": "stdout",
          "text": [
            "Q^T * Q ≈ I?\n",
            "false\n"
          ]
        }
      ]
    },
    {
      "cell_type": "code",
      "source": [
        "md# Vector objetivo\n",
        "v = [2.0, 3.0, 1.0]"
      ],
      "metadata": {
        "colab": {
          "base_uri": "https://localhost:8080/"
        },
        "id": "mEnxPjK9DMTs",
        "outputId": "04944e43-48f5-493b-ac57-8bb68c0b15da"
      },
      "execution_count": null,
      "outputs": [
        {
          "output_type": "execute_result",
          "data": {
            "text/plain": [
              "3-element Vector{Float64}:\n",
              " 2.0\n",
              " 3.0\n",
              " 1.0"
            ]
          },
          "metadata": {},
          "execution_count": 23
        }
      ]
    },
    {
      "cell_type": "code",
      "source": [
        "# Resolver Q * c = v para obtener los coeficientes\n",
        "# Usamos el operador \\ que resuelve sistemas lineales\n",
        "c = Q \\ v\n"
      ],
      "metadata": {
        "colab": {
          "base_uri": "https://localhost:8080/"
        },
        "id": "Fg1ItuxPDPu4",
        "outputId": "21b59746-31a6-4d7b-821e-45a1870fd468"
      },
      "execution_count": null,
      "outputs": [
        {
          "output_type": "execute_result",
          "data": {
            "text/plain": [
              "3-element Vector{Float64}:\n",
              " 1.0\n",
              " 1.0\n",
              " 0.0"
            ]
          },
          "metadata": {},
          "execution_count": 24
        }
      ]
    },
    {
      "cell_type": "code",
      "source": [
        "\n",
        "# Reconstruimos v como combinación de columnas de Q\n",
        "v_reconstruido = Q * c\n"
      ],
      "metadata": {
        "colab": {
          "base_uri": "https://localhost:8080/"
        },
        "id": "Y1hZ3Z9gDRqg",
        "outputId": "cb1115c5-2488-45e3-ed49-dd587c5e0788"
      },
      "execution_count": null,
      "outputs": [
        {
          "output_type": "execute_result",
          "data": {
            "text/plain": [
              "3-element Vector{Float64}:\n",
              " 2.0\n",
              " 3.0\n",
              " 1.0"
            ]
          },
          "metadata": {},
          "execution_count": 25
        }
      ]
    },
    {
      "cell_type": "code",
      "source": [
        "println(\"\\nCoeficientes c (base no ortonormal):\")\n",
        "println(c)\n",
        "\n",
        "println(\"\\nReconstrucción de v = Q * c:\")\n",
        "println(v_reconstruido)\n",
        "\n",
        "println(\"\\n¿v original ≈ v reconstruido?\")\n",
        "println(v ≈ v_reconstruido)\n"
      ],
      "metadata": {
        "colab": {
          "base_uri": "https://localhost:8080/",
          "height": 159
        },
        "id": "t6Twjo64DTZ4",
        "outputId": "9824fd0d-b4c2-4ee8-91ad-2a01f1a51056"
      },
      "execution_count": null,
      "outputs": [
        {
          "output_type": "stream",
          "name": "stdout",
          "text": [
            "\n",
            "Coeficientes c (base no ortonormal):\n"
          ]
        },
        {
          "output_type": "error",
          "ename": "LoadError",
          "evalue": "UndefVarError: `c` not defined",
          "traceback": [
            "UndefVarError: `c` not defined",
            "",
            "Stacktrace:",
            " [1] top-level scope",
            "   @ In[35]:2"
          ]
        }
      ]
    },
    {
      "cell_type": "markdown",
      "source": [
        "---\n",
        "\n",
        "Con esto terminamos una descricipción de distintas aplicaciones de ortogonalidad. Veamos un ejercicio una aplicación más."
      ],
      "metadata": {
        "id": "NdPapc-AxA2Q"
      }
    },
    {
      "cell_type": "markdown",
      "source": [
        "---\n",
        "\n",
        "**Ejercicio:** Consderemos un vector $v\\in\\mathbb{R}^n$, tal que $\\|v\\|=1$.\n",
        "1. Quién es el operador $\\textrm{Id}-vv^T$?\n",
        "2. Probar que existe $Q$ de Stiefel tal que $QQ^T=\\textrm{Id}-vv^T$.\n",
        "3. Qué operación geométrica hace $\\textrm{Id}-2vv^T$"
      ],
      "metadata": {
        "id": "terziSOCwEeT"
      }
    },
    {
      "cell_type": "markdown",
      "source": [
        "---"
      ],
      "metadata": {
        "id": "yYd1662ADT5U"
      }
    },
    {
      "cell_type": "markdown",
      "source": [
        "### Aplicación de Householder:\n",
        "\n",
        "Una matriz de Householder $H$ es una matriz ortogonal y simétrica que refleja vectores respecto a un hiperplano. Se define por un vector unitario $v$ como:\n",
        "$$\n",
        "H=\\textrm{Id}−2vv^T.\n",
        "$$\n",
        "\n",
        "donde:\n",
        "$v$ es un vector unitario ($\\|v\\| = 1$).\n",
        "\n",
        "Esta matriz se usa en algoritmos numéricos como la descomposición QR para hacer ceros debajo de la diagonal en una matriz.\n",
        "\n",
        "Propiedades:\n",
        "\n",
        "$H^T = H$ (simétrica)\n",
        "\n",
        "$H^T H = \\textrm{Id}$ (ortogonal)\n",
        "\n",
        "$H$ es la identidad en $v^\\perp$, y $Hv=-v$.\n",
        "\n",
        "$H^2 = \\textrm{Id}$ (involutiva: aplicar dos veces da la identidad)"
      ],
      "metadata": {
        "id": "URX7NMXthxYX"
      }
    },
    {
      "cell_type": "markdown",
      "source": [
        "### Implementemos en Julia\n",
        "\n"
      ],
      "metadata": {
        "id": "ui6ZcqeOipkG"
      }
    },
    {
      "cell_type": "code",
      "source": [
        "using LinearAlgebra\n",
        "using Plots\n",
        "\n",
        "# Devuelve la matriz de Householder que refleja respecto al hiperplano ortogonal a `v`.\n",
        "function householder_matrix(v::Vector)\n",
        "    v = v / norm(v)  # normalización\n",
        "    n = length(v)\n",
        "   # I = Matrix{Float64}(I, n, n)  # matriz identidad explícita\n",
        "    return I - 2 * (v * v')\n",
        "end"
      ],
      "metadata": {
        "colab": {
          "base_uri": "https://localhost:8080/"
        },
        "id": "5XmTOJYGiMMj",
        "outputId": "0c3a0bda-8bb2-4882-d2be-241ac5482750"
      },
      "execution_count": null,
      "outputs": [
        {
          "output_type": "execute_result",
          "data": {
            "text/plain": [
              "householder_matrix (generic function with 1 method)"
            ]
          },
          "metadata": {},
          "execution_count": 37
        }
      ]
    },
    {
      "cell_type": "code",
      "source": [
        "# Ejemplo: reflejamos un vector u respecto a un plano ortogonal a v\n",
        "u = 2*[1.0, 2.0]\n",
        "v = [1.0, -1.0]"
      ],
      "metadata": {
        "colab": {
          "base_uri": "https://localhost:8080/"
        },
        "id": "Ot4vpQBeiQDE",
        "outputId": "c9fb6ded-2fcb-44b4-d154-34d171b71106"
      },
      "execution_count": null,
      "outputs": [
        {
          "output_type": "execute_result",
          "data": {
            "text/plain": [
              "2-element Vector{Float64}:\n",
              "  1.0\n",
              " -1.0"
            ]
          },
          "metadata": {},
          "execution_count": 39
        }
      ]
    },
    {
      "cell_type": "code",
      "source": [
        "H = householder_matrix(v)\n",
        "u_reflejado = H * u"
      ],
      "metadata": {
        "colab": {
          "base_uri": "https://localhost:8080/"
        },
        "id": "6AkPIF5biR3F",
        "outputId": "70d57412-dc06-4d68-d158-8009ce8d4a0e"
      },
      "execution_count": null,
      "outputs": [
        {
          "output_type": "execute_result",
          "data": {
            "text/plain": [
              "2-element Vector{Float64}:\n",
              " 3.9999999999999996\n",
              " 2.0000000000000004"
            ]
          },
          "metadata": {},
          "execution_count": 40
        }
      ]
    },
    {
      "cell_type": "code",
      "source": [
        "#Veamos un gráfico\n",
        "println(\"Vector original u: \", u)\n",
        "println(\"Vector reflejado H*u: \", u_reflejado)\n",
        "\n",
        "plot([0, u[1]], [0, u[2]], label=\"u\", lw=2, arrow=:arrow, legend=:topleft)\n",
        "plot!([0, u_reflejado[1]], [0, u_reflejado[2]], label=\"H*u\", lw=2, arrow=:arrow)\n",
        "plot!([0, v[1]], [0, v[2]], label=\"v (normal)\", lw=2, linestyle=:dash, arrow=:arrow)\n",
        "plot!(aspect_ratio=:equal, grid=:on, title=\"Reflexión de un vector usando Householder\")\n",
        "\n"
      ],
      "metadata": {
        "colab": {
          "base_uri": "https://localhost:8080/",
          "height": 456
        },
        "id": "MQpbyTLMiSWL",
        "outputId": "891fef02-b58b-4d8a-dc16-339b89df76db"
      },
      "execution_count": null,
      "outputs": [
        {
          "output_type": "stream",
          "name": "stdout",
          "text": [
            "Vector original u: [2.0, 4.0]\n",
            "Vector reflejado H*u: [3.9999999999999996, 2.0000000000000004]\n"
          ]
        },
        {
          "output_type": "execute_result",
          "data": {
            "image/png": "[encoded data removed]",
            "text/html": [
              "<?xml version=\"1.0\" encoding=\"utf-8\"?>\n",
              "<svg xmlns=\"http://www.w3.org/2000/svg\" xmlns:xlink=\"http://www.w3.org/1999/xlink\" width=\"600\" height=\"400\" viewBox=\"0 0 2400 1600\">\n",
              "<defs>\n",
              "  <clipPath id=\"clip220\">\n",
              "    <rect x=\"0\" y=\"0\" width=\"2400\" height=\"1600\"/>\n",
              "  </clipPath>\n",
              "</defs>\n",
              "<path clip-path=\"url(#clip220)\" d=\"M0 1600 L2400 1600 L2400 0 L0 0  Z\" fill=\"#ffffff\" fill-rule=\"evenodd\" fill-opacity=\"1\"/>\n",
              "<defs>\n",
              "  <clipPath id=\"clip221\">\n",
              "    <rect x=\"480\" y=\"0\" width=\"1681\" height=\"1600\"/>\n",
              "  </clipPath>\n",
              "</defs>\n",
              "<path clip-path=\"url(#clip220)\" d=\"M147.478 1486.45 L2352.76 1486.45 L2352.76 123.472 L147.478 123.472  Z\" fill=\"#ffffff\" fill-rule=\"evenodd\" fill-opacity=\"1\"/>\n",
              "<defs>\n",
              "  <clipPath id=\"clip222\">\n",
              "    <rect x=\"147\" y=\"123\" width=\"2206\" height=\"1364\"/>\n",
              "  </clipPath>\n",
              "</defs>\n",
              "<polyline clip-path=\"url(#clip222)\" style=\"stroke:#000000; stroke-linecap:round; stroke-linejoin:round; stroke-width:2; stroke-opacity:0.1; fill:none\" points=\"221.456,1486.45 221.456,123.472 \"/>\n",
              "<polyline clip-path=\"url(#clip222)\" style=\"stroke:#000000; stroke-linecap:round; stroke-linejoin:round; stroke-width:2; stroke-opacity:0.1; fill:none\" points=\"735.786,1486.45 735.786,123.472 \"/>\n",
              "<polyline clip-path=\"url(#clip222)\" style=\"stroke:#000000; stroke-linecap:round; stroke-linejoin:round; stroke-width:2; stroke-opacity:0.1; fill:none\" points=\"1250.12,1486.45 1250.12,123.472 \"/>\n",
              "<polyline clip-path=\"url(#clip222)\" style=\"stroke:#000000; stroke-linecap:round; stroke-linejoin:round; stroke-width:2; stroke-opacity:0.1; fill:none\" points=\"1764.45,1486.45 1764.45,123.472 \"/>\n",
              "<polyline clip-path=\"url(#clip222)\" style=\"stroke:#000000; stroke-linecap:round; stroke-linejoin:round; stroke-width:2; stroke-opacity:0.1; fill:none\" points=\"2278.78,1486.45 2278.78,123.472 \"/>\n",
              "<polyline clip-path=\"url(#clip222)\" style=\"stroke:#000000; stroke-linecap:round; stroke-linejoin:round; stroke-width:2; stroke-opacity:0.1; fill:none\" points=\"147.478,1447.87 2352.76,1447.87 \"/>\n",
              "<polyline clip-path=\"url(#clip222)\" style=\"stroke:#000000; stroke-linecap:round; stroke-linejoin:round; stroke-width:2; stroke-opacity:0.1; fill:none\" points=\"147.478,1190.71 2352.76,1190.71 \"/>\n",
              "<polyline clip-path=\"url(#clip222)\" style=\"stroke:#000000; stroke-linecap:round; stroke-linejoin:round; stroke-width:2; stroke-opacity:0.1; fill:none\" points=\"147.478,933.543 2352.76,933.543 \"/>\n",
              "<polyline clip-path=\"url(#clip222)\" style=\"stroke:#000000; stroke-linecap:round; stroke-linejoin:round; stroke-width:2; stroke-opacity:0.1; fill:none\" points=\"147.478,676.377 2352.76,676.377 \"/>\n",
              "<polyline clip-path=\"url(#clip222)\" style=\"stroke:#000000; stroke-linecap:round; stroke-linejoin:round; stroke-width:2; stroke-opacity:0.1; fill:none\" points=\"147.478,419.212 2352.76,419.212 \"/>\n",
              "<polyline clip-path=\"url(#clip222)\" style=\"stroke:#000000; stroke-linecap:round; stroke-linejoin:round; stroke-width:2; stroke-opacity:0.1; fill:none\" points=\"147.478,162.047 2352.76,162.047 \"/>\n",
              "<polyline clip-path=\"url(#clip220)\" style=\"stroke:#000000; stroke-linecap:round; stroke-linejoin:round; stroke-width:4; stroke-opacity:1; fill:none\" points=\"147.478,1486.45 2352.76,1486.45 \"/>\n",
              "<polyline clip-path=\"url(#clip220)\" style=\"stroke:#000000; stroke-linecap:round; stroke-linejoin:round; stroke-width:4; stroke-opacity:1; fill:none\" points=\"221.456,1486.45 221.456,1467.55 \"/>\n",
              "<polyline clip-path=\"url(#clip220)\" style=\"stroke:#000000; stroke-linecap:round; stroke-linejoin:round; stroke-width:4; stroke-opacity:1; fill:none\" points=\"735.786,1486.45 735.786,1467.55 \"/>\n",
              "<polyline clip-path=\"url(#clip220)\" style=\"stroke:#000000; stroke-linecap:round; stroke-linejoin:round; stroke-width:4; stroke-opacity:1; fill:none\" points=\"1250.12,1486.45 1250.12,1467.55 \"/>\n",
              "<polyline clip-path=\"url(#clip220)\" style=\"stroke:#000000; stroke-linecap:round; stroke-linejoin:round; stroke-width:4; stroke-opacity:1; fill:none\" points=\"1764.45,1486.45 1764.45,1467.55 \"/>\n",
              "<polyline clip-path=\"url(#clip220)\" style=\"stroke:#000000; stroke-linecap:round; stroke-linejoin:round; stroke-width:4; stroke-opacity:1; fill:none\" points=\"2278.78,1486.45 2278.78,1467.55 \"/>\n",
              "<path clip-path=\"url(#clip220)\" d=\"M191.398 1532.02 L221.074 1532.02 L221.074 1535.95 L191.398 1535.95 L191.398 1532.02 Z\" fill=\"#000000\" fill-rule=\"nonzero\" fill-opacity=\"1\" /><path clip-path=\"url(#clip220)\" d=\"M235.194 1544.91 L251.514 1544.91 L251.514 1548.85 L229.569 1548.85 L229.569 1544.91 Q232.231 1542.16 236.815 1537.53 Q241.421 1532.88 242.602 1531.53 Q244.847 1529.01 245.727 1527.27 Q246.629 1525.51 246.629 1523.82 Q246.629 1521.07 244.685 1519.33 Q242.764 1517.6 239.662 1517.6 Q237.463 1517.6 235.009 1518.36 Q232.579 1519.13 229.801 1520.68 L229.801 1515.95 Q232.625 1514.82 235.079 1514.24 Q237.532 1513.66 239.569 1513.66 Q244.94 1513.66 248.134 1516.35 Q251.328 1519.03 251.328 1523.52 Q251.328 1525.65 250.518 1527.57 Q249.731 1529.47 247.625 1532.07 Q247.046 1532.74 243.944 1535.95 Q240.842 1539.15 235.194 1544.91 Z\" fill=\"#000000\" fill-rule=\"nonzero\" fill-opacity=\"1\" /><path clip-path=\"url(#clip220)\" d=\"M735.786 1517.37 Q732.175 1517.37 730.347 1520.93 Q728.541 1524.47 728.541 1531.6 Q728.541 1538.71 730.347 1542.27 Q732.175 1545.82 735.786 1545.82 Q739.421 1545.82 741.226 1542.27 Q743.055 1538.71 743.055 1531.6 Q743.055 1524.47 741.226 1520.93 Q739.421 1517.37 735.786 1517.37 M735.786 1513.66 Q741.597 1513.66 744.652 1518.27 Q747.731 1522.85 747.731 1531.6 Q747.731 1540.33 744.652 1544.94 Q741.597 1549.52 735.786 1549.52 Q729.976 1549.52 726.898 1544.94 Q723.842 1540.33 723.842 1531.6 Q723.842 1522.85 726.898 1518.27 Q729.976 1513.66 735.786 1513.66 Z\" fill=\"#000000\" fill-rule=\"nonzero\" fill-opacity=\"1\" /><path clip-path=\"url(#clip220)\" d=\"M1244.77 1544.91 L1261.09 1544.91 L1261.09 1548.85 L1239.14 1548.85 L1239.14 1544.91 Q1241.81 1542.16 1246.39 1537.53 Q1251 1532.88 1252.18 1531.53 Q1254.42 1529.01 1255.3 1527.27 Q1256.2 1525.51 1256.2 1523.82 Q1256.2 1521.07 1254.26 1519.33 Q1252.34 1517.6 1249.24 1517.6 Q1247.04 1517.6 1244.58 1518.36 Q1242.15 1519.13 1239.38 1520.68 L1239.38 1515.95 Q1242.2 1514.82 1244.65 1514.24 Q1247.11 1513.66 1249.14 1513.66 Q1254.52 1513.66 1257.71 1516.35 Q1260.9 1519.03 1260.9 1523.52 Q1260.9 1525.65 1260.09 1527.57 Q1259.31 1529.47 1257.2 1532.07 Q1256.62 1532.74 1253.52 1535.95 Q1250.42 1539.15 1244.77 1544.91 Z\" fill=\"#000000\" fill-rule=\"nonzero\" fill-opacity=\"1\" /><path clip-path=\"url(#clip220)\" d=\"M1767.46 1518.36 L1755.65 1536.81 L1767.46 1536.81 L1767.46 1518.36 M1766.23 1514.29 L1772.11 1514.29 L1772.11 1536.81 L1777.04 1536.81 L1777.04 1540.7 L1772.11 1540.7 L1772.11 1548.85 L1767.46 1548.85 L1767.46 1540.7 L1751.85 1540.7 L1751.85 1536.19 L1766.23 1514.29 Z\" fill=\"#000000\" fill-rule=\"nonzero\" fill-opacity=\"1\" /><path clip-path=\"url(#clip220)\" d=\"M2279.18 1529.7 Q2276.03 1529.7 2274.18 1531.86 Q2272.35 1534.01 2272.35 1537.76 Q2272.35 1541.49 2274.18 1543.66 Q2276.03 1545.82 2279.18 1545.82 Q2282.33 1545.82 2284.16 1543.66 Q2286.01 1541.49 2286.01 1537.76 Q2286.01 1534.01 2284.16 1531.86 Q2282.33 1529.7 2279.18 1529.7 M2288.47 1515.05 L2288.47 1519.31 Q2286.71 1518.48 2284.9 1518.04 Q2283.12 1517.6 2281.36 1517.6 Q2276.73 1517.6 2274.28 1520.72 Q2271.85 1523.85 2271.5 1530.17 Q2272.86 1528.15 2274.92 1527.09 Q2276.98 1526 2279.46 1526 Q2284.67 1526 2287.68 1529.17 Q2290.71 1532.32 2290.71 1537.76 Q2290.71 1543.08 2287.56 1546.3 Q2284.41 1549.52 2279.18 1549.52 Q2273.19 1549.52 2270.02 1544.94 Q2266.85 1540.33 2266.85 1531.6 Q2266.85 1523.41 2270.73 1518.55 Q2274.62 1513.66 2281.17 1513.66 Q2282.93 1513.66 2284.72 1514.01 Q2286.52 1514.36 2288.47 1515.05 Z\" fill=\"#000000\" fill-rule=\"nonzero\" fill-opacity=\"1\" /><polyline clip-path=\"url(#clip220)\" style=\"stroke:#000000; stroke-linecap:round; stroke-linejoin:round; stroke-width:4; stroke-opacity:1; fill:none\" points=\"147.478,1486.45 147.478,123.472 \"/>\n",
              "<polyline clip-path=\"url(#clip220)\" style=\"stroke:#000000; stroke-linecap:round; stroke-linejoin:round; stroke-width:4; stroke-opacity:1; fill:none\" points=\"147.478,1447.87 166.376,1447.87 \"/>\n",
              "<polyline clip-path=\"url(#clip220)\" style=\"stroke:#000000; stroke-linecap:round; stroke-linejoin:round; stroke-width:4; stroke-opacity:1; fill:none\" points=\"147.478,1190.71 166.376,1190.71 \"/>\n",
              "<polyline clip-path=\"url(#clip220)\" style=\"stroke:#000000; stroke-linecap:round; stroke-linejoin:round; stroke-width:4; stroke-opacity:1; fill:none\" points=\"147.478,933.543 166.376,933.543 \"/>\n",
              "<polyline clip-path=\"url(#clip220)\" style=\"stroke:#000000; stroke-linecap:round; stroke-linejoin:round; stroke-width:4; stroke-opacity:1; fill:none\" points=\"147.478,676.377 166.376,676.377 \"/>\n",
              "<polyline clip-path=\"url(#clip220)\" style=\"stroke:#000000; stroke-linecap:round; stroke-linejoin:round; stroke-width:4; stroke-opacity:1; fill:none\" points=\"147.478,419.212 166.376,419.212 \"/>\n",
              "<polyline clip-path=\"url(#clip220)\" style=\"stroke:#000000; stroke-linecap:round; stroke-linejoin:round; stroke-width:4; stroke-opacity:1; fill:none\" points=\"147.478,162.047 166.376,162.047 \"/>\n",
              "<path clip-path=\"url(#clip220)\" d=\"M50.9921 1448.32 L80.6679 1448.32 L80.6679 1452.26 L50.9921 1452.26 L50.9921 1448.32 Z\" fill=\"#000000\" fill-rule=\"nonzero\" fill-opacity=\"1\" /><path clip-path=\"url(#clip220)\" d=\"M91.5706 1461.22 L99.2095 1461.22 L99.2095 1434.85 L90.8993 1436.52 L90.8993 1432.26 L99.1632 1430.59 L103.839 1430.59 L103.839 1461.22 L111.478 1461.22 L111.478 1465.15 L91.5706 1465.15 L91.5706 1461.22 Z\" fill=\"#000000\" fill-rule=\"nonzero\" fill-opacity=\"1\" /><path clip-path=\"url(#clip220)\" d=\"M99.5335 1176.51 Q95.9224 1176.51 94.0937 1180.07 Q92.2882 1183.61 92.2882 1190.74 Q92.2882 1197.85 94.0937 1201.41 Q95.9224 1204.96 99.5335 1204.96 Q103.168 1204.96 104.973 1201.41 Q106.802 1197.85 106.802 1190.74 Q106.802 1183.61 104.973 1180.07 Q103.168 1176.51 99.5335 1176.51 M99.5335 1172.8 Q105.344 1172.8 108.399 1177.41 Q111.478 1181.99 111.478 1190.74 Q111.478 1199.47 108.399 1204.08 Q105.344 1208.66 99.5335 1208.66 Q93.7234 1208.66 90.6447 1204.08 Q87.5892 1199.47 87.5892 1190.74 Q87.5892 1181.99 90.6447 1177.41 Q93.7234 1172.8 99.5335 1172.8 Z\" fill=\"#000000\" fill-rule=\"nonzero\" fill-opacity=\"1\" /><path clip-path=\"url(#clip220)\" d=\"M91.5706 946.887 L99.2095 946.887 L99.2095 920.522 L90.8993 922.189 L90.8993 917.929 L99.1632 916.263 L103.839 916.263 L103.839 946.887 L111.478 946.887 L111.478 950.823 L91.5706 950.823 L91.5706 946.887 Z\" fill=\"#000000\" fill-rule=\"nonzero\" fill-opacity=\"1\" /><path clip-path=\"url(#clip220)\" d=\"M95.1586 689.722 L111.478 689.722 L111.478 693.657 L89.5336 693.657 L89.5336 689.722 Q92.1956 686.968 96.7789 682.338 Q101.385 677.685 102.566 676.343 Q104.811 673.82 105.691 672.083 Q106.594 670.324 106.594 668.634 Q106.594 665.88 104.649 664.144 Q102.728 662.408 99.6261 662.408 Q97.4271 662.408 94.9734 663.171 Q92.5428 663.935 89.7651 665.486 L89.7651 660.764 Q92.5891 659.63 95.0428 659.051 Q97.4965 658.472 99.5335 658.472 Q104.904 658.472 108.098 661.158 Q111.293 663.843 111.293 668.333 Q111.293 670.463 110.483 672.384 Q109.696 674.282 107.589 676.875 Q107.01 677.546 103.909 680.764 Q100.807 683.958 95.1586 689.722 Z\" fill=\"#000000\" fill-rule=\"nonzero\" fill-opacity=\"1\" /><path clip-path=\"url(#clip220)\" d=\"M104.348 417.858 Q107.705 418.576 109.58 420.844 Q111.478 423.113 111.478 426.446 Q111.478 431.562 107.959 434.363 Q104.441 437.163 97.9595 437.163 Q95.7836 437.163 93.4688 436.724 Q91.1771 436.307 88.7234 435.45 L88.7234 430.937 Q90.6678 432.071 92.9826 432.65 Q95.2974 433.228 97.8206 433.228 Q102.219 433.228 104.51 431.492 Q106.825 429.756 106.825 426.446 Q106.825 423.39 104.672 421.677 Q102.543 419.941 98.7234 419.941 L94.6956 419.941 L94.6956 416.099 L98.9085 416.099 Q102.358 416.099 104.186 414.733 Q106.015 413.344 106.015 410.752 Q106.015 408.09 104.117 406.677 Q102.242 405.242 98.7234 405.242 Q96.8021 405.242 94.603 405.659 Q92.4039 406.076 89.7651 406.955 L89.7651 402.789 Q92.4271 402.048 94.7419 401.678 Q97.0798 401.307 99.14 401.307 Q104.464 401.307 107.566 403.738 Q110.668 406.145 110.668 410.265 Q110.668 413.136 109.024 415.127 Q107.381 417.094 104.348 417.858 Z\" fill=\"#000000\" fill-rule=\"nonzero\" fill-opacity=\"1\" /><path clip-path=\"url(#clip220)\" d=\"M101.895 148.841 L90.0891 167.29 L101.895 167.29 L101.895 148.841 M100.668 144.767 L106.547 144.767 L106.547 167.29 L111.478 167.29 L111.478 171.179 L106.547 171.179 L106.547 179.327 L101.895 179.327 L101.895 171.179 L86.2929 171.179 L86.2929 166.665 L100.668 144.767 Z\" fill=\"#000000\" fill-rule=\"nonzero\" fill-opacity=\"1\" /><path clip-path=\"url(#clip220)\" d=\"M376.377 44.2197 Q379.01 45.1109 381.482 48.0275 Q383.993 50.9442 386.505 56.0483 L394.809 72.576 L386.019 72.576 L378.281 57.061 Q375.284 50.9847 372.448 48.9997 Q369.653 47.0148 364.792 47.0148 L355.88 47.0148 L355.88 72.576 L347.697 72.576 L347.697 12.096 L366.169 12.096 Q376.539 12.096 381.644 16.4305 Q386.748 20.7649 386.748 29.5149 Q386.748 35.2267 384.074 38.994 Q381.441 42.7613 376.377 44.2197 M355.88 18.8205 L355.88 40.2903 L366.169 40.2903 Q372.083 40.2903 375.081 37.5762 Q378.119 34.8216 378.119 29.5149 Q378.119 24.2082 375.081 21.5346 Q372.083 18.8205 366.169 18.8205 L355.88 18.8205 Z\" fill=\"#000000\" fill-rule=\"nonzero\" fill-opacity=\"1\" /><path clip-path=\"url(#clip220)\" d=\"M440.098 48.0275 L440.098 51.6733 L405.827 51.6733 Q406.314 59.3701 410.445 63.421 Q414.618 67.4314 422.031 67.4314 Q426.325 67.4314 430.335 66.3781 Q434.386 65.3249 438.356 63.2184 L438.356 70.267 Q434.346 71.9684 430.133 72.8596 Q425.92 73.7508 421.585 73.7508 Q410.729 73.7508 404.369 67.4314 Q398.05 61.1119 398.05 50.3365 Q398.05 39.1965 404.045 32.6746 Q410.081 26.1121 420.289 26.1121 Q429.444 26.1121 434.751 32.0264 Q440.098 37.9003 440.098 48.0275 M432.644 45.84 Q432.563 39.7232 429.201 36.0774 Q425.879 32.4315 420.37 32.4315 Q414.132 32.4315 410.364 35.9558 Q406.638 39.4801 406.071 45.8805 L432.644 45.84 Z\" fill=\"#000000\" fill-rule=\"nonzero\" fill-opacity=\"1\" /><path clip-path=\"url(#clip220)\" d=\"M475.3 9.54393 L475.3 15.7418 L468.171 15.7418 Q464.16 15.7418 462.581 17.3622 Q461.041 18.9825 461.041 23.1955 L461.041 27.2059 L473.316 27.2059 L473.316 32.9987 L461.041 32.9987 L461.041 72.576 L453.547 72.576 L453.547 32.9987 L446.418 32.9987 L446.418 27.2059 L453.547 27.2059 L453.547 24.0462 Q453.547 16.471 457.071 13.0277 Q460.596 9.54393 468.252 9.54393 L475.3 9.54393 Z\" fill=\"#000000\" fill-rule=\"nonzero\" fill-opacity=\"1\" /><path clip-path=\"url(#clip220)\" d=\"M481.539 9.54393 L488.993 9.54393 L488.993 72.576 L481.539 72.576 L481.539 9.54393 Z\" fill=\"#000000\" fill-rule=\"nonzero\" fill-opacity=\"1\" /><path clip-path=\"url(#clip220)\" d=\"M543.396 48.0275 L543.396 51.6733 L509.126 51.6733 Q509.612 59.3701 513.744 63.421 Q517.916 67.4314 525.329 67.4314 Q529.623 67.4314 533.633 66.3781 Q537.684 65.3249 541.654 63.2184 L541.654 70.267 Q537.644 71.9684 533.431 72.8596 Q529.218 73.7508 524.884 73.7508 Q514.027 73.7508 507.667 67.4314 Q501.348 61.1119 501.348 50.3365 Q501.348 39.1965 507.343 32.6746 Q513.379 26.1121 523.587 26.1121 Q532.742 26.1121 538.049 32.0264 Q543.396 37.9003 543.396 48.0275 M535.942 45.84 Q535.861 39.7232 532.499 36.0774 Q529.177 32.4315 523.668 32.4315 Q517.43 32.4315 513.663 35.9558 Q509.936 39.4801 509.369 45.8805 L535.942 45.84 Z\" fill=\"#000000\" fill-rule=\"nonzero\" fill-opacity=\"1\" /><path clip-path=\"url(#clip220)\" d=\"M591.885 27.2059 L575.479 49.2833 L592.736 72.576 L583.946 72.576 L570.74 54.752 L557.534 72.576 L548.743 72.576 L566.365 48.8377 L550.242 27.2059 L559.033 27.2059 L571.064 43.369 L583.095 27.2059 L591.885 27.2059 Z\" fill=\"#000000\" fill-rule=\"nonzero\" fill-opacity=\"1\" /><path clip-path=\"url(#clip220)\" d=\"M603.269 27.2059 L610.722 27.2059 L610.722 72.576 L603.269 72.576 L603.269 27.2059 M603.269 9.54393 L610.722 9.54393 L610.722 18.9825 L603.269 18.9825 L603.269 9.54393 Z\" fill=\"#000000\" fill-rule=\"nonzero\" fill-opacity=\"1\" /><path clip-path=\"url(#clip220)\" d=\"M643.899 32.4315 Q637.904 32.4315 634.42 37.1306 Q630.936 41.7891 630.936 49.9314 Q630.936 58.0738 634.379 62.7728 Q637.863 67.4314 643.899 67.4314 Q649.854 67.4314 653.338 62.7323 Q656.821 58.0333 656.821 49.9314 Q656.821 41.8701 653.338 37.1711 Q649.854 32.4315 643.899 32.4315 M643.899 26.1121 Q653.621 26.1121 659.171 32.4315 Q664.721 38.7509 664.721 49.9314 Q664.721 61.0714 659.171 67.4314 Q653.621 73.7508 643.899 73.7508 Q634.136 73.7508 628.587 67.4314 Q623.077 61.0714 623.077 49.9314 Q623.077 38.7509 628.587 32.4315 Q634.136 26.1121 643.899 26.1121 M649.53 6.22219 L657.591 6.22219 L644.385 21.4536 L638.187 21.4536 L649.53 6.22219 Z\" fill=\"#000000\" fill-rule=\"nonzero\" fill-opacity=\"1\" /><path clip-path=\"url(#clip220)\" d=\"M714.79 45.1919 L714.79 72.576 L707.336 72.576 L707.336 45.4349 Q707.336 38.994 704.825 35.7938 Q702.313 32.5936 697.29 32.5936 Q691.254 32.5936 687.77 36.4419 Q684.287 40.2903 684.287 46.9338 L684.287 72.576 L676.792 72.576 L676.792 27.2059 L684.287 27.2059 L684.287 34.2544 Q686.96 30.163 690.566 28.1376 Q694.211 26.1121 698.951 26.1121 Q706.769 26.1121 710.78 30.9732 Q714.79 35.7938 714.79 45.1919 Z\" fill=\"#000000\" fill-rule=\"nonzero\" fill-opacity=\"1\" /><path clip-path=\"url(#clip220)\" d=\"M785.883 34.0924 L785.883 9.54393 L793.337 9.54393 L793.337 72.576 L785.883 72.576 L785.883 65.7705 Q783.534 69.8214 779.928 71.8063 Q776.364 73.7508 771.341 73.7508 Q763.117 73.7508 757.932 67.1883 Q752.787 60.6258 752.787 49.9314 Q752.787 39.2371 757.932 32.6746 Q763.117 26.1121 771.341 26.1121 Q776.364 26.1121 779.928 28.0971 Q783.534 30.0415 785.883 34.0924 M760.484 49.9314 Q760.484 58.1548 763.846 62.8538 Q767.249 67.5124 773.163 67.5124 Q779.078 67.5124 782.481 62.8538 Q785.883 58.1548 785.883 49.9314 Q785.883 41.7081 782.481 37.0496 Q779.078 32.3505 773.163 32.3505 Q767.249 32.3505 763.846 37.0496 Q760.484 41.7081 760.484 49.9314 Z\" fill=\"#000000\" fill-rule=\"nonzero\" fill-opacity=\"1\" /><path clip-path=\"url(#clip220)\" d=\"M847.498 48.0275 L847.498 51.6733 L813.227 51.6733 Q813.713 59.3701 817.845 63.421 Q822.017 67.4314 829.431 67.4314 Q833.724 67.4314 837.735 66.3781 Q841.786 65.3249 845.756 63.2184 L845.756 70.267 Q841.745 71.9684 837.532 72.8596 Q833.319 73.7508 828.985 73.7508 Q818.128 73.7508 811.769 67.4314 Q805.449 61.1119 805.449 50.3365 Q805.449 39.1965 811.444 32.6746 Q817.48 26.1121 827.689 26.1121 Q836.844 26.1121 842.15 32.0264 Q847.498 37.9003 847.498 48.0275 M840.044 45.84 Q839.963 39.7232 836.601 36.0774 Q833.279 32.4315 827.77 32.4315 Q821.531 32.4315 817.764 35.9558 Q814.037 39.4801 813.47 45.8805 L840.044 45.84 Z\" fill=\"#000000\" fill-rule=\"nonzero\" fill-opacity=\"1\" /><path clip-path=\"url(#clip220)\" d=\"M885.333 54.671 L885.333 27.2059 L892.787 27.2059 L892.787 54.3874 Q892.787 60.8284 895.298 64.0691 Q897.81 67.2693 902.833 67.2693 Q908.869 67.2693 912.353 63.421 Q915.877 59.5726 915.877 52.9291 L915.877 27.2059 L923.33 27.2059 L923.33 72.576 L915.877 72.576 L915.877 65.6084 Q913.163 69.7404 909.557 71.7658 Q905.993 73.7508 901.253 73.7508 Q893.435 73.7508 889.384 68.8897 Q885.333 64.0286 885.333 54.671 M904.089 26.1121 L904.089 26.1121 Z\" fill=\"#000000\" fill-rule=\"nonzero\" fill-opacity=\"1\" /><path clip-path=\"url(#clip220)\" d=\"M976.397 45.1919 L976.397 72.576 L968.944 72.576 L968.944 45.4349 Q968.944 38.994 966.432 35.7938 Q963.921 32.5936 958.897 32.5936 Q952.862 32.5936 949.378 36.4419 Q945.894 40.2903 945.894 46.9338 L945.894 72.576 L938.4 72.576 L938.4 27.2059 L945.894 27.2059 L945.894 34.2544 Q948.568 30.163 952.173 28.1376 Q955.819 26.1121 960.558 26.1121 Q968.377 26.1121 972.387 30.9732 Q976.397 35.7938 976.397 45.1919 Z\" fill=\"#000000\" fill-rule=\"nonzero\" fill-opacity=\"1\" /><path clip-path=\"url(#clip220)\" d=\"M1012.29 27.2059 L1020.19 27.2059 L1034.37 65.2844 L1048.54 27.2059 L1056.44 27.2059 L1039.43 72.576 L1029.3 72.576 L1012.29 27.2059 Z\" fill=\"#000000\" fill-rule=\"nonzero\" fill-opacity=\"1\" /><path clip-path=\"url(#clip220)\" d=\"M1105.54 48.0275 L1105.54 51.6733 L1071.27 51.6733 Q1071.76 59.3701 1075.89 63.421 Q1080.06 67.4314 1087.47 67.4314 Q1091.77 67.4314 1095.78 66.3781 Q1099.83 65.3249 1103.8 63.2184 L1103.8 70.267 Q1099.79 71.9684 1095.57 72.8596 Q1091.36 73.7508 1087.03 73.7508 Q1076.17 73.7508 1069.81 67.4314 Q1063.49 61.1119 1063.49 50.3365 Q1063.49 39.1965 1069.49 32.6746 Q1075.52 26.1121 1085.73 26.1121 Q1094.89 26.1121 1100.19 32.0264 Q1105.54 37.9003 1105.54 48.0275 M1098.09 45.84 Q1098.01 39.7232 1094.64 36.0774 Q1091.32 32.4315 1085.81 32.4315 Q1079.57 32.4315 1075.81 35.9558 Q1072.08 39.4801 1071.51 45.8805 L1098.09 45.84 Z\" fill=\"#000000\" fill-rule=\"nonzero\" fill-opacity=\"1\" /><path clip-path=\"url(#clip220)\" d=\"M1150.42 28.9478 L1150.42 35.9153 Q1147.26 34.1734 1144.06 33.3227 Q1140.9 32.4315 1137.66 32.4315 Q1130.41 32.4315 1126.4 37.0496 Q1122.39 41.6271 1122.39 49.9314 Q1122.39 58.2358 1126.4 62.8538 Q1130.41 67.4314 1137.66 67.4314 Q1140.9 67.4314 1144.06 66.5807 Q1147.26 65.6895 1150.42 63.9476 L1150.42 70.8341 Q1147.3 72.2924 1143.94 73.0216 Q1140.62 73.7508 1136.85 73.7508 Q1126.6 73.7508 1120.57 67.3098 Q1114.53 60.8689 1114.53 49.9314 Q1114.53 38.832 1120.61 32.472 Q1126.73 26.1121 1137.34 26.1121 Q1140.78 26.1121 1144.06 26.8413 Q1147.35 27.5299 1150.42 28.9478 Z\" fill=\"#000000\" fill-rule=\"nonzero\" fill-opacity=\"1\" /><path clip-path=\"url(#clip220)\" d=\"M1170.76 14.324 L1170.76 27.2059 L1186.11 27.2059 L1186.11 32.9987 L1170.76 32.9987 L1170.76 57.6282 Q1170.76 63.1779 1172.26 64.7578 Q1173.8 66.3376 1178.46 66.3376 L1186.11 66.3376 L1186.11 72.576 L1178.46 72.576 Q1169.83 72.576 1166.55 69.3758 Q1163.27 66.1351 1163.27 57.6282 L1163.27 32.9987 L1157.8 32.9987 L1157.8 27.2059 L1163.27 27.2059 L1163.27 14.324 L1170.76 14.324 Z\" fill=\"#000000\" fill-rule=\"nonzero\" fill-opacity=\"1\" /><path clip-path=\"url(#clip220)\" d=\"M1213.5 32.4315 Q1207.5 32.4315 1204.02 37.1306 Q1200.53 41.7891 1200.53 49.9314 Q1200.53 58.0738 1203.98 62.7728 Q1207.46 67.4314 1213.5 67.4314 Q1219.45 67.4314 1222.94 62.7323 Q1226.42 58.0333 1226.42 49.9314 Q1226.42 41.8701 1222.94 37.1711 Q1219.45 32.4315 1213.5 32.4315 M1213.5 26.1121 Q1223.22 26.1121 1228.77 32.4315 Q1234.32 38.7509 1234.32 49.9314 Q1234.32 61.0714 1228.77 67.4314 Q1223.22 73.7508 1213.5 73.7508 Q1203.73 73.7508 1198.18 67.4314 Q1192.68 61.0714 1192.68 49.9314 Q1192.68 38.7509 1198.18 32.4315 Q1203.73 26.1121 1213.5 26.1121 Z\" fill=\"#000000\" fill-rule=\"nonzero\" fill-opacity=\"1\" /><path clip-path=\"url(#clip220)\" d=\"M1272.96 34.1734 Q1271.71 33.4443 1270.21 33.1202 Q1268.75 32.7556 1266.97 32.7556 Q1260.65 32.7556 1257.25 36.8875 Q1253.88 40.9789 1253.88 48.6757 L1253.88 72.576 L1246.39 72.576 L1246.39 27.2059 L1253.88 27.2059 L1253.88 34.2544 Q1256.23 30.1225 1260 28.1376 Q1263.77 26.1121 1269.16 26.1121 Q1269.93 26.1121 1270.86 26.2337 Q1271.79 26.3147 1272.92 26.5172 L1272.96 34.1734 Z\" fill=\"#000000\" fill-rule=\"nonzero\" fill-opacity=\"1\" /><path clip-path=\"url(#clip220)\" d=\"M1306.38 54.671 L1306.38 27.2059 L1313.84 27.2059 L1313.84 54.3874 Q1313.84 60.8284 1316.35 64.0691 Q1318.86 67.2693 1323.88 67.2693 Q1329.92 67.2693 1333.4 63.421 Q1336.93 59.5726 1336.93 52.9291 L1336.93 27.2059 L1344.38 27.2059 L1344.38 72.576 L1336.93 72.576 L1336.93 65.6084 Q1334.21 69.7404 1330.61 71.7658 Q1327.04 73.7508 1322.3 73.7508 Q1314.49 73.7508 1310.43 68.8897 Q1306.38 64.0286 1306.38 54.671 M1325.14 26.1121 L1325.14 26.1121 Z\" fill=\"#000000\" fill-rule=\"nonzero\" fill-opacity=\"1\" /><path clip-path=\"url(#clip220)\" d=\"M1388.66 28.5427 L1388.66 35.5912 Q1385.5 33.9709 1382.1 33.1607 Q1378.69 32.3505 1375.05 32.3505 Q1369.5 32.3505 1366.7 34.0519 Q1363.95 35.7533 1363.95 39.156 Q1363.95 41.7486 1365.93 43.2475 Q1367.92 44.7058 1373.91 46.0426 L1376.46 46.6097 Q1384.4 48.3111 1387.73 51.4303 Q1391.09 54.509 1391.09 60.0587 Q1391.09 66.3781 1386.07 70.0644 Q1381.08 73.7508 1372.33 73.7508 Q1368.69 73.7508 1364.72 73.0216 Q1360.79 72.3329 1356.41 70.9151 L1356.41 63.2184 Q1360.54 65.3654 1364.55 66.4591 Q1368.57 67.5124 1372.49 67.5124 Q1377.76 67.5124 1380.6 65.73 Q1383.43 63.9071 1383.43 60.6258 Q1383.43 57.5877 1381.37 55.9673 Q1379.34 54.3469 1372.41 52.8481 L1369.82 52.2405 Q1362.89 50.7821 1359.82 47.7845 Q1356.74 44.7463 1356.74 39.4801 Q1356.74 33.0797 1361.27 29.5959 Q1365.81 26.1121 1374.16 26.1121 Q1378.29 26.1121 1381.93 26.7198 Q1385.58 27.3274 1388.66 28.5427 Z\" fill=\"#000000\" fill-rule=\"nonzero\" fill-opacity=\"1\" /><path clip-path=\"url(#clip220)\" d=\"M1423.58 49.7694 Q1414.54 49.7694 1411.06 51.8354 Q1407.58 53.9013 1407.58 58.8839 Q1407.58 62.8538 1410.17 65.2034 Q1412.8 67.5124 1417.3 67.5124 Q1423.5 67.5124 1427.22 63.1374 Q1430.99 58.7219 1430.99 51.4303 L1430.99 49.7694 L1423.58 49.7694 M1438.44 46.6907 L1438.44 72.576 L1430.99 72.576 L1430.99 65.6895 Q1428.44 69.8214 1424.63 71.8063 Q1420.82 73.7508 1415.31 73.7508 Q1408.35 73.7508 1404.21 69.8619 Q1400.12 65.9325 1400.12 59.3701 Q1400.12 51.7138 1405.23 47.825 Q1410.37 43.9361 1420.54 43.9361 L1430.99 43.9361 L1430.99 43.2069 Q1430.99 38.0623 1427.59 35.2672 Q1424.22 32.4315 1418.11 32.4315 Q1414.22 32.4315 1410.53 33.3632 Q1406.85 34.295 1403.44 36.1584 L1403.44 29.2718 Q1407.54 27.692 1411.38 26.9223 Q1415.23 26.1121 1418.88 26.1121 Q1428.72 26.1121 1433.58 31.2163 Q1438.44 36.3204 1438.44 46.6907 Z\" fill=\"#000000\" fill-rule=\"nonzero\" fill-opacity=\"1\" /><path clip-path=\"url(#clip220)\" d=\"M1491.51 45.1919 L1491.51 72.576 L1484.06 72.576 L1484.06 45.4349 Q1484.06 38.994 1481.55 35.7938 Q1479.03 32.5936 1474.01 32.5936 Q1467.97 32.5936 1464.49 36.4419 Q1461.01 40.2903 1461.01 46.9338 L1461.01 72.576 L1453.51 72.576 L1453.51 27.2059 L1461.01 27.2059 L1461.01 34.2544 Q1463.68 30.163 1467.29 28.1376 Q1470.93 26.1121 1475.67 26.1121 Q1483.49 26.1121 1487.5 30.9732 Q1491.51 35.7938 1491.51 45.1919 Z\" fill=\"#000000\" fill-rule=\"nonzero\" fill-opacity=\"1\" /><path clip-path=\"url(#clip220)\" d=\"M1536.23 34.0924 L1536.23 9.54393 L1543.69 9.54393 L1543.69 72.576 L1536.23 72.576 L1536.23 65.7705 Q1533.88 69.8214 1530.28 71.8063 Q1526.71 73.7508 1521.69 73.7508 Q1513.47 73.7508 1508.28 67.1883 Q1503.14 60.6258 1503.14 49.9314 Q1503.14 39.2371 1508.28 32.6746 Q1513.47 26.1121 1521.69 26.1121 Q1526.71 26.1121 1530.28 28.0971 Q1533.88 30.0415 1536.23 34.0924 M1510.83 49.9314 Q1510.83 58.1548 1514.2 62.8538 Q1517.6 67.5124 1523.51 67.5124 Q1529.43 67.5124 1532.83 62.8538 Q1536.23 58.1548 1536.23 49.9314 Q1536.23 41.7081 1532.83 37.0496 Q1529.43 32.3505 1523.51 32.3505 Q1517.6 32.3505 1514.2 37.0496 Q1510.83 41.7081 1510.83 49.9314 Z\" fill=\"#000000\" fill-rule=\"nonzero\" fill-opacity=\"1\" /><path clip-path=\"url(#clip220)\" d=\"M1576.62 32.4315 Q1570.62 32.4315 1567.14 37.1306 Q1563.66 41.7891 1563.66 49.9314 Q1563.66 58.0738 1567.1 62.7728 Q1570.58 67.4314 1576.62 67.4314 Q1582.57 67.4314 1586.06 62.7323 Q1589.54 58.0333 1589.54 49.9314 Q1589.54 41.8701 1586.06 37.1711 Q1582.57 32.4315 1576.62 32.4315 M1576.62 26.1121 Q1586.34 26.1121 1591.89 32.4315 Q1597.44 38.7509 1597.44 49.9314 Q1597.44 61.0714 1591.89 67.4314 Q1586.34 73.7508 1576.62 73.7508 Q1566.86 73.7508 1561.31 67.4314 Q1555.8 61.0714 1555.8 49.9314 Q1555.8 38.7509 1561.31 32.4315 Q1566.86 26.1121 1576.62 26.1121 Z\" fill=\"#000000\" fill-rule=\"nonzero\" fill-opacity=\"1\" /><path clip-path=\"url(#clip220)\" d=\"M1636.49 12.096 L1644.67 12.096 L1644.67 36.8875 L1674.41 36.8875 L1674.41 12.096 L1682.59 12.096 L1682.59 72.576 L1674.41 72.576 L1674.41 43.7741 L1644.67 43.7741 L1644.67 72.576 L1636.49 72.576 L1636.49 12.096 Z\" fill=\"#000000\" fill-rule=\"nonzero\" fill-opacity=\"1\" /><path clip-path=\"url(#clip220)\" d=\"M1716.13 32.4315 Q1710.14 32.4315 1706.65 37.1306 Q1703.17 41.7891 1703.17 49.9314 Q1703.17 58.0738 1706.61 62.7728 Q1710.1 67.4314 1716.13 67.4314 Q1722.09 67.4314 1725.57 62.7323 Q1729.06 58.0333 1729.06 49.9314 Q1729.06 41.8701 1725.57 37.1711 Q1722.09 32.4315 1716.13 32.4315 M1716.13 26.1121 Q1725.86 26.1121 1731.4 32.4315 Q1736.95 38.7509 1736.95 49.9314 Q1736.95 61.0714 1731.4 67.4314 Q1725.86 73.7508 1716.13 73.7508 Q1706.37 73.7508 1700.82 67.4314 Q1695.31 61.0714 1695.31 49.9314 Q1695.31 38.7509 1700.82 32.4315 Q1706.37 26.1121 1716.13 26.1121 Z\" fill=\"#000000\" fill-rule=\"nonzero\" fill-opacity=\"1\" /><path clip-path=\"url(#clip220)\" d=\"M1748.54 54.671 L1748.54 27.2059 L1755.99 27.2059 L1755.99 54.3874 Q1755.99 60.8284 1758.51 64.0691 Q1761.02 67.2693 1766.04 67.2693 Q1772.08 67.2693 1775.56 63.421 Q1779.08 59.5726 1779.08 52.9291 L1779.08 27.2059 L1786.54 27.2059 L1786.54 72.576 L1779.08 72.576 L1779.08 65.6084 Q1776.37 69.7404 1772.76 71.7658 Q1769.2 73.7508 1764.46 73.7508 Q1756.64 73.7508 1752.59 68.8897 Q1748.54 64.0286 1748.54 54.671 M1767.3 26.1121 L1767.3 26.1121 Z\" fill=\"#000000\" fill-rule=\"nonzero\" fill-opacity=\"1\" /><path clip-path=\"url(#clip220)\" d=\"M1830.81 28.5427 L1830.81 35.5912 Q1827.65 33.9709 1824.25 33.1607 Q1820.85 32.3505 1817.2 32.3505 Q1811.65 32.3505 1808.86 34.0519 Q1806.1 35.7533 1806.1 39.156 Q1806.1 41.7486 1808.09 43.2475 Q1810.07 44.7058 1816.07 46.0426 L1818.62 46.6097 Q1826.56 48.3111 1829.88 51.4303 Q1833.24 54.509 1833.24 60.0587 Q1833.24 66.3781 1828.22 70.0644 Q1823.24 73.7508 1814.49 73.7508 Q1810.84 73.7508 1806.87 73.0216 Q1802.94 72.3329 1798.57 70.9151 L1798.57 63.2184 Q1802.7 65.3654 1806.71 66.4591 Q1810.72 67.5124 1814.65 67.5124 Q1819.92 67.5124 1822.75 65.73 Q1825.59 63.9071 1825.59 60.6258 Q1825.59 57.5877 1823.52 55.9673 Q1821.5 54.3469 1814.57 52.8481 L1811.98 52.2405 Q1805.05 50.7821 1801.97 47.7845 Q1798.89 44.7463 1798.89 39.4801 Q1798.89 33.0797 1803.43 29.5959 Q1807.97 26.1121 1816.31 26.1121 Q1820.44 26.1121 1824.09 26.7198 Q1827.74 27.3274 1830.81 28.5427 Z\" fill=\"#000000\" fill-rule=\"nonzero\" fill-opacity=\"1\" /><path clip-path=\"url(#clip220)\" d=\"M1883.92 48.0275 L1883.92 51.6733 L1849.65 51.6733 Q1850.14 59.3701 1854.27 63.421 Q1858.44 67.4314 1865.85 67.4314 Q1870.15 67.4314 1874.16 66.3781 Q1878.21 65.3249 1882.18 63.2184 L1882.18 70.267 Q1878.17 71.9684 1873.96 72.8596 Q1869.74 73.7508 1865.41 73.7508 Q1854.55 73.7508 1848.19 67.4314 Q1841.87 61.1119 1841.87 50.3365 Q1841.87 39.1965 1847.87 32.6746 Q1853.9 26.1121 1864.11 26.1121 Q1873.27 26.1121 1878.57 32.0264 Q1883.92 37.9003 1883.92 48.0275 M1876.47 45.84 Q1876.39 39.7232 1873.02 36.0774 Q1869.7 32.4315 1864.19 32.4315 Q1857.96 32.4315 1854.19 35.9558 Q1850.46 39.4801 1849.89 45.8805 L1876.47 45.84 Z\" fill=\"#000000\" fill-rule=\"nonzero\" fill-opacity=\"1\" /><path clip-path=\"url(#clip220)\" d=\"M1933.87 45.1919 L1933.87 72.576 L1926.42 72.576 L1926.42 45.4349 Q1926.42 38.994 1923.9 35.7938 Q1921.39 32.5936 1916.37 32.5936 Q1910.33 32.5936 1906.85 36.4419 Q1903.37 40.2903 1903.37 46.9338 L1903.37 72.576 L1895.87 72.576 L1895.87 9.54393 L1903.37 9.54393 L1903.37 34.2544 Q1906.04 30.163 1909.64 28.1376 Q1913.29 26.1121 1918.03 26.1121 Q1925.85 26.1121 1929.86 30.9732 Q1933.87 35.7938 1933.87 45.1919 Z\" fill=\"#000000\" fill-rule=\"nonzero\" fill-opacity=\"1\" /><path clip-path=\"url(#clip220)\" d=\"M1966.32 32.4315 Q1960.32 32.4315 1956.84 37.1306 Q1953.35 41.7891 1953.35 49.9314 Q1953.35 58.0738 1956.8 62.7728 Q1960.28 67.4314 1966.32 67.4314 Q1972.27 67.4314 1975.76 62.7323 Q1979.24 58.0333 1979.24 49.9314 Q1979.24 41.8701 1975.76 37.1711 Q1972.27 32.4315 1966.32 32.4315 M1966.32 26.1121 Q1976.04 26.1121 1981.59 32.4315 Q1987.14 38.7509 1987.14 49.9314 Q1987.14 61.0714 1981.59 67.4314 Q1976.04 73.7508 1966.32 73.7508 Q1956.55 73.7508 1951 67.4314 Q1945.5 61.0714 1945.5 49.9314 Q1945.5 38.7509 1951 32.4315 Q1956.55 26.1121 1966.32 26.1121 Z\" fill=\"#000000\" fill-rule=\"nonzero\" fill-opacity=\"1\" /><path clip-path=\"url(#clip220)\" d=\"M1999.49 9.54393 L2006.95 9.54393 L2006.95 72.576 L1999.49 72.576 L1999.49 9.54393 Z\" fill=\"#000000\" fill-rule=\"nonzero\" fill-opacity=\"1\" /><path clip-path=\"url(#clip220)\" d=\"M2052.4 34.0924 L2052.4 9.54393 L2059.85 9.54393 L2059.85 72.576 L2052.4 72.576 L2052.4 65.7705 Q2050.05 69.8214 2046.44 71.8063 Q2042.88 73.7508 2037.86 73.7508 Q2029.63 73.7508 2024.45 67.1883 Q2019.3 60.6258 2019.3 49.9314 Q2019.3 39.2371 2024.45 32.6746 Q2029.63 26.1121 2037.86 26.1121 Q2042.88 26.1121 2046.44 28.0971 Q2050.05 30.0415 2052.4 34.0924 M2027 49.9314 Q2027 58.1548 2030.36 62.8538 Q2033.76 67.5124 2039.68 67.5124 Q2045.59 67.5124 2049 62.8538 Q2052.4 58.1548 2052.4 49.9314 Q2052.4 41.7081 2049 37.0496 Q2045.59 32.3505 2039.68 32.3505 Q2033.76 32.3505 2030.36 37.0496 Q2027 41.7081 2027 49.9314 Z\" fill=\"#000000\" fill-rule=\"nonzero\" fill-opacity=\"1\" /><path clip-path=\"url(#clip220)\" d=\"M2114.01 48.0275 L2114.01 51.6733 L2079.74 51.6733 Q2080.23 59.3701 2084.36 63.421 Q2088.53 67.4314 2095.95 67.4314 Q2100.24 67.4314 2104.25 66.3781 Q2108.3 65.3249 2112.27 63.2184 L2112.27 70.267 Q2108.26 71.9684 2104.05 72.8596 Q2099.83 73.7508 2095.5 73.7508 Q2084.64 73.7508 2078.28 67.4314 Q2071.96 61.1119 2071.96 50.3365 Q2071.96 39.1965 2077.96 32.6746 Q2084 26.1121 2094.2 26.1121 Q2103.36 26.1121 2108.67 32.0264 Q2114.01 37.9003 2114.01 48.0275 M2106.56 45.84 Q2106.48 39.7232 2103.12 36.0774 Q2099.79 32.4315 2094.28 32.4315 Q2088.05 32.4315 2084.28 35.9558 Q2080.55 39.4801 2079.99 45.8805 L2106.56 45.84 Z\" fill=\"#000000\" fill-rule=\"nonzero\" fill-opacity=\"1\" /><path clip-path=\"url(#clip220)\" d=\"M2152.54 34.1734 Q2151.28 33.4443 2149.78 33.1202 Q2148.32 32.7556 2146.54 32.7556 Q2140.22 32.7556 2136.82 36.8875 Q2133.46 40.9789 2133.46 48.6757 L2133.46 72.576 L2125.96 72.576 L2125.96 27.2059 L2133.46 27.2059 L2133.46 34.2544 Q2135.81 30.1225 2139.57 28.1376 Q2143.34 26.1121 2148.73 26.1121 Q2149.5 26.1121 2150.43 26.2337 Q2151.36 26.3147 2152.5 26.5172 L2152.54 34.1734 Z\" fill=\"#000000\" fill-rule=\"nonzero\" fill-opacity=\"1\" /><polyline clip-path=\"url(#clip222)\" style=\"stroke:#009af9; stroke-linecap:round; stroke-linejoin:round; stroke-width:8; stroke-opacity:1; fill:none\" points=\"735.786,1190.71 1250.12,162.047 \"/>\n",
              "<polyline clip-path=\"url(#clip222)\" style=\"stroke:#009af9; stroke-linecap:round; stroke-linejoin:round; stroke-width:8; stroke-opacity:1; fill:none\" points=\"1217.92,186.196 1250.12,162.047 1250.12,202.296 \"/>\n",
              "<polyline clip-path=\"url(#clip222)\" style=\"stroke:#009af9; stroke-linecap:round; stroke-linejoin:round; stroke-width:8; stroke-opacity:1; fill:none\" points=\"1250.12,162.047 735.786,1190.71 \"/>\n",
              "<polyline clip-path=\"url(#clip222)\" style=\"stroke:#e26f46; stroke-linecap:round; stroke-linejoin:round; stroke-width:8; stroke-opacity:1; fill:none\" points=\"735.786,1190.71 1764.45,676.377 \"/>\n",
              "<polyline clip-path=\"url(#clip222)\" style=\"stroke:#e26f46; stroke-linecap:round; stroke-linejoin:round; stroke-width:8; stroke-opacity:1; fill:none\" points=\"1724.2,676.377 1764.45,676.377 1740.3,708.577 \"/>\n",
              "<polyline clip-path=\"url(#clip222)\" style=\"stroke:#e26f46; stroke-linecap:round; stroke-linejoin:round; stroke-width:8; stroke-opacity:1; fill:none\" points=\"1764.45,676.377 735.786,1190.71 \"/>\n",
              "<polyline clip-path=\"url(#clip222)\" style=\"stroke:#3da44d; stroke-linecap:round; stroke-linejoin:round; stroke-width:8; stroke-opacity:1; fill:none\" stroke-dasharray=\"32, 20\" points=\"735.786,1190.71 992.952,1447.87 \"/>\n",
              "<polyline clip-path=\"url(#clip222)\" style=\"stroke:#3da44d; stroke-linecap:round; stroke-linejoin:round; stroke-width:8; stroke-opacity:1; fill:none\" points=\"980.224,1409.69 992.952,1447.87 954.768,1435.15 \"/>\n",
              "<polyline clip-path=\"url(#clip222)\" style=\"stroke:#3da44d; stroke-linecap:round; stroke-linejoin:round; stroke-width:8; stroke-opacity:1; fill:none\" stroke-dasharray=\"32, 20\" points=\"992.952,1447.87 735.786,1190.71 \"/>\n",
              "<path clip-path=\"url(#clip220)\" d=\"M220.987 376.265 L682.254 376.265 L682.254 168.905 L220.987 168.905  Z\" fill=\"#ffffff\" fill-rule=\"evenodd\" fill-opacity=\"1\"/>\n",
              "<polyline clip-path=\"url(#clip220)\" style=\"stroke:#000000; stroke-linecap:round; stroke-linejoin:round; stroke-width:4; stroke-opacity:1; fill:none\" points=\"220.987,376.265 682.254,376.265 682.254,168.905 220.987,168.905 220.987,376.265 \"/>\n",
              "<polyline clip-path=\"url(#clip220)\" style=\"stroke:#009af9; stroke-linecap:round; stroke-linejoin:round; stroke-width:8; stroke-opacity:1; fill:none\" points=\"245.49,220.745 392.509,220.745 \"/>\n",
              "<path clip-path=\"url(#clip220)\" d=\"M417.012 227.793 L417.012 212.099 L421.271 212.099 L421.271 227.631 Q421.271 231.312 422.706 233.164 Q424.141 234.992 427.012 234.992 Q430.461 234.992 432.452 232.793 Q434.466 230.594 434.466 226.798 L434.466 212.099 L438.725 212.099 L438.725 238.025 L434.466 238.025 L434.466 234.043 Q432.915 236.404 430.854 237.562 Q428.817 238.696 426.109 238.696 Q421.641 238.696 419.327 235.918 Q417.012 233.14 417.012 227.793 M427.729 211.474 L427.729 211.474 Z\" fill=\"#000000\" fill-rule=\"nonzero\" fill-opacity=\"1\" /><polyline clip-path=\"url(#clip220)\" style=\"stroke:#e26f46; stroke-linecap:round; stroke-linejoin:round; stroke-width:8; stroke-opacity:1; fill:none\" points=\"245.49,272.585 392.509,272.585 \"/>\n",
              "<path clip-path=\"url(#clip220)\" d=\"M417.012 255.305 L421.688 255.305 L421.688 269.471 L438.678 269.471 L438.678 255.305 L443.354 255.305 L443.354 289.865 L438.678 289.865 L438.678 273.406 L421.688 273.406 L421.688 289.865 L417.012 289.865 L417.012 255.305 Z\" fill=\"#000000\" fill-rule=\"nonzero\" fill-opacity=\"1\" /><path clip-path=\"url(#clip220)\" d=\"M470.299 260.999 L461.989 265.49 L470.299 270.004 L468.956 272.272 L461.178 267.573 L461.178 276.3 L458.539 276.3 L458.539 267.573 L450.762 272.272 L449.419 270.004 L457.729 265.49 L449.419 260.999 L450.762 258.707 L458.539 263.406 L458.539 254.68 L461.178 254.68 L461.178 263.406 L468.956 258.707 L470.299 260.999 Z\" fill=\"#000000\" fill-rule=\"nonzero\" fill-opacity=\"1\" /><path clip-path=\"url(#clip220)\" d=\"M475.738 279.633 L475.738 263.939 L479.998 263.939 L479.998 279.471 Q479.998 283.152 481.433 285.004 Q482.868 286.832 485.738 286.832 Q489.187 286.832 491.178 284.633 Q493.192 282.434 493.192 278.638 L493.192 263.939 L497.451 263.939 L497.451 289.865 L493.192 289.865 L493.192 285.883 Q491.641 288.244 489.581 289.402 Q487.544 290.536 484.836 290.536 Q480.368 290.536 478.053 287.758 Q475.738 284.98 475.738 279.633 M486.456 263.314 L486.456 263.314 Z\" fill=\"#000000\" fill-rule=\"nonzero\" fill-opacity=\"1\" /><polyline clip-path=\"url(#clip220)\" style=\"stroke:#3da44d; stroke-linecap:round; stroke-linejoin:round; stroke-width:8; stroke-opacity:1; fill:none\" stroke-dasharray=\"32, 20\" points=\"245.49,324.425 392.509,324.425 \"/>\n",
              "<path clip-path=\"url(#clip220)\" d=\"M417.012 315.779 L421.526 315.779 L429.628 337.538 L437.729 315.779 L442.243 315.779 L432.521 341.705 L426.734 341.705 L417.012 315.779 Z\" fill=\"#000000\" fill-rule=\"nonzero\" fill-opacity=\"1\" /><path clip-path=\"url(#clip220)\" d=\"M473.424 305.733 Q470.322 311.057 468.817 316.265 Q467.313 321.473 467.313 326.82 Q467.313 332.168 468.817 337.422 Q470.345 342.654 473.424 347.955 L469.72 347.955 Q466.248 342.515 464.512 337.26 Q462.799 332.006 462.799 326.82 Q462.799 321.658 464.512 316.427 Q466.225 311.196 469.72 305.733 L473.424 305.733 Z\" fill=\"#000000\" fill-rule=\"nonzero\" fill-opacity=\"1\" /><path clip-path=\"url(#clip220)\" d=\"M503.238 326.057 L503.238 341.705 L498.979 341.705 L498.979 326.195 Q498.979 322.515 497.544 320.686 Q496.109 318.858 493.238 318.858 Q489.789 318.858 487.799 321.057 Q485.808 323.256 485.808 327.052 L485.808 341.705 L481.525 341.705 L481.525 315.779 L485.808 315.779 L485.808 319.807 Q487.336 317.469 489.396 316.311 Q491.479 315.154 494.187 315.154 Q498.655 315.154 500.947 317.932 Q503.238 320.686 503.238 326.057 Z\" fill=\"#000000\" fill-rule=\"nonzero\" fill-opacity=\"1\" /><path clip-path=\"url(#clip220)\" d=\"M521.78 318.765 Q518.354 318.765 516.363 321.45 Q514.372 324.112 514.372 328.765 Q514.372 333.418 516.34 336.103 Q518.331 338.765 521.78 338.765 Q525.183 338.765 527.173 336.08 Q529.164 333.395 529.164 328.765 Q529.164 324.158 527.173 321.473 Q525.183 318.765 521.78 318.765 M521.78 315.154 Q527.335 315.154 530.507 318.765 Q533.678 322.376 533.678 328.765 Q533.678 335.131 530.507 338.765 Q527.335 342.376 521.78 342.376 Q516.201 342.376 513.03 338.765 Q509.882 335.131 509.882 328.765 Q509.882 322.376 513.03 318.765 Q516.201 315.154 521.78 315.154 Z\" fill=\"#000000\" fill-rule=\"nonzero\" fill-opacity=\"1\" /><path clip-path=\"url(#clip220)\" d=\"M555.761 319.76 Q555.044 319.344 554.187 319.158 Q553.354 318.95 552.335 318.95 Q548.724 318.95 546.78 321.311 Q544.858 323.649 544.858 328.047 L544.858 341.705 L540.576 341.705 L540.576 315.779 L544.858 315.779 L544.858 319.807 Q546.201 317.446 548.354 316.311 Q550.507 315.154 553.585 315.154 Q554.025 315.154 554.557 315.223 Q555.09 315.27 555.738 315.385 L555.761 319.76 Z\" fill=\"#000000\" fill-rule=\"nonzero\" fill-opacity=\"1\" /><path clip-path=\"url(#clip220)\" d=\"M579.58 320.756 Q581.178 317.885 583.4 316.52 Q585.622 315.154 588.631 315.154 Q592.682 315.154 594.881 318.001 Q597.08 320.825 597.08 326.057 L597.08 341.705 L592.798 341.705 L592.798 326.195 Q592.798 322.469 591.479 320.663 Q590.159 318.858 587.451 318.858 Q584.141 318.858 582.219 321.057 Q580.298 323.256 580.298 327.052 L580.298 341.705 L576.016 341.705 L576.016 326.195 Q576.016 322.445 574.696 320.663 Q573.377 318.858 570.622 318.858 Q567.358 318.858 565.437 321.08 Q563.516 323.279 563.516 327.052 L563.516 341.705 L559.233 341.705 L559.233 315.779 L563.516 315.779 L563.516 319.807 Q564.974 317.422 567.011 316.288 Q569.048 315.154 571.849 315.154 Q574.673 315.154 576.641 316.589 Q578.631 318.024 579.58 320.756 Z\" fill=\"#000000\" fill-rule=\"nonzero\" fill-opacity=\"1\" /><path clip-path=\"url(#clip220)\" d=\"M617.358 328.672 Q612.196 328.672 610.205 329.853 Q608.215 331.033 608.215 333.881 Q608.215 336.149 609.696 337.492 Q611.201 338.811 613.77 338.811 Q617.312 338.811 619.441 336.311 Q621.594 333.788 621.594 329.621 L621.594 328.672 L617.358 328.672 M625.853 326.913 L625.853 341.705 L621.594 341.705 L621.594 337.769 Q620.136 340.131 617.96 341.265 Q615.784 342.376 612.636 342.376 Q608.654 342.376 606.293 340.154 Q603.955 337.908 603.955 334.158 Q603.955 329.783 606.872 327.561 Q609.812 325.339 615.622 325.339 L621.594 325.339 L621.594 324.922 Q621.594 321.983 619.65 320.385 Q617.728 318.765 614.233 318.765 Q612.011 318.765 609.904 319.297 Q607.798 319.83 605.853 320.895 L605.853 316.959 Q608.191 316.057 610.39 315.617 Q612.59 315.154 614.673 315.154 Q620.298 315.154 623.076 318.071 Q625.853 320.987 625.853 326.913 Z\" fill=\"#000000\" fill-rule=\"nonzero\" fill-opacity=\"1\" /><path clip-path=\"url(#clip220)\" d=\"M634.626 305.686 L638.886 305.686 L638.886 341.705 L634.626 341.705 L634.626 305.686 Z\" fill=\"#000000\" fill-rule=\"nonzero\" fill-opacity=\"1\" /><path clip-path=\"url(#clip220)\" d=\"M647.126 305.733 L650.83 305.733 Q654.302 311.196 656.015 316.427 Q657.751 321.658 657.751 326.82 Q657.751 332.006 656.015 337.26 Q654.302 342.515 650.83 347.955 L647.126 347.955 Q650.205 342.654 651.71 337.422 Q653.237 332.168 653.237 326.82 Q653.237 321.473 651.71 316.265 Q650.205 311.057 647.126 305.733 Z\" fill=\"#000000\" fill-rule=\"nonzero\" fill-opacity=\"1\" /></svg>\n"
            ],
            "image/svg+xml": "<?xml version=\"1.0\" encoding=\"utf-8\"?>\n<svg xmlns=\"http://www.w3.org/2000/svg\" xmlns:xlink=\"http://www.w3.org/1999/xlink\" width=\"600\" height=\"400\" viewBox=\"0 0 2400 1600\">\n<defs>\n  <clipPath id=\"clip170\">\n    <rect x=\"0\" y=\"0\" width=\"2400\" height=\"1600\"/>\n  </clipPath>\n</defs>\n<path clip-path=\"url(#clip170)\" d=\"M0 1600 L2400 1600 L2400 0 L0 0  Z\" fill=\"#ffffff\" fill-rule=\"evenodd\" fill-opacity=\"1\"/>\n<defs>\n  <clipPath id=\"clip171\">\n    <rect x=\"480\" y=\"0\" width=\"1681\" height=\"1600\"/>\n  </clipPath>\n</defs>\n<path clip-path=\"url(#clip170)\" d=\"M147.478 1486.45 L2352.76 1486.45 L2352.76 123.472 L147.478 123.472  Z\" fill=\"#ffffff\" fill-rule=\"evenodd\" fill-opacity=\"1\"/>\n<defs>\n  <clipPath id=\"clip172\">\n    <rect x=\"147\" y=\"123\" width=\"2206\" height=\"1364\"/>\n  </clipPath>\n</defs>\n<polyline clip-path=\"url(#clip172)\" style=\"stroke:#000000; stroke-linecap:round; stroke-linejoin:round; stroke-width:2; stroke-opacity:0.1; fill:none\" points=\"221.456,1486.45 221.456,123.472 \"/>\n<polyline clip-path=\"url(#clip172)\" style=\"stroke:#000000; stroke-linecap:round; stroke-linejoin:round; stroke-width:2; stroke-opacity:0.1; fill:none\" points=\"735.786,1486.45 735.786,123.472 \"/>\n<polyline clip-path=\"url(#clip172)\" style=\"stroke:#000000; stroke-linecap:round; stroke-linejoin:round; stroke-width:2; stroke-opacity:0.1; fill:none\" points=\"1250.12,1486.45 1250.12,123.472 \"/>\n<polyline clip-path=\"url(#clip172)\" style=\"stroke:#000000; stroke-linecap:round; stroke-linejoin:round; stroke-width:2; stroke-opacity:0.1; fill:none\" points=\"1764.45,1486.45 1764.45,123.472 \"/>\n<polyline clip-path=\"url(#clip172)\" style=\"stroke:#000000; stroke-linecap:round; stroke-linejoin:round; stroke-width:2; stroke-opacity:0.1; fill:none\" points=\"2278.78,1486.45 2278.78,123.472 \"/>\n<polyline clip-path=\"url(#clip172)\" style=\"stroke:#000000; stroke-linecap:round; stroke-linejoin:round; stroke-width:2; stroke-opacity:0.1; fill:none\" points=\"147.478,1447.87 2352.76,1447.87 \"/>\n<polyline clip-path=\"url(#clip172)\" style=\"stroke:#000000; stroke-linecap:round; stroke-linejoin:round; stroke-width:2; stroke-opacity:0.1; fill:none\" points=\"147.478,1190.71 2352.76,1190.71 \"/>\n<polyline clip-path=\"url(#clip172)\" style=\"stroke:#000000; stroke-linecap:round; stroke-linejoin:round; stroke-width:2; stroke-opacity:0.1; fill:none\" points=\"147.478,933.543 2352.76,933.543 \"/>\n<polyline clip-path=\"url(#clip172)\" style=\"stroke:#000000; stroke-linecap:round; stroke-linejoin:round; stroke-width:2; stroke-opacity:0.1; fill:none\" points=\"147.478,676.377 2352.76,676.377 \"/>\n<polyline clip-path=\"url(#clip172)\" style=\"stroke:#000000; stroke-linecap:round; stroke-linejoin:round; stroke-width:2; stroke-opacity:0.1; fill:none\" points=\"147.478,419.212 2352.76,419.212 \"/>\n<polyline clip-path=\"url(#clip172)\" style=\"stroke:#000000; stroke-linecap:round; stroke-linejoin:round; stroke-width:2; stroke-opacity:0.1; fill:none\" points=\"147.478,162.047 2352.76,162.047 \"/>\n<polyline clip-path=\"url(#clip170)\" style=\"stroke:#000000; stroke-linecap:round; stroke-linejoin:round; stroke-width:4; stroke-opacity:1; fill:none\" points=\"147.478,1486.45 2352.76,1486.45 \"/>\n<polyline clip-path=\"url(#clip170)\" style=\"stroke:#000000; stroke-linecap:round; stroke-linejoin:round; stroke-width:4; stroke-opacity:1; fill:none\" points=\"221.456,1486.45 221.456,1467.55 \"/>\n<polyline clip-path=\"url(#clip170)\" style=\"stroke:#000000; stroke-linecap:round; stroke-linejoin:round; stroke-width:4; stroke-opacity:1; fill:none\" points=\"735.786,1486.45 735.786,1467.55 \"/>\n<polyline clip-path=\"url(#clip170)\" style=\"stroke:#000000; stroke-linecap:round; stroke-linejoin:round; stroke-width:4; stroke-opacity:1; fill:none\" points=\"1250.12,1486.45 1250.12,1467.55 \"/>\n<polyline clip-path=\"url(#clip170)\" style=\"stroke:#000000; stroke-linecap:round; stroke-linejoin:round; stroke-width:4; stroke-opacity:1; fill:none\" points=\"1764.45,1486.45 1764.45,1467.55 \"/>\n<polyline clip-path=\"url(#clip170)\" style=\"stroke:#000000; stroke-linecap:round; stroke-linejoin:round; stroke-width:4; stroke-opacity:1; fill:none\" points=\"2278.78,1486.45 2278.78,1467.55 \"/>\n<path clip-path=\"url(#clip170)\" d=\"M191.398 1532.02 L221.074 1532.02 L221.074 1535.95 L191.398 1535.95 L191.398 1532.02 Z\" fill=\"#000000\" fill-rule=\"nonzero\" fill-opacity=\"1\" /><path clip-path=\"url(#clip170)\" d=\"M235.194 1544.91 L251.514 1544.91 L251.514 1548.85 L229.569 1548.85 L229.569 1544.91 Q232.231 1542.16 236.815 1537.53 Q241.421 1532.88 242.602 1531.53 Q244.847 1529.01 245.727 1527.27 Q246.629 1525.51 246.629 1523.82 Q246.629 1521.07 244.685 1519.33 Q242.764 1517.6 239.662 1517.6 Q237.463 1517.6 235.009 1518.36 Q232.579 1519.13 229.801 1520.68 L229.801 1515.95 Q232.625 1514.82 235.079 1514.24 Q237.532 1513.66 239.569 1513.66 Q244.94 1513.66 248.134 1516.35 Q251.328 1519.03 251.328 1523.52 Q251.328 1525.65 250.518 1527.57 Q249.731 1529.47 247.625 1532.07 Q247.046 1532.74 243.944 1535.95 Q240.842 1539.15 235.194 1544.91 Z\" fill=\"#000000\" fill-rule=\"nonzero\" fill-opacity=\"1\" /><path clip-path=\"url(#clip170)\" d=\"M735.786 1517.37 Q732.175 1517.37 730.347 1520.93 Q728.541 1524.47 728.541 1531.6 Q728.541 1538.71 730.347 1542.27 Q732.175 1545.82 735.786 1545.82 Q739.421 1545.82 741.226 1542.27 Q743.055 1538.71 743.055 1531.6 Q743.055 1524.47 741.226 1520.93 Q739.421 1517.37 735.786 1517.37 M735.786 1513.66 Q741.597 1513.66 744.652 1518.27 Q747.731 1522.85 747.731 1531.6 Q747.731 1540.33 744.652 1544.94 Q741.597 1549.52 735.786 1549.52 Q729.976 1549.52 726.898 1544.94 Q723.842 1540.33 723.842 1531.6 Q723.842 1522.85 726.898 1518.27 Q729.976 1513.66 735.786 1513.66 Z\" fill=\"#000000\" fill-rule=\"nonzero\" fill-opacity=\"1\" /><path clip-path=\"url(#clip170)\" d=\"M1244.77 1544.91 L1261.09 1544.91 L1261.09 1548.85 L1239.14 1548.85 L1239.14 1544.91 Q1241.81 1542.16 1246.39 1537.53 Q1251 1532.88 1252.18 1531.53 Q1254.42 1529.01 1255.3 1527.27 Q1256.2 1525.51 1256.2 1523.82 Q1256.2 1521.07 1254.26 1519.33 Q1252.34 1517.6 1249.24 1517.6 Q1247.04 1517.6 1244.58 1518.36 Q1242.15 1519.13 1239.38 1520.68 L1239.38 1515.95 Q1242.2 1514.82 1244.65 1514.24 Q1247.11 1513.66 1249.14 1513.66 Q1254.52 1513.66 1257.71 1516.35 Q1260.9 1519.03 1260.9 1523.52 Q1260.9 1525.65 1260.09 1527.57 Q1259.31 1529.47 1257.2 1532.07 Q1256.62 1532.74 1253.52 1535.95 Q1250.42 1539.15 1244.77 1544.91 Z\" fill=\"#000000\" fill-rule=\"nonzero\" fill-opacity=\"1\" /><path clip-path=\"url(#clip170)\" d=\"M1767.46 1518.36 L1755.65 1536.81 L1767.46 1536.81 L1767.46 1518.36 M1766.23 1514.29 L1772.11 1514.29 L1772.11 1536.81 L1777.04 1536.81 L1777.04 1540.7 L1772.11 1540.7 L1772.11 1548.85 L1767.46 1548.85 L1767.46 1540.7 L1751.85 1540.7 L1751.85 1536.19 L1766.23 1514.29 Z\" fill=\"#000000\" fill-rule=\"nonzero\" fill-opacity=\"1\" /><path clip-path=\"url(#clip170)\" d=\"M2279.18 1529.7 Q2276.03 1529.7 2274.18 1531.86 Q2272.35 1534.01 2272.35 1537.76 Q2272.35 1541.49 2274.18 1543.66 Q2276.03 1545.82 2279.18 1545.82 Q2282.33 1545.82 2284.16 1543.66 Q2286.01 1541.49 2286.01 1537.76 Q2286.01 1534.01 2284.16 1531.86 Q2282.33 1529.7 2279.18 1529.7 M2288.47 1515.05 L2288.47 1519.31 Q2286.71 1518.48 2284.9 1518.04 Q2283.12 1517.6 2281.36 1517.6 Q2276.73 1517.6 2274.28 1520.72 Q2271.85 1523.85 2271.5 1530.17 Q2272.86 1528.15 2274.92 1527.09 Q2276.98 1526 2279.46 1526 Q2284.67 1526 2287.68 1529.17 Q2290.71 1532.32 2290.71 1537.76 Q2290.71 1543.08 2287.56 1546.3 Q2284.41 1549.52 2279.18 1549.52 Q2273.19 1549.52 2270.02 1544.94 Q2266.85 1540.33 2266.85 1531.6 Q2266.85 1523.41 2270.73 1518.55 Q2274.62 1513.66 2281.17 1513.66 Q2282.93 1513.66 2284.72 1514.01 Q2286.52 1514.36 2288.47 1515.05 Z\" fill=\"#000000\" fill-rule=\"nonzero\" fill-opacity=\"1\" /><polyline clip-path=\"url(#clip170)\" style=\"stroke:#000000; stroke-linecap:round; stroke-linejoin:round; stroke-width:4; stroke-opacity:1; fill:none\" points=\"147.478,1486.45 147.478,123.472 \"/>\n<polyline clip-path=\"url(#clip170)\" style=\"stroke:#000000; stroke-linecap:round; stroke-linejoin:round; stroke-width:4; stroke-opacity:1; fill:none\" points=\"147.478,1447.87 166.376,1447.87 \"/>\n<polyline clip-path=\"url(#clip170)\" style=\"stroke:#000000; stroke-linecap:round; stroke-linejoin:round; stroke-width:4; stroke-opacity:1; fill:none\" points=\"147.478,1190.71 166.376,1190.71 \"/>\n<polyline clip-path=\"url(#clip170)\" style=\"stroke:#000000; stroke-linecap:round; stroke-linejoin:round; stroke-width:4; stroke-opacity:1; fill:none\" points=\"147.478,933.543 166.376,933.543 \"/>\n<polyline clip-path=\"url(#clip170)\" style=\"stroke:#000000; stroke-linecap:round; stroke-linejoin:round; stroke-width:4; stroke-opacity:1; fill:none\" points=\"147.478,676.377 166.376,676.377 \"/>\n<polyline clip-path=\"url(#clip170)\" style=\"stroke:#000000; stroke-linecap:round; stroke-linejoin:round; stroke-width:4; stroke-opacity:1; fill:none\" points=\"147.478,419.212 166.376,419.212 \"/>\n<polyline clip-path=\"url(#clip170)\" style=\"stroke:#000000; stroke-linecap:round; stroke-linejoin:round; stroke-width:4; stroke-opacity:1; fill:none\" points=\"147.478,162.047 166.376,162.047 \"/>\n<path clip-path=\"url(#clip170)\" d=\"M50.9921 1448.32 L80.6679 1448.32 L80.6679 1452.26 L50.9921 1452.26 L50.9921 1448.32 Z\" fill=\"#000000\" fill-rule=\"nonzero\" fill-opacity=\"1\" /><path clip-path=\"url(#clip170)\" d=\"M91.5706 1461.22 L99.2095 1461.22 L99.2095 1434.85 L90.8993 1436.52 L90.8993 1432.26 L99.1632 1430.59 L103.839 1430.59 L103.839 1461.22 L111.478 1461.22 L111.478 1465.15 L91.5706 1465.15 L91.5706 1461.22 Z\" fill=\"#000000\" fill-rule=\"nonzero\" fill-opacity=\"1\" /><path clip-path=\"url(#clip170)\" d=\"M99.5335 1176.51 Q95.9224 1176.51 94.0937 1180.07 Q92.2882 1183.61 92.2882 1190.74 Q92.2882 1197.85 94.0937 1201.41 Q95.9224 1204.96 99.5335 1204.96 Q103.168 1204.96 104.973 1201.41 Q106.802 1197.85 106.802 1190.74 Q106.802 1183.61 104.973 1180.07 Q103.168 1176.51 99.5335 1176.51 M99.5335 1172.8 Q105.344 1172.8 108.399 1177.41 Q111.478 1181.99 111.478 1190.74 Q111.478 1199.47 108.399 1204.08 Q105.344 1208.66 99.5335 1208.66 Q93.7234 1208.66 90.6447 1204.08 Q87.5892 1199.47 87.5892 1190.74 Q87.5892 1181.99 90.6447 1177.41 Q93.7234 1172.8 99.5335 1172.8 Z\" fill=\"#000000\" fill-rule=\"nonzero\" fill-opacity=\"1\" /><path clip-path=\"url(#clip170)\" d=\"M91.5706 946.887 L99.2095 946.887 L99.2095 920.522 L90.8993 922.189 L90.8993 917.929 L99.1632 916.263 L103.839 916.263 L103.839 946.887 L111.478 946.887 L111.478 950.823 L91.5706 950.823 L91.5706 946.887 Z\" fill=\"#000000\" fill-rule=\"nonzero\" fill-opacity=\"1\" /><path clip-path=\"url(#clip170)\" d=\"M95.1586 689.722 L111.478 689.722 L111.478 693.657 L89.5336 693.657 L89.5336 689.722 Q92.1956 686.968 96.7789 682.338 Q101.385 677.685 102.566 676.343 Q104.811 673.82 105.691 672.083 Q106.594 670.324 106.594 668.634 Q106.594 665.88 104.649 664.144 Q102.728 662.408 99.6261 662.408 Q97.4271 662.408 94.9734 663.171 Q92.5428 663.935 89.7651 665.486 L89.7651 660.764 Q92.5891 659.63 95.0428 659.051 Q97.4965 658.472 99.5335 658.472 Q104.904 658.472 108.098 661.158 Q111.293 663.843 111.293 668.333 Q111.293 670.463 110.483 672.384 Q109.696 674.282 107.589 676.875 Q107.01 677.546 103.909 680.764 Q100.807 683.958 95.1586 689.722 Z\" fill=\"#000000\" fill-rule=\"nonzero\" fill-opacity=\"1\" /><path clip-path=\"url(#clip170)\" d=\"M104.348 417.858 Q107.705 418.576 109.58 420.844 Q111.478 423.113 111.478 426.446 Q111.478 431.562 107.959 434.363 Q104.441 437.163 97.9595 437.163 Q95.7836 437.163 93.4688 436.724 Q91.1771 436.307 88.7234 435.45 L88.7234 430.937 Q90.6678 432.071 92.9826 432.65 Q95.2974 433.228 97.8206 433.228 Q102.219 433.228 104.51 431.492 Q106.825 429.756 106.825 426.446 Q106.825 423.39 104.672 421.677 Q102.543 419.941 98.7234 419.941 L94.6956 419.941 L94.6956 416.099 L98.9085 416.099 Q102.358 416.099 104.186 414.733 Q106.015 413.344 106.015 410.752 Q106.015 408.09 104.117 406.677 Q102.242 405.242 98.7234 405.242 Q96.8021 405.242 94.603 405.659 Q92.4039 406.076 89.7651 406.955 L89.7651 402.789 Q92.4271 402.048 94.7419 401.678 Q97.0798 401.307 99.14 401.307 Q104.464 401.307 107.566 403.738 Q110.668 406.145 110.668 410.265 Q110.668 413.136 109.024 415.127 Q107.381 417.094 104.348 417.858 Z\" fill=\"#000000\" fill-rule=\"nonzero\" fill-opacity=\"1\" /><path clip-path=\"url(#clip170)\" d=\"M101.895 148.841 L90.0891 167.29 L101.895 167.29 L101.895 148.841 M100.668 144.767 L106.547 144.767 L106.547 167.29 L111.478 167.29 L111.478 171.179 L106.547 171.179 L106.547 179.327 L101.895 179.327 L101.895 171.179 L86.2929 171.179 L86.2929 166.665 L100.668 144.767 Z\" fill=\"#000000\" fill-rule=\"nonzero\" fill-opacity=\"1\" /><path clip-path=\"url(#clip170)\" d=\"M376.377 44.2197 Q379.01 45.1109 381.482 48.0275 Q383.993 50.9442 386.505 56.0483 L394.809 72.576 L386.019 72.576 L378.281 57.061 Q375.284 50.9847 372.448 48.9997 Q369.653 47.0148 364.792 47.0148 L355.88 47.0148 L355.88 72.576 L347.697 72.576 L347.697 12.096 L366.169 12.096 Q376.539 12.096 381.644 16.4305 Q386.748 20.7649 386.748 29.5149 Q386.748 35.2267 384.074 38.994 Q381.441 42.7613 376.377 44.2197 M355.88 18.8205 L355.88 40.2903 L366.169 40.2903 Q372.083 40.2903 375.081 37.5762 Q378.119 34.8216 378.119 29.5149 Q378.119 24.2082 375.081 21.5346 Q372.083 18.8205 366.169 18.8205 L355.88 18.8205 Z\" fill=\"#000000\" fill-rule=\"nonzero\" fill-opacity=\"1\" /><path clip-path=\"url(#clip170)\" d=\"M440.098 48.0275 L440.098 51.6733 L405.827 51.6733 Q406.314 59.3701 410.445 63.421 Q414.618 67.4314 422.031 67.4314 Q426.325 67.4314 430.335 66.3781 Q434.386 65.3249 438.356 63.2184 L438.356 70.267 Q434.346 71.9684 430.133 72.8596 Q425.92 73.7508 421.585 73.7508 Q410.729 73.7508 404.369 67.4314 Q398.05 61.1119 398.05 50.3365 Q398.05 39.1965 404.045 32.6746 Q410.081 26.1121 420.289 26.1121 Q429.444 26.1121 434.751 32.0264 Q440.098 37.9003 440.098 48.0275 M432.644 45.84 Q432.563 39.7232 429.201 36.0774 Q425.879 32.4315 420.37 32.4315 Q414.132 32.4315 410.364 35.9558 Q406.638 39.4801 406.071 45.8805 L432.644 45.84 Z\" fill=\"#000000\" fill-rule=\"nonzero\" fill-opacity=\"1\" /><path clip-path=\"url(#clip170)\" d=\"M475.3 9.54393 L475.3 15.7418 L468.171 15.7418 Q464.16 15.7418 462.581 17.3622 Q461.041 18.9825 461.041 23.1955 L461.041 27.2059 L473.316 27.2059 L473.316 32.9987 L461.041 32.9987 L461.041 72.576 L453.547 72.576 L453.547 32.9987 L446.418 32.9987 L446.418 27.2059 L453.547 27.2059 L453.547 24.0462 Q453.547 16.471 457.071 13.0277 Q460.596 9.54393 468.252 9.54393 L475.3 9.54393 Z\" fill=\"#000000\" fill-rule=\"nonzero\" fill-opacity=\"1\" /><path clip-path=\"url(#clip170)\" d=\"M481.539 9.54393 L488.993 9.54393 L488.993 72.576 L481.539 72.576 L481.539 9.54393 Z\" fill=\"#000000\" fill-rule=\"nonzero\" fill-opacity=\"1\" /><path clip-path=\"url(#clip170)\" d=\"M543.396 48.0275 L543.396 51.6733 L509.126 51.6733 Q509.612 59.3701 513.744 63.421 Q517.916 67.4314 525.329 67.4314 Q529.623 67.4314 533.633 66.3781 Q537.684 65.3249 541.654 63.2184 L541.654 70.267 Q537.644 71.9684 533.431 72.8596 Q529.218 73.7508 524.884 73.7508 Q514.027 73.7508 507.667 67.4314 Q501.348 61.1119 501.348 50.3365 Q501.348 39.1965 507.343 32.6746 Q513.379 26.1121 523.587 26.1121 Q532.742 26.1121 538.049 32.0264 Q543.396 37.9003 543.396 48.0275 M535.942 45.84 Q535.861 39.7232 532.499 36.0774 Q529.177 32.4315 523.668 32.4315 Q517.43 32.4315 513.663 35.9558 Q509.936 39.4801 509.369 45.8805 L535.942 45.84 Z\" fill=\"#000000\" fill-rule=\"nonzero\" fill-opacity=\"1\" /><path clip-path=\"url(#clip170)\" d=\"M591.885 27.2059 L575.479 49.2833 L592.736 72.576 L583.946 72.576 L570.74 54.752 L557.534 72.576 L548.743 72.576 L566.365 48.8377 L550.242 27.2059 L559.033 27.2059 L571.064 43.369 L583.095 27.2059 L591.885 27.2059 Z\" fill=\"#000000\" fill-rule=\"nonzero\" fill-opacity=\"1\" /><path clip-path=\"url(#clip170)\" d=\"M603.269 27.2059 L610.722 27.2059 L610.722 72.576 L603.269 72.576 L603.269 27.2059 M603.269 9.54393 L610.722 9.54393 L610.722 18.9825 L603.269 18.9825 L603.269 9.54393 Z\" fill=\"#000000\" fill-rule=\"nonzero\" fill-opacity=\"1\" /><path clip-path=\"url(#clip170)\" d=\"M643.899 32.4315 Q637.904 32.4315 634.42 37.1306 Q630.936 41.7891 630.936 49.9314 Q630.936 58.0738 634.379 62.7728 Q637.863 67.4314 643.899 67.4314 Q649.854 67.4314 653.338 62.7323 Q656.821 58.0333 656.821 49.9314 Q656.821 41.8701 653.338 37.1711 Q649.854 32.4315 643.899 32.4315 M643.899 26.1121 Q653.621 26.1121 659.171 32.4315 Q664.721 38.7509 664.721 49.9314 Q664.721 61.0714 659.171 67.4314 Q653.621 73.7508 643.899 73.7508 Q634.136 73.7508 628.587 67.4314 Q623.077 61.0714 623.077 49.9314 Q623.077 38.7509 628.587 32.4315 Q634.136 26.1121 643.899 26.1121 M649.53 6.22219 L657.591 6.22219 L644.385 21.4536 L638.187 21.4536 L649.53 6.22219 Z\" fill=\"#000000\" fill-rule=\"nonzero\" fill-opacity=\"1\" /><path clip-path=\"url(#clip170)\" d=\"M714.79 45.1919 L714.79 72.576 L707.336 72.576 L707.336 45.4349 Q707.336 38.994 704.825 35.7938 Q702.313 32.5936 697.29 32.5936 Q691.254 32.5936 687.77 36.4419 Q684.287 40.2903 684.287 46.9338 L684.287 72.576 L676.792 72.576 L676.792 27.2059 L684.287 27.2059 L684.287 34.2544 Q686.96 30.163 690.566 28.1376 Q694.211 26.1121 698.951 26.1121 Q706.769 26.1121 710.78 30.9732 Q714.79 35.7938 714.79 45.1919 Z\" fill=\"#000000\" fill-rule=\"nonzero\" fill-opacity=\"1\" /><path clip-path=\"url(#clip170)\" d=\"M785.883 34.0924 L785.883 9.54393 L793.337 9.54393 L793.337 72.576 L785.883 72.576 L785.883 65.7705 Q783.534 69.8214 779.928 71.8063 Q776.364 73.7508 771.341 73.7508 Q763.117 73.7508 757.932 67.1883 Q752.787 60.6258 752.787 49.9314 Q752.787 39.2371 757.932 32.6746 Q763.117 26.1121 771.341 26.1121 Q776.364 26.1121 779.928 28.0971 Q783.534 30.0415 785.883 34.0924 M760.484 49.9314 Q760.484 58.1548 763.846 62.8538 Q767.249 67.5124 773.163 67.5124 Q779.078 67.5124 782.481 62.8538 Q785.883 58.1548 785.883 49.9314 Q785.883 41.7081 782.481 37.0496 Q779.078 32.3505 773.163 32.3505 Q767.249 32.3505 763.846 37.0496 Q760.484 41.7081 760.484 49.9314 Z\" fill=\"#000000\" fill-rule=\"nonzero\" fill-opacity=\"1\" /><path clip-path=\"url(#clip170)\" d=\"M847.498 48.0275 L847.498 51.6733 L813.227 51.6733 Q813.713 59.3701 817.845 63.421 Q822.017 67.4314 829.431 67.4314 Q833.724 67.4314 837.735 66.3781 Q841.786 65.3249 845.756 63.2184 L845.756 70.267 Q841.745 71.9684 837.532 72.8596 Q833.319 73.7508 828.985 73.7508 Q818.128 73.7508 811.769 67.4314 Q805.449 61.1119 805.449 50.3365 Q805.449 39.1965 811.444 32.6746 Q817.48 26.1121 827.689 26.1121 Q836.844 26.1121 842.15 32.0264 Q847.498 37.9003 847.498 48.0275 M840.044 45.84 Q839.963 39.7232 836.601 36.0774 Q833.279 32.4315 827.77 32.4315 Q821.531 32.4315 817.764 35.9558 Q814.037 39.4801 813.47 45.8805 L840.044 45.84 Z\" fill=\"#000000\" fill-rule=\"nonzero\" fill-opacity=\"1\" /><path clip-path=\"url(#clip170)\" d=\"M885.333 54.671 L885.333 27.2059 L892.787 27.2059 L892.787 54.3874 Q892.787 60.8284 895.298 64.0691 Q897.81 67.2693 902.833 67.2693 Q908.869 67.2693 912.353 63.421 Q915.877 59.5726 915.877 52.9291 L915.877 27.2059 L923.33 27.2059 L923.33 72.576 L915.877 72.576 L915.877 65.6084 Q913.163 69.7404 909.557 71.7658 Q905.993 73.7508 901.253 73.7508 Q893.435 73.7508 889.384 68.8897 Q885.333 64.0286 885.333 54.671 M904.089 26.1121 L904.089 26.1121 Z\" fill=\"#000000\" fill-rule=\"nonzero\" fill-opacity=\"1\" /><path clip-path=\"url(#clip170)\" d=\"M976.397 45.1919 L976.397 72.576 L968.944 72.576 L968.944 45.4349 Q968.944 38.994 966.432 35.7938 Q963.921 32.5936 958.897 32.5936 Q952.862 32.5936 949.378 36.4419 Q945.894 40.2903 945.894 46.9338 L945.894 72.576 L938.4 72.576 L938.4 27.2059 L945.894 27.2059 L945.894 34.2544 Q948.568 30.163 952.173 28.1376 Q955.819 26.1121 960.558 26.1121 Q968.377 26.1121 972.387 30.9732 Q976.397 35.7938 976.397 45.1919 Z\" fill=\"#000000\" fill-rule=\"nonzero\" fill-opacity=\"1\" /><path clip-path=\"url(#clip170)\" d=\"M1012.29 27.2059 L1020.19 27.2059 L1034.37 65.2844 L1048.54 27.2059 L1056.44 27.2059 L1039.43 72.576 L1029.3 72.576 L1012.29 27.2059 Z\" fill=\"#000000\" fill-rule=\"nonzero\" fill-opacity=\"1\" /><path clip-path=\"url(#clip170)\" d=\"M1105.54 48.0275 L1105.54 51.6733 L1071.27 51.6733 Q1071.76 59.3701 1075.89 63.421 Q1080.06 67.4314 1087.47 67.4314 Q1091.77 67.4314 1095.78 66.3781 Q1099.83 65.3249 1103.8 63.2184 L1103.8 70.267 Q1099.79 71.9684 1095.57 72.8596 Q1091.36 73.7508 1087.03 73.7508 Q1076.17 73.7508 1069.81 67.4314 Q1063.49 61.1119 1063.49 50.3365 Q1063.49 39.1965 1069.49 32.6746 Q1075.52 26.1121 1085.73 26.1121 Q1094.89 26.1121 1100.19 32.0264 Q1105.54 37.9003 1105.54 48.0275 M1098.09 45.84 Q1098.01 39.7232 1094.64 36.0774 Q1091.32 32.4315 1085.81 32.4315 Q1079.57 32.4315 1075.81 35.9558 Q1072.08 39.4801 1071.51 45.8805 L1098.09 45.84 Z\" fill=\"#000000\" fill-rule=\"nonzero\" fill-opacity=\"1\" /><path clip-path=\"url(#clip170)\" d=\"M1150.42 28.9478 L1150.42 35.9153 Q1147.26 34.1734 1144.06 33.3227 Q1140.9 32.4315 1137.66 32.4315 Q1130.41 32.4315 1126.4 37.0496 Q1122.39 41.6271 1122.39 49.9314 Q1122.39 58.2358 1126.4 62.8538 Q1130.41 67.4314 1137.66 67.4314 Q1140.9 67.4314 1144.06 66.5807 Q1147.26 65.6895 1150.42 63.9476 L1150.42 70.8341 Q1147.3 72.2924 1143.94 73.0216 Q1140.62 73.7508 1136.85 73.7508 Q1126.6 73.7508 1120.57 67.3098 Q1114.53 60.8689 1114.53 49.9314 Q1114.53 38.832 1120.61 32.472 Q1126.73 26.1121 1137.34 26.1121 Q1140.78 26.1121 1144.06 26.8413 Q1147.35 27.5299 1150.42 28.9478 Z\" fill=\"#000000\" fill-rule=\"nonzero\" fill-opacity=\"1\" /><path clip-path=\"url(#clip170)\" d=\"M1170.76 14.324 L1170.76 27.2059 L1186.11 27.2059 L1186.11 32.9987 L1170.76 32.9987 L1170.76 57.6282 Q1170.76 63.1779 1172.26 64.7578 Q1173.8 66.3376 1178.46 66.3376 L1186.11 66.3376 L1186.11 72.576 L1178.46 72.576 Q1169.83 72.576 1166.55 69.3758 Q1163.27 66.1351 1163.27 57.6282 L1163.27 32.9987 L1157.8 32.9987 L1157.8 27.2059 L1163.27 27.2059 L1163.27 14.324 L1170.76 14.324 Z\" fill=\"#000000\" fill-rule=\"nonzero\" fill-opacity=\"1\" /><path clip-path=\"url(#clip170)\" d=\"M1213.5 32.4315 Q1207.5 32.4315 1204.02 37.1306 Q1200.53 41.7891 1200.53 49.9314 Q1200.53 58.0738 1203.98 62.7728 Q1207.46 67.4314 1213.5 67.4314 Q1219.45 67.4314 1222.94 62.7323 Q1226.42 58.0333 1226.42 49.9314 Q1226.42 41.8701 1222.94 37.1711 Q1219.45 32.4315 1213.5 32.4315 M1213.5 26.1121 Q1223.22 26.1121 1228.77 32.4315 Q1234.32 38.7509 1234.32 49.9314 Q1234.32 61.0714 1228.77 67.4314 Q1223.22 73.7508 1213.5 73.7508 Q1203.73 73.7508 1198.18 67.4314 Q1192.68 61.0714 1192.68 49.9314 Q1192.68 38.7509 1198.18 32.4315 Q1203.73 26.1121 1213.5 26.1121 Z\" fill=\"#000000\" fill-rule=\"nonzero\" fill-opacity=\"1\" /><path clip-path=\"url(#clip170)\" d=\"M1272.96 34.1734 Q1271.71 33.4443 1270.21 33.1202 Q1268.75 32.7556 1266.97 32.7556 Q1260.65 32.7556 1257.25 36.8875 Q1253.88 40.9789 1253.88 48.6757 L1253.88 72.576 L1246.39 72.576 L1246.39 27.2059 L1253.88 27.2059 L1253.88 34.2544 Q1256.23 30.1225 1260 28.1376 Q1263.77 26.1121 1269.16 26.1121 Q1269.93 26.1121 1270.86 26.2337 Q1271.79 26.3147 1272.92 26.5172 L1272.96 34.1734 Z\" fill=\"#000000\" fill-rule=\"nonzero\" fill-opacity=\"1\" /><path clip-path=\"url(#clip170)\" d=\"M1306.38 54.671 L1306.38 27.2059 L1313.84 27.2059 L1313.84 54.3874 Q1313.84 60.8284 1316.35 64.0691 Q1318.86 67.2693 1323.88 67.2693 Q1329.92 67.2693 1333.4 63.421 Q1336.93 59.5726 1336.93 52.9291 L1336.93 27.2059 L1344.38 27.2059 L1344.38 72.576 L1336.93 72.576 L1336.93 65.6084 Q1334.21 69.7404 1330.61 71.7658 Q1327.04 73.7508 1322.3 73.7508 Q1314.49 73.7508 1310.43 68.8897 Q1306.38 64.0286 1306.38 54.671 M1325.14 26.1121 L1325.14 26.1121 Z\" fill=\"#000000\" fill-rule=\"nonzero\" fill-opacity=\"1\" /><path clip-path=\"url(#clip170)\" d=\"M1388.66 28.5427 L1388.66 35.5912 Q1385.5 33.9709 1382.1 33.1607 Q1378.69 32.3505 1375.05 32.3505 Q1369.5 32.3505 1366.7 34.0519 Q1363.95 35.7533 1363.95 39.156 Q1363.95 41.7486 1365.93 43.2475 Q1367.92 44.7058 1373.91 46.0426 L1376.46 46.6097 Q1384.4 48.3111 1387.73 51.4303 Q1391.09 54.509 1391.09 60.0587 Q1391.09 66.3781 1386.07 70.0644 Q1381.08 73.7508 1372.33 73.7508 Q1368.69 73.7508 1364.72 73.0216 Q1360.79 72.3329 1356.41 70.9151 L1356.41 63.2184 Q1360.54 65.3654 1364.55 66.4591 Q1368.57 67.5124 1372.49 67.5124 Q1377.76 67.5124 1380.6 65.73 Q1383.43 63.9071 1383.43 60.6258 Q1383.43 57.5877 1381.37 55.9673 Q1379.34 54.3469 1372.41 52.8481 L1369.82 52.2405 Q1362.89 50.7821 1359.82 47.7845 Q1356.74 44.7463 1356.74 39.4801 Q1356.74 33.0797 1361.27 29.5959 Q1365.81 26.1121 1374.16 26.1121 Q1378.29 26.1121 1381.93 26.7198 Q1385.58 27.3274 1388.66 28.5427 Z\" fill=\"#000000\" fill-rule=\"nonzero\" fill-opacity=\"1\" /><path clip-path=\"url(#clip170)\" d=\"M1423.58 49.7694 Q1414.54 49.7694 1411.06 51.8354 Q1407.58 53.9013 1407.58 58.8839 Q1407.58 62.8538 1410.17 65.2034 Q1412.8 67.5124 1417.3 67.5124 Q1423.5 67.5124 1427.22 63.1374 Q1430.99 58.7219 1430.99 51.4303 L1430.99 49.7694 L1423.58 49.7694 M1438.44 46.6907 L1438.44 72.576 L1430.99 72.576 L1430.99 65.6895 Q1428.44 69.8214 1424.63 71.8063 Q1420.82 73.7508 1415.31 73.7508 Q1408.35 73.7508 1404.21 69.8619 Q1400.12 65.9325 1400.12 59.3701 Q1400.12 51.7138 1405.23 47.825 Q1410.37 43.9361 1420.54 43.9361 L1430.99 43.9361 L1430.99 43.2069 Q1430.99 38.0623 1427.59 35.2672 Q1424.22 32.4315 1418.11 32.4315 Q1414.22 32.4315 1410.53 33.3632 Q1406.85 34.295 1403.44 36.1584 L1403.44 29.2718 Q1407.54 27.692 1411.38 26.9223 Q1415.23 26.1121 1418.88 26.1121 Q1428.72 26.1121 1433.58 31.2163 Q1438.44 36.3204 1438.44 46.6907 Z\" fill=\"#000000\" fill-rule=\"nonzero\" fill-opacity=\"1\" /><path clip-path=\"url(#clip170)\" d=\"M1491.51 45.1919 L1491.51 72.576 L1484.06 72.576 L1484.06 45.4349 Q1484.06 38.994 1481.55 35.7938 Q1479.03 32.5936 1474.01 32.5936 Q1467.97 32.5936 1464.49 36.4419 Q1461.01 40.2903 1461.01 46.9338 L1461.01 72.576 L1453.51 72.576 L1453.51 27.2059 L1461.01 27.2059 L1461.01 34.2544 Q1463.68 30.163 1467.29 28.1376 Q1470.93 26.1121 1475.67 26.1121 Q1483.49 26.1121 1487.5 30.9732 Q1491.51 35.7938 1491.51 45.1919 Z\" fill=\"#000000\" fill-rule=\"nonzero\" fill-opacity=\"1\" /><path clip-path=\"url(#clip170)\" d=\"M1536.23 34.0924 L1536.23 9.54393 L1543.69 9.54393 L1543.69 72.576 L1536.23 72.576 L1536.23 65.7705 Q1533.88 69.8214 1530.28 71.8063 Q1526.71 73.7508 1521.69 73.7508 Q1513.47 73.7508 1508.28 67.1883 Q1503.14 60.6258 1503.14 49.9314 Q1503.14 39.2371 1508.28 32.6746 Q1513.47 26.1121 1521.69 26.1121 Q1526.71 26.1121 1530.28 28.0971 Q1533.88 30.0415 1536.23 34.0924 M1510.83 49.9314 Q1510.83 58.1548 1514.2 62.8538 Q1517.6 67.5124 1523.51 67.5124 Q1529.43 67.5124 1532.83 62.8538 Q1536.23 58.1548 1536.23 49.9314 Q1536.23 41.7081 1532.83 37.0496 Q1529.43 32.3505 1523.51 32.3505 Q1517.6 32.3505 1514.2 37.0496 Q1510.83 41.7081 1510.83 49.9314 Z\" fill=\"#000000\" fill-rule=\"nonzero\" fill-opacity=\"1\" /><path clip-path=\"url(#clip170)\" d=\"M1576.62 32.4315 Q1570.62 32.4315 1567.14 37.1306 Q1563.66 41.7891 1563.66 49.9314 Q1563.66 58.0738 1567.1 62.7728 Q1570.58 67.4314 1576.62 67.4314 Q1582.57 67.4314 1586.06 62.7323 Q1589.54 58.0333 1589.54 49.9314 Q1589.54 41.8701 1586.06 37.1711 Q1582.57 32.4315 1576.62 32.4315 M1576.62 26.1121 Q1586.34 26.1121 1591.89 32.4315 Q1597.44 38.7509 1597.44 49.9314 Q1597.44 61.0714 1591.89 67.4314 Q1586.34 73.7508 1576.62 73.7508 Q1566.86 73.7508 1561.31 67.4314 Q1555.8 61.0714 1555.8 49.9314 Q1555.8 38.7509 1561.31 32.4315 Q1566.86 26.1121 1576.62 26.1121 Z\" fill=\"#000000\" fill-rule=\"nonzero\" fill-opacity=\"1\" /><path clip-path=\"url(#clip170)\" d=\"M1636.49 12.096 L1644.67 12.096 L1644.67 36.8875 L1674.41 36.8875 L1674.41 12.096 L1682.59 12.096 L1682.59 72.576 L1674.41 72.576 L1674.41 43.7741 L1644.67 43.7741 L1644.67 72.576 L1636.49 72.576 L1636.49 12.096 Z\" fill=\"#000000\" fill-rule=\"nonzero\" fill-opacity=\"1\" /><path clip-path=\"url(#clip170)\" d=\"M1716.13 32.4315 Q1710.14 32.4315 1706.65 37.1306 Q1703.17 41.7891 1703.17 49.9314 Q1703.17 58.0738 1706.61 62.7728 Q1710.1 67.4314 1716.13 67.4314 Q1722.09 67.4314 1725.57 62.7323 Q1729.06 58.0333 1729.06 49.9314 Q1729.06 41.8701 1725.57 37.1711 Q1722.09 32.4315 1716.13 32.4315 M1716.13 26.1121 Q1725.86 26.1121 1731.4 32.4315 Q1736.95 38.7509 1736.95 49.9314 Q1736.95 61.0714 1731.4 67.4314 Q1725.86 73.7508 1716.13 73.7508 Q1706.37 73.7508 1700.82 67.4314 Q1695.31 61.0714 1695.31 49.9314 Q1695.31 38.7509 1700.82 32.4315 Q1706.37 26.1121 1716.13 26.1121 Z\" fill=\"#000000\" fill-rule=\"nonzero\" fill-opacity=\"1\" /><path clip-path=\"url(#clip170)\" d=\"M1748.54 54.671 L1748.54 27.2059 L1755.99 27.2059 L1755.99 54.3874 Q1755.99 60.8284 1758.51 64.0691 Q1761.02 67.2693 1766.04 67.2693 Q1772.08 67.2693 1775.56 63.421 Q1779.08 59.5726 1779.08 52.9291 L1779.08 27.2059 L1786.54 27.2059 L1786.54 72.576 L1779.08 72.576 L1779.08 65.6084 Q1776.37 69.7404 1772.76 71.7658 Q1769.2 73.7508 1764.46 73.7508 Q1756.64 73.7508 1752.59 68.8897 Q1748.54 64.0286 1748.54 54.671 M1767.3 26.1121 L1767.3 26.1121 Z\" fill=\"#000000\" fill-rule=\"nonzero\" fill-opacity=\"1\" /><path clip-path=\"url(#clip170)\" d=\"M1830.81 28.5427 L1830.81 35.5912 Q1827.65 33.9709 1824.25 33.1607 Q1820.85 32.3505 1817.2 32.3505 Q1811.65 32.3505 1808.86 34.0519 Q1806.1 35.7533 1806.1 39.156 Q1806.1 41.7486 1808.09 43.2475 Q1810.07 44.7058 1816.07 46.0426 L1818.62 46.6097 Q1826.56 48.3111 1829.88 51.4303 Q1833.24 54.509 1833.24 60.0587 Q1833.24 66.3781 1828.22 70.0644 Q1823.24 73.7508 1814.49 73.7508 Q1810.84 73.7508 1806.87 73.0216 Q1802.94 72.3329 1798.57 70.9151 L1798.57 63.2184 Q1802.7 65.3654 1806.71 66.4591 Q1810.72 67.5124 1814.65 67.5124 Q1819.92 67.5124 1822.75 65.73 Q1825.59 63.9071 1825.59 60.6258 Q1825.59 57.5877 1823.52 55.9673 Q1821.5 54.3469 1814.57 52.8481 L1811.98 52.2405 Q1805.05 50.7821 1801.97 47.7845 Q1798.89 44.7463 1798.89 39.4801 Q1798.89 33.0797 1803.43 29.5959 Q1807.97 26.1121 1816.31 26.1121 Q1820.44 26.1121 1824.09 26.7198 Q1827.74 27.3274 1830.81 28.5427 Z\" fill=\"#000000\" fill-rule=\"nonzero\" fill-opacity=\"1\" /><path clip-path=\"url(#clip170)\" d=\"M1883.92 48.0275 L1883.92 51.6733 L1849.65 51.6733 Q1850.14 59.3701 1854.27 63.421 Q1858.44 67.4314 1865.85 67.4314 Q1870.15 67.4314 1874.16 66.3781 Q1878.21 65.3249 1882.18 63.2184 L1882.18 70.267 Q1878.17 71.9684 1873.96 72.8596 Q1869.74 73.7508 1865.41 73.7508 Q1854.55 73.7508 1848.19 67.4314 Q1841.87 61.1119 1841.87 50.3365 Q1841.87 39.1965 1847.87 32.6746 Q1853.9 26.1121 1864.11 26.1121 Q1873.27 26.1121 1878.57 32.0264 Q1883.92 37.9003 1883.92 48.0275 M1876.47 45.84 Q1876.39 39.7232 1873.02 36.0774 Q1869.7 32.4315 1864.19 32.4315 Q1857.96 32.4315 1854.19 35.9558 Q1850.46 39.4801 1849.89 45.8805 L1876.47 45.84 Z\" fill=\"#000000\" fill-rule=\"nonzero\" fill-opacity=\"1\" /><path clip-path=\"url(#clip170)\" d=\"M1933.87 45.1919 L1933.87 72.576 L1926.42 72.576 L1926.42 45.4349 Q1926.42 38.994 1923.9 35.7938 Q1921.39 32.5936 1916.37 32.5936 Q1910.33 32.5936 1906.85 36.4419 Q1903.37 40.2903 1903.37 46.9338 L1903.37 72.576 L1895.87 72.576 L1895.87 9.54393 L1903.37 9.54393 L1903.37 34.2544 Q1906.04 30.163 1909.64 28.1376 Q1913.29 26.1121 1918.03 26.1121 Q1925.85 26.1121 1929.86 30.9732 Q1933.87 35.7938 1933.87 45.1919 Z\" fill=\"#000000\" fill-rule=\"nonzero\" fill-opacity=\"1\" /><path clip-path=\"url(#clip170)\" d=\"M1966.32 32.4315 Q1960.32 32.4315 1956.84 37.1306 Q1953.35 41.7891 1953.35 49.9314 Q1953.35 58.0738 1956.8 62.7728 Q1960.28 67.4314 1966.32 67.4314 Q1972.27 67.4314 1975.76 62.7323 Q1979.24 58.0333 1979.24 49.9314 Q1979.24 41.8701 1975.76 37.1711 Q1972.27 32.4315 1966.32 32.4315 M1966.32 26.1121 Q1976.04 26.1121 1981.59 32.4315 Q1987.14 38.7509 1987.14 49.9314 Q1987.14 61.0714 1981.59 67.4314 Q1976.04 73.7508 1966.32 73.7508 Q1956.55 73.7508 1951 67.4314 Q1945.5 61.0714 1945.5 49.9314 Q1945.5 38.7509 1951 32.4315 Q1956.55 26.1121 1966.32 26.1121 Z\" fill=\"#000000\" fill-rule=\"nonzero\" fill-opacity=\"1\" /><path clip-path=\"url(#clip170)\" d=\"M1999.49 9.54393 L2006.95 9.54393 L2006.95 72.576 L1999.49 72.576 L1999.49 9.54393 Z\" fill=\"#000000\" fill-rule=\"nonzero\" fill-opacity=\"1\" /><path clip-path=\"url(#clip170)\" d=\"M2052.4 34.0924 L2052.4 9.54393 L2059.85 9.54393 L2059.85 72.576 L2052.4 72.576 L2052.4 65.7705 Q2050.05 69.8214 2046.44 71.8063 Q2042.88 73.7508 2037.86 73.7508 Q2029.63 73.7508 2024.45 67.1883 Q2019.3 60.6258 2019.3 49.9314 Q2019.3 39.2371 2024.45 32.6746 Q2029.63 26.1121 2037.86 26.1121 Q2042.88 26.1121 2046.44 28.0971 Q2050.05 30.0415 2052.4 34.0924 M2027 49.9314 Q2027 58.1548 2030.36 62.8538 Q2033.76 67.5124 2039.68 67.5124 Q2045.59 67.5124 2049 62.8538 Q2052.4 58.1548 2052.4 49.9314 Q2052.4 41.7081 2049 37.0496 Q2045.59 32.3505 2039.68 32.3505 Q2033.76 32.3505 2030.36 37.0496 Q2027 41.7081 2027 49.9314 Z\" fill=\"#000000\" fill-rule=\"nonzero\" fill-opacity=\"1\" /><path clip-path=\"url(#clip170)\" d=\"M2114.01 48.0275 L2114.01 51.6733 L2079.74 51.6733 Q2080.23 59.3701 2084.36 63.421 Q2088.53 67.4314 2095.95 67.4314 Q2100.24 67.4314 2104.25 66.3781 Q2108.3 65.3249 2112.27 63.2184 L2112.27 70.267 Q2108.26 71.9684 2104.05 72.8596 Q2099.83 73.7508 2095.5 73.7508 Q2084.64 73.7508 2078.28 67.4314 Q2071.96 61.1119 2071.96 50.3365 Q2071.96 39.1965 2077.96 32.6746 Q2084 26.1121 2094.2 26.1121 Q2103.36 26.1121 2108.67 32.0264 Q2114.01 37.9003 2114.01 48.0275 M2106.56 45.84 Q2106.48 39.7232 2103.12 36.0774 Q2099.79 32.4315 2094.28 32.4315 Q2088.05 32.4315 2084.28 35.9558 Q2080.55 39.4801 2079.99 45.8805 L2106.56 45.84 Z\" fill=\"#000000\" fill-rule=\"nonzero\" fill-opacity=\"1\" /><path clip-path=\"url(#clip170)\" d=\"M2152.54 34.1734 Q2151.28 33.4443 2149.78 33.1202 Q2148.32 32.7556 2146.54 32.7556 Q2140.22 32.7556 2136.82 36.8875 Q2133.46 40.9789 2133.46 48.6757 L2133.46 72.576 L2125.96 72.576 L2125.96 27.2059 L2133.46 27.2059 L2133.46 34.2544 Q2135.81 30.1225 2139.57 28.1376 Q2143.34 26.1121 2148.73 26.1121 Q2149.5 26.1121 2150.43 26.2337 Q2151.36 26.3147 2152.5 26.5172 L2152.54 34.1734 Z\" fill=\"#000000\" fill-rule=\"nonzero\" fill-opacity=\"1\" /><polyline clip-path=\"url(#clip172)\" style=\"stroke:#009af9; stroke-linecap:round; stroke-linejoin:round; stroke-width:8; stroke-opacity:1; fill:none\" points=\"735.786,1190.71 1250.12,162.047 \"/>\n<polyline clip-path=\"url(#clip172)\" style=\"stroke:#009af9; stroke-linecap:round; stroke-linejoin:round; stroke-width:8; stroke-opacity:1; fill:none\" points=\"1217.92,186.196 1250.12,162.047 1250.12,202.296 \"/>\n<polyline clip-path=\"url(#clip172)\" style=\"stroke:#009af9; stroke-linecap:round; stroke-linejoin:round; stroke-width:8; stroke-opacity:1; fill:none\" points=\"1250.12,162.047 735.786,1190.71 \"/>\n<polyline clip-path=\"url(#clip172)\" style=\"stroke:#e26f46; stroke-linecap:round; stroke-linejoin:round; stroke-width:8; stroke-opacity:1; fill:none\" points=\"735.786,1190.71 1764.45,676.377 \"/>\n<polyline clip-path=\"url(#clip172)\" style=\"stroke:#e26f46; stroke-linecap:round; stroke-linejoin:round; stroke-width:8; stroke-opacity:1; fill:none\" points=\"1724.2,676.377 1764.45,676.377 1740.3,708.577 \"/>\n<polyline clip-path=\"url(#clip172)\" style=\"stroke:#e26f46; stroke-linecap:round; stroke-linejoin:round; stroke-width:8; stroke-opacity:1; fill:none\" points=\"1764.45,676.377 735.786,1190.71 \"/>\n<polyline clip-path=\"url(#clip172)\" style=\"stroke:#3da44d; stroke-linecap:round; stroke-linejoin:round; stroke-width:8; stroke-opacity:1; fill:none\" stroke-dasharray=\"32, 20\" points=\"735.786,1190.71 992.952,1447.87 \"/>\n<polyline clip-path=\"url(#clip172)\" style=\"stroke:#3da44d; stroke-linecap:round; stroke-linejoin:round; stroke-width:8; stroke-opacity:1; fill:none\" points=\"980.224,1409.69 992.952,1447.87 954.768,1435.15 \"/>\n<polyline clip-path=\"url(#clip172)\" style=\"stroke:#3da44d; stroke-linecap:round; stroke-linejoin:round; stroke-width:8; stroke-opacity:1; fill:none\" stroke-dasharray=\"32, 20\" points=\"992.952,1447.87 735.786,1190.71 \"/>\n<path clip-path=\"url(#clip170)\" d=\"M220.987 376.265 L682.254 376.265 L682.254 168.905 L220.987 168.905  Z\" fill=\"#ffffff\" fill-rule=\"evenodd\" fill-opacity=\"1\"/>\n<polyline clip-path=\"url(#clip170)\" style=\"stroke:#000000; stroke-linecap:round; stroke-linejoin:round; stroke-width:4; stroke-opacity:1; fill:none\" points=\"220.987,376.265 682.254,376.265 682.254,168.905 220.987,168.905 220.987,376.265 \"/>\n<polyline clip-path=\"url(#clip170)\" style=\"stroke:#009af9; stroke-linecap:round; stroke-linejoin:round; stroke-width:8; stroke-opacity:1; fill:none\" points=\"245.49,220.745 392.509,220.745 \"/>\n<path clip-path=\"url(#clip170)\" d=\"M417.012 227.793 L417.012 212.099 L421.271 212.099 L421.271 227.631 Q421.271 231.312 422.706 233.164 Q424.141 234.992 427.012 234.992 Q430.461 234.992 432.452 232.793 Q434.466 230.594 434.466 226.798 L434.466 212.099 L438.725 212.099 L438.725 238.025 L434.466 238.025 L434.466 234.043 Q432.915 236.404 430.854 237.562 Q428.817 238.696 426.109 238.696 Q421.641 238.696 419.327 235.918 Q417.012 233.14 417.012 227.793 M427.729 211.474 L427.729 211.474 Z\" fill=\"#000000\" fill-rule=\"nonzero\" fill-opacity=\"1\" /><polyline clip-path=\"url(#clip170)\" style=\"stroke:#e26f46; stroke-linecap:round; stroke-linejoin:round; stroke-width:8; stroke-opacity:1; fill:none\" points=\"245.49,272.585 392.509,272.585 \"/>\n<path clip-path=\"url(#clip170)\" d=\"M417.012 255.305 L421.688 255.305 L421.688 269.471 L438.678 269.471 L438.678 255.305 L443.354 255.305 L443.354 289.865 L438.678 289.865 L438.678 273.406 L421.688 273.406 L421.688 289.865 L417.012 289.865 L417.012 255.305 Z\" fill=\"#000000\" fill-rule=\"nonzero\" fill-opacity=\"1\" /><path clip-path=\"url(#clip170)\" d=\"M470.299 260.999 L461.989 265.49 L470.299 270.004 L468.956 272.272 L461.178 267.573 L461.178 276.3 L458.539 276.3 L458.539 267.573 L450.762 272.272 L449.419 270.004 L457.729 265.49 L449.419 260.999 L450.762 258.707 L458.539 263.406 L458.539 254.68 L461.178 254.68 L461.178 263.406 L468.956 258.707 L470.299 260.999 Z\" fill=\"#000000\" fill-rule=\"nonzero\" fill-opacity=\"1\" /><path clip-path=\"url(#clip170)\" d=\"M475.738 279.633 L475.738 263.939 L479.998 263.939 L479.998 279.471 Q479.998 283.152 481.433 285.004 Q482.868 286.832 485.738 286.832 Q489.187 286.832 491.178 284.633 Q493.192 282.434 493.192 278.638 L493.192 263.939 L497.451 263.939 L497.451 289.865 L493.192 289.865 L493.192 285.883 Q491.641 288.244 489.581 289.402 Q487.544 290.536 484.836 290.536 Q480.368 290.536 478.053 287.758 Q475.738 284.98 475.738 279.633 M486.456 263.314 L486.456 263.314 Z\" fill=\"#000000\" fill-rule=\"nonzero\" fill-opacity=\"1\" /><polyline clip-path=\"url(#clip170)\" style=\"stroke:#3da44d; stroke-linecap:round; stroke-linejoin:round; stroke-width:8; stroke-opacity:1; fill:none\" stroke-dasharray=\"32, 20\" points=\"245.49,324.425 392.509,324.425 \"/>\n<path clip-path=\"url(#clip170)\" d=\"M417.012 315.779 L421.526 315.779 L429.628 337.538 L437.729 315.779 L442.243 315.779 L432.521 341.705 L426.734 341.705 L417.012 315.779 Z\" fill=\"#000000\" fill-rule=\"nonzero\" fill-opacity=\"1\" /><path clip-path=\"url(#clip170)\" d=\"M473.424 305.733 Q470.322 311.057 468.817 316.265 Q467.313 321.473 467.313 326.82 Q467.313 332.168 468.817 337.422 Q470.345 342.654 473.424 347.955 L469.72 347.955 Q466.248 342.515 464.512 337.26 Q462.799 332.006 462.799 326.82 Q462.799 321.658 464.512 316.427 Q466.225 311.196 469.72 305.733 L473.424 305.733 Z\" fill=\"#000000\" fill-rule=\"nonzero\" fill-opacity=\"1\" /><path clip-path=\"url(#clip170)\" d=\"M503.238 326.057 L503.238 341.705 L498.979 341.705 L498.979 326.195 Q498.979 322.515 497.544 320.686 Q496.109 318.858 493.238 318.858 Q489.789 318.858 487.799 321.057 Q485.808 323.256 485.808 327.052 L485.808 341.705 L481.525 341.705 L481.525 315.779 L485.808 315.779 L485.808 319.807 Q487.336 317.469 489.396 316.311 Q491.479 315.154 494.187 315.154 Q498.655 315.154 500.947 317.932 Q503.238 320.686 503.238 326.057 Z\" fill=\"#000000\" fill-rule=\"nonzero\" fill-opacity=\"1\" /><path clip-path=\"url(#clip170)\" d=\"M521.78 318.765 Q518.354 318.765 516.363 321.45 Q514.372 324.112 514.372 328.765 Q514.372 333.418 516.34 336.103 Q518.331 338.765 521.78 338.765 Q525.183 338.765 527.173 336.08 Q529.164 333.395 529.164 328.765 Q529.164 324.158 527.173 321.473 Q525.183 318.765 521.78 318.765 M521.78 315.154 Q527.335 315.154 530.507 318.765 Q533.678 322.376 533.678 328.765 Q533.678 335.131 530.507 338.765 Q527.335 342.376 521.78 342.376 Q516.201 342.376 513.03 338.765 Q509.882 335.131 509.882 328.765 Q509.882 322.376 513.03 318.765 Q516.201 315.154 521.78 315.154 Z\" fill=\"#000000\" fill-rule=\"nonzero\" fill-opacity=\"1\" /><path clip-path=\"url(#clip170)\" d=\"M555.761 319.76 Q555.044 319.344 554.187 319.158 Q553.354 318.95 552.335 318.95 Q548.724 318.95 546.78 321.311 Q544.858 323.649 544.858 328.047 L544.858 341.705 L540.576 341.705 L540.576 315.779 L544.858 315.779 L544.858 319.807 Q546.201 317.446 548.354 316.311 Q550.507 315.154 553.585 315.154 Q554.025 315.154 554.557 315.223 Q555.09 315.27 555.738 315.385 L555.761 319.76 Z\" fill=\"#000000\" fill-rule=\"nonzero\" fill-opacity=\"1\" /><path clip-path=\"url(#clip170)\" d=\"M579.58 320.756 Q581.178 317.885 583.4 316.52 Q585.622 315.154 588.631 315.154 Q592.682 315.154 594.881 318.001 Q597.08 320.825 597.08 326.057 L597.08 341.705 L592.798 341.705 L592.798 326.195 Q592.798 322.469 591.479 320.663 Q590.159 318.858 587.451 318.858 Q584.141 318.858 582.219 321.057 Q580.298 323.256 580.298 327.052 L580.298 341.705 L576.016 341.705 L576.016 326.195 Q576.016 322.445 574.696 320.663 Q573.377 318.858 570.622 318.858 Q567.358 318.858 565.437 321.08 Q563.516 323.279 563.516 327.052 L563.516 341.705 L559.233 341.705 L559.233 315.779 L563.516 315.779 L563.516 319.807 Q564.974 317.422 567.011 316.288 Q569.048 315.154 571.849 315.154 Q574.673 315.154 576.641 316.589 Q578.631 318.024 579.58 320.756 Z\" fill=\"#000000\" fill-rule=\"nonzero\" fill-opacity=\"1\" /><path clip-path=\"url(#clip170)\" d=\"M617.358 328.672 Q612.196 328.672 610.205 329.853 Q608.215 331.033 608.215 333.881 Q608.215 336.149 609.696 337.492 Q611.201 338.811 613.77 338.811 Q617.312 338.811 619.441 336.311 Q621.594 333.788 621.594 329.621 L621.594 328.672 L617.358 328.672 M625.853 326.913 L625.853 341.705 L621.594 341.705 L621.594 337.769 Q620.136 340.131 617.96 341.265 Q615.784 342.376 612.636 342.376 Q608.654 342.376 606.293 340.154 Q603.955 337.908 603.955 334.158 Q603.955 329.783 606.872 327.561 Q609.812 325.339 615.622 325.339 L621.594 325.339 L621.594 324.922 Q621.594 321.983 619.65 320.385 Q617.728 318.765 614.233 318.765 Q612.011 318.765 609.904 319.297 Q607.798 319.83 605.853 320.895 L605.853 316.959 Q608.191 316.057 610.39 315.617 Q612.59 315.154 614.673 315.154 Q620.298 315.154 623.076 318.071 Q625.853 320.987 625.853 326.913 Z\" fill=\"#000000\" fill-rule=\"nonzero\" fill-opacity=\"1\" /><path clip-path=\"url(#clip170)\" d=\"M634.626 305.686 L638.886 305.686 L638.886 341.705 L634.626 341.705 L634.626 305.686 Z\" fill=\"#000000\" fill-rule=\"nonzero\" fill-opacity=\"1\" /><path clip-path=\"url(#clip170)\" d=\"M647.126 305.733 L650.83 305.733 Q654.302 311.196 656.015 316.427 Q657.751 321.658 657.751 326.82 Q657.751 332.006 656.015 337.26 Q654.302 342.515 650.83 347.955 L647.126 347.955 Q650.205 342.654 651.71 337.422 Q653.237 332.168 653.237 326.82 Q653.237 321.473 651.71 316.265 Q650.205 311.057 647.126 305.733 Z\" fill=\"#000000\" fill-rule=\"nonzero\" fill-opacity=\"1\" /></svg>\n"
          },
          "metadata": {},
          "execution_count": 42
        }
      ]
    },
    {
      "cell_type": "markdown",
      "source": [
        "---"
      ],
      "metadata": {
        "id": "uTdyoCRsvpql"
      }
    }
  ]
}