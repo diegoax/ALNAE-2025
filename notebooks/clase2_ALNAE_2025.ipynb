{
  "cells": [
    {
      "cell_type": "markdown",
      "metadata": {
        "id": "view-in-github",
        "colab_type": "text"
      },
      "source": [
        "<a href=\"https://colab.research.google.com/github/diegoax/ALNAE-2025/blob/main/notebooks/clase2_ALNAE_2025.ipynb\" target=\"_parent\"><img src=\"https://colab.research.google.com/assets/colab-badge.svg\" alt=\"Open In Colab\"/></a>"
      ]
    },
    {
      "cell_type": "markdown",
      "id": "90e33c94",
      "metadata": {
        "id": "90e33c94"
      },
      "source": [
        "---\n",
        "# Álgebra Lineal Numérica con Julia\n",
        "\n",
        "(es importante que este jupyter notebook corra en Julia. Para eso deeplegar la pestaña \"Connect\" y elegir para cambiar el runtime a Julia)\n",
        "\n",
        "Este notebook explora los conceptos fundamentales de la multiplicación de matrices y espacios columna en álgebra lineal.\n",
        "Se utilizan ejemplos prácticos en Julia para reforzar los conceptos clave.\n",
        "\n",
        "Los ejercicios que comiencen con $(\\dagger)$ tienen cierta dificultad.\n",
        "\n",
        "---"
      ]
    },
    {
      "cell_type": "markdown",
      "id": "6dd1ea02",
      "metadata": {
        "id": "6dd1ea02"
      },
      "source": [
        "## Multiplicación de Matrices $Ax$ Usando Columnas de $A$\n",
        "La multiplicación de una matriz $A$ por un vector $x$ se puede hacer de dos maneras:\n",
        "1. Utilizando las filas de $A$ y calculando productos internos.\n",
        "2. Utilizando las columnas de $A$ y combinaciones lineales.\n",
        "\n",
        "La matriz $A$ y el vector $x$ son:$$\\mathbf{A} = \\begin{bmatrix} 1 & 4 \\\\ 2 & 5 \\\\ 3 & 6 \\end{bmatrix}, \\quad \\mathbf{x} = \\begin{bmatrix} x_1 \\\\ x_2 \\end{bmatrix}$$\n",
        "\n",
        "Luego el producto $Ax$ se puede escribir como  el producto escalar de las filas:\n",
        "$$\n",
        "Ax= \\begin{bmatrix} \\langle (1,4), (x_1,x_2)\\rangle \\\\ \\langle (2,5), (x_1,x_2)\\rangle \\\\\\langle (3 ,6),(x_1,x_2)\\rangle \\end{bmatrix}\n",
        "$$\n",
        "o más importante como <u>**combinación lineal**</u> de las columnas:\n",
        "$$Ax= x_1\\begin{bmatrix} 1 \\\\ 2\\\\3 \\end{bmatrix}+x_2\\begin{bmatrix} 4 \\\\ 5 \\\\6\\end{bmatrix}$$\n",
        "\n",
        "\n",
        "### Este último hecho es <u>**fundamental**</u> en álgebra lineal y en particular en este curso!!\n",
        "\n",
        "\n",
        "\n"
      ]
    },
    {
      "cell_type": "markdown",
      "source": [
        "Variando $x_1$ y $x_2$, nos genera el espacio columnas. Que no es otra cosa que el subesacio generado por las columnas de $A$."
      ],
      "metadata": {
        "id": "w6jDmJSlMsjX"
      },
      "id": "w6jDmJSlMsjX"
    },
    {
      "cell_type": "code",
      "execution_count": 2,
      "id": "183808b9",
      "metadata": {
        "id": "183808b9"
      },
      "outputs": [],
      "source": [
        "using LinearAlgebra"
      ]
    },
    {
      "cell_type": "code",
      "source": [
        "# Definimos la matriz A\n",
        "A = [1 4; 2 5; 3 6];\n",
        "display(A)"
      ],
      "metadata": {
        "colab": {
          "base_uri": "https://localhost:8080/",
          "height": 86
        },
        "id": "yi_kDtX7Sdaf",
        "outputId": "7233f9ea-a5a5-411f-b999-eeabdcdee6d2"
      },
      "id": "yi_kDtX7Sdaf",
      "execution_count": null,
      "outputs": [
        {
          "output_type": "display_data",
          "data": {
            "text/plain": [
              "3×2 Matrix{Int64}:\n",
              " 1  4\n",
              " 2  5\n",
              " 3  6"
            ]
          },
          "metadata": {}
        }
      ]
    },
    {
      "cell_type": "code",
      "source": [
        "# o una forma alternativa\n",
        "A=reshape([1, 2, 3, 4, 5, 6], 3, 2)"
      ],
      "metadata": {
        "colab": {
          "base_uri": "https://localhost:8080/"
        },
        "id": "KH59uhXkWAl3",
        "outputId": "3db5b959-00ef-41f1-a6ea-b5d7610e301c"
      },
      "id": "KH59uhXkWAl3",
      "execution_count": null,
      "outputs": [
        {
          "output_type": "execute_result",
          "data": {
            "text/plain": [
              "3×2 Matrix{Int64}:\n",
              " 1  4\n",
              " 2  5\n",
              " 3  6"
            ]
          },
          "metadata": {},
          "execution_count": 25
        }
      ]
    },
    {
      "cell_type": "code",
      "source": [
        "#Ejemplo\n",
        "x=randn(2,1) #tomamos un vector aleatorio con distribución gaussiana en el plano"
      ],
      "metadata": {
        "colab": {
          "base_uri": "https://localhost:8080/"
        },
        "id": "BZpvz5o2RDu4",
        "outputId": "be2735b9-56f4-4793-f061-6514553b5f49"
      },
      "id": "BZpvz5o2RDu4",
      "execution_count": null,
      "outputs": [
        {
          "output_type": "execute_result",
          "data": {
            "text/plain": [
              "2×1 Matrix{Float64}:\n",
              " -1.2158863829604643\n",
              "  1.0177680585805509"
            ]
          },
          "metadata": {},
          "execution_count": 26
        }
      ]
    },
    {
      "cell_type": "code",
      "source": [
        "#Realicemos el producto\n",
        "A*x"
      ],
      "metadata": {
        "colab": {
          "base_uri": "https://localhost:8080/"
        },
        "id": "VQ0qvG_zD4YC",
        "outputId": "7f7e6394-2eba-4773-8ea4-f5a82be2ee05"
      },
      "id": "VQ0qvG_zD4YC",
      "execution_count": null,
      "outputs": [
        {
          "output_type": "execute_result",
          "data": {
            "text/plain": [
              "3×1 Matrix{Float64}:\n",
              " 2.855185851361739\n",
              " 2.6570675269818254\n",
              " 2.4589492026019126"
            ]
          },
          "metadata": {},
          "execution_count": 27
        }
      ]
    },
    {
      "cell_type": "code",
      "source": [
        "# Tomemos un vector x=[1,2]\n",
        "x=[1,2]\n",
        "# Multiplicación usando filas\n",
        "Ax_rows = [dot(A[i, :], x) for i in 1:3]\n",
        "println(\"Resultado utilizando filas:\")\n",
        "display(Ax_rows)"
      ],
      "metadata": {
        "colab": {
          "base_uri": "https://localhost:8080/",
          "height": 104
        },
        "id": "_e-rxo0W_vAy",
        "outputId": "ff26e45b-faac-44b0-b5c5-77fe1fca9780"
      },
      "id": "_e-rxo0W_vAy",
      "execution_count": null,
      "outputs": [
        {
          "output_type": "stream",
          "name": "stdout",
          "text": [
            "Resultado utilizando filas:\n"
          ]
        },
        {
          "output_type": "display_data",
          "data": {
            "text/plain": [
              "3-element Vector{Int64}:\n",
              "  9\n",
              " 12\n",
              " 15"
            ]
          },
          "metadata": {}
        }
      ]
    },
    {
      "cell_type": "code",
      "source": [
        "dot(A[1,:],x)"
      ],
      "metadata": {
        "colab": {
          "base_uri": "https://localhost:8080/"
        },
        "id": "8qSdIStKLHI5",
        "outputId": "ac0d3c19-abe1-4ad8-9f7e-85252811f585"
      },
      "id": "8qSdIStKLHI5",
      "execution_count": null,
      "outputs": [
        {
          "output_type": "execute_result",
          "data": {
            "text/plain": [
              "9"
            ]
          },
          "metadata": {},
          "execution_count": 29
        }
      ]
    },
    {
      "cell_type": "code",
      "source": [
        "# Multiplicación usando columnas\n",
        "Ax_columns = A * x\n",
        "println(\"Resultado utilizando columnas:\")\n",
        "display(Ax_columns)"
      ],
      "metadata": {
        "colab": {
          "base_uri": "https://localhost:8080/",
          "height": 104
        },
        "id": "U6r4nXg2Slpm",
        "outputId": "17084225-a54a-4e27-97c8-fbe8a42bdfbc"
      },
      "id": "U6r4nXg2Slpm",
      "execution_count": null,
      "outputs": [
        {
          "output_type": "stream",
          "name": "stdout",
          "text": [
            "Resultado utilizando columnas:\n"
          ]
        },
        {
          "output_type": "display_data",
          "data": {
            "text/plain": [
              "3-element Vector{Int64}:\n",
              "  9\n",
              " 12\n",
              " 15"
            ]
          },
          "metadata": {}
        }
      ]
    },
    {
      "cell_type": "markdown",
      "source": [
        "---\n",
        "### Digresión: Raíces de polinomios\n",
        "\n",
        "La primera versión también es interesante, por ejemplo para la evaluación de polinomios:\n",
        "$$\n",
        "p(t)=c_0+c_1t+\\cdots c_dt^d=\n",
        "%\\left\\langle (c_0,c_1,\\ldots,c_d),(1,t,\\ldots,t^d) \\right\\rangle\n",
        "\\left\\langle \\begin{pmatrix}c_0\\\\c_1\\\\\\vdots\\\\c_d\\end{pmatrix},\n",
        "\\begin{pmatrix}1\\\\t\\\\\\vdots\\\\t^d\\end{pmatrix} \\right\\rangle,\n",
        "$$\n",
        "que podemos escribir de manera matricial como\n",
        "$$\n",
        "p(t)=c^T\\gamma(t),\n",
        "$$\n",
        "siendo $c$ el vector columna con los coeficientes, y $\\gamma(t)$ la curva en $\\mathbb{R}^{d+1}$\n",
        "$$\n",
        "\\gamma(t)=\\begin{pmatrix}1\\\\t\\\\\\vdots\\\\t^d\\end{pmatrix},\\quad t\\in \\mathbb{R}.\n",
        "$$\n",
        "\n",
        "(?) Si $t^*$ es una raíz de $p$, i.e. $p(t^*)=0$, qué propiedad geométrica cumple $\\gamma(t^*)$?"
      ],
      "metadata": {
        "id": "IiFZy5eYQ3JK"
      },
      "id": "IiFZy5eYQ3JK"
    },
    {
      "cell_type": "markdown",
      "source": [
        "\n",
        "\n",
        "---\n",
        "\n",
        "\n",
        "**Ideas/Ejercicio/Proyecto**: (?) Si $t^*$ es una raíz de $p$, i.e. $p(t^*)=0$, cómo podemos caracterizar la curva $\\gamma$ en $t^*$?\n",
        "\n",
        "*   Considerar el caso d=2. Hacer un bosquejo de la normalizción de la\n",
        "curva para que esté incluida en la esfera $S^2\\subset \\mathbb{R}^3$, i.e. describir $\\gamma(t)/\\|\\gamma(t)\\|$ con $\\|\\cdot\\|$.\n",
        "* De manera análoga proyectar a la esfera un polinomio genérico con coeficientes $(c_0,c_1,c_2)$.\n",
        "\n",
        "* Dar una descripción geométrica de que un polinomio de grado 2 tiene a lo sumo 2 raíces.\n",
        "* Suponga que tiramos un polinomio al azar con coeficientes gaussianos independientes. Cómo se calcularía la esperanza del número de raíces?\n",
        "---"
      ],
      "metadata": {
        "id": "k6JGGJx0MMuN"
      },
      "id": "k6JGGJx0MMuN"
    },
    {
      "cell_type": "markdown",
      "id": "558b581b",
      "metadata": {
        "id": "558b581b"
      },
      "source": [
        "## Espacio Columna de A\n",
        "Concentremonos en el espacio columna de A.\n",
        "Recordar que es el conjunto de todas las combinaciones lineales de sus columnas."
      ]
    },
    {
      "cell_type": "markdown",
      "id": "d0ac8dc3",
      "metadata": {
        "id": "d0ac8dc3"
      },
      "source": [
        "El espacio columna de $A$ está definido por todas las combinaciones lineales de sus columnas:$$\\mathbf{Ax} = x_1 \\mathbf{a}_1 + x_2 \\mathbf{a}_2$$\n",
        "Donde:$$\\mathbf{a}_1 = \\begin{bmatrix} 1 \\\\ 2 \\\\ 3 \\end{bmatrix}, \\quad \\mathbf{a}_2 = \\begin{bmatrix} 4 \\\\ 5 \\\\ 6 \\end{bmatrix}$$"
      ]
    },
    {
      "cell_type": "code",
      "execution_count": null,
      "id": "ec2278fe",
      "metadata": {
        "colab": {
          "base_uri": "https://localhost:8080/",
          "height": 173
        },
        "id": "ec2278fe",
        "outputId": "9e01b5ea-d431-45a9-8588-da505fc775d3"
      },
      "outputs": [
        {
          "output_type": "stream",
          "name": "stdout",
          "text": [
            "primer y segunda columnas\n"
          ]
        },
        {
          "output_type": "display_data",
          "data": {
            "text/plain": [
              "3-element Vector{Int64}:\n",
              " 1\n",
              " 2\n",
              " 3"
            ]
          },
          "metadata": {}
        },
        {
          "output_type": "execute_result",
          "data": {
            "text/plain": [
              "3-element Vector{Int64}:\n",
              " 4\n",
              " 5\n",
              " 6"
            ]
          },
          "metadata": {},
          "execution_count": 31
        }
      ],
      "source": [
        "a1 = A[:, 1]  # Primera columna de A\n",
        "a2 = A[:, 2]  # Segunda columna de A\n",
        "println(\"primer y segunda columnas\")\n",
        "display(a1);\n",
        "a2"
      ]
    },
    {
      "cell_type": "markdown",
      "source": [
        "- ¿Combinaciones lineales de esos dos vectores llenan el espacio $\\mathbb{R}^3$?\n",
        "- ¿Qué conjunto dan?\n",
        "\n",
        "Claro, eso dependerá de si son linealmente dependientes o independientes."
      ],
      "metadata": {
        "id": "S7PrXnKtTNrP"
      },
      "id": "S7PrXnKtTNrP"
    },
    {
      "cell_type": "code",
      "source": [
        "#recordemos A\n",
        "A"
      ],
      "metadata": {
        "colab": {
          "base_uri": "https://localhost:8080/"
        },
        "id": "KqrR-saZyozL",
        "outputId": "31b538a8-337b-4863-9e1c-238fa4ab96cd"
      },
      "id": "KqrR-saZyozL",
      "execution_count": null,
      "outputs": [
        {
          "output_type": "execute_result",
          "data": {
            "text/plain": [
              "3×2 Matrix{Int64}:\n",
              " 1  4\n",
              " 2  5\n",
              " 3  6"
            ]
          },
          "metadata": {},
          "execution_count": 36
        }
      ]
    },
    {
      "cell_type": "code",
      "source": [
        "# Para ver si son linealmente independientes, calculemos el rango\n",
        "rank([a1 a2])"
      ],
      "metadata": {
        "colab": {
          "base_uri": "https://localhost:8080/"
        },
        "id": "Dv4p5SZXQI8B",
        "outputId": "5824c5b5-07e0-4952-cad4-5d3b3b34d8a6"
      },
      "id": "Dv4p5SZXQI8B",
      "execution_count": null,
      "outputs": [
        {
          "output_type": "execute_result",
          "data": {
            "text/plain": [
              "2"
            ]
          },
          "metadata": {},
          "execution_count": 33
        }
      ]
    },
    {
      "cell_type": "markdown",
      "source": [
        "Observar que esto implica que alguno de los menores $2\\times 2$ de $A$ es diferente de cero.\n"
      ],
      "metadata": {
        "id": "fsp2Cb1vQlTp"
      },
      "id": "fsp2Cb1vQlTp"
    },
    {
      "cell_type": "code",
      "source": [
        "M1 = A[[1,2], :]  # Filas 1 y 2"
      ],
      "metadata": {
        "colab": {
          "base_uri": "https://localhost:8080/"
        },
        "id": "aFjUzOEYRJN3",
        "outputId": "23027b44-d18f-46ea-c158-bc7571a207e4"
      },
      "id": "aFjUzOEYRJN3",
      "execution_count": null,
      "outputs": [
        {
          "output_type": "execute_result",
          "data": {
            "text/plain": [
              "2×2 Matrix{Int64}:\n",
              " 1  4\n",
              " 2  5"
            ]
          },
          "metadata": {},
          "execution_count": 34
        }
      ]
    },
    {
      "cell_type": "code",
      "source": [
        "# Extraer menores 2x2 de la matriz\n",
        "M1 = A[[1,2], :]  # Filas 1 y 2\n",
        "M2 = A[[1,3], :]  # Filas 1 y 3\n",
        "M3 = A[[2,3], :]  # Filas 2 y 3\n",
        "\n",
        "# Calcular determinantes de las matrices 2x2\n",
        "det1 = det(M1)\n",
        "det2 = det(M2)\n",
        "det3 = det(M3)\n",
        "\n",
        "println(\"Determinantes menores 2x2:\")\n",
        "println(det1, \", \", det2, \", \", det3)"
      ],
      "metadata": {
        "colab": {
          "base_uri": "https://localhost:8080/"
        },
        "id": "41OsNd1ARQqh",
        "outputId": "9e43b9f3-381d-4d49-ea06-d800bc1d3610"
      },
      "id": "41OsNd1ARQqh",
      "execution_count": null,
      "outputs": [
        {
          "output_type": "stream",
          "name": "stdout",
          "text": [
            "Determinantes menores 2x2:\n",
            "-3.0, -6.0, -3.0\n"
          ]
        }
      ]
    },
    {
      "cell_type": "markdown",
      "source": [
        "Es esto algo general? o tipicamente alguno de los determinantes da cero?\n"
      ],
      "metadata": {
        "id": "NuUEHFCWR9PH"
      },
      "id": "NuUEHFCWR9PH"
    },
    {
      "cell_type": "code",
      "source": [
        "B = randn(3, 2)  # Matriz 3x2 aleatoria\n",
        "\n",
        "# Extraer menores 2x2 de la matriz\n",
        "M1 = B[[1,2], :]  # Filas 1 y 2\n",
        "M2 = B[[1,3], :]  # Filas 1 y 3\n",
        "M3 = B[[2,3], :]  # Filas 2 y 3\n",
        "\n",
        "# Calcular determinantes de las matrices 2x2\n",
        "det1 = det(M1)\n",
        "det2 = det(M2)\n",
        "det3 = det(M3)\n",
        "rB=rank(B)\n",
        "println(\"Rango de B y Determinantes menores 2x2:\")\n",
        "println( rB, \", \",det1, \", \", det2, \", \", det3)"
      ],
      "metadata": {
        "colab": {
          "base_uri": "https://localhost:8080/"
        },
        "id": "6bfLbQvJSMHa",
        "outputId": "0fd81973-4329-47af-cc71-26f6328564a4"
      },
      "id": "6bfLbQvJSMHa",
      "execution_count": null,
      "outputs": [
        {
          "output_type": "stream",
          "name": "stdout",
          "text": [
            "Rango de B y Determinantes menores 2x2:\n",
            "2, 1.0528709501471711, 2.0369330215355945, -0.9414122803668095\n"
          ]
        }
      ]
    },
    {
      "cell_type": "markdown",
      "source": [
        "Fabriquemos una función y pongamos a prueba en otros casos"
      ],
      "metadata": {
        "id": "MXvtdM5pSwfo"
      },
      "id": "MXvtdM5pSwfo"
    },
    {
      "cell_type": "code",
      "source": [
        "function menores_2x2(A::Matrix{<:Number})\n",
        "    if size(A) != (3,2)\n",
        "        error(\"La matriz debe ser de tamaño 3x2\")\n",
        "    end\n",
        "\n",
        "    # Seleccionar todas las combinaciones de 2 filas\n",
        "    indices = [(1,2), (1,3), (2,3)]\n",
        "\n",
        "    # Calcular determinantes de los menores 2x2\n",
        "    determinantes = [det(A[[i,j], :]) for (i,j) in indices]\n",
        "\n",
        "    return determinantes\n",
        "end"
      ],
      "metadata": {
        "colab": {
          "base_uri": "https://localhost:8080/"
        },
        "id": "S_3JIxEsTI7f",
        "outputId": "2085a382-0f10-4e6f-b054-b356667d0c66"
      },
      "id": "S_3JIxEsTI7f",
      "execution_count": null,
      "outputs": [
        {
          "output_type": "execute_result",
          "data": {
            "text/plain": [
              "menores_2x2 (generic function with 1 method)"
            ]
          },
          "metadata": {},
          "execution_count": 40
        }
      ]
    },
    {
      "cell_type": "code",
      "source": [
        "# Ejemplo de uso:\n",
        "B = randn(3,2)  # Matriz aleatoria 3x2\n",
        "det_menores = menores_2x2(B)\n",
        "\n",
        "println(\"Determinantes de los menores 2x2:\", det_menores)\n"
      ],
      "metadata": {
        "colab": {
          "base_uri": "https://localhost:8080/"
        },
        "id": "hohVYQwOTl5m",
        "outputId": "9aec2d65-fd8e-41f1-e49b-57311781f115"
      },
      "id": "hohVYQwOTl5m",
      "execution_count": null,
      "outputs": [
        {
          "output_type": "stream",
          "name": "stdout",
          "text": [
            "Determinantes de los menores 2x2:[0.5837920186140807, -1.6696856927000876, -0.07058251849327958]\n"
          ]
        }
      ]
    },
    {
      "cell_type": "markdown",
      "source": [
        "Es claro que sería una *particularidad*, y formalmente un evento de probabilidad cero.\n",
        "\n"
      ],
      "metadata": {
        "id": "sQWkksH1TsII"
      },
      "id": "sQWkksH1TsII"
    },
    {
      "cell_type": "markdown",
      "source": [
        "---\n",
        "**($\\dagger$)Ejercicio:** dar un argumento que ilumine este hecho.\n",
        "\n",
        "<details>\n",
        "  <summary><b>Sugerencia/Idea</b></summary>\n",
        "  Probar que el conjunto de matrices con de $3 \\times 2$ que tiene algún menor con determinante cero es una variedad algebraica: i.e. son los ceros de un polinomio en los coeficientes de la matriz. Esto implica que el conjunto tiene es de una dimensión menor a 3 y por lo tanto tiene medida cero.\n",
        "  </details>\n",
        "\n",
        "  \n",
        "  ---"
      ],
      "metadata": {
        "id": "zVbDV4wsUY9B"
      },
      "id": "zVbDV4wsUY9B"
    },
    {
      "cell_type": "markdown",
      "source": [
        "---\n",
        "**Ejercicio:** Fabrique un ejemplo donde esto no ocurra.\n",
        "<details>\n",
        "  <summary><b>Mostrar solución</b></summary>\n",
        "  Por ejemplo\n",
        "  $$\n",
        "\\begin{pmatrix} 1& 0\\\\ 0&1\\\\ 0&0\\end{pmatrix}\n",
        "  $$\n",
        "\n",
        "   b1=[1,0,0]\n",
        "b2=[0,1,0]\n",
        "B=[b1 b2]\n",
        "menores_2x2(B)\n",
        "</details>\n",
        "\n",
        "---"
      ],
      "metadata": {
        "id": "QbTXLYkjVS3L"
      },
      "id": "QbTXLYkjVS3L"
    },
    {
      "cell_type": "markdown",
      "source": [
        "Bien, el rango de nuestra matriz $A$ es dos, y al menos llegaríamos a cualquier punto del subespacio de dimension 2 (el plano) generado por las columnas de $A$. Veamos que hay vectores que no se pueden obtener como combinación lineal de las columnas."
      ],
      "metadata": {
        "id": "ZIir1T-hfDMj"
      },
      "id": "ZIir1T-hfDMj"
    },
    {
      "cell_type": "markdown",
      "source": [
        "Por ejemplo es fácil ver que $b=[1,1,1]$ no es generado por las columnas de A. Para eso basta ver que el sistema de ecuaciones es incompatible."
      ],
      "metadata": {
        "id": "gfaDFs2dTKKs"
      },
      "id": "gfaDFs2dTKKs"
    },
    {
      "cell_type": "markdown",
      "source": [
        "---\n",
        "\n",
        " 📌 ¿Por qué el sistema es incompatible? Mostrarlo\n",
        "\n",
        "<details> <summary><b>Detalles</b></summary>\n",
        "## 📌 Incompatibilidad del sistema $A \\mathbf{x} = \\mathbf{b}$\n",
        "\n",
        "\n",
        "Dado el sistema:\n",
        "\n",
        "$$\n",
        "A = \\begin{bmatrix} 1 & 4 \\\\ 2 & 5 \\\\ 3 & 6 \\end{bmatrix}, \\quad\n",
        "\\mathbf{x} = \\begin{bmatrix} x_1 \\\\ x_2 \\end{bmatrix}, \\quad\n",
        "\\mathbf{b} = \\begin{bmatrix} 1 \\\\ 1 \\\\ 1 \\end{bmatrix}\n",
        "$$\n",
        "\n",
        "El sistema de ecuaciones es:\n",
        "\n",
        "$$\n",
        "\\begin{aligned}\n",
        "x_1 + 4x_2 &= 1 \\\\\n",
        "2x_1 + 5x_2 &= 1 \\\\\n",
        "3x_1 + 6x_2 &= 1\n",
        "\\end{aligned}\n",
        "$$\n",
        "\n",
        "**Paso 1:** Restar ecuaciones\n",
        "Restamos la primera ecuación a la segunda:\n",
        "\n",
        "$$\n",
        "(2x_1 + 5x_2) - (x_1 + 4x_2) = 1 - 1\n",
        "$$\n",
        "\n",
        "$$\n",
        "x_1 + x_2 = 0\n",
        "$$\n",
        "\n",
        "**Paso 2:** Identificar inconsistencia\n",
        " Sin embargo, al sustituir en la primera ecuación original:\n",
        "\n",
        "$$\n",
        "x_1 + 4x_2 = 1\n",
        "$$\n",
        "\n",
        "Sustituyendo \\( x_1 = -x_2 \\):\n",
        "\n",
        "$$\n",
        "-x_2 + 4x_2 = 1\n",
        "$$\n",
        "\n",
        "$$\n",
        "3x_2 = 1 \\quad \\Rightarrow \\quad x_2 = \\frac{1}{3}\n",
        "$$\n",
        "\n",
        "Ahora sustituimos en \\( x_1 = -x_2 \\):\n",
        "\n",
        "$$\n",
        "x_1 = -\\frac{1}{3}\n",
        "$$\n",
        "\n",
        " ❌ **Contradicción**\n",
        "Si sustituimos en la tercera ecuación original:\n",
        "\n",
        "$$\n",
        "3x_1 + 6x_2 = 1\n",
        "$$\n",
        "\n",
        "$$\n",
        "3\\left(-\\frac{1}{3}\\right) + 6\\left(\\frac{1}{3}\\right) = -1 + 2 = 1\n",
        "$$\n",
        "\n",
        "⚠ **Pero esta ecuación es redundante y no aporta nueva información.**\n",
        "Dado que el sistema tiene más ecuaciones que restricciones independientes, es **incompatible**.\n",
        "\n",
        "✍️ **Conclusión:** El sistema no tiene solución porque la última ecuación no es consistente con las anteriores.\n",
        "\n",
        "✍️ **Ejercicio:** Realiza los cálculos y explica por qué el sistema no tiene solución.\n",
        "</details>\n",
        "\n",
        "---\n"
      ],
      "metadata": {
        "id": "0VYga67Wt6h_"
      },
      "id": "0VYga67Wt6h_"
    },
    {
      "cell_type": "markdown",
      "source": [
        "Considermos una combinación lineal de las columnas de $A$. Por ejemplo $c=a_1+2a_2$:"
      ],
      "metadata": {
        "id": "h8b3V09VbGZI"
      },
      "id": "h8b3V09VbGZI"
    },
    {
      "cell_type": "code",
      "source": [
        "c=1*a1 +2*a2;"
      ],
      "metadata": {
        "id": "7JjW91IPXTlH"
      },
      "id": "7JjW91IPXTlH",
      "execution_count": null,
      "outputs": []
    },
    {
      "cell_type": "markdown",
      "source": [
        "De la propiedad fundamental, se tiene que el vector $c$ es la imagen de aplicar $A$ al vector con coordenadas $[1,2]^T$. Por lo tanto debería ser solución del sistema $Ax=c$."
      ],
      "metadata": {
        "id": "-WCcSJ2xbmKM"
      },
      "id": "-WCcSJ2xbmKM"
    },
    {
      "cell_type": "markdown",
      "source": [
        "En Julia tenemos el comando \\ para resolver un sistema lineal. Lo veremos en detalle más adelante."
      ],
      "metadata": {
        "id": "5Hm3db4EbVFR"
      },
      "id": "5Hm3db4EbVFR"
    },
    {
      "cell_type": "code",
      "source": [
        "#Resolvamos el sistema usando el comando \"\\\" de Julia.\n",
        "y=A\\c"
      ],
      "metadata": {
        "colab": {
          "base_uri": "https://localhost:8080/"
        },
        "id": "Pb3hS6O0Z_hx",
        "outputId": "8d2f7965-cbe6-4297-dd95-7a1b8d300e9e"
      },
      "id": "Pb3hS6O0Z_hx",
      "execution_count": null,
      "outputs": [
        {
          "output_type": "execute_result",
          "data": {
            "text/plain": [
              "2-element Vector{Float64}:\n",
              " 0.9999999999999958\n",
              " 2.000000000000002"
            ]
          },
          "metadata": {},
          "execution_count": 44
        }
      ]
    },
    {
      "cell_type": "code",
      "source": [
        "# Veamos la norma de la diferencia\n",
        "norm(A*y-c)"
      ],
      "metadata": {
        "colab": {
          "base_uri": "https://localhost:8080/"
        },
        "id": "Yl1cpIs7b8FE",
        "outputId": "e3477091-b995-41f7-9d55-fd004f2d45f8"
      },
      "id": "Yl1cpIs7b8FE",
      "execution_count": null,
      "outputs": [
        {
          "output_type": "execute_result",
          "data": {
            "text/plain": [
              "5.891509130072236e-15"
            ]
          },
          "metadata": {},
          "execution_count": 45
        }
      ]
    },
    {
      "cell_type": "markdown",
      "source": [
        "Considremos un $b$ aleatorio y juguemos un poco con eso."
      ],
      "metadata": {
        "id": "LGNFaIOA2jfp"
      },
      "id": "LGNFaIOA2jfp"
    },
    {
      "cell_type": "code",
      "source": [
        "#Tomemnos un punto al azar (con distribución gaussiana en R^3)\n",
        "b=randn(3,1)\n",
        "#Resolvamos el sistema\n",
        "y=A\\b"
      ],
      "metadata": {
        "colab": {
          "base_uri": "https://localhost:8080/"
        },
        "id": "AeADbk-EfirZ",
        "outputId": "b83a806f-cd1d-46ad-dbc5-371b7dc7a228"
      },
      "id": "AeADbk-EfirZ",
      "execution_count": null,
      "outputs": [
        {
          "output_type": "execute_result",
          "data": {
            "text/plain": [
              "2×1 Matrix{Float64}:\n",
              " -1.560001207677371\n",
              "  0.6036422996444988"
            ]
          },
          "metadata": {},
          "execution_count": 46
        }
      ]
    },
    {
      "cell_type": "markdown",
      "source": [
        "No debería ser incompatible? O sea, un vector  gaussiano estándar en $\\mathbb{R}^3$ debería tener probabilidad cero de caer en el plano (el espacio columna)."
      ],
      "metadata": {
        "id": "pfrqmWTRc4AM"
      },
      "id": "pfrqmWTRc4AM"
    },
    {
      "cell_type": "code",
      "source": [
        "norm(A*y-b)"
      ],
      "metadata": {
        "colab": {
          "base_uri": "https://localhost:8080/"
        },
        "id": "DpLrW7PBag66",
        "outputId": "8e9aa3de-b13c-4aec-8df7-9a525eb68f7a"
      },
      "id": "DpLrW7PBag66",
      "execution_count": null,
      "outputs": [
        {
          "output_type": "execute_result",
          "data": {
            "text/plain": [
              "0.25124037624509826"
            ]
          },
          "metadata": {},
          "execution_count": 47
        }
      ]
    },
    {
      "cell_type": "markdown",
      "source": [
        "Qué sucede? La operación $A\\backslash b$ lo que hace es lo que se denomina la **pseudoinversa** de A aplicada a b, y en palabras busca el vector del dominio que su imagen está más cerca de $b$"
      ],
      "metadata": {
        "id": "nM8h4KbLcaDb"
      },
      "id": "nM8h4KbLcaDb"
    },
    {
      "cell_type": "markdown",
      "source": [
        "Recordar modeos lineales!"
      ],
      "metadata": {
        "id": "7Q4GNUws1p5N"
      },
      "id": "7Q4GNUws1p5N"
    },
    {
      "cell_type": "markdown",
      "source": [
        "Considremos muchos puntos aleatorios sobre el dominio, y calculemos la distancia al vector $b$. Y comparemos esa distancia con $Ay$."
      ],
      "metadata": {
        "id": "wgmAvzBvvQcH"
      },
      "id": "wgmAvzBvvQcH"
    },
    {
      "cell_type": "code",
      "source": [
        "using Random, Plots\n",
        "\n",
        "# Parámetros\n",
        "num_samples = 100  # Número de muestras aleatorias\n",
        "\n",
        "\n",
        "# Cálculo del error para muchas x aleatorias\n",
        "errores = Float64[]\n",
        "for _ in 1:num_samples\n",
        "    x = randn(2)  # x aleatorio en R^n\n",
        "    push!(errores, norm(A * x - b))  # Error de la norma\n",
        "end\n",
        "#plot(errores)\n",
        "p=plot(errores, marker=:o, label=\"norma (Ax-b)\")#, linewidth=2)\n",
        "# Comparar con la norma de la proyección de b\n",
        "#error_proyeccion = norm(b - b_proj)\n",
        "y=A\\b #solución por mínimos\n",
        "min=norm(A*y-b)\n",
        "# Graficar los resultados\n",
        "\n",
        "#title!(\"Comparación del error ||Ax - b|| con proyección\")\n",
        "#xlabel!(\"Norma del error\")\n",
        "#ylabel!(\"Frecuencia\")\n",
        "hline!([min], linewidth=1, linestyle=:dash, color=:red, label=\"norma(Ay-b)\")"
      ],
      "metadata": {
        "colab": {
          "base_uri": "https://localhost:8080/",
          "height": 421
        },
        "id": "DLtaAlNFc--m",
        "outputId": "91a0c258-3534-4e5a-9739-0a03fcda03b7"
      },
      "id": "DLtaAlNFc--m",
      "execution_count": null,
      "outputs": [
        {
          "output_type": "execute_result",
          "data": {
            "image/png": "[encoded data removed]",
            "text/html": [
              "<?xml version=\"1.0\" encoding=\"utf-8\"?>\n",
              "<svg xmlns=\"http://www.w3.org/2000/svg\" xmlns:xlink=\"http://www.w3.org/1999/xlink\" width=\"600\" height=\"400\" viewBox=\"0 0 2400 1600\">\n",
              "<defs>\n",
              "  <clipPath id=\"clip670\">\n",
              "    <rect x=\"0\" y=\"0\" width=\"2400\" height=\"1600\"/>\n",
              "  </clipPath>\n",
              "</defs>\n",
              "<path clip-path=\"url(#clip670)\" d=\"M0 1600 L2400 1600 L2400 0 L0 0  Z\" fill=\"#ffffff\" fill-rule=\"evenodd\" fill-opacity=\"1\"/>\n",
              "<defs>\n",
              "  <clipPath id=\"clip671\">\n",
              "    <rect x=\"480\" y=\"0\" width=\"1681\" height=\"1600\"/>\n",
              "  </clipPath>\n",
              "</defs>\n",
              "<path clip-path=\"url(#clip670)\" d=\"M140.696 1486.45 L2352.76 1486.45 L2352.76 47.2441 L140.696 47.2441  Z\" fill=\"#ffffff\" fill-rule=\"evenodd\" fill-opacity=\"1\"/>\n",
              "<defs>\n",
              "  <clipPath id=\"clip672\">\n",
              "    <rect x=\"140\" y=\"47\" width=\"2213\" height=\"1440\"/>\n",
              "  </clipPath>\n",
              "</defs>\n",
              "<polyline clip-path=\"url(#clip672)\" style=\"stroke:#000000; stroke-linecap:round; stroke-linejoin:round; stroke-width:2; stroke-opacity:0.1; fill:none\" points=\"182.222,1486.45 182.222,47.2441 \"/>\n",
              "<polyline clip-path=\"url(#clip672)\" style=\"stroke:#000000; stroke-linecap:round; stroke-linejoin:round; stroke-width:2; stroke-opacity:0.1; fill:none\" points=\"709.204,1486.45 709.204,47.2441 \"/>\n",
              "<polyline clip-path=\"url(#clip672)\" style=\"stroke:#000000; stroke-linecap:round; stroke-linejoin:round; stroke-width:2; stroke-opacity:0.1; fill:none\" points=\"1236.19,1486.45 1236.19,47.2441 \"/>\n",
              "<polyline clip-path=\"url(#clip672)\" style=\"stroke:#000000; stroke-linecap:round; stroke-linejoin:round; stroke-width:2; stroke-opacity:0.1; fill:none\" points=\"1763.17,1486.45 1763.17,47.2441 \"/>\n",
              "<polyline clip-path=\"url(#clip672)\" style=\"stroke:#000000; stroke-linecap:round; stroke-linejoin:round; stroke-width:2; stroke-opacity:0.1; fill:none\" points=\"2290.15,1486.45 2290.15,47.2441 \"/>\n",
              "<polyline clip-path=\"url(#clip672)\" style=\"stroke:#000000; stroke-linecap:round; stroke-linejoin:round; stroke-width:2; stroke-opacity:0.1; fill:none\" points=\"140.696,1460.82 2352.76,1460.82 \"/>\n",
              "<polyline clip-path=\"url(#clip672)\" style=\"stroke:#000000; stroke-linecap:round; stroke-linejoin:round; stroke-width:2; stroke-opacity:0.1; fill:none\" points=\"140.696,1160.16 2352.76,1160.16 \"/>\n",
              "<polyline clip-path=\"url(#clip672)\" style=\"stroke:#000000; stroke-linecap:round; stroke-linejoin:round; stroke-width:2; stroke-opacity:0.1; fill:none\" points=\"140.696,859.501 2352.76,859.501 \"/>\n",
              "<polyline clip-path=\"url(#clip672)\" style=\"stroke:#000000; stroke-linecap:round; stroke-linejoin:round; stroke-width:2; stroke-opacity:0.1; fill:none\" points=\"140.696,558.84 2352.76,558.84 \"/>\n",
              "<polyline clip-path=\"url(#clip672)\" style=\"stroke:#000000; stroke-linecap:round; stroke-linejoin:round; stroke-width:2; stroke-opacity:0.1; fill:none\" points=\"140.696,258.178 2352.76,258.178 \"/>\n",
              "<polyline clip-path=\"url(#clip670)\" style=\"stroke:#000000; stroke-linecap:round; stroke-linejoin:round; stroke-width:4; stroke-opacity:1; fill:none\" points=\"140.696,1486.45 2352.76,1486.45 \"/>\n",
              "<polyline clip-path=\"url(#clip670)\" style=\"stroke:#000000; stroke-linecap:round; stroke-linejoin:round; stroke-width:4; stroke-opacity:1; fill:none\" points=\"182.222,1486.45 182.222,1467.55 \"/>\n",
              "<polyline clip-path=\"url(#clip670)\" style=\"stroke:#000000; stroke-linecap:round; stroke-linejoin:round; stroke-width:4; stroke-opacity:1; fill:none\" points=\"709.204,1486.45 709.204,1467.55 \"/>\n",
              "<polyline clip-path=\"url(#clip670)\" style=\"stroke:#000000; stroke-linecap:round; stroke-linejoin:round; stroke-width:4; stroke-opacity:1; fill:none\" points=\"1236.19,1486.45 1236.19,1467.55 \"/>\n",
              "<polyline clip-path=\"url(#clip670)\" style=\"stroke:#000000; stroke-linecap:round; stroke-linejoin:round; stroke-width:4; stroke-opacity:1; fill:none\" points=\"1763.17,1486.45 1763.17,1467.55 \"/>\n",
              "<polyline clip-path=\"url(#clip670)\" style=\"stroke:#000000; stroke-linecap:round; stroke-linejoin:round; stroke-width:4; stroke-opacity:1; fill:none\" points=\"2290.15,1486.45 2290.15,1467.55 \"/>\n",
              "<path clip-path=\"url(#clip670)\" d=\"M182.222 1517.37 Q178.611 1517.37 176.782 1520.93 Q174.976 1524.47 174.976 1531.6 Q174.976 1538.71 176.782 1542.27 Q178.611 1545.82 182.222 1545.82 Q185.856 1545.82 187.662 1542.27 Q189.49 1538.71 189.49 1531.6 Q189.49 1524.47 187.662 1520.93 Q185.856 1517.37 182.222 1517.37 M182.222 1513.66 Q188.032 1513.66 191.087 1518.27 Q194.166 1522.85 194.166 1531.6 Q194.166 1540.33 191.087 1544.94 Q188.032 1549.52 182.222 1549.52 Q176.412 1549.52 173.333 1544.94 Q170.277 1540.33 170.277 1531.6 Q170.277 1522.85 173.333 1518.27 Q176.412 1513.66 182.222 1513.66 Z\" fill=\"#000000\" fill-rule=\"nonzero\" fill-opacity=\"1\" /><path clip-path=\"url(#clip670)\" d=\"M688.475 1544.91 L704.794 1544.91 L704.794 1548.85 L682.85 1548.85 L682.85 1544.91 Q685.512 1542.16 690.095 1537.53 Q694.702 1532.88 695.882 1531.53 Q698.128 1529.01 699.007 1527.27 Q699.91 1525.51 699.91 1523.82 Q699.91 1521.07 697.966 1519.33 Q696.044 1517.6 692.942 1517.6 Q690.743 1517.6 688.29 1518.36 Q685.859 1519.13 683.081 1520.68 L683.081 1515.95 Q685.905 1514.82 688.359 1514.24 Q690.813 1513.66 692.85 1513.66 Q698.22 1513.66 701.415 1516.35 Q704.609 1519.03 704.609 1523.52 Q704.609 1525.65 703.799 1527.57 Q703.012 1529.47 700.905 1532.07 Q700.327 1532.74 697.225 1535.95 Q694.123 1539.15 688.475 1544.91 Z\" fill=\"#000000\" fill-rule=\"nonzero\" fill-opacity=\"1\" /><path clip-path=\"url(#clip670)\" d=\"M714.655 1514.29 L733.012 1514.29 L733.012 1518.22 L718.938 1518.22 L718.938 1526.7 Q719.956 1526.35 720.975 1526.19 Q721.993 1526 723.012 1526 Q728.799 1526 732.178 1529.17 Q735.558 1532.34 735.558 1537.76 Q735.558 1543.34 732.086 1546.44 Q728.614 1549.52 722.294 1549.52 Q720.118 1549.52 717.85 1549.15 Q715.604 1548.78 713.197 1548.04 L713.197 1543.34 Q715.28 1544.47 717.502 1545.03 Q719.725 1545.58 722.202 1545.58 Q726.206 1545.58 728.544 1543.48 Q730.882 1541.37 730.882 1537.76 Q730.882 1534.15 728.544 1532.04 Q726.206 1529.94 722.202 1529.94 Q720.327 1529.94 718.452 1530.35 Q716.6 1530.77 714.655 1531.65 L714.655 1514.29 Z\" fill=\"#000000\" fill-rule=\"nonzero\" fill-opacity=\"1\" /><path clip-path=\"url(#clip670)\" d=\"M1210.89 1514.29 L1229.24 1514.29 L1229.24 1518.22 L1215.17 1518.22 L1215.17 1526.7 Q1216.19 1526.35 1217.2 1526.19 Q1218.22 1526 1219.24 1526 Q1225.03 1526 1228.41 1529.17 Q1231.79 1532.34 1231.79 1537.76 Q1231.79 1543.34 1228.32 1546.44 Q1224.84 1549.52 1218.52 1549.52 Q1216.35 1549.52 1214.08 1549.15 Q1211.83 1548.78 1209.43 1548.04 L1209.43 1543.34 Q1211.51 1544.47 1213.73 1545.03 Q1215.95 1545.58 1218.43 1545.58 Q1222.44 1545.58 1224.77 1543.48 Q1227.11 1541.37 1227.11 1537.76 Q1227.11 1534.15 1224.77 1532.04 Q1222.44 1529.94 1218.43 1529.94 Q1216.56 1529.94 1214.68 1530.35 Q1212.83 1530.77 1210.89 1531.65 L1210.89 1514.29 Z\" fill=\"#000000\" fill-rule=\"nonzero\" fill-opacity=\"1\" /><path clip-path=\"url(#clip670)\" d=\"M1251 1517.37 Q1247.39 1517.37 1245.56 1520.93 Q1243.76 1524.47 1243.76 1531.6 Q1243.76 1538.71 1245.56 1542.27 Q1247.39 1545.82 1251 1545.82 Q1254.64 1545.82 1256.44 1542.27 Q1258.27 1538.71 1258.27 1531.6 Q1258.27 1524.47 1256.44 1520.93 Q1254.64 1517.37 1251 1517.37 M1251 1513.66 Q1256.81 1513.66 1259.87 1518.27 Q1262.95 1522.85 1262.95 1531.6 Q1262.95 1540.33 1259.87 1544.94 Q1256.81 1549.52 1251 1549.52 Q1245.19 1549.52 1242.11 1544.94 Q1239.06 1540.33 1239.06 1531.6 Q1239.06 1522.85 1242.11 1518.27 Q1245.19 1513.66 1251 1513.66 Z\" fill=\"#000000\" fill-rule=\"nonzero\" fill-opacity=\"1\" /><path clip-path=\"url(#clip670)\" d=\"M1737.02 1514.29 L1759.24 1514.29 L1759.24 1516.28 L1746.7 1548.85 L1741.81 1548.85 L1753.62 1518.22 L1737.02 1518.22 L1737.02 1514.29 Z\" fill=\"#000000\" fill-rule=\"nonzero\" fill-opacity=\"1\" /><path clip-path=\"url(#clip670)\" d=\"M1768.41 1514.29 L1786.77 1514.29 L1786.77 1518.22 L1772.69 1518.22 L1772.69 1526.7 Q1773.71 1526.35 1774.73 1526.19 Q1775.75 1526 1776.77 1526 Q1782.55 1526 1785.93 1529.17 Q1789.31 1532.34 1789.31 1537.76 Q1789.31 1543.34 1785.84 1546.44 Q1782.37 1549.52 1776.05 1549.52 Q1773.87 1549.52 1771.61 1549.15 Q1769.36 1548.78 1766.95 1548.04 L1766.95 1543.34 Q1769.04 1544.47 1771.26 1545.03 Q1773.48 1545.58 1775.96 1545.58 Q1779.96 1545.58 1782.3 1543.48 Q1784.64 1541.37 1784.64 1537.76 Q1784.64 1534.15 1782.3 1532.04 Q1779.96 1529.94 1775.96 1529.94 Q1774.08 1529.94 1772.21 1530.35 Q1770.36 1530.77 1768.41 1531.65 L1768.41 1514.29 Z\" fill=\"#000000\" fill-rule=\"nonzero\" fill-opacity=\"1\" /><path clip-path=\"url(#clip670)\" d=\"M2249.76 1544.91 L2257.4 1544.91 L2257.4 1518.55 L2249.09 1520.21 L2249.09 1515.95 L2257.35 1514.29 L2262.03 1514.29 L2262.03 1544.91 L2269.66 1544.91 L2269.66 1548.85 L2249.76 1548.85 L2249.76 1544.91 Z\" fill=\"#000000\" fill-rule=\"nonzero\" fill-opacity=\"1\" /><path clip-path=\"url(#clip670)\" d=\"M2289.11 1517.37 Q2285.5 1517.37 2283.67 1520.93 Q2281.86 1524.47 2281.86 1531.6 Q2281.86 1538.71 2283.67 1542.27 Q2285.5 1545.82 2289.11 1545.82 Q2292.74 1545.82 2294.55 1542.27 Q2296.38 1538.71 2296.38 1531.6 Q2296.38 1524.47 2294.55 1520.93 Q2292.74 1517.37 2289.11 1517.37 M2289.11 1513.66 Q2294.92 1513.66 2297.97 1518.27 Q2301.05 1522.85 2301.05 1531.6 Q2301.05 1540.33 2297.97 1544.94 Q2294.92 1549.52 2289.11 1549.52 Q2283.3 1549.52 2280.22 1544.94 Q2277.16 1540.33 2277.16 1531.6 Q2277.16 1522.85 2280.22 1518.27 Q2283.3 1513.66 2289.11 1513.66 Z\" fill=\"#000000\" fill-rule=\"nonzero\" fill-opacity=\"1\" /><path clip-path=\"url(#clip670)\" d=\"M2319.27 1517.37 Q2315.66 1517.37 2313.83 1520.93 Q2312.03 1524.47 2312.03 1531.6 Q2312.03 1538.71 2313.83 1542.27 Q2315.66 1545.82 2319.27 1545.82 Q2322.9 1545.82 2324.71 1542.27 Q2326.54 1538.71 2326.54 1531.6 Q2326.54 1524.47 2324.71 1520.93 Q2322.9 1517.37 2319.27 1517.37 M2319.27 1513.66 Q2325.08 1513.66 2328.14 1518.27 Q2331.22 1522.85 2331.22 1531.6 Q2331.22 1540.33 2328.14 1544.94 Q2325.08 1549.52 2319.27 1549.52 Q2313.46 1549.52 2310.38 1544.94 Q2307.33 1540.33 2307.33 1531.6 Q2307.33 1522.85 2310.38 1518.27 Q2313.46 1513.66 2319.27 1513.66 Z\" fill=\"#000000\" fill-rule=\"nonzero\" fill-opacity=\"1\" /><polyline clip-path=\"url(#clip670)\" style=\"stroke:#000000; stroke-linecap:round; stroke-linejoin:round; stroke-width:4; stroke-opacity:1; fill:none\" points=\"140.696,1486.45 140.696,47.2441 \"/>\n",
              "<polyline clip-path=\"url(#clip670)\" style=\"stroke:#000000; stroke-linecap:round; stroke-linejoin:round; stroke-width:4; stroke-opacity:1; fill:none\" points=\"140.696,1460.82 159.593,1460.82 \"/>\n",
              "<polyline clip-path=\"url(#clip670)\" style=\"stroke:#000000; stroke-linecap:round; stroke-linejoin:round; stroke-width:4; stroke-opacity:1; fill:none\" points=\"140.696,1160.16 159.593,1160.16 \"/>\n",
              "<polyline clip-path=\"url(#clip670)\" style=\"stroke:#000000; stroke-linecap:round; stroke-linejoin:round; stroke-width:4; stroke-opacity:1; fill:none\" points=\"140.696,859.501 159.593,859.501 \"/>\n",
              "<polyline clip-path=\"url(#clip670)\" style=\"stroke:#000000; stroke-linecap:round; stroke-linejoin:round; stroke-width:4; stroke-opacity:1; fill:none\" points=\"140.696,558.84 159.593,558.84 \"/>\n",
              "<polyline clip-path=\"url(#clip670)\" style=\"stroke:#000000; stroke-linecap:round; stroke-linejoin:round; stroke-width:4; stroke-opacity:1; fill:none\" points=\"140.696,258.178 159.593,258.178 \"/>\n",
              "<path clip-path=\"url(#clip670)\" d=\"M92.7512 1446.62 Q89.1401 1446.62 87.3114 1450.19 Q85.5058 1453.73 85.5058 1460.86 Q85.5058 1467.96 87.3114 1471.53 Q89.1401 1475.07 92.7512 1475.07 Q96.3854 1475.07 98.1909 1471.53 Q100.02 1467.96 100.02 1460.86 Q100.02 1453.73 98.1909 1450.19 Q96.3854 1446.62 92.7512 1446.62 M92.7512 1442.92 Q98.5613 1442.92 101.617 1447.52 Q104.696 1452.11 104.696 1460.86 Q104.696 1469.58 101.617 1474.19 Q98.5613 1478.77 92.7512 1478.77 Q86.941 1478.77 83.8623 1474.19 Q80.8068 1469.58 80.8068 1460.86 Q80.8068 1452.11 83.8623 1447.52 Q86.941 1442.92 92.7512 1442.92 Z\" fill=\"#000000\" fill-rule=\"nonzero\" fill-opacity=\"1\" /><path clip-path=\"url(#clip670)\" d=\"M83.7929 1142.88 L102.149 1142.88 L102.149 1146.82 L88.0753 1146.82 L88.0753 1155.29 Q89.0938 1154.94 90.1123 1154.78 Q91.1308 1154.59 92.1493 1154.59 Q97.9363 1154.59 101.316 1157.77 Q104.696 1160.94 104.696 1166.35 Q104.696 1171.93 101.223 1175.03 Q97.7511 1178.11 91.4317 1178.11 Q89.2558 1178.11 86.9873 1177.74 Q84.7419 1177.37 82.3346 1176.63 L82.3346 1171.93 Q84.4179 1173.07 86.6401 1173.62 Q88.8623 1174.18 91.3391 1174.18 Q95.3437 1174.18 97.6817 1172.07 Q100.02 1169.97 100.02 1166.35 Q100.02 1162.74 97.6817 1160.64 Q95.3437 1158.53 91.3391 1158.53 Q89.4641 1158.53 87.5892 1158.95 Q85.7373 1159.36 83.7929 1160.24 L83.7929 1142.88 Z\" fill=\"#000000\" fill-rule=\"nonzero\" fill-opacity=\"1\" /><path clip-path=\"url(#clip670)\" d=\"M53.3995 872.846 L61.0384 872.846 L61.0384 846.48 L52.7282 848.147 L52.7282 843.887 L60.9921 842.221 L65.668 842.221 L65.668 872.846 L73.3068 872.846 L73.3068 876.781 L53.3995 876.781 L53.3995 872.846 Z\" fill=\"#000000\" fill-rule=\"nonzero\" fill-opacity=\"1\" /><path clip-path=\"url(#clip670)\" d=\"M92.7512 845.299 Q89.1401 845.299 87.3114 848.864 Q85.5058 852.406 85.5058 859.536 Q85.5058 866.642 87.3114 870.207 Q89.1401 873.748 92.7512 873.748 Q96.3854 873.748 98.1909 870.207 Q100.02 866.642 100.02 859.536 Q100.02 852.406 98.1909 848.864 Q96.3854 845.299 92.7512 845.299 M92.7512 841.596 Q98.5613 841.596 101.617 846.202 Q104.696 850.786 104.696 859.536 Q104.696 868.262 101.617 872.869 Q98.5613 877.452 92.7512 877.452 Q86.941 877.452 83.8623 872.869 Q80.8068 868.262 80.8068 859.536 Q80.8068 850.786 83.8623 846.202 Q86.941 841.596 92.7512 841.596 Z\" fill=\"#000000\" fill-rule=\"nonzero\" fill-opacity=\"1\" /><path clip-path=\"url(#clip670)\" d=\"M54.3949 572.184 L62.0337 572.184 L62.0337 545.819 L53.7236 547.485 L53.7236 543.226 L61.9874 541.56 L66.6633 541.56 L66.6633 572.184 L74.3022 572.184 L74.3022 576.12 L54.3949 576.12 L54.3949 572.184 Z\" fill=\"#000000\" fill-rule=\"nonzero\" fill-opacity=\"1\" /><path clip-path=\"url(#clip670)\" d=\"M83.7929 541.56 L102.149 541.56 L102.149 545.495 L88.0753 545.495 L88.0753 553.967 Q89.0938 553.62 90.1123 553.458 Q91.1308 553.272 92.1493 553.272 Q97.9363 553.272 101.316 556.444 Q104.696 559.615 104.696 565.032 Q104.696 570.61 101.223 573.712 Q97.7511 576.791 91.4317 576.791 Q89.2558 576.791 86.9873 576.42 Q84.7419 576.05 82.3346 575.309 L82.3346 570.61 Q84.4179 571.745 86.6401 572.3 Q88.8623 572.856 91.3391 572.856 Q95.3437 572.856 97.6817 570.749 Q100.02 568.643 100.02 565.032 Q100.02 561.421 97.6817 559.314 Q95.3437 557.208 91.3391 557.208 Q89.4641 557.208 87.5892 557.624 Q85.7373 558.041 83.7929 558.921 L83.7929 541.56 Z\" fill=\"#000000\" fill-rule=\"nonzero\" fill-opacity=\"1\" /><path clip-path=\"url(#clip670)\" d=\"M56.6171 271.523 L72.9365 271.523 L72.9365 275.458 L50.9921 275.458 L50.9921 271.523 Q53.6541 268.768 58.2375 264.139 Q62.8439 259.486 64.0245 258.144 Q66.2698 255.62 67.1494 253.884 Q68.0522 252.125 68.0522 250.435 Q68.0522 247.681 66.1078 245.945 Q64.1865 244.208 61.0847 244.208 Q58.8856 244.208 56.4319 244.972 Q54.0014 245.736 51.2236 247.287 L51.2236 242.565 Q54.0477 241.431 56.5014 240.852 Q58.955 240.273 60.9921 240.273 Q66.3624 240.273 69.5568 242.958 Q72.7513 245.644 72.7513 250.134 Q72.7513 252.264 71.9411 254.185 Q71.1541 256.083 69.0476 258.676 Q68.4689 259.347 65.367 262.565 Q62.2652 265.759 56.6171 271.523 Z\" fill=\"#000000\" fill-rule=\"nonzero\" fill-opacity=\"1\" /><path clip-path=\"url(#clip670)\" d=\"M92.7512 243.977 Q89.1401 243.977 87.3114 247.542 Q85.5058 251.083 85.5058 258.213 Q85.5058 265.319 87.3114 268.884 Q89.1401 272.426 92.7512 272.426 Q96.3854 272.426 98.1909 268.884 Q100.02 265.319 100.02 258.213 Q100.02 251.083 98.1909 247.542 Q96.3854 243.977 92.7512 243.977 M92.7512 240.273 Q98.5613 240.273 101.617 244.88 Q104.696 249.463 104.696 258.213 Q104.696 266.94 101.617 271.546 Q98.5613 276.13 92.7512 276.13 Q86.941 276.13 83.8623 271.546 Q80.8068 266.94 80.8068 258.213 Q80.8068 249.463 83.8623 244.88 Q86.941 240.273 92.7512 240.273 Z\" fill=\"#000000\" fill-rule=\"nonzero\" fill-opacity=\"1\" /><polyline clip-path=\"url(#clip672)\" style=\"stroke:#009af9; stroke-linecap:round; stroke-linejoin:round; stroke-width:4; stroke-opacity:1; fill:none\" points=\"203.301,1241.72 224.38,972.461 245.46,1139.07 266.539,251.082 287.618,874.448 308.697,1347.05 329.777,339.204 350.856,656.732 371.935,1028.94 393.015,1111.9 414.094,1236.12 435.173,237.32 456.252,1178.36 477.332,1221.22 498.411,1394.56 519.49,1145.61 540.57,722.813 561.649,1266.06 582.728,621.329 603.807,1150.76 624.887,1075.8 645.966,1134.77 667.045,1238.17 688.125,1225.67 709.204,776.281 730.283,1289.07 751.362,882.67 772.442,1119.77 793.521,1137.2 814.6,1344.61 835.68,1173.26 856.759,1089.37 877.838,606.27 898.917,1358.04 919.997,1318.53 941.076,293.691 962.155,1409.93 983.235,1385.31 1004.31,404.901 1025.39,838.762 1046.47,1340.07 1067.55,1229.24 1088.63,1065.44 1109.71,643 1130.79,1364.21 1151.87,581.684 1172.95,870.882 1194.03,1219.36 1215.11,1196.18 1236.19,798.625 1257.27,1302.9 1278.34,578.468 1299.42,645.159 1320.5,726.035 1341.58,1132.9 1362.66,877.771 1383.74,597.285 1404.82,1295.24 1425.9,985.957 1446.98,777.767 1468.06,1211.13 1489.14,1381.25 1510.22,1029.23 1531.3,1289.92 1552.38,1117.05 1573.45,1271.69 1594.53,1374.98 1615.61,1255.22 1636.69,760.845 1657.77,1103.74 1678.85,776.712 1699.93,1257.9 1721.01,1395.49 1742.09,840.754 1763.17,1160.38 1784.25,469.736 1805.33,1364.24 1826.41,1319.67 1847.49,1259.32 1868.56,950.203 1889.64,975.922 1910.72,934.222 1931.8,709.68 1952.88,1003.68 1973.96,976.147 1995.04,1273.29 2016.12,760.918 2037.2,1083.67 2058.28,1423.39 2079.36,87.9763 2100.44,1216.67 2121.52,473.517 2142.6,399.858 2163.67,728.897 2184.75,1370.94 2205.83,1395.94 2226.91,965.684 2247.99,1357 2269.07,669.991 2290.15,585.144 \"/>\n",
              "<path clip-path=\"url(#clip672)\" d=\"M203.301 1257.72 L191.989 1253.03 L187.301 1241.72 L191.989 1230.41 L203.301 1225.72 L214.613 1230.41 L219.301 1241.72 L214.613 1253.03 Z\" fill=\"#009af9\" fill-rule=\"evenodd\" fill-opacity=\"1\" stroke=\"#000000\" stroke-opacity=\"1\" stroke-width=\"3.2\"/>\n",
              "<path clip-path=\"url(#clip672)\" d=\"M224.38 988.461 L213.068 983.773 L208.38 972.461 L213.068 961.149 L224.38 956.461 L235.692 961.149 L240.38 972.461 L235.692 983.773 Z\" fill=\"#009af9\" fill-rule=\"evenodd\" fill-opacity=\"1\" stroke=\"#000000\" stroke-opacity=\"1\" stroke-width=\"3.2\"/>\n",
              "<path clip-path=\"url(#clip672)\" d=\"M245.46 1155.07 L234.148 1150.39 L229.46 1139.07 L234.148 1127.76 L245.46 1123.07 L256.772 1127.76 L261.46 1139.07 L256.772 1150.39 Z\" fill=\"#009af9\" fill-rule=\"evenodd\" fill-opacity=\"1\" stroke=\"#000000\" stroke-opacity=\"1\" stroke-width=\"3.2\"/>\n",
              "<path clip-path=\"url(#clip672)\" d=\"M266.539 267.082 L255.227 262.394 L250.539 251.082 L255.227 239.77 L266.539 235.082 L277.851 239.77 L282.539 251.082 L277.851 262.394 Z\" fill=\"#009af9\" fill-rule=\"evenodd\" fill-opacity=\"1\" stroke=\"#000000\" stroke-opacity=\"1\" stroke-width=\"3.2\"/>\n",
              "<path clip-path=\"url(#clip672)\" d=\"M287.618 890.448 L276.306 885.76 L271.618 874.448 L276.306 863.136 L287.618 858.448 L298.93 863.136 L303.618 874.448 L298.93 885.76 Z\" fill=\"#009af9\" fill-rule=\"evenodd\" fill-opacity=\"1\" stroke=\"#000000\" stroke-opacity=\"1\" stroke-width=\"3.2\"/>\n",
              "<path clip-path=\"url(#clip672)\" d=\"M308.697 1363.05 L297.385 1358.36 L292.697 1347.05 L297.385 1335.73 L308.697 1331.05 L320.009 1335.73 L324.697 1347.05 L320.009 1358.36 Z\" fill=\"#009af9\" fill-rule=\"evenodd\" fill-opacity=\"1\" stroke=\"#000000\" stroke-opacity=\"1\" stroke-width=\"3.2\"/>\n",
              "<path clip-path=\"url(#clip672)\" d=\"M329.777 355.204 L318.465 350.516 L313.777 339.204 L318.465 327.892 L329.777 323.204 L341.089 327.892 L345.777 339.204 L341.089 350.516 Z\" fill=\"#009af9\" fill-rule=\"evenodd\" fill-opacity=\"1\" stroke=\"#000000\" stroke-opacity=\"1\" stroke-width=\"3.2\"/>\n",
              "<path clip-path=\"url(#clip672)\" d=\"M350.856 672.732 L339.544 668.044 L334.856 656.732 L339.544 645.42 L350.856 640.732 L362.168 645.42 L366.856 656.732 L362.168 668.044 Z\" fill=\"#009af9\" fill-rule=\"evenodd\" fill-opacity=\"1\" stroke=\"#000000\" stroke-opacity=\"1\" stroke-width=\"3.2\"/>\n",
              "<path clip-path=\"url(#clip672)\" d=\"M371.935 1044.94 L360.623 1040.25 L355.935 1028.94 L360.623 1017.63 L371.935 1012.94 L383.247 1017.63 L387.935 1028.94 L383.247 1040.25 Z\" fill=\"#009af9\" fill-rule=\"evenodd\" fill-opacity=\"1\" stroke=\"#000000\" stroke-opacity=\"1\" stroke-width=\"3.2\"/>\n",
              "<path clip-path=\"url(#clip672)\" d=\"M393.015 1127.9 L381.703 1123.21 L377.015 1111.9 L381.703 1100.59 L393.015 1095.9 L404.327 1100.59 L409.015 1111.9 L404.327 1123.21 Z\" fill=\"#009af9\" fill-rule=\"evenodd\" fill-opacity=\"1\" stroke=\"#000000\" stroke-opacity=\"1\" stroke-width=\"3.2\"/>\n",
              "<path clip-path=\"url(#clip672)\" d=\"M414.094 1252.12 L402.782 1247.44 L398.094 1236.12 L402.782 1224.81 L414.094 1220.12 L425.406 1224.81 L430.094 1236.12 L425.406 1247.44 Z\" fill=\"#009af9\" fill-rule=\"evenodd\" fill-opacity=\"1\" stroke=\"#000000\" stroke-opacity=\"1\" stroke-width=\"3.2\"/>\n",
              "<path clip-path=\"url(#clip672)\" d=\"M435.173 253.32 L423.861 248.632 L419.173 237.32 L423.861 226.008 L435.173 221.32 L446.485 226.008 L451.173 237.32 L446.485 248.632 Z\" fill=\"#009af9\" fill-rule=\"evenodd\" fill-opacity=\"1\" stroke=\"#000000\" stroke-opacity=\"1\" stroke-width=\"3.2\"/>\n",
              "<path clip-path=\"url(#clip672)\" d=\"M456.252 1194.36 L444.94 1189.67 L440.252 1178.36 L444.94 1167.05 L456.252 1162.36 L467.564 1167.05 L472.252 1178.36 L467.564 1189.67 Z\" fill=\"#009af9\" fill-rule=\"evenodd\" fill-opacity=\"1\" stroke=\"#000000\" stroke-opacity=\"1\" stroke-width=\"3.2\"/>\n",
              "<path clip-path=\"url(#clip672)\" d=\"M477.332 1237.22 L466.02 1232.53 L461.332 1221.22 L466.02 1209.9 L477.332 1205.22 L488.644 1209.9 L493.332 1221.22 L488.644 1232.53 Z\" fill=\"#009af9\" fill-rule=\"evenodd\" fill-opacity=\"1\" stroke=\"#000000\" stroke-opacity=\"1\" stroke-width=\"3.2\"/>\n",
              "<path clip-path=\"url(#clip672)\" d=\"M498.411 1410.56 L487.099 1405.88 L482.411 1394.56 L487.099 1383.25 L498.411 1378.56 L509.723 1383.25 L514.411 1394.56 L509.723 1405.88 Z\" fill=\"#009af9\" fill-rule=\"evenodd\" fill-opacity=\"1\" stroke=\"#000000\" stroke-opacity=\"1\" stroke-width=\"3.2\"/>\n",
              "<path clip-path=\"url(#clip672)\" d=\"M519.49 1161.61 L508.178 1156.92 L503.49 1145.61 L508.178 1134.29 L519.49 1129.61 L530.802 1134.29 L535.49 1145.61 L530.802 1156.92 Z\" fill=\"#009af9\" fill-rule=\"evenodd\" fill-opacity=\"1\" stroke=\"#000000\" stroke-opacity=\"1\" stroke-width=\"3.2\"/>\n",
              "<path clip-path=\"url(#clip672)\" d=\"M540.57 738.813 L529.258 734.125 L524.57 722.813 L529.258 711.501 L540.57 706.813 L551.882 711.501 L556.57 722.813 L551.882 734.125 Z\" fill=\"#009af9\" fill-rule=\"evenodd\" fill-opacity=\"1\" stroke=\"#000000\" stroke-opacity=\"1\" stroke-width=\"3.2\"/>\n",
              "<path clip-path=\"url(#clip672)\" d=\"M561.649 1282.06 L550.337 1277.37 L545.649 1266.06 L550.337 1254.75 L561.649 1250.06 L572.961 1254.75 L577.649 1266.06 L572.961 1277.37 Z\" fill=\"#009af9\" fill-rule=\"evenodd\" fill-opacity=\"1\" stroke=\"#000000\" stroke-opacity=\"1\" stroke-width=\"3.2\"/>\n",
              "<path clip-path=\"url(#clip672)\" d=\"M582.728 637.329 L571.416 632.641 L566.728 621.329 L571.416 610.017 L582.728 605.329 L594.04 610.017 L598.728 621.329 L594.04 632.641 Z\" fill=\"#009af9\" fill-rule=\"evenodd\" fill-opacity=\"1\" stroke=\"#000000\" stroke-opacity=\"1\" stroke-width=\"3.2\"/>\n",
              "<path clip-path=\"url(#clip672)\" d=\"M603.807 1166.76 L592.495 1162.07 L587.807 1150.76 L592.495 1139.45 L603.807 1134.76 L615.119 1139.45 L619.807 1150.76 L615.119 1162.07 Z\" fill=\"#009af9\" fill-rule=\"evenodd\" fill-opacity=\"1\" stroke=\"#000000\" stroke-opacity=\"1\" stroke-width=\"3.2\"/>\n",
              "<path clip-path=\"url(#clip672)\" d=\"M624.887 1091.8 L613.575 1087.11 L608.887 1075.8 L613.575 1064.49 L624.887 1059.8 L636.199 1064.49 L640.887 1075.8 L636.199 1087.11 Z\" fill=\"#009af9\" fill-rule=\"evenodd\" fill-opacity=\"1\" stroke=\"#000000\" stroke-opacity=\"1\" stroke-width=\"3.2\"/>\n",
              "<path clip-path=\"url(#clip672)\" d=\"M645.966 1150.77 L634.654 1146.09 L629.966 1134.77 L634.654 1123.46 L645.966 1118.77 L657.278 1123.46 L661.966 1134.77 L657.278 1146.09 Z\" fill=\"#009af9\" fill-rule=\"evenodd\" fill-opacity=\"1\" stroke=\"#000000\" stroke-opacity=\"1\" stroke-width=\"3.2\"/>\n",
              "<path clip-path=\"url(#clip672)\" d=\"M667.045 1254.17 L655.733 1249.48 L651.045 1238.17 L655.733 1226.85 L667.045 1222.17 L678.357 1226.85 L683.045 1238.17 L678.357 1249.48 Z\" fill=\"#009af9\" fill-rule=\"evenodd\" fill-opacity=\"1\" stroke=\"#000000\" stroke-opacity=\"1\" stroke-width=\"3.2\"/>\n",
              "<path clip-path=\"url(#clip672)\" d=\"M688.125 1241.67 L676.813 1236.98 L672.125 1225.67 L676.813 1214.36 L688.125 1209.67 L699.437 1214.36 L704.125 1225.67 L699.437 1236.98 Z\" fill=\"#009af9\" fill-rule=\"evenodd\" fill-opacity=\"1\" stroke=\"#000000\" stroke-opacity=\"1\" stroke-width=\"3.2\"/>\n",
              "<path clip-path=\"url(#clip672)\" d=\"M709.204 792.281 L697.892 787.593 L693.204 776.281 L697.892 764.969 L709.204 760.281 L720.516 764.969 L725.204 776.281 L720.516 787.593 Z\" fill=\"#009af9\" fill-rule=\"evenodd\" fill-opacity=\"1\" stroke=\"#000000\" stroke-opacity=\"1\" stroke-width=\"3.2\"/>\n",
              "<path clip-path=\"url(#clip672)\" d=\"M730.283 1305.07 L718.971 1300.38 L714.283 1289.07 L718.971 1277.76 L730.283 1273.07 L741.595 1277.76 L746.283 1289.07 L741.595 1300.38 Z\" fill=\"#009af9\" fill-rule=\"evenodd\" fill-opacity=\"1\" stroke=\"#000000\" stroke-opacity=\"1\" stroke-width=\"3.2\"/>\n",
              "<path clip-path=\"url(#clip672)\" d=\"M751.362 898.67 L740.05 893.982 L735.362 882.67 L740.05 871.358 L751.362 866.67 L762.674 871.358 L767.362 882.67 L762.674 893.982 Z\" fill=\"#009af9\" fill-rule=\"evenodd\" fill-opacity=\"1\" stroke=\"#000000\" stroke-opacity=\"1\" stroke-width=\"3.2\"/>\n",
              "<path clip-path=\"url(#clip672)\" d=\"M772.442 1135.77 L761.13 1131.08 L756.442 1119.77 L761.13 1108.46 L772.442 1103.77 L783.754 1108.46 L788.442 1119.77 L783.754 1131.08 Z\" fill=\"#009af9\" fill-rule=\"evenodd\" fill-opacity=\"1\" stroke=\"#000000\" stroke-opacity=\"1\" stroke-width=\"3.2\"/>\n",
              "<path clip-path=\"url(#clip672)\" d=\"M793.521 1153.2 L782.209 1148.51 L777.521 1137.2 L782.209 1125.89 L793.521 1121.2 L804.833 1125.89 L809.521 1137.2 L804.833 1148.51 Z\" fill=\"#009af9\" fill-rule=\"evenodd\" fill-opacity=\"1\" stroke=\"#000000\" stroke-opacity=\"1\" stroke-width=\"3.2\"/>\n",
              "<path clip-path=\"url(#clip672)\" d=\"M814.6 1360.61 L803.288 1355.92 L798.6 1344.61 L803.288 1333.3 L814.6 1328.61 L825.912 1333.3 L830.6 1344.61 L825.912 1355.92 Z\" fill=\"#009af9\" fill-rule=\"evenodd\" fill-opacity=\"1\" stroke=\"#000000\" stroke-opacity=\"1\" stroke-width=\"3.2\"/>\n",
              "<path clip-path=\"url(#clip672)\" d=\"M835.68 1189.26 L824.368 1184.58 L819.68 1173.26 L824.368 1161.95 L835.68 1157.26 L846.992 1161.95 L851.68 1173.26 L846.992 1184.58 Z\" fill=\"#009af9\" fill-rule=\"evenodd\" fill-opacity=\"1\" stroke=\"#000000\" stroke-opacity=\"1\" stroke-width=\"3.2\"/>\n",
              "<path clip-path=\"url(#clip672)\" d=\"M856.759 1105.37 L845.447 1100.68 L840.759 1089.37 L845.447 1078.05 L856.759 1073.37 L868.071 1078.05 L872.759 1089.37 L868.071 1100.68 Z\" fill=\"#009af9\" fill-rule=\"evenodd\" fill-opacity=\"1\" stroke=\"#000000\" stroke-opacity=\"1\" stroke-width=\"3.2\"/>\n",
              "<path clip-path=\"url(#clip672)\" d=\"M877.838 622.27 L866.526 617.582 L861.838 606.27 L866.526 594.958 L877.838 590.27 L889.15 594.958 L893.838 606.27 L889.15 617.582 Z\" fill=\"#009af9\" fill-rule=\"evenodd\" fill-opacity=\"1\" stroke=\"#000000\" stroke-opacity=\"1\" stroke-width=\"3.2\"/>\n",
              "<path clip-path=\"url(#clip672)\" d=\"M898.917 1374.04 L887.605 1369.35 L882.917 1358.04 L887.605 1346.73 L898.917 1342.04 L910.229 1346.73 L914.917 1358.04 L910.229 1369.35 Z\" fill=\"#009af9\" fill-rule=\"evenodd\" fill-opacity=\"1\" stroke=\"#000000\" stroke-opacity=\"1\" stroke-width=\"3.2\"/>\n",
              "<path clip-path=\"url(#clip672)\" d=\"M919.997 1334.53 L908.685 1329.85 L903.997 1318.53 L908.685 1307.22 L919.997 1302.53 L931.309 1307.22 L935.997 1318.53 L931.309 1329.85 Z\" fill=\"#009af9\" fill-rule=\"evenodd\" fill-opacity=\"1\" stroke=\"#000000\" stroke-opacity=\"1\" stroke-width=\"3.2\"/>\n",
              "<path clip-path=\"url(#clip672)\" d=\"M941.076 309.691 L929.764 305.003 L925.076 293.691 L929.764 282.379 L941.076 277.691 L952.388 282.379 L957.076 293.691 L952.388 305.003 Z\" fill=\"#009af9\" fill-rule=\"evenodd\" fill-opacity=\"1\" stroke=\"#000000\" stroke-opacity=\"1\" stroke-width=\"3.2\"/>\n",
              "<path clip-path=\"url(#clip672)\" d=\"M962.155 1425.93 L950.843 1421.24 L946.155 1409.93 L950.843 1398.61 L962.155 1393.93 L973.467 1398.61 L978.155 1409.93 L973.467 1421.24 Z\" fill=\"#009af9\" fill-rule=\"evenodd\" fill-opacity=\"1\" stroke=\"#000000\" stroke-opacity=\"1\" stroke-width=\"3.2\"/>\n",
              "<path clip-path=\"url(#clip672)\" d=\"M983.235 1401.31 L971.923 1396.63 L967.235 1385.31 L971.923 1374 L983.235 1369.31 L994.547 1374 L999.235 1385.31 L994.547 1396.63 Z\" fill=\"#009af9\" fill-rule=\"evenodd\" fill-opacity=\"1\" stroke=\"#000000\" stroke-opacity=\"1\" stroke-width=\"3.2\"/>\n",
              "<path clip-path=\"url(#clip672)\" d=\"M1004.31 420.901 L993.002 416.213 L988.314 404.901 L993.002 393.589 L1004.31 388.901 L1015.63 393.589 L1020.31 404.901 L1015.63 416.213 Z\" fill=\"#009af9\" fill-rule=\"evenodd\" fill-opacity=\"1\" stroke=\"#000000\" stroke-opacity=\"1\" stroke-width=\"3.2\"/>\n",
              "<path clip-path=\"url(#clip672)\" d=\"M1025.39 854.762 L1014.08 850.074 L1009.39 838.762 L1014.08 827.45 L1025.39 822.762 L1036.71 827.45 L1041.39 838.762 L1036.71 850.074 Z\" fill=\"#009af9\" fill-rule=\"evenodd\" fill-opacity=\"1\" stroke=\"#000000\" stroke-opacity=\"1\" stroke-width=\"3.2\"/>\n",
              "<path clip-path=\"url(#clip672)\" d=\"M1046.47 1356.07 L1035.16 1351.38 L1030.47 1340.07 L1035.16 1328.76 L1046.47 1324.07 L1057.78 1328.76 L1062.47 1340.07 L1057.78 1351.38 Z\" fill=\"#009af9\" fill-rule=\"evenodd\" fill-opacity=\"1\" stroke=\"#000000\" stroke-opacity=\"1\" stroke-width=\"3.2\"/>\n",
              "<path clip-path=\"url(#clip672)\" d=\"M1067.55 1245.24 L1056.24 1240.55 L1051.55 1229.24 L1056.24 1217.93 L1067.55 1213.24 L1078.86 1217.93 L1083.55 1229.24 L1078.86 1240.55 Z\" fill=\"#009af9\" fill-rule=\"evenodd\" fill-opacity=\"1\" stroke=\"#000000\" stroke-opacity=\"1\" stroke-width=\"3.2\"/>\n",
              "<path clip-path=\"url(#clip672)\" d=\"M1088.63 1081.44 L1077.32 1076.75 L1072.63 1065.44 L1077.32 1054.13 L1088.63 1049.44 L1099.94 1054.13 L1104.63 1065.44 L1099.94 1076.75 Z\" fill=\"#009af9\" fill-rule=\"evenodd\" fill-opacity=\"1\" stroke=\"#000000\" stroke-opacity=\"1\" stroke-width=\"3.2\"/>\n",
              "<path clip-path=\"url(#clip672)\" d=\"M1109.71 659 L1098.4 654.312 L1093.71 643 L1098.4 631.688 L1109.71 627 L1121.02 631.688 L1125.71 643 L1121.02 654.312 Z\" fill=\"#009af9\" fill-rule=\"evenodd\" fill-opacity=\"1\" stroke=\"#000000\" stroke-opacity=\"1\" stroke-width=\"3.2\"/>\n",
              "<path clip-path=\"url(#clip672)\" d=\"M1130.79 1380.21 L1119.48 1375.52 L1114.79 1364.21 L1119.48 1352.89 L1130.79 1348.21 L1142.1 1352.89 L1146.79 1364.21 L1142.1 1375.52 Z\" fill=\"#009af9\" fill-rule=\"evenodd\" fill-opacity=\"1\" stroke=\"#000000\" stroke-opacity=\"1\" stroke-width=\"3.2\"/>\n",
              "<path clip-path=\"url(#clip672)\" d=\"M1151.87 597.684 L1140.56 592.996 L1135.87 581.684 L1140.56 570.372 L1151.87 565.684 L1163.18 570.372 L1167.87 581.684 L1163.18 592.996 Z\" fill=\"#009af9\" fill-rule=\"evenodd\" fill-opacity=\"1\" stroke=\"#000000\" stroke-opacity=\"1\" stroke-width=\"3.2\"/>\n",
              "<path clip-path=\"url(#clip672)\" d=\"M1172.95 886.882 L1161.64 882.194 L1156.95 870.882 L1161.64 859.57 L1172.95 854.882 L1184.26 859.57 L1188.95 870.882 L1184.26 882.194 Z\" fill=\"#009af9\" fill-rule=\"evenodd\" fill-opacity=\"1\" stroke=\"#000000\" stroke-opacity=\"1\" stroke-width=\"3.2\"/>\n",
              "<path clip-path=\"url(#clip672)\" d=\"M1194.03 1235.36 L1182.72 1230.67 L1178.03 1219.36 L1182.72 1208.05 L1194.03 1203.36 L1205.34 1208.05 L1210.03 1219.36 L1205.34 1230.67 Z\" fill=\"#009af9\" fill-rule=\"evenodd\" fill-opacity=\"1\" stroke=\"#000000\" stroke-opacity=\"1\" stroke-width=\"3.2\"/>\n",
              "<path clip-path=\"url(#clip672)\" d=\"M1215.11 1212.18 L1203.79 1207.5 L1199.11 1196.18 L1203.79 1184.87 L1215.11 1180.18 L1226.42 1184.87 L1231.11 1196.18 L1226.42 1207.5 Z\" fill=\"#009af9\" fill-rule=\"evenodd\" fill-opacity=\"1\" stroke=\"#000000\" stroke-opacity=\"1\" stroke-width=\"3.2\"/>\n",
              "<path clip-path=\"url(#clip672)\" d=\"M1236.19 814.625 L1224.87 809.937 L1220.19 798.625 L1224.87 787.313 L1236.19 782.625 L1247.5 787.313 L1252.19 798.625 L1247.5 809.937 Z\" fill=\"#009af9\" fill-rule=\"evenodd\" fill-opacity=\"1\" stroke=\"#000000\" stroke-opacity=\"1\" stroke-width=\"3.2\"/>\n",
              "<path clip-path=\"url(#clip672)\" d=\"M1257.27 1318.9 L1245.95 1314.21 L1241.27 1302.9 L1245.95 1291.58 L1257.27 1286.9 L1268.58 1291.58 L1273.27 1302.9 L1268.58 1314.21 Z\" fill=\"#009af9\" fill-rule=\"evenodd\" fill-opacity=\"1\" stroke=\"#000000\" stroke-opacity=\"1\" stroke-width=\"3.2\"/>\n",
              "<path clip-path=\"url(#clip672)\" d=\"M1278.34 594.468 L1267.03 589.78 L1262.34 578.468 L1267.03 567.156 L1278.34 562.468 L1289.66 567.156 L1294.34 578.468 L1289.66 589.78 Z\" fill=\"#009af9\" fill-rule=\"evenodd\" fill-opacity=\"1\" stroke=\"#000000\" stroke-opacity=\"1\" stroke-width=\"3.2\"/>\n",
              "<path clip-path=\"url(#clip672)\" d=\"M1299.42 661.159 L1288.11 656.471 L1283.42 645.159 L1288.11 633.847 L1299.42 629.159 L1310.74 633.847 L1315.42 645.159 L1310.74 656.471 Z\" fill=\"#009af9\" fill-rule=\"evenodd\" fill-opacity=\"1\" stroke=\"#000000\" stroke-opacity=\"1\" stroke-width=\"3.2\"/>\n",
              "<path clip-path=\"url(#clip672)\" d=\"M1320.5 742.035 L1309.19 737.347 L1304.5 726.035 L1309.19 714.723 L1320.5 710.035 L1331.82 714.723 L1336.5 726.035 L1331.82 737.347 Z\" fill=\"#009af9\" fill-rule=\"evenodd\" fill-opacity=\"1\" stroke=\"#000000\" stroke-opacity=\"1\" stroke-width=\"3.2\"/>\n",
              "<path clip-path=\"url(#clip672)\" d=\"M1341.58 1148.9 L1330.27 1144.22 L1325.58 1132.9 L1330.27 1121.59 L1341.58 1116.9 L1352.89 1121.59 L1357.58 1132.9 L1352.89 1144.22 Z\" fill=\"#009af9\" fill-rule=\"evenodd\" fill-opacity=\"1\" stroke=\"#000000\" stroke-opacity=\"1\" stroke-width=\"3.2\"/>\n",
              "<path clip-path=\"url(#clip672)\" d=\"M1362.66 893.771 L1351.35 889.083 L1346.66 877.771 L1351.35 866.459 L1362.66 861.771 L1373.97 866.459 L1378.66 877.771 L1373.97 889.083 Z\" fill=\"#009af9\" fill-rule=\"evenodd\" fill-opacity=\"1\" stroke=\"#000000\" stroke-opacity=\"1\" stroke-width=\"3.2\"/>\n",
              "<path clip-path=\"url(#clip672)\" d=\"M1383.74 613.285 L1372.43 608.597 L1367.74 597.285 L1372.43 585.973 L1383.74 581.285 L1395.05 585.973 L1399.74 597.285 L1395.05 608.597 Z\" fill=\"#009af9\" fill-rule=\"evenodd\" fill-opacity=\"1\" stroke=\"#000000\" stroke-opacity=\"1\" stroke-width=\"3.2\"/>\n",
              "<path clip-path=\"url(#clip672)\" d=\"M1404.82 1311.24 L1393.51 1306.55 L1388.82 1295.24 L1393.51 1283.93 L1404.82 1279.24 L1416.13 1283.93 L1420.82 1295.24 L1416.13 1306.55 Z\" fill=\"#009af9\" fill-rule=\"evenodd\" fill-opacity=\"1\" stroke=\"#000000\" stroke-opacity=\"1\" stroke-width=\"3.2\"/>\n",
              "<path clip-path=\"url(#clip672)\" d=\"M1425.9 1001.96 L1414.59 997.269 L1409.9 985.957 L1414.59 974.645 L1425.9 969.957 L1437.21 974.645 L1441.9 985.957 L1437.21 997.269 Z\" fill=\"#009af9\" fill-rule=\"evenodd\" fill-opacity=\"1\" stroke=\"#000000\" stroke-opacity=\"1\" stroke-width=\"3.2\"/>\n",
              "<path clip-path=\"url(#clip672)\" d=\"M1446.98 793.767 L1435.67 789.079 L1430.98 777.767 L1435.67 766.455 L1446.98 761.767 L1458.29 766.455 L1462.98 777.767 L1458.29 789.079 Z\" fill=\"#009af9\" fill-rule=\"evenodd\" fill-opacity=\"1\" stroke=\"#000000\" stroke-opacity=\"1\" stroke-width=\"3.2\"/>\n",
              "<path clip-path=\"url(#clip672)\" d=\"M1468.06 1227.13 L1456.75 1222.44 L1452.06 1211.13 L1456.75 1199.82 L1468.06 1195.13 L1479.37 1199.82 L1484.06 1211.13 L1479.37 1222.44 Z\" fill=\"#009af9\" fill-rule=\"evenodd\" fill-opacity=\"1\" stroke=\"#000000\" stroke-opacity=\"1\" stroke-width=\"3.2\"/>\n",
              "<path clip-path=\"url(#clip672)\" d=\"M1489.14 1397.25 L1477.83 1392.56 L1473.14 1381.25 L1477.83 1369.94 L1489.14 1365.25 L1500.45 1369.94 L1505.14 1381.25 L1500.45 1392.56 Z\" fill=\"#009af9\" fill-rule=\"evenodd\" fill-opacity=\"1\" stroke=\"#000000\" stroke-opacity=\"1\" stroke-width=\"3.2\"/>\n",
              "<path clip-path=\"url(#clip672)\" d=\"M1510.22 1045.23 L1498.9 1040.54 L1494.22 1029.23 L1498.9 1017.92 L1510.22 1013.23 L1521.53 1017.92 L1526.22 1029.23 L1521.53 1040.54 Z\" fill=\"#009af9\" fill-rule=\"evenodd\" fill-opacity=\"1\" stroke=\"#000000\" stroke-opacity=\"1\" stroke-width=\"3.2\"/>\n",
              "<path clip-path=\"url(#clip672)\" d=\"M1531.3 1305.92 L1519.98 1301.24 L1515.3 1289.92 L1519.98 1278.61 L1531.3 1273.92 L1542.61 1278.61 L1547.3 1289.92 L1542.61 1301.24 Z\" fill=\"#009af9\" fill-rule=\"evenodd\" fill-opacity=\"1\" stroke=\"#000000\" stroke-opacity=\"1\" stroke-width=\"3.2\"/>\n",
              "<path clip-path=\"url(#clip672)\" d=\"M1552.38 1133.05 L1541.06 1128.36 L1536.38 1117.05 L1541.06 1105.74 L1552.38 1101.05 L1563.69 1105.74 L1568.38 1117.05 L1563.69 1128.36 Z\" fill=\"#009af9\" fill-rule=\"evenodd\" fill-opacity=\"1\" stroke=\"#000000\" stroke-opacity=\"1\" stroke-width=\"3.2\"/>\n",
              "<path clip-path=\"url(#clip672)\" d=\"M1573.45 1287.69 L1562.14 1283.01 L1557.45 1271.69 L1562.14 1260.38 L1573.45 1255.69 L1584.77 1260.38 L1589.45 1271.69 L1584.77 1283.01 Z\" fill=\"#009af9\" fill-rule=\"evenodd\" fill-opacity=\"1\" stroke=\"#000000\" stroke-opacity=\"1\" stroke-width=\"3.2\"/>\n",
              "<path clip-path=\"url(#clip672)\" d=\"M1594.53 1390.98 L1583.22 1386.29 L1578.53 1374.98 L1583.22 1363.67 L1594.53 1358.98 L1605.85 1363.67 L1610.53 1374.98 L1605.85 1386.29 Z\" fill=\"#009af9\" fill-rule=\"evenodd\" fill-opacity=\"1\" stroke=\"#000000\" stroke-opacity=\"1\" stroke-width=\"3.2\"/>\n",
              "<path clip-path=\"url(#clip672)\" d=\"M1615.61 1271.22 L1604.3 1266.53 L1599.61 1255.22 L1604.3 1243.9 L1615.61 1239.22 L1626.93 1243.9 L1631.61 1255.22 L1626.93 1266.53 Z\" fill=\"#009af9\" fill-rule=\"evenodd\" fill-opacity=\"1\" stroke=\"#000000\" stroke-opacity=\"1\" stroke-width=\"3.2\"/>\n",
              "<path clip-path=\"url(#clip672)\" d=\"M1636.69 776.845 L1625.38 772.157 L1620.69 760.845 L1625.38 749.533 L1636.69 744.845 L1648 749.533 L1652.69 760.845 L1648 772.157 Z\" fill=\"#009af9\" fill-rule=\"evenodd\" fill-opacity=\"1\" stroke=\"#000000\" stroke-opacity=\"1\" stroke-width=\"3.2\"/>\n",
              "<path clip-path=\"url(#clip672)\" d=\"M1657.77 1119.74 L1646.46 1115.05 L1641.77 1103.74 L1646.46 1092.43 L1657.77 1087.74 L1669.08 1092.43 L1673.77 1103.74 L1669.08 1115.05 Z\" fill=\"#009af9\" fill-rule=\"evenodd\" fill-opacity=\"1\" stroke=\"#000000\" stroke-opacity=\"1\" stroke-width=\"3.2\"/>\n",
              "<path clip-path=\"url(#clip672)\" d=\"M1678.85 792.712 L1667.54 788.024 L1662.85 776.712 L1667.54 765.4 L1678.85 760.712 L1690.16 765.4 L1694.85 776.712 L1690.16 788.024 Z\" fill=\"#009af9\" fill-rule=\"evenodd\" fill-opacity=\"1\" stroke=\"#000000\" stroke-opacity=\"1\" stroke-width=\"3.2\"/>\n",
              "<path clip-path=\"url(#clip672)\" d=\"M1699.93 1273.9 L1688.62 1269.21 L1683.93 1257.9 L1688.62 1246.59 L1699.93 1241.9 L1711.24 1246.59 L1715.93 1257.9 L1711.24 1269.21 Z\" fill=\"#009af9\" fill-rule=\"evenodd\" fill-opacity=\"1\" stroke=\"#000000\" stroke-opacity=\"1\" stroke-width=\"3.2\"/>\n",
              "<path clip-path=\"url(#clip672)\" d=\"M1721.01 1411.49 L1709.7 1406.8 L1705.01 1395.49 L1709.7 1384.18 L1721.01 1379.49 L1732.32 1384.18 L1737.01 1395.49 L1732.32 1406.8 Z\" fill=\"#009af9\" fill-rule=\"evenodd\" fill-opacity=\"1\" stroke=\"#000000\" stroke-opacity=\"1\" stroke-width=\"3.2\"/>\n",
              "<path clip-path=\"url(#clip672)\" d=\"M1742.09 856.754 L1730.78 852.066 L1726.09 840.754 L1730.78 829.442 L1742.09 824.754 L1753.4 829.442 L1758.09 840.754 L1753.4 852.066 Z\" fill=\"#009af9\" fill-rule=\"evenodd\" fill-opacity=\"1\" stroke=\"#000000\" stroke-opacity=\"1\" stroke-width=\"3.2\"/>\n",
              "<path clip-path=\"url(#clip672)\" d=\"M1763.17 1176.38 L1751.86 1171.7 L1747.17 1160.38 L1751.86 1149.07 L1763.17 1144.38 L1774.48 1149.07 L1779.17 1160.38 L1774.48 1171.7 Z\" fill=\"#009af9\" fill-rule=\"evenodd\" fill-opacity=\"1\" stroke=\"#000000\" stroke-opacity=\"1\" stroke-width=\"3.2\"/>\n",
              "<path clip-path=\"url(#clip672)\" d=\"M1784.25 485.736 L1772.94 481.048 L1768.25 469.736 L1772.94 458.424 L1784.25 453.736 L1795.56 458.424 L1800.25 469.736 L1795.56 481.048 Z\" fill=\"#009af9\" fill-rule=\"evenodd\" fill-opacity=\"1\" stroke=\"#000000\" stroke-opacity=\"1\" stroke-width=\"3.2\"/>\n",
              "<path clip-path=\"url(#clip672)\" d=\"M1805.33 1380.24 L1794.01 1375.55 L1789.33 1364.24 L1794.01 1352.93 L1805.33 1348.24 L1816.64 1352.93 L1821.33 1364.24 L1816.64 1375.55 Z\" fill=\"#009af9\" fill-rule=\"evenodd\" fill-opacity=\"1\" stroke=\"#000000\" stroke-opacity=\"1\" stroke-width=\"3.2\"/>\n",
              "<path clip-path=\"url(#clip672)\" d=\"M1826.41 1335.67 L1815.09 1330.98 L1810.41 1319.67 L1815.09 1308.36 L1826.41 1303.67 L1837.72 1308.36 L1842.41 1319.67 L1837.72 1330.98 Z\" fill=\"#009af9\" fill-rule=\"evenodd\" fill-opacity=\"1\" stroke=\"#000000\" stroke-opacity=\"1\" stroke-width=\"3.2\"/>\n",
              "<path clip-path=\"url(#clip672)\" d=\"M1847.49 1275.32 L1836.17 1270.64 L1831.49 1259.32 L1836.17 1248.01 L1847.49 1243.32 L1858.8 1248.01 L1863.49 1259.32 L1858.8 1270.64 Z\" fill=\"#009af9\" fill-rule=\"evenodd\" fill-opacity=\"1\" stroke=\"#000000\" stroke-opacity=\"1\" stroke-width=\"3.2\"/>\n",
              "<path clip-path=\"url(#clip672)\" d=\"M1868.56 966.203 L1857.25 961.515 L1852.56 950.203 L1857.25 938.891 L1868.56 934.203 L1879.88 938.891 L1884.56 950.203 L1879.88 961.515 Z\" fill=\"#009af9\" fill-rule=\"evenodd\" fill-opacity=\"1\" stroke=\"#000000\" stroke-opacity=\"1\" stroke-width=\"3.2\"/>\n",
              "<path clip-path=\"url(#clip672)\" d=\"M1889.64 991.922 L1878.33 987.234 L1873.64 975.922 L1878.33 964.61 L1889.64 959.922 L1900.96 964.61 L1905.64 975.922 L1900.96 987.234 Z\" fill=\"#009af9\" fill-rule=\"evenodd\" fill-opacity=\"1\" stroke=\"#000000\" stroke-opacity=\"1\" stroke-width=\"3.2\"/>\n",
              "<path clip-path=\"url(#clip672)\" d=\"M1910.72 950.222 L1899.41 945.534 L1894.72 934.222 L1899.41 922.91 L1910.72 918.222 L1922.04 922.91 L1926.72 934.222 L1922.04 945.534 Z\" fill=\"#009af9\" fill-rule=\"evenodd\" fill-opacity=\"1\" stroke=\"#000000\" stroke-opacity=\"1\" stroke-width=\"3.2\"/>\n",
              "<path clip-path=\"url(#clip672)\" d=\"M1931.8 725.68 L1920.49 720.992 L1915.8 709.68 L1920.49 698.368 L1931.8 693.68 L1943.11 698.368 L1947.8 709.68 L1943.11 720.992 Z\" fill=\"#009af9\" fill-rule=\"evenodd\" fill-opacity=\"1\" stroke=\"#000000\" stroke-opacity=\"1\" stroke-width=\"3.2\"/>\n",
              "<path clip-path=\"url(#clip672)\" d=\"M1952.88 1019.68 L1941.57 1014.99 L1936.88 1003.68 L1941.57 992.364 L1952.88 987.676 L1964.19 992.364 L1968.88 1003.68 L1964.19 1014.99 Z\" fill=\"#009af9\" fill-rule=\"evenodd\" fill-opacity=\"1\" stroke=\"#000000\" stroke-opacity=\"1\" stroke-width=\"3.2\"/>\n",
              "<path clip-path=\"url(#clip672)\" d=\"M1973.96 992.147 L1962.65 987.459 L1957.96 976.147 L1962.65 964.835 L1973.96 960.147 L1985.27 964.835 L1989.96 976.147 L1985.27 987.459 Z\" fill=\"#009af9\" fill-rule=\"evenodd\" fill-opacity=\"1\" stroke=\"#000000\" stroke-opacity=\"1\" stroke-width=\"3.2\"/>\n",
              "<path clip-path=\"url(#clip672)\" d=\"M1995.04 1289.29 L1983.73 1284.61 L1979.04 1273.29 L1983.73 1261.98 L1995.04 1257.29 L2006.35 1261.98 L2011.04 1273.29 L2006.35 1284.61 Z\" fill=\"#009af9\" fill-rule=\"evenodd\" fill-opacity=\"1\" stroke=\"#000000\" stroke-opacity=\"1\" stroke-width=\"3.2\"/>\n",
              "<path clip-path=\"url(#clip672)\" d=\"M2016.12 776.918 L2004.81 772.23 L2000.12 760.918 L2004.81 749.606 L2016.12 744.918 L2027.43 749.606 L2032.12 760.918 L2027.43 772.23 Z\" fill=\"#009af9\" fill-rule=\"evenodd\" fill-opacity=\"1\" stroke=\"#000000\" stroke-opacity=\"1\" stroke-width=\"3.2\"/>\n",
              "<path clip-path=\"url(#clip672)\" d=\"M2037.2 1099.67 L2025.89 1094.98 L2021.2 1083.67 L2025.89 1072.36 L2037.2 1067.67 L2048.51 1072.36 L2053.2 1083.67 L2048.51 1094.98 Z\" fill=\"#009af9\" fill-rule=\"evenodd\" fill-opacity=\"1\" stroke=\"#000000\" stroke-opacity=\"1\" stroke-width=\"3.2\"/>\n",
              "<path clip-path=\"url(#clip672)\" d=\"M2058.28 1439.39 L2046.97 1434.7 L2042.28 1423.39 L2046.97 1412.08 L2058.28 1407.39 L2069.59 1412.08 L2074.28 1423.39 L2069.59 1434.7 Z\" fill=\"#009af9\" fill-rule=\"evenodd\" fill-opacity=\"1\" stroke=\"#000000\" stroke-opacity=\"1\" stroke-width=\"3.2\"/>\n",
              "<path clip-path=\"url(#clip672)\" d=\"M2079.36 103.976 L2068.05 99.2883 L2063.36 87.9763 L2068.05 76.6643 L2079.36 71.9763 L2090.67 76.6643 L2095.36 87.9763 L2090.67 99.2883 Z\" fill=\"#009af9\" fill-rule=\"evenodd\" fill-opacity=\"1\" stroke=\"#000000\" stroke-opacity=\"1\" stroke-width=\"3.2\"/>\n",
              "<path clip-path=\"url(#clip672)\" d=\"M2100.44 1232.67 L2089.12 1227.98 L2084.44 1216.67 L2089.12 1205.36 L2100.44 1200.67 L2111.75 1205.36 L2116.44 1216.67 L2111.75 1227.98 Z\" fill=\"#009af9\" fill-rule=\"evenodd\" fill-opacity=\"1\" stroke=\"#000000\" stroke-opacity=\"1\" stroke-width=\"3.2\"/>\n",
              "<path clip-path=\"url(#clip672)\" d=\"M2121.52 489.517 L2110.2 484.829 L2105.52 473.517 L2110.2 462.205 L2121.52 457.517 L2132.83 462.205 L2137.52 473.517 L2132.83 484.829 Z\" fill=\"#009af9\" fill-rule=\"evenodd\" fill-opacity=\"1\" stroke=\"#000000\" stroke-opacity=\"1\" stroke-width=\"3.2\"/>\n",
              "<path clip-path=\"url(#clip672)\" d=\"M2142.6 415.858 L2131.28 411.17 L2126.6 399.858 L2131.28 388.546 L2142.6 383.858 L2153.91 388.546 L2158.6 399.858 L2153.91 411.17 Z\" fill=\"#009af9\" fill-rule=\"evenodd\" fill-opacity=\"1\" stroke=\"#000000\" stroke-opacity=\"1\" stroke-width=\"3.2\"/>\n",
              "<path clip-path=\"url(#clip672)\" d=\"M2163.67 744.897 L2152.36 740.209 L2147.67 728.897 L2152.36 717.585 L2163.67 712.897 L2174.99 717.585 L2179.67 728.897 L2174.99 740.209 Z\" fill=\"#009af9\" fill-rule=\"evenodd\" fill-opacity=\"1\" stroke=\"#000000\" stroke-opacity=\"1\" stroke-width=\"3.2\"/>\n",
              "<path clip-path=\"url(#clip672)\" d=\"M2184.75 1386.94 L2173.44 1382.25 L2168.75 1370.94 L2173.44 1359.62 L2184.75 1354.94 L2196.07 1359.62 L2200.75 1370.94 L2196.07 1382.25 Z\" fill=\"#009af9\" fill-rule=\"evenodd\" fill-opacity=\"1\" stroke=\"#000000\" stroke-opacity=\"1\" stroke-width=\"3.2\"/>\n",
              "<path clip-path=\"url(#clip672)\" d=\"M2205.83 1411.94 L2194.52 1407.25 L2189.83 1395.94 L2194.52 1384.62 L2205.83 1379.94 L2217.15 1384.62 L2221.83 1395.94 L2217.15 1407.25 Z\" fill=\"#009af9\" fill-rule=\"evenodd\" fill-opacity=\"1\" stroke=\"#000000\" stroke-opacity=\"1\" stroke-width=\"3.2\"/>\n",
              "<path clip-path=\"url(#clip672)\" d=\"M2226.91 981.684 L2215.6 976.996 L2210.91 965.684 L2215.6 954.372 L2226.91 949.684 L2238.22 954.372 L2242.91 965.684 L2238.22 976.996 Z\" fill=\"#009af9\" fill-rule=\"evenodd\" fill-opacity=\"1\" stroke=\"#000000\" stroke-opacity=\"1\" stroke-width=\"3.2\"/>\n",
              "<path clip-path=\"url(#clip672)\" d=\"M2247.99 1373 L2236.68 1368.32 L2231.99 1357 L2236.68 1345.69 L2247.99 1341 L2259.3 1345.69 L2263.99 1357 L2259.3 1368.32 Z\" fill=\"#009af9\" fill-rule=\"evenodd\" fill-opacity=\"1\" stroke=\"#000000\" stroke-opacity=\"1\" stroke-width=\"3.2\"/>\n",
              "<path clip-path=\"url(#clip672)\" d=\"M2269.07 685.991 L2257.76 681.303 L2253.07 669.991 L2257.76 658.679 L2269.07 653.991 L2280.38 658.679 L2285.07 669.991 L2280.38 681.303 Z\" fill=\"#009af9\" fill-rule=\"evenodd\" fill-opacity=\"1\" stroke=\"#000000\" stroke-opacity=\"1\" stroke-width=\"3.2\"/>\n",
              "<path clip-path=\"url(#clip672)\" d=\"M2290.15 601.144 L2278.84 596.456 L2274.15 585.144 L2278.84 573.832 L2290.15 569.144 L2301.46 573.832 L2306.15 585.144 L2301.46 596.456 Z\" fill=\"#009af9\" fill-rule=\"evenodd\" fill-opacity=\"1\" stroke=\"#000000\" stroke-opacity=\"1\" stroke-width=\"3.2\"/>\n",
              "<polyline clip-path=\"url(#clip672)\" style=\"stroke:#ff0000; stroke-linecap:round; stroke-linejoin:round; stroke-width:4; stroke-opacity:1; fill:none\" stroke-dasharray=\"16, 10\" points=\"-2071.36,1445.72 4564.82,1445.72 \"/>\n",
              "<path clip-path=\"url(#clip670)\" d=\"M1753.51 250.738 L2279.02 250.738 L2279.02 95.2176 L1753.51 95.2176  Z\" fill=\"#ffffff\" fill-rule=\"evenodd\" fill-opacity=\"1\"/>\n",
              "<polyline clip-path=\"url(#clip670)\" style=\"stroke:#000000; stroke-linecap:round; stroke-linejoin:round; stroke-width:4; stroke-opacity:1; fill:none\" points=\"1753.51,250.738 2279.02,250.738 2279.02,95.2176 1753.51,95.2176 1753.51,250.738 \"/>\n",
              "<polyline clip-path=\"url(#clip670)\" style=\"stroke:#009af9; stroke-linecap:round; stroke-linejoin:round; stroke-width:4; stroke-opacity:1; fill:none\" points=\"1778.09,147.058 1925.56,147.058 \"/>\n",
              "<path clip-path=\"url(#clip670)\" d=\"M1851.82 169.813 L1835.74 163.146 L1829.07 147.058 L1835.74 130.969 L1851.82 124.302 L1867.91 130.969 L1874.58 147.058 L1867.91 163.146 Z\" fill=\"#009af9\" fill-rule=\"evenodd\" fill-opacity=\"1\" stroke=\"#000000\" stroke-opacity=\"1\" stroke-width=\"4.55111\"/>\n",
              "<path clip-path=\"url(#clip670)\" d=\"M1971.85 148.689 L1971.85 164.338 L1967.59 164.338 L1967.59 148.828 Q1967.59 145.148 1966.16 143.319 Q1964.72 141.49 1961.85 141.49 Q1958.4 141.49 1956.41 143.69 Q1954.42 145.889 1954.42 149.685 L1954.42 164.338 L1950.14 164.338 L1950.14 138.412 L1954.42 138.412 L1954.42 142.44 Q1955.95 140.102 1958.01 138.944 Q1960.09 137.787 1962.8 137.787 Q1967.27 137.787 1969.56 140.565 Q1971.85 143.319 1971.85 148.689 Z\" fill=\"#000000\" fill-rule=\"nonzero\" fill-opacity=\"1\" /><path clip-path=\"url(#clip670)\" d=\"M1990.39 141.398 Q1986.97 141.398 1984.98 144.083 Q1982.99 146.745 1982.99 151.398 Q1982.99 156.051 1984.95 158.736 Q1986.94 161.398 1990.39 161.398 Q1993.8 161.398 1995.79 158.713 Q1997.78 156.027 1997.78 151.398 Q1997.78 146.791 1995.79 144.106 Q1993.8 141.398 1990.39 141.398 M1990.39 137.787 Q1995.95 137.787 1999.12 141.398 Q2002.29 145.009 2002.29 151.398 Q2002.29 157.764 1999.12 161.398 Q1995.95 165.009 1990.39 165.009 Q1984.81 165.009 1981.64 161.398 Q1978.49 157.764 1978.49 151.398 Q1978.49 145.009 1981.64 141.398 Q1984.81 137.787 1990.39 137.787 Z\" fill=\"#000000\" fill-rule=\"nonzero\" fill-opacity=\"1\" /><path clip-path=\"url(#clip670)\" d=\"M2024.37 142.393 Q2023.66 141.977 2022.8 141.791 Q2021.97 141.583 2020.95 141.583 Q2017.34 141.583 2015.39 143.944 Q2013.47 146.282 2013.47 150.68 L2013.47 164.338 L2009.19 164.338 L2009.19 138.412 L2013.47 138.412 L2013.47 142.44 Q2014.81 140.078 2016.97 138.944 Q2019.12 137.787 2022.2 137.787 Q2022.64 137.787 2023.17 137.856 Q2023.7 137.903 2024.35 138.018 L2024.37 142.393 Z\" fill=\"#000000\" fill-rule=\"nonzero\" fill-opacity=\"1\" /><path clip-path=\"url(#clip670)\" d=\"M2048.19 143.389 Q2049.79 140.518 2052.01 139.153 Q2054.23 137.787 2057.24 137.787 Q2061.29 137.787 2063.49 140.634 Q2065.69 143.458 2065.69 148.689 L2065.69 164.338 L2061.41 164.338 L2061.41 148.828 Q2061.41 145.102 2060.09 143.296 Q2058.77 141.49 2056.06 141.49 Q2052.75 141.49 2050.83 143.69 Q2048.91 145.889 2048.91 149.685 L2048.91 164.338 L2044.63 164.338 L2044.63 148.828 Q2044.63 145.078 2043.31 143.296 Q2041.99 141.49 2039.23 141.49 Q2035.97 141.49 2034.05 143.713 Q2032.13 145.912 2032.13 149.685 L2032.13 164.338 L2027.85 164.338 L2027.85 138.412 L2032.13 138.412 L2032.13 142.44 Q2033.59 140.055 2035.62 138.921 Q2037.66 137.787 2040.46 137.787 Q2043.29 137.787 2045.25 139.222 Q2047.24 140.657 2048.19 143.389 Z\" fill=\"#000000\" fill-rule=\"nonzero\" fill-opacity=\"1\" /><path clip-path=\"url(#clip670)\" d=\"M2085.97 151.305 Q2080.81 151.305 2078.82 152.486 Q2076.83 153.666 2076.83 156.514 Q2076.83 158.782 2078.31 160.125 Q2079.81 161.444 2082.38 161.444 Q2085.92 161.444 2088.05 158.944 Q2090.21 156.421 2090.21 152.254 L2090.21 151.305 L2085.97 151.305 M2094.47 149.546 L2094.47 164.338 L2090.21 164.338 L2090.21 160.402 Q2088.75 162.763 2086.57 163.898 Q2084.4 165.009 2081.25 165.009 Q2077.27 165.009 2074.91 162.787 Q2072.57 160.541 2072.57 156.791 Q2072.57 152.416 2075.48 150.194 Q2078.42 147.972 2084.23 147.972 L2090.21 147.972 L2090.21 147.555 Q2090.21 144.615 2088.26 143.018 Q2086.34 141.398 2082.85 141.398 Q2080.62 141.398 2078.52 141.93 Q2076.41 142.463 2074.47 143.527 L2074.47 139.592 Q2076.8 138.69 2079 138.25 Q2081.2 137.787 2083.29 137.787 Q2088.91 137.787 2091.69 140.703 Q2094.47 143.62 2094.47 149.546 Z\" fill=\"#000000\" fill-rule=\"nonzero\" fill-opacity=\"1\" /><path clip-path=\"url(#clip670)\" d=\"M2128.54 128.366 Q2125.44 133.69 2123.93 138.898 Q2122.43 144.106 2122.43 149.453 Q2122.43 154.801 2123.93 160.055 Q2125.46 165.287 2128.54 170.588 L2124.84 170.588 Q2121.36 165.148 2119.63 159.893 Q2117.92 154.639 2117.92 149.453 Q2117.92 144.291 2119.63 139.06 Q2121.34 133.828 2124.84 128.366 L2128.54 128.366 Z\" fill=\"#000000\" fill-rule=\"nonzero\" fill-opacity=\"1\" /><path clip-path=\"url(#clip670)\" d=\"M2148.54 134.384 L2142.2 151.583 L2154.91 151.583 L2148.54 134.384 M2145.9 129.778 L2151.2 129.778 L2164.37 164.338 L2159.51 164.338 L2156.36 155.472 L2140.79 155.472 L2137.64 164.338 L2132.71 164.338 L2145.9 129.778 Z\" fill=\"#000000\" fill-rule=\"nonzero\" fill-opacity=\"1\" /><path clip-path=\"url(#clip670)\" d=\"M2190.79 138.412 L2181.41 151.027 L2191.27 164.338 L2186.25 164.338 L2178.7 154.152 L2171.16 164.338 L2166.13 164.338 L2176.2 150.773 L2166.99 138.412 L2172.01 138.412 L2178.89 147.648 L2185.76 138.412 L2190.79 138.412 Z\" fill=\"#000000\" fill-rule=\"nonzero\" fill-opacity=\"1\" /><path clip-path=\"url(#clip670)\" d=\"M2195.14 149.453 L2207.61 149.453 L2207.61 153.25 L2195.14 153.25 L2195.14 149.453 Z\" fill=\"#000000\" fill-rule=\"nonzero\" fill-opacity=\"1\" /><path clip-path=\"url(#clip670)\" d=\"M2233.01 151.398 Q2233.01 146.699 2231.06 144.037 Q2229.14 141.352 2225.76 141.352 Q2222.38 141.352 2220.44 144.037 Q2218.52 146.699 2218.52 151.398 Q2218.52 156.097 2220.44 158.782 Q2222.38 161.444 2225.76 161.444 Q2229.14 161.444 2231.06 158.782 Q2233.01 156.097 2233.01 151.398 M2218.52 142.347 Q2219.86 140.032 2221.9 138.921 Q2223.96 137.787 2226.8 137.787 Q2231.53 137.787 2234.47 141.537 Q2237.43 145.287 2237.43 151.398 Q2237.43 157.509 2234.47 161.259 Q2231.53 165.009 2226.8 165.009 Q2223.96 165.009 2221.9 163.898 Q2219.86 162.763 2218.52 160.449 L2218.52 164.338 L2214.23 164.338 L2214.23 128.319 L2218.52 128.319 L2218.52 142.347 Z\" fill=\"#000000\" fill-rule=\"nonzero\" fill-opacity=\"1\" /><path clip-path=\"url(#clip670)\" d=\"M2243.82 128.366 L2247.52 128.366 Q2250.99 133.828 2252.71 139.06 Q2254.44 144.291 2254.44 149.453 Q2254.44 154.639 2252.71 159.893 Q2250.99 165.148 2247.52 170.588 L2243.82 170.588 Q2246.9 165.287 2248.4 160.055 Q2249.93 154.801 2249.93 149.453 Q2249.93 144.106 2248.4 138.898 Q2246.9 133.69 2243.82 128.366 Z\" fill=\"#000000\" fill-rule=\"nonzero\" fill-opacity=\"1\" /><polyline clip-path=\"url(#clip670)\" style=\"stroke:#ff0000; stroke-linecap:round; stroke-linejoin:round; stroke-width:4; stroke-opacity:1; fill:none\" stroke-dasharray=\"16, 10\" points=\"1778.09,198.898 1925.56,198.898 \"/>\n",
              "<path clip-path=\"url(#clip670)\" d=\"M1971.85 200.529 L1971.85 216.178 L1967.59 216.178 L1967.59 200.668 Q1967.59 196.988 1966.16 195.159 Q1964.72 193.33 1961.85 193.33 Q1958.4 193.33 1956.41 195.53 Q1954.42 197.729 1954.42 201.525 L1954.42 216.178 L1950.14 216.178 L1950.14 190.252 L1954.42 190.252 L1954.42 194.28 Q1955.95 191.942 1958.01 190.784 Q1960.09 189.627 1962.8 189.627 Q1967.27 189.627 1969.56 192.405 Q1971.85 195.159 1971.85 200.529 Z\" fill=\"#000000\" fill-rule=\"nonzero\" fill-opacity=\"1\" /><path clip-path=\"url(#clip670)\" d=\"M1990.39 193.238 Q1986.97 193.238 1984.98 195.923 Q1982.99 198.585 1982.99 203.238 Q1982.99 207.891 1984.95 210.576 Q1986.94 213.238 1990.39 213.238 Q1993.8 213.238 1995.79 210.553 Q1997.78 207.867 1997.78 203.238 Q1997.78 198.631 1995.79 195.946 Q1993.8 193.238 1990.39 193.238 M1990.39 189.627 Q1995.95 189.627 1999.12 193.238 Q2002.29 196.849 2002.29 203.238 Q2002.29 209.604 1999.12 213.238 Q1995.95 216.849 1990.39 216.849 Q1984.81 216.849 1981.64 213.238 Q1978.49 209.604 1978.49 203.238 Q1978.49 196.849 1981.64 193.238 Q1984.81 189.627 1990.39 189.627 Z\" fill=\"#000000\" fill-rule=\"nonzero\" fill-opacity=\"1\" /><path clip-path=\"url(#clip670)\" d=\"M2024.37 194.233 Q2023.66 193.817 2022.8 193.631 Q2021.97 193.423 2020.95 193.423 Q2017.34 193.423 2015.39 195.784 Q2013.47 198.122 2013.47 202.52 L2013.47 216.178 L2009.19 216.178 L2009.19 190.252 L2013.47 190.252 L2013.47 194.28 Q2014.81 191.918 2016.97 190.784 Q2019.12 189.627 2022.2 189.627 Q2022.64 189.627 2023.17 189.696 Q2023.7 189.743 2024.35 189.858 L2024.37 194.233 Z\" fill=\"#000000\" fill-rule=\"nonzero\" fill-opacity=\"1\" /><path clip-path=\"url(#clip670)\" d=\"M2048.19 195.229 Q2049.79 192.358 2052.01 190.993 Q2054.23 189.627 2057.24 189.627 Q2061.29 189.627 2063.49 192.474 Q2065.69 195.298 2065.69 200.529 L2065.69 216.178 L2061.41 216.178 L2061.41 200.668 Q2061.41 196.942 2060.09 195.136 Q2058.77 193.33 2056.06 193.33 Q2052.75 193.33 2050.83 195.53 Q2048.91 197.729 2048.91 201.525 L2048.91 216.178 L2044.63 216.178 L2044.63 200.668 Q2044.63 196.918 2043.31 195.136 Q2041.99 193.33 2039.23 193.33 Q2035.97 193.33 2034.05 195.553 Q2032.13 197.752 2032.13 201.525 L2032.13 216.178 L2027.85 216.178 L2027.85 190.252 L2032.13 190.252 L2032.13 194.28 Q2033.59 191.895 2035.62 190.761 Q2037.66 189.627 2040.46 189.627 Q2043.29 189.627 2045.25 191.062 Q2047.24 192.497 2048.19 195.229 Z\" fill=\"#000000\" fill-rule=\"nonzero\" fill-opacity=\"1\" /><path clip-path=\"url(#clip670)\" d=\"M2085.97 203.145 Q2080.81 203.145 2078.82 204.326 Q2076.83 205.506 2076.83 208.354 Q2076.83 210.622 2078.31 211.965 Q2079.81 213.284 2082.38 213.284 Q2085.92 213.284 2088.05 210.784 Q2090.21 208.261 2090.21 204.094 L2090.21 203.145 L2085.97 203.145 M2094.47 201.386 L2094.47 216.178 L2090.21 216.178 L2090.21 212.242 Q2088.75 214.603 2086.57 215.738 Q2084.4 216.849 2081.25 216.849 Q2077.27 216.849 2074.91 214.627 Q2072.57 212.381 2072.57 208.631 Q2072.57 204.256 2075.48 202.034 Q2078.42 199.812 2084.23 199.812 L2090.21 199.812 L2090.21 199.395 Q2090.21 196.455 2088.26 194.858 Q2086.34 193.238 2082.85 193.238 Q2080.62 193.238 2078.52 193.77 Q2076.41 194.303 2074.47 195.367 L2074.47 191.432 Q2076.8 190.53 2079 190.09 Q2081.2 189.627 2083.29 189.627 Q2088.91 189.627 2091.69 192.543 Q2094.47 195.46 2094.47 201.386 Z\" fill=\"#000000\" fill-rule=\"nonzero\" fill-opacity=\"1\" /><path clip-path=\"url(#clip670)\" d=\"M2113.47 180.206 Q2110.37 185.53 2108.86 190.738 Q2107.36 195.946 2107.36 201.293 Q2107.36 206.641 2108.86 211.895 Q2110.39 217.127 2113.47 222.428 L2109.77 222.428 Q2106.29 216.988 2104.56 211.733 Q2102.85 206.479 2102.85 201.293 Q2102.85 196.131 2104.56 190.9 Q2106.27 185.668 2109.77 180.206 L2113.47 180.206 Z\" fill=\"#000000\" fill-rule=\"nonzero\" fill-opacity=\"1\" /><path clip-path=\"url(#clip670)\" d=\"M2133.47 186.224 L2127.13 203.423 L2139.84 203.423 L2133.47 186.224 M2130.83 181.618 L2136.13 181.618 L2149.3 216.178 L2144.44 216.178 L2141.29 207.312 L2125.72 207.312 L2122.57 216.178 L2117.64 216.178 L2130.83 181.618 Z\" fill=\"#000000\" fill-rule=\"nonzero\" fill-opacity=\"1\" /><path clip-path=\"url(#clip670)\" d=\"M2161.73 218.585 Q2159.93 223.215 2158.22 224.627 Q2156.5 226.039 2153.63 226.039 L2150.23 226.039 L2150.23 222.474 L2152.73 222.474 Q2154.49 222.474 2155.46 221.64 Q2156.43 220.807 2157.61 217.705 L2158.38 215.761 L2147.89 190.252 L2152.41 190.252 L2160.51 210.529 L2168.61 190.252 L2173.12 190.252 L2161.73 218.585 Z\" fill=\"#000000\" fill-rule=\"nonzero\" fill-opacity=\"1\" /><path clip-path=\"url(#clip670)\" d=\"M2176.02 201.293 L2188.49 201.293 L2188.49 205.09 L2176.02 205.09 L2176.02 201.293 Z\" fill=\"#000000\" fill-rule=\"nonzero\" fill-opacity=\"1\" /><path clip-path=\"url(#clip670)\" d=\"M2213.89 203.238 Q2213.89 198.539 2211.94 195.877 Q2210.02 193.192 2206.64 193.192 Q2203.26 193.192 2201.32 195.877 Q2199.4 198.539 2199.4 203.238 Q2199.4 207.937 2201.32 210.622 Q2203.26 213.284 2206.64 213.284 Q2210.02 213.284 2211.94 210.622 Q2213.89 207.937 2213.89 203.238 M2199.4 194.187 Q2200.74 191.872 2202.78 190.761 Q2204.84 189.627 2207.68 189.627 Q2212.41 189.627 2215.35 193.377 Q2218.31 197.127 2218.31 203.238 Q2218.31 209.349 2215.35 213.099 Q2212.41 216.849 2207.68 216.849 Q2204.84 216.849 2202.78 215.738 Q2200.74 214.603 2199.4 212.289 L2199.4 216.178 L2195.11 216.178 L2195.11 180.159 L2199.4 180.159 L2199.4 194.187 Z\" fill=\"#000000\" fill-rule=\"nonzero\" fill-opacity=\"1\" /><path clip-path=\"url(#clip670)\" d=\"M2224.7 180.206 L2228.4 180.206 Q2231.87 185.668 2233.59 190.9 Q2235.32 196.131 2235.32 201.293 Q2235.32 206.479 2233.59 211.733 Q2231.87 216.988 2228.4 222.428 L2224.7 222.428 Q2227.78 217.127 2229.28 211.895 Q2230.81 206.641 2230.81 201.293 Q2230.81 195.946 2229.28 190.738 Q2227.78 185.53 2224.7 180.206 Z\" fill=\"#000000\" fill-rule=\"nonzero\" fill-opacity=\"1\" /></svg>\n"
            ],
            "image/svg+xml": "<?xml version=\"1.0\" encoding=\"utf-8\"?>\n<svg xmlns=\"http://www.w3.org/2000/svg\" xmlns:xlink=\"http://www.w3.org/1999/xlink\" width=\"600\" height=\"400\" viewBox=\"0 0 2400 1600\">\n<defs>\n  <clipPath id=\"clip620\">\n    <rect x=\"0\" y=\"0\" width=\"2400\" height=\"1600\"/>\n  </clipPath>\n</defs>\n<path clip-path=\"url(#clip620)\" d=\"M0 1600 L2400 1600 L2400 0 L0 0  Z\" fill=\"#ffffff\" fill-rule=\"evenodd\" fill-opacity=\"1\"/>\n<defs>\n  <clipPath id=\"clip621\">\n    <rect x=\"480\" y=\"0\" width=\"1681\" height=\"1600\"/>\n  </clipPath>\n</defs>\n<path clip-path=\"url(#clip620)\" d=\"M140.696 1486.45 L2352.76 1486.45 L2352.76 47.2441 L140.696 47.2441  Z\" fill=\"#ffffff\" fill-rule=\"evenodd\" fill-opacity=\"1\"/>\n<defs>\n  <clipPath id=\"clip622\">\n    <rect x=\"140\" y=\"47\" width=\"2213\" height=\"1440\"/>\n  </clipPath>\n</defs>\n<polyline clip-path=\"url(#clip622)\" style=\"stroke:#000000; stroke-linecap:round; stroke-linejoin:round; stroke-width:2; stroke-opacity:0.1; fill:none\" points=\"182.222,1486.45 182.222,47.2441 \"/>\n<polyline clip-path=\"url(#clip622)\" style=\"stroke:#000000; stroke-linecap:round; stroke-linejoin:round; stroke-width:2; stroke-opacity:0.1; fill:none\" points=\"709.204,1486.45 709.204,47.2441 \"/>\n<polyline clip-path=\"url(#clip622)\" style=\"stroke:#000000; stroke-linecap:round; stroke-linejoin:round; stroke-width:2; stroke-opacity:0.1; fill:none\" points=\"1236.19,1486.45 1236.19,47.2441 \"/>\n<polyline clip-path=\"url(#clip622)\" style=\"stroke:#000000; stroke-linecap:round; stroke-linejoin:round; stroke-width:2; stroke-opacity:0.1; fill:none\" points=\"1763.17,1486.45 1763.17,47.2441 \"/>\n<polyline clip-path=\"url(#clip622)\" style=\"stroke:#000000; stroke-linecap:round; stroke-linejoin:round; stroke-width:2; stroke-opacity:0.1; fill:none\" points=\"2290.15,1486.45 2290.15,47.2441 \"/>\n<polyline clip-path=\"url(#clip622)\" style=\"stroke:#000000; stroke-linecap:round; stroke-linejoin:round; stroke-width:2; stroke-opacity:0.1; fill:none\" points=\"140.696,1460.82 2352.76,1460.82 \"/>\n<polyline clip-path=\"url(#clip622)\" style=\"stroke:#000000; stroke-linecap:round; stroke-linejoin:round; stroke-width:2; stroke-opacity:0.1; fill:none\" points=\"140.696,1160.16 2352.76,1160.16 \"/>\n<polyline clip-path=\"url(#clip622)\" style=\"stroke:#000000; stroke-linecap:round; stroke-linejoin:round; stroke-width:2; stroke-opacity:0.1; fill:none\" points=\"140.696,859.501 2352.76,859.501 \"/>\n<polyline clip-path=\"url(#clip622)\" style=\"stroke:#000000; stroke-linecap:round; stroke-linejoin:round; stroke-width:2; stroke-opacity:0.1; fill:none\" points=\"140.696,558.84 2352.76,558.84 \"/>\n<polyline clip-path=\"url(#clip622)\" style=\"stroke:#000000; stroke-linecap:round; stroke-linejoin:round; stroke-width:2; stroke-opacity:0.1; fill:none\" points=\"140.696,258.178 2352.76,258.178 \"/>\n<polyline clip-path=\"url(#clip620)\" style=\"stroke:#000000; stroke-linecap:round; stroke-linejoin:round; stroke-width:4; stroke-opacity:1; fill:none\" points=\"140.696,1486.45 2352.76,1486.45 \"/>\n<polyline clip-path=\"url(#clip620)\" style=\"stroke:#000000; stroke-linecap:round; stroke-linejoin:round; stroke-width:4; stroke-opacity:1; fill:none\" points=\"182.222,1486.45 182.222,1467.55 \"/>\n<polyline clip-path=\"url(#clip620)\" style=\"stroke:#000000; stroke-linecap:round; stroke-linejoin:round; stroke-width:4; stroke-opacity:1; fill:none\" points=\"709.204,1486.45 709.204,1467.55 \"/>\n<polyline clip-path=\"url(#clip620)\" style=\"stroke:#000000; stroke-linecap:round; stroke-linejoin:round; stroke-width:4; stroke-opacity:1; fill:none\" points=\"1236.19,1486.45 1236.19,1467.55 \"/>\n<polyline clip-path=\"url(#clip620)\" style=\"stroke:#000000; stroke-linecap:round; stroke-linejoin:round; stroke-width:4; stroke-opacity:1; fill:none\" points=\"1763.17,1486.45 1763.17,1467.55 \"/>\n<polyline clip-path=\"url(#clip620)\" style=\"stroke:#000000; stroke-linecap:round; stroke-linejoin:round; stroke-width:4; stroke-opacity:1; fill:none\" points=\"2290.15,1486.45 2290.15,1467.55 \"/>\n<path clip-path=\"url(#clip620)\" d=\"M182.222 1517.37 Q178.611 1517.37 176.782 1520.93 Q174.976 1524.47 174.976 1531.6 Q174.976 1538.71 176.782 1542.27 Q178.611 1545.82 182.222 1545.82 Q185.856 1545.82 187.662 1542.27 Q189.49 1538.71 189.49 1531.6 Q189.49 1524.47 187.662 1520.93 Q185.856 1517.37 182.222 1517.37 M182.222 1513.66 Q188.032 1513.66 191.087 1518.27 Q194.166 1522.85 194.166 1531.6 Q194.166 1540.33 191.087 1544.94 Q188.032 1549.52 182.222 1549.52 Q176.412 1549.52 173.333 1544.94 Q170.277 1540.33 170.277 1531.6 Q170.277 1522.85 173.333 1518.27 Q176.412 1513.66 182.222 1513.66 Z\" fill=\"#000000\" fill-rule=\"nonzero\" fill-opacity=\"1\" /><path clip-path=\"url(#clip620)\" d=\"M688.475 1544.91 L704.794 1544.91 L704.794 1548.85 L682.85 1548.85 L682.85 1544.91 Q685.512 1542.16 690.095 1537.53 Q694.702 1532.88 695.882 1531.53 Q698.128 1529.01 699.007 1527.27 Q699.91 1525.51 699.91 1523.82 Q699.91 1521.07 697.966 1519.33 Q696.044 1517.6 692.942 1517.6 Q690.743 1517.6 688.29 1518.36 Q685.859 1519.13 683.081 1520.68 L683.081 1515.95 Q685.905 1514.82 688.359 1514.24 Q690.813 1513.66 692.85 1513.66 Q698.22 1513.66 701.415 1516.35 Q704.609 1519.03 704.609 1523.52 Q704.609 1525.65 703.799 1527.57 Q703.012 1529.47 700.905 1532.07 Q700.327 1532.74 697.225 1535.95 Q694.123 1539.15 688.475 1544.91 Z\" fill=\"#000000\" fill-rule=\"nonzero\" fill-opacity=\"1\" /><path clip-path=\"url(#clip620)\" d=\"M714.655 1514.29 L733.012 1514.29 L733.012 1518.22 L718.938 1518.22 L718.938 1526.7 Q719.956 1526.35 720.975 1526.19 Q721.993 1526 723.012 1526 Q728.799 1526 732.178 1529.17 Q735.558 1532.34 735.558 1537.76 Q735.558 1543.34 732.086 1546.44 Q728.614 1549.52 722.294 1549.52 Q720.118 1549.52 717.85 1549.15 Q715.604 1548.78 713.197 1548.04 L713.197 1543.34 Q715.28 1544.47 717.502 1545.03 Q719.725 1545.58 722.202 1545.58 Q726.206 1545.58 728.544 1543.48 Q730.882 1541.37 730.882 1537.76 Q730.882 1534.15 728.544 1532.04 Q726.206 1529.94 722.202 1529.94 Q720.327 1529.94 718.452 1530.35 Q716.6 1530.77 714.655 1531.65 L714.655 1514.29 Z\" fill=\"#000000\" fill-rule=\"nonzero\" fill-opacity=\"1\" /><path clip-path=\"url(#clip620)\" d=\"M1210.89 1514.29 L1229.24 1514.29 L1229.24 1518.22 L1215.17 1518.22 L1215.17 1526.7 Q1216.19 1526.35 1217.2 1526.19 Q1218.22 1526 1219.24 1526 Q1225.03 1526 1228.41 1529.17 Q1231.79 1532.34 1231.79 1537.76 Q1231.79 1543.34 1228.32 1546.44 Q1224.84 1549.52 1218.52 1549.52 Q1216.35 1549.52 1214.08 1549.15 Q1211.83 1548.78 1209.43 1548.04 L1209.43 1543.34 Q1211.51 1544.47 1213.73 1545.03 Q1215.95 1545.58 1218.43 1545.58 Q1222.44 1545.58 1224.77 1543.48 Q1227.11 1541.37 1227.11 1537.76 Q1227.11 1534.15 1224.77 1532.04 Q1222.44 1529.94 1218.43 1529.94 Q1216.56 1529.94 1214.68 1530.35 Q1212.83 1530.77 1210.89 1531.65 L1210.89 1514.29 Z\" fill=\"#000000\" fill-rule=\"nonzero\" fill-opacity=\"1\" /><path clip-path=\"url(#clip620)\" d=\"M1251 1517.37 Q1247.39 1517.37 1245.56 1520.93 Q1243.76 1524.47 1243.76 1531.6 Q1243.76 1538.71 1245.56 1542.27 Q1247.39 1545.82 1251 1545.82 Q1254.64 1545.82 1256.44 1542.27 Q1258.27 1538.71 1258.27 1531.6 Q1258.27 1524.47 1256.44 1520.93 Q1254.64 1517.37 1251 1517.37 M1251 1513.66 Q1256.81 1513.66 1259.87 1518.27 Q1262.95 1522.85 1262.95 1531.6 Q1262.95 1540.33 1259.87 1544.94 Q1256.81 1549.52 1251 1549.52 Q1245.19 1549.52 1242.11 1544.94 Q1239.06 1540.33 1239.06 1531.6 Q1239.06 1522.85 1242.11 1518.27 Q1245.19 1513.66 1251 1513.66 Z\" fill=\"#000000\" fill-rule=\"nonzero\" fill-opacity=\"1\" /><path clip-path=\"url(#clip620)\" d=\"M1737.02 1514.29 L1759.24 1514.29 L1759.24 1516.28 L1746.7 1548.85 L1741.81 1548.85 L1753.62 1518.22 L1737.02 1518.22 L1737.02 1514.29 Z\" fill=\"#000000\" fill-rule=\"nonzero\" fill-opacity=\"1\" /><path clip-path=\"url(#clip620)\" d=\"M1768.41 1514.29 L1786.77 1514.29 L1786.77 1518.22 L1772.69 1518.22 L1772.69 1526.7 Q1773.71 1526.35 1774.73 1526.19 Q1775.75 1526 1776.77 1526 Q1782.55 1526 1785.93 1529.17 Q1789.31 1532.34 1789.31 1537.76 Q1789.31 1543.34 1785.84 1546.44 Q1782.37 1549.52 1776.05 1549.52 Q1773.87 1549.52 1771.61 1549.15 Q1769.36 1548.78 1766.95 1548.04 L1766.95 1543.34 Q1769.04 1544.47 1771.26 1545.03 Q1773.48 1545.58 1775.96 1545.58 Q1779.96 1545.58 1782.3 1543.48 Q1784.64 1541.37 1784.64 1537.76 Q1784.64 1534.15 1782.3 1532.04 Q1779.96 1529.94 1775.96 1529.94 Q1774.08 1529.94 1772.21 1530.35 Q1770.36 1530.77 1768.41 1531.65 L1768.41 1514.29 Z\" fill=\"#000000\" fill-rule=\"nonzero\" fill-opacity=\"1\" /><path clip-path=\"url(#clip620)\" d=\"M2249.76 1544.91 L2257.4 1544.91 L2257.4 1518.55 L2249.09 1520.21 L2249.09 1515.95 L2257.35 1514.29 L2262.03 1514.29 L2262.03 1544.91 L2269.66 1544.91 L2269.66 1548.85 L2249.76 1548.85 L2249.76 1544.91 Z\" fill=\"#000000\" fill-rule=\"nonzero\" fill-opacity=\"1\" /><path clip-path=\"url(#clip620)\" d=\"M2289.11 1517.37 Q2285.5 1517.37 2283.67 1520.93 Q2281.86 1524.47 2281.86 1531.6 Q2281.86 1538.71 2283.67 1542.27 Q2285.5 1545.82 2289.11 1545.82 Q2292.74 1545.82 2294.55 1542.27 Q2296.38 1538.71 2296.38 1531.6 Q2296.38 1524.47 2294.55 1520.93 Q2292.74 1517.37 2289.11 1517.37 M2289.11 1513.66 Q2294.92 1513.66 2297.97 1518.27 Q2301.05 1522.85 2301.05 1531.6 Q2301.05 1540.33 2297.97 1544.94 Q2294.92 1549.52 2289.11 1549.52 Q2283.3 1549.52 2280.22 1544.94 Q2277.16 1540.33 2277.16 1531.6 Q2277.16 1522.85 2280.22 1518.27 Q2283.3 1513.66 2289.11 1513.66 Z\" fill=\"#000000\" fill-rule=\"nonzero\" fill-opacity=\"1\" /><path clip-path=\"url(#clip620)\" d=\"M2319.27 1517.37 Q2315.66 1517.37 2313.83 1520.93 Q2312.03 1524.47 2312.03 1531.6 Q2312.03 1538.71 2313.83 1542.27 Q2315.66 1545.82 2319.27 1545.82 Q2322.9 1545.82 2324.71 1542.27 Q2326.54 1538.71 2326.54 1531.6 Q2326.54 1524.47 2324.71 1520.93 Q2322.9 1517.37 2319.27 1517.37 M2319.27 1513.66 Q2325.08 1513.66 2328.14 1518.27 Q2331.22 1522.85 2331.22 1531.6 Q2331.22 1540.33 2328.14 1544.94 Q2325.08 1549.52 2319.27 1549.52 Q2313.46 1549.52 2310.38 1544.94 Q2307.33 1540.33 2307.33 1531.6 Q2307.33 1522.85 2310.38 1518.27 Q2313.46 1513.66 2319.27 1513.66 Z\" fill=\"#000000\" fill-rule=\"nonzero\" fill-opacity=\"1\" /><polyline clip-path=\"url(#clip620)\" style=\"stroke:#000000; stroke-linecap:round; stroke-linejoin:round; stroke-width:4; stroke-opacity:1; fill:none\" points=\"140.696,1486.45 140.696,47.2441 \"/>\n<polyline clip-path=\"url(#clip620)\" style=\"stroke:#000000; stroke-linecap:round; stroke-linejoin:round; stroke-width:4; stroke-opacity:1; fill:none\" points=\"140.696,1460.82 159.593,1460.82 \"/>\n<polyline clip-path=\"url(#clip620)\" style=\"stroke:#000000; stroke-linecap:round; stroke-linejoin:round; stroke-width:4; stroke-opacity:1; fill:none\" points=\"140.696,1160.16 159.593,1160.16 \"/>\n<polyline clip-path=\"url(#clip620)\" style=\"stroke:#000000; stroke-linecap:round; stroke-linejoin:round; stroke-width:4; stroke-opacity:1; fill:none\" points=\"140.696,859.501 159.593,859.501 \"/>\n<polyline clip-path=\"url(#clip620)\" style=\"stroke:#000000; stroke-linecap:round; stroke-linejoin:round; stroke-width:4; stroke-opacity:1; fill:none\" points=\"140.696,558.84 159.593,558.84 \"/>\n<polyline clip-path=\"url(#clip620)\" style=\"stroke:#000000; stroke-linecap:round; stroke-linejoin:round; stroke-width:4; stroke-opacity:1; fill:none\" points=\"140.696,258.178 159.593,258.178 \"/>\n<path clip-path=\"url(#clip620)\" d=\"M92.7512 1446.62 Q89.1401 1446.62 87.3114 1450.19 Q85.5058 1453.73 85.5058 1460.86 Q85.5058 1467.96 87.3114 1471.53 Q89.1401 1475.07 92.7512 1475.07 Q96.3854 1475.07 98.1909 1471.53 Q100.02 1467.96 100.02 1460.86 Q100.02 1453.73 98.1909 1450.19 Q96.3854 1446.62 92.7512 1446.62 M92.7512 1442.92 Q98.5613 1442.92 101.617 1447.52 Q104.696 1452.11 104.696 1460.86 Q104.696 1469.58 101.617 1474.19 Q98.5613 1478.77 92.7512 1478.77 Q86.941 1478.77 83.8623 1474.19 Q80.8068 1469.58 80.8068 1460.86 Q80.8068 1452.11 83.8623 1447.52 Q86.941 1442.92 92.7512 1442.92 Z\" fill=\"#000000\" fill-rule=\"nonzero\" fill-opacity=\"1\" /><path clip-path=\"url(#clip620)\" d=\"M83.7929 1142.88 L102.149 1142.88 L102.149 1146.82 L88.0753 1146.82 L88.0753 1155.29 Q89.0938 1154.94 90.1123 1154.78 Q91.1308 1154.59 92.1493 1154.59 Q97.9363 1154.59 101.316 1157.77 Q104.696 1160.94 104.696 1166.35 Q104.696 1171.93 101.223 1175.03 Q97.7511 1178.11 91.4317 1178.11 Q89.2558 1178.11 86.9873 1177.74 Q84.7419 1177.37 82.3346 1176.63 L82.3346 1171.93 Q84.4179 1173.07 86.6401 1173.62 Q88.8623 1174.18 91.3391 1174.18 Q95.3437 1174.18 97.6817 1172.07 Q100.02 1169.97 100.02 1166.35 Q100.02 1162.74 97.6817 1160.64 Q95.3437 1158.53 91.3391 1158.53 Q89.4641 1158.53 87.5892 1158.95 Q85.7373 1159.36 83.7929 1160.24 L83.7929 1142.88 Z\" fill=\"#000000\" fill-rule=\"nonzero\" fill-opacity=\"1\" /><path clip-path=\"url(#clip620)\" d=\"M53.3995 872.846 L61.0384 872.846 L61.0384 846.48 L52.7282 848.147 L52.7282 843.887 L60.9921 842.221 L65.668 842.221 L65.668 872.846 L73.3068 872.846 L73.3068 876.781 L53.3995 876.781 L53.3995 872.846 Z\" fill=\"#000000\" fill-rule=\"nonzero\" fill-opacity=\"1\" /><path clip-path=\"url(#clip620)\" d=\"M92.7512 845.299 Q89.1401 845.299 87.3114 848.864 Q85.5058 852.406 85.5058 859.536 Q85.5058 866.642 87.3114 870.207 Q89.1401 873.748 92.7512 873.748 Q96.3854 873.748 98.1909 870.207 Q100.02 866.642 100.02 859.536 Q100.02 852.406 98.1909 848.864 Q96.3854 845.299 92.7512 845.299 M92.7512 841.596 Q98.5613 841.596 101.617 846.202 Q104.696 850.786 104.696 859.536 Q104.696 868.262 101.617 872.869 Q98.5613 877.452 92.7512 877.452 Q86.941 877.452 83.8623 872.869 Q80.8068 868.262 80.8068 859.536 Q80.8068 850.786 83.8623 846.202 Q86.941 841.596 92.7512 841.596 Z\" fill=\"#000000\" fill-rule=\"nonzero\" fill-opacity=\"1\" /><path clip-path=\"url(#clip620)\" d=\"M54.3949 572.184 L62.0337 572.184 L62.0337 545.819 L53.7236 547.485 L53.7236 543.226 L61.9874 541.56 L66.6633 541.56 L66.6633 572.184 L74.3022 572.184 L74.3022 576.12 L54.3949 576.12 L54.3949 572.184 Z\" fill=\"#000000\" fill-rule=\"nonzero\" fill-opacity=\"1\" /><path clip-path=\"url(#clip620)\" d=\"M83.7929 541.56 L102.149 541.56 L102.149 545.495 L88.0753 545.495 L88.0753 553.967 Q89.0938 553.62 90.1123 553.458 Q91.1308 553.272 92.1493 553.272 Q97.9363 553.272 101.316 556.444 Q104.696 559.615 104.696 565.032 Q104.696 570.61 101.223 573.712 Q97.7511 576.791 91.4317 576.791 Q89.2558 576.791 86.9873 576.42 Q84.7419 576.05 82.3346 575.309 L82.3346 570.61 Q84.4179 571.745 86.6401 572.3 Q88.8623 572.856 91.3391 572.856 Q95.3437 572.856 97.6817 570.749 Q100.02 568.643 100.02 565.032 Q100.02 561.421 97.6817 559.314 Q95.3437 557.208 91.3391 557.208 Q89.4641 557.208 87.5892 557.624 Q85.7373 558.041 83.7929 558.921 L83.7929 541.56 Z\" fill=\"#000000\" fill-rule=\"nonzero\" fill-opacity=\"1\" /><path clip-path=\"url(#clip620)\" d=\"M56.6171 271.523 L72.9365 271.523 L72.9365 275.458 L50.9921 275.458 L50.9921 271.523 Q53.6541 268.768 58.2375 264.139 Q62.8439 259.486 64.0245 258.144 Q66.2698 255.62 67.1494 253.884 Q68.0522 252.125 68.0522 250.435 Q68.0522 247.681 66.1078 245.945 Q64.1865 244.208 61.0847 244.208 Q58.8856 244.208 56.4319 244.972 Q54.0014 245.736 51.2236 247.287 L51.2236 242.565 Q54.0477 241.431 56.5014 240.852 Q58.955 240.273 60.9921 240.273 Q66.3624 240.273 69.5568 242.958 Q72.7513 245.644 72.7513 250.134 Q72.7513 252.264 71.9411 254.185 Q71.1541 256.083 69.0476 258.676 Q68.4689 259.347 65.367 262.565 Q62.2652 265.759 56.6171 271.523 Z\" fill=\"#000000\" fill-rule=\"nonzero\" fill-opacity=\"1\" /><path clip-path=\"url(#clip620)\" d=\"M92.7512 243.977 Q89.1401 243.977 87.3114 247.542 Q85.5058 251.083 85.5058 258.213 Q85.5058 265.319 87.3114 268.884 Q89.1401 272.426 92.7512 272.426 Q96.3854 272.426 98.1909 268.884 Q100.02 265.319 100.02 258.213 Q100.02 251.083 98.1909 247.542 Q96.3854 243.977 92.7512 243.977 M92.7512 240.273 Q98.5613 240.273 101.617 244.88 Q104.696 249.463 104.696 258.213 Q104.696 266.94 101.617 271.546 Q98.5613 276.13 92.7512 276.13 Q86.941 276.13 83.8623 271.546 Q80.8068 266.94 80.8068 258.213 Q80.8068 249.463 83.8623 244.88 Q86.941 240.273 92.7512 240.273 Z\" fill=\"#000000\" fill-rule=\"nonzero\" fill-opacity=\"1\" /><polyline clip-path=\"url(#clip622)\" style=\"stroke:#009af9; stroke-linecap:round; stroke-linejoin:round; stroke-width:4; stroke-opacity:1; fill:none\" points=\"203.301,1241.72 224.38,972.461 245.46,1139.07 266.539,251.082 287.618,874.448 308.697,1347.05 329.777,339.204 350.856,656.732 371.935,1028.94 393.015,1111.9 414.094,1236.12 435.173,237.32 456.252,1178.36 477.332,1221.22 498.411,1394.56 519.49,1145.61 540.57,722.813 561.649,1266.06 582.728,621.329 603.807,1150.76 624.887,1075.8 645.966,1134.77 667.045,1238.17 688.125,1225.67 709.204,776.281 730.283,1289.07 751.362,882.67 772.442,1119.77 793.521,1137.2 814.6,1344.61 835.68,1173.26 856.759,1089.37 877.838,606.27 898.917,1358.04 919.997,1318.53 941.076,293.691 962.155,1409.93 983.235,1385.31 1004.31,404.901 1025.39,838.762 1046.47,1340.07 1067.55,1229.24 1088.63,1065.44 1109.71,643 1130.79,1364.21 1151.87,581.684 1172.95,870.882 1194.03,1219.36 1215.11,1196.18 1236.19,798.625 1257.27,1302.9 1278.34,578.468 1299.42,645.159 1320.5,726.035 1341.58,1132.9 1362.66,877.771 1383.74,597.285 1404.82,1295.24 1425.9,985.957 1446.98,777.767 1468.06,1211.13 1489.14,1381.25 1510.22,1029.23 1531.3,1289.92 1552.38,1117.05 1573.45,1271.69 1594.53,1374.98 1615.61,1255.22 1636.69,760.845 1657.77,1103.74 1678.85,776.712 1699.93,1257.9 1721.01,1395.49 1742.09,840.754 1763.17,1160.38 1784.25,469.736 1805.33,1364.24 1826.41,1319.67 1847.49,1259.32 1868.56,950.203 1889.64,975.922 1910.72,934.222 1931.8,709.68 1952.88,1003.68 1973.96,976.147 1995.04,1273.29 2016.12,760.918 2037.2,1083.67 2058.28,1423.39 2079.36,87.9763 2100.44,1216.67 2121.52,473.517 2142.6,399.858 2163.67,728.897 2184.75,1370.94 2205.83,1395.94 2226.91,965.684 2247.99,1357 2269.07,669.991 2290.15,585.144 \"/>\n<path clip-path=\"url(#clip622)\" d=\"M203.301 1257.72 L191.989 1253.03 L187.301 1241.72 L191.989 1230.41 L203.301 1225.72 L214.613 1230.41 L219.301 1241.72 L214.613 1253.03 Z\" fill=\"#009af9\" fill-rule=\"evenodd\" fill-opacity=\"1\" stroke=\"#000000\" stroke-opacity=\"1\" stroke-width=\"3.2\"/>\n<path clip-path=\"url(#clip622)\" d=\"M224.38 988.461 L213.068 983.773 L208.38 972.461 L213.068 961.149 L224.38 956.461 L235.692 961.149 L240.38 972.461 L235.692 983.773 Z\" fill=\"#009af9\" fill-rule=\"evenodd\" fill-opacity=\"1\" stroke=\"#000000\" stroke-opacity=\"1\" stroke-width=\"3.2\"/>\n<path clip-path=\"url(#clip622)\" d=\"M245.46 1155.07 L234.148 1150.39 L229.46 1139.07 L234.148 1127.76 L245.46 1123.07 L256.772 1127.76 L261.46 1139.07 L256.772 1150.39 Z\" fill=\"#009af9\" fill-rule=\"evenodd\" fill-opacity=\"1\" stroke=\"#000000\" stroke-opacity=\"1\" stroke-width=\"3.2\"/>\n<path clip-path=\"url(#clip622)\" d=\"M266.539 267.082 L255.227 262.394 L250.539 251.082 L255.227 239.77 L266.539 235.082 L277.851 239.77 L282.539 251.082 L277.851 262.394 Z\" fill=\"#009af9\" fill-rule=\"evenodd\" fill-opacity=\"1\" stroke=\"#000000\" stroke-opacity=\"1\" stroke-width=\"3.2\"/>\n<path clip-path=\"url(#clip622)\" d=\"M287.618 890.448 L276.306 885.76 L271.618 874.448 L276.306 863.136 L287.618 858.448 L298.93 863.136 L303.618 874.448 L298.93 885.76 Z\" fill=\"#009af9\" fill-rule=\"evenodd\" fill-opacity=\"1\" stroke=\"#000000\" stroke-opacity=\"1\" stroke-width=\"3.2\"/>\n<path clip-path=\"url(#clip622)\" d=\"M308.697 1363.05 L297.385 1358.36 L292.697 1347.05 L297.385 1335.73 L308.697 1331.05 L320.009 1335.73 L324.697 1347.05 L320.009 1358.36 Z\" fill=\"#009af9\" fill-rule=\"evenodd\" fill-opacity=\"1\" stroke=\"#000000\" stroke-opacity=\"1\" stroke-width=\"3.2\"/>\n<path clip-path=\"url(#clip622)\" d=\"M329.777 355.204 L318.465 350.516 L313.777 339.204 L318.465 327.892 L329.777 323.204 L341.089 327.892 L345.777 339.204 L341.089 350.516 Z\" fill=\"#009af9\" fill-rule=\"evenodd\" fill-opacity=\"1\" stroke=\"#000000\" stroke-opacity=\"1\" stroke-width=\"3.2\"/>\n<path clip-path=\"url(#clip622)\" d=\"M350.856 672.732 L339.544 668.044 L334.856 656.732 L339.544 645.42 L350.856 640.732 L362.168 645.42 L366.856 656.732 L362.168 668.044 Z\" fill=\"#009af9\" fill-rule=\"evenodd\" fill-opacity=\"1\" stroke=\"#000000\" stroke-opacity=\"1\" stroke-width=\"3.2\"/>\n<path clip-path=\"url(#clip622)\" d=\"M371.935 1044.94 L360.623 1040.25 L355.935 1028.94 L360.623 1017.63 L371.935 1012.94 L383.247 1017.63 L387.935 1028.94 L383.247 1040.25 Z\" fill=\"#009af9\" fill-rule=\"evenodd\" fill-opacity=\"1\" stroke=\"#000000\" stroke-opacity=\"1\" stroke-width=\"3.2\"/>\n<path clip-path=\"url(#clip622)\" d=\"M393.015 1127.9 L381.703 1123.21 L377.015 1111.9 L381.703 1100.59 L393.015 1095.9 L404.327 1100.59 L409.015 1111.9 L404.327 1123.21 Z\" fill=\"#009af9\" fill-rule=\"evenodd\" fill-opacity=\"1\" stroke=\"#000000\" stroke-opacity=\"1\" stroke-width=\"3.2\"/>\n<path clip-path=\"url(#clip622)\" d=\"M414.094 1252.12 L402.782 1247.44 L398.094 1236.12 L402.782 1224.81 L414.094 1220.12 L425.406 1224.81 L430.094 1236.12 L425.406 1247.44 Z\" fill=\"#009af9\" fill-rule=\"evenodd\" fill-opacity=\"1\" stroke=\"#000000\" stroke-opacity=\"1\" stroke-width=\"3.2\"/>\n<path clip-path=\"url(#clip622)\" d=\"M435.173 253.32 L423.861 248.632 L419.173 237.32 L423.861 226.008 L435.173 221.32 L446.485 226.008 L451.173 237.32 L446.485 248.632 Z\" fill=\"#009af9\" fill-rule=\"evenodd\" fill-opacity=\"1\" stroke=\"#000000\" stroke-opacity=\"1\" stroke-width=\"3.2\"/>\n<path clip-path=\"url(#clip622)\" d=\"M456.252 1194.36 L444.94 1189.67 L440.252 1178.36 L444.94 1167.05 L456.252 1162.36 L467.564 1167.05 L472.252 1178.36 L467.564 1189.67 Z\" fill=\"#009af9\" fill-rule=\"evenodd\" fill-opacity=\"1\" stroke=\"#000000\" stroke-opacity=\"1\" stroke-width=\"3.2\"/>\n<path clip-path=\"url(#clip622)\" d=\"M477.332 1237.22 L466.02 1232.53 L461.332 1221.22 L466.02 1209.9 L477.332 1205.22 L488.644 1209.9 L493.332 1221.22 L488.644 1232.53 Z\" fill=\"#009af9\" fill-rule=\"evenodd\" fill-opacity=\"1\" stroke=\"#000000\" stroke-opacity=\"1\" stroke-width=\"3.2\"/>\n<path clip-path=\"url(#clip622)\" d=\"M498.411 1410.56 L487.099 1405.88 L482.411 1394.56 L487.099 1383.25 L498.411 1378.56 L509.723 1383.25 L514.411 1394.56 L509.723 1405.88 Z\" fill=\"#009af9\" fill-rule=\"evenodd\" fill-opacity=\"1\" stroke=\"#000000\" stroke-opacity=\"1\" stroke-width=\"3.2\"/>\n<path clip-path=\"url(#clip622)\" d=\"M519.49 1161.61 L508.178 1156.92 L503.49 1145.61 L508.178 1134.29 L519.49 1129.61 L530.802 1134.29 L535.49 1145.61 L530.802 1156.92 Z\" fill=\"#009af9\" fill-rule=\"evenodd\" fill-opacity=\"1\" stroke=\"#000000\" stroke-opacity=\"1\" stroke-width=\"3.2\"/>\n<path clip-path=\"url(#clip622)\" d=\"M540.57 738.813 L529.258 734.125 L524.57 722.813 L529.258 711.501 L540.57 706.813 L551.882 711.501 L556.57 722.813 L551.882 734.125 Z\" fill=\"#009af9\" fill-rule=\"evenodd\" fill-opacity=\"1\" stroke=\"#000000\" stroke-opacity=\"1\" stroke-width=\"3.2\"/>\n<path clip-path=\"url(#clip622)\" d=\"M561.649 1282.06 L550.337 1277.37 L545.649 1266.06 L550.337 1254.75 L561.649 1250.06 L572.961 1254.75 L577.649 1266.06 L572.961 1277.37 Z\" fill=\"#009af9\" fill-rule=\"evenodd\" fill-opacity=\"1\" stroke=\"#000000\" stroke-opacity=\"1\" stroke-width=\"3.2\"/>\n<path clip-path=\"url(#clip622)\" d=\"M582.728 637.329 L571.416 632.641 L566.728 621.329 L571.416 610.017 L582.728 605.329 L594.04 610.017 L598.728 621.329 L594.04 632.641 Z\" fill=\"#009af9\" fill-rule=\"evenodd\" fill-opacity=\"1\" stroke=\"#000000\" stroke-opacity=\"1\" stroke-width=\"3.2\"/>\n<path clip-path=\"url(#clip622)\" d=\"M603.807 1166.76 L592.495 1162.07 L587.807 1150.76 L592.495 1139.45 L603.807 1134.76 L615.119 1139.45 L619.807 1150.76 L615.119 1162.07 Z\" fill=\"#009af9\" fill-rule=\"evenodd\" fill-opacity=\"1\" stroke=\"#000000\" stroke-opacity=\"1\" stroke-width=\"3.2\"/>\n<path clip-path=\"url(#clip622)\" d=\"M624.887 1091.8 L613.575 1087.11 L608.887 1075.8 L613.575 1064.49 L624.887 1059.8 L636.199 1064.49 L640.887 1075.8 L636.199 1087.11 Z\" fill=\"#009af9\" fill-rule=\"evenodd\" fill-opacity=\"1\" stroke=\"#000000\" stroke-opacity=\"1\" stroke-width=\"3.2\"/>\n<path clip-path=\"url(#clip622)\" d=\"M645.966 1150.77 L634.654 1146.09 L629.966 1134.77 L634.654 1123.46 L645.966 1118.77 L657.278 1123.46 L661.966 1134.77 L657.278 1146.09 Z\" fill=\"#009af9\" fill-rule=\"evenodd\" fill-opacity=\"1\" stroke=\"#000000\" stroke-opacity=\"1\" stroke-width=\"3.2\"/>\n<path clip-path=\"url(#clip622)\" d=\"M667.045 1254.17 L655.733 1249.48 L651.045 1238.17 L655.733 1226.85 L667.045 1222.17 L678.357 1226.85 L683.045 1238.17 L678.357 1249.48 Z\" fill=\"#009af9\" fill-rule=\"evenodd\" fill-opacity=\"1\" stroke=\"#000000\" stroke-opacity=\"1\" stroke-width=\"3.2\"/>\n<path clip-path=\"url(#clip622)\" d=\"M688.125 1241.67 L676.813 1236.98 L672.125 1225.67 L676.813 1214.36 L688.125 1209.67 L699.437 1214.36 L704.125 1225.67 L699.437 1236.98 Z\" fill=\"#009af9\" fill-rule=\"evenodd\" fill-opacity=\"1\" stroke=\"#000000\" stroke-opacity=\"1\" stroke-width=\"3.2\"/>\n<path clip-path=\"url(#clip622)\" d=\"M709.204 792.281 L697.892 787.593 L693.204 776.281 L697.892 764.969 L709.204 760.281 L720.516 764.969 L725.204 776.281 L720.516 787.593 Z\" fill=\"#009af9\" fill-rule=\"evenodd\" fill-opacity=\"1\" stroke=\"#000000\" stroke-opacity=\"1\" stroke-width=\"3.2\"/>\n<path clip-path=\"url(#clip622)\" d=\"M730.283 1305.07 L718.971 1300.38 L714.283 1289.07 L718.971 1277.76 L730.283 1273.07 L741.595 1277.76 L746.283 1289.07 L741.595 1300.38 Z\" fill=\"#009af9\" fill-rule=\"evenodd\" fill-opacity=\"1\" stroke=\"#000000\" stroke-opacity=\"1\" stroke-width=\"3.2\"/>\n<path clip-path=\"url(#clip622)\" d=\"M751.362 898.67 L740.05 893.982 L735.362 882.67 L740.05 871.358 L751.362 866.67 L762.674 871.358 L767.362 882.67 L762.674 893.982 Z\" fill=\"#009af9\" fill-rule=\"evenodd\" fill-opacity=\"1\" stroke=\"#000000\" stroke-opacity=\"1\" stroke-width=\"3.2\"/>\n<path clip-path=\"url(#clip622)\" d=\"M772.442 1135.77 L761.13 1131.08 L756.442 1119.77 L761.13 1108.46 L772.442 1103.77 L783.754 1108.46 L788.442 1119.77 L783.754 1131.08 Z\" fill=\"#009af9\" fill-rule=\"evenodd\" fill-opacity=\"1\" stroke=\"#000000\" stroke-opacity=\"1\" stroke-width=\"3.2\"/>\n<path clip-path=\"url(#clip622)\" d=\"M793.521 1153.2 L782.209 1148.51 L777.521 1137.2 L782.209 1125.89 L793.521 1121.2 L804.833 1125.89 L809.521 1137.2 L804.833 1148.51 Z\" fill=\"#009af9\" fill-rule=\"evenodd\" fill-opacity=\"1\" stroke=\"#000000\" stroke-opacity=\"1\" stroke-width=\"3.2\"/>\n<path clip-path=\"url(#clip622)\" d=\"M814.6 1360.61 L803.288 1355.92 L798.6 1344.61 L803.288 1333.3 L814.6 1328.61 L825.912 1333.3 L830.6 1344.61 L825.912 1355.92 Z\" fill=\"#009af9\" fill-rule=\"evenodd\" fill-opacity=\"1\" stroke=\"#000000\" stroke-opacity=\"1\" stroke-width=\"3.2\"/>\n<path clip-path=\"url(#clip622)\" d=\"M835.68 1189.26 L824.368 1184.58 L819.68 1173.26 L824.368 1161.95 L835.68 1157.26 L846.992 1161.95 L851.68 1173.26 L846.992 1184.58 Z\" fill=\"#009af9\" fill-rule=\"evenodd\" fill-opacity=\"1\" stroke=\"#000000\" stroke-opacity=\"1\" stroke-width=\"3.2\"/>\n<path clip-path=\"url(#clip622)\" d=\"M856.759 1105.37 L845.447 1100.68 L840.759 1089.37 L845.447 1078.05 L856.759 1073.37 L868.071 1078.05 L872.759 1089.37 L868.071 1100.68 Z\" fill=\"#009af9\" fill-rule=\"evenodd\" fill-opacity=\"1\" stroke=\"#000000\" stroke-opacity=\"1\" stroke-width=\"3.2\"/>\n<path clip-path=\"url(#clip622)\" d=\"M877.838 622.27 L866.526 617.582 L861.838 606.27 L866.526 594.958 L877.838 590.27 L889.15 594.958 L893.838 606.27 L889.15 617.582 Z\" fill=\"#009af9\" fill-rule=\"evenodd\" fill-opacity=\"1\" stroke=\"#000000\" stroke-opacity=\"1\" stroke-width=\"3.2\"/>\n<path clip-path=\"url(#clip622)\" d=\"M898.917 1374.04 L887.605 1369.35 L882.917 1358.04 L887.605 1346.73 L898.917 1342.04 L910.229 1346.73 L914.917 1358.04 L910.229 1369.35 Z\" fill=\"#009af9\" fill-rule=\"evenodd\" fill-opacity=\"1\" stroke=\"#000000\" stroke-opacity=\"1\" stroke-width=\"3.2\"/>\n<path clip-path=\"url(#clip622)\" d=\"M919.997 1334.53 L908.685 1329.85 L903.997 1318.53 L908.685 1307.22 L919.997 1302.53 L931.309 1307.22 L935.997 1318.53 L931.309 1329.85 Z\" fill=\"#009af9\" fill-rule=\"evenodd\" fill-opacity=\"1\" stroke=\"#000000\" stroke-opacity=\"1\" stroke-width=\"3.2\"/>\n<path clip-path=\"url(#clip622)\" d=\"M941.076 309.691 L929.764 305.003 L925.076 293.691 L929.764 282.379 L941.076 277.691 L952.388 282.379 L957.076 293.691 L952.388 305.003 Z\" fill=\"#009af9\" fill-rule=\"evenodd\" fill-opacity=\"1\" stroke=\"#000000\" stroke-opacity=\"1\" stroke-width=\"3.2\"/>\n<path clip-path=\"url(#clip622)\" d=\"M962.155 1425.93 L950.843 1421.24 L946.155 1409.93 L950.843 1398.61 L962.155 1393.93 L973.467 1398.61 L978.155 1409.93 L973.467 1421.24 Z\" fill=\"#009af9\" fill-rule=\"evenodd\" fill-opacity=\"1\" stroke=\"#000000\" stroke-opacity=\"1\" stroke-width=\"3.2\"/>\n<path clip-path=\"url(#clip622)\" d=\"M983.235 1401.31 L971.923 1396.63 L967.235 1385.31 L971.923 1374 L983.235 1369.31 L994.547 1374 L999.235 1385.31 L994.547 1396.63 Z\" fill=\"#009af9\" fill-rule=\"evenodd\" fill-opacity=\"1\" stroke=\"#000000\" stroke-opacity=\"1\" stroke-width=\"3.2\"/>\n<path clip-path=\"url(#clip622)\" d=\"M1004.31 420.901 L993.002 416.213 L988.314 404.901 L993.002 393.589 L1004.31 388.901 L1015.63 393.589 L1020.31 404.901 L1015.63 416.213 Z\" fill=\"#009af9\" fill-rule=\"evenodd\" fill-opacity=\"1\" stroke=\"#000000\" stroke-opacity=\"1\" stroke-width=\"3.2\"/>\n<path clip-path=\"url(#clip622)\" d=\"M1025.39 854.762 L1014.08 850.074 L1009.39 838.762 L1014.08 827.45 L1025.39 822.762 L1036.71 827.45 L1041.39 838.762 L1036.71 850.074 Z\" fill=\"#009af9\" fill-rule=\"evenodd\" fill-opacity=\"1\" stroke=\"#000000\" stroke-opacity=\"1\" stroke-width=\"3.2\"/>\n<path clip-path=\"url(#clip622)\" d=\"M1046.47 1356.07 L1035.16 1351.38 L1030.47 1340.07 L1035.16 1328.76 L1046.47 1324.07 L1057.78 1328.76 L1062.47 1340.07 L1057.78 1351.38 Z\" fill=\"#009af9\" fill-rule=\"evenodd\" fill-opacity=\"1\" stroke=\"#000000\" stroke-opacity=\"1\" stroke-width=\"3.2\"/>\n<path clip-path=\"url(#clip622)\" d=\"M1067.55 1245.24 L1056.24 1240.55 L1051.55 1229.24 L1056.24 1217.93 L1067.55 1213.24 L1078.86 1217.93 L1083.55 1229.24 L1078.86 1240.55 Z\" fill=\"#009af9\" fill-rule=\"evenodd\" fill-opacity=\"1\" stroke=\"#000000\" stroke-opacity=\"1\" stroke-width=\"3.2\"/>\n<path clip-path=\"url(#clip622)\" d=\"M1088.63 1081.44 L1077.32 1076.75 L1072.63 1065.44 L1077.32 1054.13 L1088.63 1049.44 L1099.94 1054.13 L1104.63 1065.44 L1099.94 1076.75 Z\" fill=\"#009af9\" fill-rule=\"evenodd\" fill-opacity=\"1\" stroke=\"#000000\" stroke-opacity=\"1\" stroke-width=\"3.2\"/>\n<path clip-path=\"url(#clip622)\" d=\"M1109.71 659 L1098.4 654.312 L1093.71 643 L1098.4 631.688 L1109.71 627 L1121.02 631.688 L1125.71 643 L1121.02 654.312 Z\" fill=\"#009af9\" fill-rule=\"evenodd\" fill-opacity=\"1\" stroke=\"#000000\" stroke-opacity=\"1\" stroke-width=\"3.2\"/>\n<path clip-path=\"url(#clip622)\" d=\"M1130.79 1380.21 L1119.48 1375.52 L1114.79 1364.21 L1119.48 1352.89 L1130.79 1348.21 L1142.1 1352.89 L1146.79 1364.21 L1142.1 1375.52 Z\" fill=\"#009af9\" fill-rule=\"evenodd\" fill-opacity=\"1\" stroke=\"#000000\" stroke-opacity=\"1\" stroke-width=\"3.2\"/>\n<path clip-path=\"url(#clip622)\" d=\"M1151.87 597.684 L1140.56 592.996 L1135.87 581.684 L1140.56 570.372 L1151.87 565.684 L1163.18 570.372 L1167.87 581.684 L1163.18 592.996 Z\" fill=\"#009af9\" fill-rule=\"evenodd\" fill-opacity=\"1\" stroke=\"#000000\" stroke-opacity=\"1\" stroke-width=\"3.2\"/>\n<path clip-path=\"url(#clip622)\" d=\"M1172.95 886.882 L1161.64 882.194 L1156.95 870.882 L1161.64 859.57 L1172.95 854.882 L1184.26 859.57 L1188.95 870.882 L1184.26 882.194 Z\" fill=\"#009af9\" fill-rule=\"evenodd\" fill-opacity=\"1\" stroke=\"#000000\" stroke-opacity=\"1\" stroke-width=\"3.2\"/>\n<path clip-path=\"url(#clip622)\" d=\"M1194.03 1235.36 L1182.72 1230.67 L1178.03 1219.36 L1182.72 1208.05 L1194.03 1203.36 L1205.34 1208.05 L1210.03 1219.36 L1205.34 1230.67 Z\" fill=\"#009af9\" fill-rule=\"evenodd\" fill-opacity=\"1\" stroke=\"#000000\" stroke-opacity=\"1\" stroke-width=\"3.2\"/>\n<path clip-path=\"url(#clip622)\" d=\"M1215.11 1212.18 L1203.79 1207.5 L1199.11 1196.18 L1203.79 1184.87 L1215.11 1180.18 L1226.42 1184.87 L1231.11 1196.18 L1226.42 1207.5 Z\" fill=\"#009af9\" fill-rule=\"evenodd\" fill-opacity=\"1\" stroke=\"#000000\" stroke-opacity=\"1\" stroke-width=\"3.2\"/>\n<path clip-path=\"url(#clip622)\" d=\"M1236.19 814.625 L1224.87 809.937 L1220.19 798.625 L1224.87 787.313 L1236.19 782.625 L1247.5 787.313 L1252.19 798.625 L1247.5 809.937 Z\" fill=\"#009af9\" fill-rule=\"evenodd\" fill-opacity=\"1\" stroke=\"#000000\" stroke-opacity=\"1\" stroke-width=\"3.2\"/>\n<path clip-path=\"url(#clip622)\" d=\"M1257.27 1318.9 L1245.95 1314.21 L1241.27 1302.9 L1245.95 1291.58 L1257.27 1286.9 L1268.58 1291.58 L1273.27 1302.9 L1268.58 1314.21 Z\" fill=\"#009af9\" fill-rule=\"evenodd\" fill-opacity=\"1\" stroke=\"#000000\" stroke-opacity=\"1\" stroke-width=\"3.2\"/>\n<path clip-path=\"url(#clip622)\" d=\"M1278.34 594.468 L1267.03 589.78 L1262.34 578.468 L1267.03 567.156 L1278.34 562.468 L1289.66 567.156 L1294.34 578.468 L1289.66 589.78 Z\" fill=\"#009af9\" fill-rule=\"evenodd\" fill-opacity=\"1\" stroke=\"#000000\" stroke-opacity=\"1\" stroke-width=\"3.2\"/>\n<path clip-path=\"url(#clip622)\" d=\"M1299.42 661.159 L1288.11 656.471 L1283.42 645.159 L1288.11 633.847 L1299.42 629.159 L1310.74 633.847 L1315.42 645.159 L1310.74 656.471 Z\" fill=\"#009af9\" fill-rule=\"evenodd\" fill-opacity=\"1\" stroke=\"#000000\" stroke-opacity=\"1\" stroke-width=\"3.2\"/>\n<path clip-path=\"url(#clip622)\" d=\"M1320.5 742.035 L1309.19 737.347 L1304.5 726.035 L1309.19 714.723 L1320.5 710.035 L1331.82 714.723 L1336.5 726.035 L1331.82 737.347 Z\" fill=\"#009af9\" fill-rule=\"evenodd\" fill-opacity=\"1\" stroke=\"#000000\" stroke-opacity=\"1\" stroke-width=\"3.2\"/>\n<path clip-path=\"url(#clip622)\" d=\"M1341.58 1148.9 L1330.27 1144.22 L1325.58 1132.9 L1330.27 1121.59 L1341.58 1116.9 L1352.89 1121.59 L1357.58 1132.9 L1352.89 1144.22 Z\" fill=\"#009af9\" fill-rule=\"evenodd\" fill-opacity=\"1\" stroke=\"#000000\" stroke-opacity=\"1\" stroke-width=\"3.2\"/>\n<path clip-path=\"url(#clip622)\" d=\"M1362.66 893.771 L1351.35 889.083 L1346.66 877.771 L1351.35 866.459 L1362.66 861.771 L1373.97 866.459 L1378.66 877.771 L1373.97 889.083 Z\" fill=\"#009af9\" fill-rule=\"evenodd\" fill-opacity=\"1\" stroke=\"#000000\" stroke-opacity=\"1\" stroke-width=\"3.2\"/>\n<path clip-path=\"url(#clip622)\" d=\"M1383.74 613.285 L1372.43 608.597 L1367.74 597.285 L1372.43 585.973 L1383.74 581.285 L1395.05 585.973 L1399.74 597.285 L1395.05 608.597 Z\" fill=\"#009af9\" fill-rule=\"evenodd\" fill-opacity=\"1\" stroke=\"#000000\" stroke-opacity=\"1\" stroke-width=\"3.2\"/>\n<path clip-path=\"url(#clip622)\" d=\"M1404.82 1311.24 L1393.51 1306.55 L1388.82 1295.24 L1393.51 1283.93 L1404.82 1279.24 L1416.13 1283.93 L1420.82 1295.24 L1416.13 1306.55 Z\" fill=\"#009af9\" fill-rule=\"evenodd\" fill-opacity=\"1\" stroke=\"#000000\" stroke-opacity=\"1\" stroke-width=\"3.2\"/>\n<path clip-path=\"url(#clip622)\" d=\"M1425.9 1001.96 L1414.59 997.269 L1409.9 985.957 L1414.59 974.645 L1425.9 969.957 L1437.21 974.645 L1441.9 985.957 L1437.21 997.269 Z\" fill=\"#009af9\" fill-rule=\"evenodd\" fill-opacity=\"1\" stroke=\"#000000\" stroke-opacity=\"1\" stroke-width=\"3.2\"/>\n<path clip-path=\"url(#clip622)\" d=\"M1446.98 793.767 L1435.67 789.079 L1430.98 777.767 L1435.67 766.455 L1446.98 761.767 L1458.29 766.455 L1462.98 777.767 L1458.29 789.079 Z\" fill=\"#009af9\" fill-rule=\"evenodd\" fill-opacity=\"1\" stroke=\"#000000\" stroke-opacity=\"1\" stroke-width=\"3.2\"/>\n<path clip-path=\"url(#clip622)\" d=\"M1468.06 1227.13 L1456.75 1222.44 L1452.06 1211.13 L1456.75 1199.82 L1468.06 1195.13 L1479.37 1199.82 L1484.06 1211.13 L1479.37 1222.44 Z\" fill=\"#009af9\" fill-rule=\"evenodd\" fill-opacity=\"1\" stroke=\"#000000\" stroke-opacity=\"1\" stroke-width=\"3.2\"/>\n<path clip-path=\"url(#clip622)\" d=\"M1489.14 1397.25 L1477.83 1392.56 L1473.14 1381.25 L1477.83 1369.94 L1489.14 1365.25 L1500.45 1369.94 L1505.14 1381.25 L1500.45 1392.56 Z\" fill=\"#009af9\" fill-rule=\"evenodd\" fill-opacity=\"1\" stroke=\"#000000\" stroke-opacity=\"1\" stroke-width=\"3.2\"/>\n<path clip-path=\"url(#clip622)\" d=\"M1510.22 1045.23 L1498.9 1040.54 L1494.22 1029.23 L1498.9 1017.92 L1510.22 1013.23 L1521.53 1017.92 L1526.22 1029.23 L1521.53 1040.54 Z\" fill=\"#009af9\" fill-rule=\"evenodd\" fill-opacity=\"1\" stroke=\"#000000\" stroke-opacity=\"1\" stroke-width=\"3.2\"/>\n<path clip-path=\"url(#clip622)\" d=\"M1531.3 1305.92 L1519.98 1301.24 L1515.3 1289.92 L1519.98 1278.61 L1531.3 1273.92 L1542.61 1278.61 L1547.3 1289.92 L1542.61 1301.24 Z\" fill=\"#009af9\" fill-rule=\"evenodd\" fill-opacity=\"1\" stroke=\"#000000\" stroke-opacity=\"1\" stroke-width=\"3.2\"/>\n<path clip-path=\"url(#clip622)\" d=\"M1552.38 1133.05 L1541.06 1128.36 L1536.38 1117.05 L1541.06 1105.74 L1552.38 1101.05 L1563.69 1105.74 L1568.38 1117.05 L1563.69 1128.36 Z\" fill=\"#009af9\" fill-rule=\"evenodd\" fill-opacity=\"1\" stroke=\"#000000\" stroke-opacity=\"1\" stroke-width=\"3.2\"/>\n<path clip-path=\"url(#clip622)\" d=\"M1573.45 1287.69 L1562.14 1283.01 L1557.45 1271.69 L1562.14 1260.38 L1573.45 1255.69 L1584.77 1260.38 L1589.45 1271.69 L1584.77 1283.01 Z\" fill=\"#009af9\" fill-rule=\"evenodd\" fill-opacity=\"1\" stroke=\"#000000\" stroke-opacity=\"1\" stroke-width=\"3.2\"/>\n<path clip-path=\"url(#clip622)\" d=\"M1594.53 1390.98 L1583.22 1386.29 L1578.53 1374.98 L1583.22 1363.67 L1594.53 1358.98 L1605.85 1363.67 L1610.53 1374.98 L1605.85 1386.29 Z\" fill=\"#009af9\" fill-rule=\"evenodd\" fill-opacity=\"1\" stroke=\"#000000\" stroke-opacity=\"1\" stroke-width=\"3.2\"/>\n<path clip-path=\"url(#clip622)\" d=\"M1615.61 1271.22 L1604.3 1266.53 L1599.61 1255.22 L1604.3 1243.9 L1615.61 1239.22 L1626.93 1243.9 L1631.61 1255.22 L1626.93 1266.53 Z\" fill=\"#009af9\" fill-rule=\"evenodd\" fill-opacity=\"1\" stroke=\"#000000\" stroke-opacity=\"1\" stroke-width=\"3.2\"/>\n<path clip-path=\"url(#clip622)\" d=\"M1636.69 776.845 L1625.38 772.157 L1620.69 760.845 L1625.38 749.533 L1636.69 744.845 L1648 749.533 L1652.69 760.845 L1648 772.157 Z\" fill=\"#009af9\" fill-rule=\"evenodd\" fill-opacity=\"1\" stroke=\"#000000\" stroke-opacity=\"1\" stroke-width=\"3.2\"/>\n<path clip-path=\"url(#clip622)\" d=\"M1657.77 1119.74 L1646.46 1115.05 L1641.77 1103.74 L1646.46 1092.43 L1657.77 1087.74 L1669.08 1092.43 L1673.77 1103.74 L1669.08 1115.05 Z\" fill=\"#009af9\" fill-rule=\"evenodd\" fill-opacity=\"1\" stroke=\"#000000\" stroke-opacity=\"1\" stroke-width=\"3.2\"/>\n<path clip-path=\"url(#clip622)\" d=\"M1678.85 792.712 L1667.54 788.024 L1662.85 776.712 L1667.54 765.4 L1678.85 760.712 L1690.16 765.4 L1694.85 776.712 L1690.16 788.024 Z\" fill=\"#009af9\" fill-rule=\"evenodd\" fill-opacity=\"1\" stroke=\"#000000\" stroke-opacity=\"1\" stroke-width=\"3.2\"/>\n<path clip-path=\"url(#clip622)\" d=\"M1699.93 1273.9 L1688.62 1269.21 L1683.93 1257.9 L1688.62 1246.59 L1699.93 1241.9 L1711.24 1246.59 L1715.93 1257.9 L1711.24 1269.21 Z\" fill=\"#009af9\" fill-rule=\"evenodd\" fill-opacity=\"1\" stroke=\"#000000\" stroke-opacity=\"1\" stroke-width=\"3.2\"/>\n<path clip-path=\"url(#clip622)\" d=\"M1721.01 1411.49 L1709.7 1406.8 L1705.01 1395.49 L1709.7 1384.18 L1721.01 1379.49 L1732.32 1384.18 L1737.01 1395.49 L1732.32 1406.8 Z\" fill=\"#009af9\" fill-rule=\"evenodd\" fill-opacity=\"1\" stroke=\"#000000\" stroke-opacity=\"1\" stroke-width=\"3.2\"/>\n<path clip-path=\"url(#clip622)\" d=\"M1742.09 856.754 L1730.78 852.066 L1726.09 840.754 L1730.78 829.442 L1742.09 824.754 L1753.4 829.442 L1758.09 840.754 L1753.4 852.066 Z\" fill=\"#009af9\" fill-rule=\"evenodd\" fill-opacity=\"1\" stroke=\"#000000\" stroke-opacity=\"1\" stroke-width=\"3.2\"/>\n<path clip-path=\"url(#clip622)\" d=\"M1763.17 1176.38 L1751.86 1171.7 L1747.17 1160.38 L1751.86 1149.07 L1763.17 1144.38 L1774.48 1149.07 L1779.17 1160.38 L1774.48 1171.7 Z\" fill=\"#009af9\" fill-rule=\"evenodd\" fill-opacity=\"1\" stroke=\"#000000\" stroke-opacity=\"1\" stroke-width=\"3.2\"/>\n<path clip-path=\"url(#clip622)\" d=\"M1784.25 485.736 L1772.94 481.048 L1768.25 469.736 L1772.94 458.424 L1784.25 453.736 L1795.56 458.424 L1800.25 469.736 L1795.56 481.048 Z\" fill=\"#009af9\" fill-rule=\"evenodd\" fill-opacity=\"1\" stroke=\"#000000\" stroke-opacity=\"1\" stroke-width=\"3.2\"/>\n<path clip-path=\"url(#clip622)\" d=\"M1805.33 1380.24 L1794.01 1375.55 L1789.33 1364.24 L1794.01 1352.93 L1805.33 1348.24 L1816.64 1352.93 L1821.33 1364.24 L1816.64 1375.55 Z\" fill=\"#009af9\" fill-rule=\"evenodd\" fill-opacity=\"1\" stroke=\"#000000\" stroke-opacity=\"1\" stroke-width=\"3.2\"/>\n<path clip-path=\"url(#clip622)\" d=\"M1826.41 1335.67 L1815.09 1330.98 L1810.41 1319.67 L1815.09 1308.36 L1826.41 1303.67 L1837.72 1308.36 L1842.41 1319.67 L1837.72 1330.98 Z\" fill=\"#009af9\" fill-rule=\"evenodd\" fill-opacity=\"1\" stroke=\"#000000\" stroke-opacity=\"1\" stroke-width=\"3.2\"/>\n<path clip-path=\"url(#clip622)\" d=\"M1847.49 1275.32 L1836.17 1270.64 L1831.49 1259.32 L1836.17 1248.01 L1847.49 1243.32 L1858.8 1248.01 L1863.49 1259.32 L1858.8 1270.64 Z\" fill=\"#009af9\" fill-rule=\"evenodd\" fill-opacity=\"1\" stroke=\"#000000\" stroke-opacity=\"1\" stroke-width=\"3.2\"/>\n<path clip-path=\"url(#clip622)\" d=\"M1868.56 966.203 L1857.25 961.515 L1852.56 950.203 L1857.25 938.891 L1868.56 934.203 L1879.88 938.891 L1884.56 950.203 L1879.88 961.515 Z\" fill=\"#009af9\" fill-rule=\"evenodd\" fill-opacity=\"1\" stroke=\"#000000\" stroke-opacity=\"1\" stroke-width=\"3.2\"/>\n<path clip-path=\"url(#clip622)\" d=\"M1889.64 991.922 L1878.33 987.234 L1873.64 975.922 L1878.33 964.61 L1889.64 959.922 L1900.96 964.61 L1905.64 975.922 L1900.96 987.234 Z\" fill=\"#009af9\" fill-rule=\"evenodd\" fill-opacity=\"1\" stroke=\"#000000\" stroke-opacity=\"1\" stroke-width=\"3.2\"/>\n<path clip-path=\"url(#clip622)\" d=\"M1910.72 950.222 L1899.41 945.534 L1894.72 934.222 L1899.41 922.91 L1910.72 918.222 L1922.04 922.91 L1926.72 934.222 L1922.04 945.534 Z\" fill=\"#009af9\" fill-rule=\"evenodd\" fill-opacity=\"1\" stroke=\"#000000\" stroke-opacity=\"1\" stroke-width=\"3.2\"/>\n<path clip-path=\"url(#clip622)\" d=\"M1931.8 725.68 L1920.49 720.992 L1915.8 709.68 L1920.49 698.368 L1931.8 693.68 L1943.11 698.368 L1947.8 709.68 L1943.11 720.992 Z\" fill=\"#009af9\" fill-rule=\"evenodd\" fill-opacity=\"1\" stroke=\"#000000\" stroke-opacity=\"1\" stroke-width=\"3.2\"/>\n<path clip-path=\"url(#clip622)\" d=\"M1952.88 1019.68 L1941.57 1014.99 L1936.88 1003.68 L1941.57 992.364 L1952.88 987.676 L1964.19 992.364 L1968.88 1003.68 L1964.19 1014.99 Z\" fill=\"#009af9\" fill-rule=\"evenodd\" fill-opacity=\"1\" stroke=\"#000000\" stroke-opacity=\"1\" stroke-width=\"3.2\"/>\n<path clip-path=\"url(#clip622)\" d=\"M1973.96 992.147 L1962.65 987.459 L1957.96 976.147 L1962.65 964.835 L1973.96 960.147 L1985.27 964.835 L1989.96 976.147 L1985.27 987.459 Z\" fill=\"#009af9\" fill-rule=\"evenodd\" fill-opacity=\"1\" stroke=\"#000000\" stroke-opacity=\"1\" stroke-width=\"3.2\"/>\n<path clip-path=\"url(#clip622)\" d=\"M1995.04 1289.29 L1983.73 1284.61 L1979.04 1273.29 L1983.73 1261.98 L1995.04 1257.29 L2006.35 1261.98 L2011.04 1273.29 L2006.35 1284.61 Z\" fill=\"#009af9\" fill-rule=\"evenodd\" fill-opacity=\"1\" stroke=\"#000000\" stroke-opacity=\"1\" stroke-width=\"3.2\"/>\n<path clip-path=\"url(#clip622)\" d=\"M2016.12 776.918 L2004.81 772.23 L2000.12 760.918 L2004.81 749.606 L2016.12 744.918 L2027.43 749.606 L2032.12 760.918 L2027.43 772.23 Z\" fill=\"#009af9\" fill-rule=\"evenodd\" fill-opacity=\"1\" stroke=\"#000000\" stroke-opacity=\"1\" stroke-width=\"3.2\"/>\n<path clip-path=\"url(#clip622)\" d=\"M2037.2 1099.67 L2025.89 1094.98 L2021.2 1083.67 L2025.89 1072.36 L2037.2 1067.67 L2048.51 1072.36 L2053.2 1083.67 L2048.51 1094.98 Z\" fill=\"#009af9\" fill-rule=\"evenodd\" fill-opacity=\"1\" stroke=\"#000000\" stroke-opacity=\"1\" stroke-width=\"3.2\"/>\n<path clip-path=\"url(#clip622)\" d=\"M2058.28 1439.39 L2046.97 1434.7 L2042.28 1423.39 L2046.97 1412.08 L2058.28 1407.39 L2069.59 1412.08 L2074.28 1423.39 L2069.59 1434.7 Z\" fill=\"#009af9\" fill-rule=\"evenodd\" fill-opacity=\"1\" stroke=\"#000000\" stroke-opacity=\"1\" stroke-width=\"3.2\"/>\n<path clip-path=\"url(#clip622)\" d=\"M2079.36 103.976 L2068.05 99.2883 L2063.36 87.9763 L2068.05 76.6643 L2079.36 71.9763 L2090.67 76.6643 L2095.36 87.9763 L2090.67 99.2883 Z\" fill=\"#009af9\" fill-rule=\"evenodd\" fill-opacity=\"1\" stroke=\"#000000\" stroke-opacity=\"1\" stroke-width=\"3.2\"/>\n<path clip-path=\"url(#clip622)\" d=\"M2100.44 1232.67 L2089.12 1227.98 L2084.44 1216.67 L2089.12 1205.36 L2100.44 1200.67 L2111.75 1205.36 L2116.44 1216.67 L2111.75 1227.98 Z\" fill=\"#009af9\" fill-rule=\"evenodd\" fill-opacity=\"1\" stroke=\"#000000\" stroke-opacity=\"1\" stroke-width=\"3.2\"/>\n<path clip-path=\"url(#clip622)\" d=\"M2121.52 489.517 L2110.2 484.829 L2105.52 473.517 L2110.2 462.205 L2121.52 457.517 L2132.83 462.205 L2137.52 473.517 L2132.83 484.829 Z\" fill=\"#009af9\" fill-rule=\"evenodd\" fill-opacity=\"1\" stroke=\"#000000\" stroke-opacity=\"1\" stroke-width=\"3.2\"/>\n<path clip-path=\"url(#clip622)\" d=\"M2142.6 415.858 L2131.28 411.17 L2126.6 399.858 L2131.28 388.546 L2142.6 383.858 L2153.91 388.546 L2158.6 399.858 L2153.91 411.17 Z\" fill=\"#009af9\" fill-rule=\"evenodd\" fill-opacity=\"1\" stroke=\"#000000\" stroke-opacity=\"1\" stroke-width=\"3.2\"/>\n<path clip-path=\"url(#clip622)\" d=\"M2163.67 744.897 L2152.36 740.209 L2147.67 728.897 L2152.36 717.585 L2163.67 712.897 L2174.99 717.585 L2179.67 728.897 L2174.99 740.209 Z\" fill=\"#009af9\" fill-rule=\"evenodd\" fill-opacity=\"1\" stroke=\"#000000\" stroke-opacity=\"1\" stroke-width=\"3.2\"/>\n<path clip-path=\"url(#clip622)\" d=\"M2184.75 1386.94 L2173.44 1382.25 L2168.75 1370.94 L2173.44 1359.62 L2184.75 1354.94 L2196.07 1359.62 L2200.75 1370.94 L2196.07 1382.25 Z\" fill=\"#009af9\" fill-rule=\"evenodd\" fill-opacity=\"1\" stroke=\"#000000\" stroke-opacity=\"1\" stroke-width=\"3.2\"/>\n<path clip-path=\"url(#clip622)\" d=\"M2205.83 1411.94 L2194.52 1407.25 L2189.83 1395.94 L2194.52 1384.62 L2205.83 1379.94 L2217.15 1384.62 L2221.83 1395.94 L2217.15 1407.25 Z\" fill=\"#009af9\" fill-rule=\"evenodd\" fill-opacity=\"1\" stroke=\"#000000\" stroke-opacity=\"1\" stroke-width=\"3.2\"/>\n<path clip-path=\"url(#clip622)\" d=\"M2226.91 981.684 L2215.6 976.996 L2210.91 965.684 L2215.6 954.372 L2226.91 949.684 L2238.22 954.372 L2242.91 965.684 L2238.22 976.996 Z\" fill=\"#009af9\" fill-rule=\"evenodd\" fill-opacity=\"1\" stroke=\"#000000\" stroke-opacity=\"1\" stroke-width=\"3.2\"/>\n<path clip-path=\"url(#clip622)\" d=\"M2247.99 1373 L2236.68 1368.32 L2231.99 1357 L2236.68 1345.69 L2247.99 1341 L2259.3 1345.69 L2263.99 1357 L2259.3 1368.32 Z\" fill=\"#009af9\" fill-rule=\"evenodd\" fill-opacity=\"1\" stroke=\"#000000\" stroke-opacity=\"1\" stroke-width=\"3.2\"/>\n<path clip-path=\"url(#clip622)\" d=\"M2269.07 685.991 L2257.76 681.303 L2253.07 669.991 L2257.76 658.679 L2269.07 653.991 L2280.38 658.679 L2285.07 669.991 L2280.38 681.303 Z\" fill=\"#009af9\" fill-rule=\"evenodd\" fill-opacity=\"1\" stroke=\"#000000\" stroke-opacity=\"1\" stroke-width=\"3.2\"/>\n<path clip-path=\"url(#clip622)\" d=\"M2290.15 601.144 L2278.84 596.456 L2274.15 585.144 L2278.84 573.832 L2290.15 569.144 L2301.46 573.832 L2306.15 585.144 L2301.46 596.456 Z\" fill=\"#009af9\" fill-rule=\"evenodd\" fill-opacity=\"1\" stroke=\"#000000\" stroke-opacity=\"1\" stroke-width=\"3.2\"/>\n<polyline clip-path=\"url(#clip622)\" style=\"stroke:#ff0000; stroke-linecap:round; stroke-linejoin:round; stroke-width:4; stroke-opacity:1; fill:none\" stroke-dasharray=\"16, 10\" points=\"-2071.36,1445.72 4564.82,1445.72 \"/>\n<path clip-path=\"url(#clip620)\" d=\"M1753.51 250.738 L2279.02 250.738 L2279.02 95.2176 L1753.51 95.2176  Z\" fill=\"#ffffff\" fill-rule=\"evenodd\" fill-opacity=\"1\"/>\n<polyline clip-path=\"url(#clip620)\" style=\"stroke:#000000; stroke-linecap:round; stroke-linejoin:round; stroke-width:4; stroke-opacity:1; fill:none\" points=\"1753.51,250.738 2279.02,250.738 2279.02,95.2176 1753.51,95.2176 1753.51,250.738 \"/>\n<polyline clip-path=\"url(#clip620)\" style=\"stroke:#009af9; stroke-linecap:round; stroke-linejoin:round; stroke-width:4; stroke-opacity:1; fill:none\" points=\"1778.09,147.058 1925.56,147.058 \"/>\n<path clip-path=\"url(#clip620)\" d=\"M1851.82 169.813 L1835.74 163.146 L1829.07 147.058 L1835.74 130.969 L1851.82 124.302 L1867.91 130.969 L1874.58 147.058 L1867.91 163.146 Z\" fill=\"#009af9\" fill-rule=\"evenodd\" fill-opacity=\"1\" stroke=\"#000000\" stroke-opacity=\"1\" stroke-width=\"4.55111\"/>\n<path clip-path=\"url(#clip620)\" d=\"M1971.85 148.689 L1971.85 164.338 L1967.59 164.338 L1967.59 148.828 Q1967.59 145.148 1966.16 143.319 Q1964.72 141.49 1961.85 141.49 Q1958.4 141.49 1956.41 143.69 Q1954.42 145.889 1954.42 149.685 L1954.42 164.338 L1950.14 164.338 L1950.14 138.412 L1954.42 138.412 L1954.42 142.44 Q1955.95 140.102 1958.01 138.944 Q1960.09 137.787 1962.8 137.787 Q1967.27 137.787 1969.56 140.565 Q1971.85 143.319 1971.85 148.689 Z\" fill=\"#000000\" fill-rule=\"nonzero\" fill-opacity=\"1\" /><path clip-path=\"url(#clip620)\" d=\"M1990.39 141.398 Q1986.97 141.398 1984.98 144.083 Q1982.99 146.745 1982.99 151.398 Q1982.99 156.051 1984.95 158.736 Q1986.94 161.398 1990.39 161.398 Q1993.8 161.398 1995.79 158.713 Q1997.78 156.027 1997.78 151.398 Q1997.78 146.791 1995.79 144.106 Q1993.8 141.398 1990.39 141.398 M1990.39 137.787 Q1995.95 137.787 1999.12 141.398 Q2002.29 145.009 2002.29 151.398 Q2002.29 157.764 1999.12 161.398 Q1995.95 165.009 1990.39 165.009 Q1984.81 165.009 1981.64 161.398 Q1978.49 157.764 1978.49 151.398 Q1978.49 145.009 1981.64 141.398 Q1984.81 137.787 1990.39 137.787 Z\" fill=\"#000000\" fill-rule=\"nonzero\" fill-opacity=\"1\" /><path clip-path=\"url(#clip620)\" d=\"M2024.37 142.393 Q2023.66 141.977 2022.8 141.791 Q2021.97 141.583 2020.95 141.583 Q2017.34 141.583 2015.39 143.944 Q2013.47 146.282 2013.47 150.68 L2013.47 164.338 L2009.19 164.338 L2009.19 138.412 L2013.47 138.412 L2013.47 142.44 Q2014.81 140.078 2016.97 138.944 Q2019.12 137.787 2022.2 137.787 Q2022.64 137.787 2023.17 137.856 Q2023.7 137.903 2024.35 138.018 L2024.37 142.393 Z\" fill=\"#000000\" fill-rule=\"nonzero\" fill-opacity=\"1\" /><path clip-path=\"url(#clip620)\" d=\"M2048.19 143.389 Q2049.79 140.518 2052.01 139.153 Q2054.23 137.787 2057.24 137.787 Q2061.29 137.787 2063.49 140.634 Q2065.69 143.458 2065.69 148.689 L2065.69 164.338 L2061.41 164.338 L2061.41 148.828 Q2061.41 145.102 2060.09 143.296 Q2058.77 141.49 2056.06 141.49 Q2052.75 141.49 2050.83 143.69 Q2048.91 145.889 2048.91 149.685 L2048.91 164.338 L2044.63 164.338 L2044.63 148.828 Q2044.63 145.078 2043.31 143.296 Q2041.99 141.49 2039.23 141.49 Q2035.97 141.49 2034.05 143.713 Q2032.13 145.912 2032.13 149.685 L2032.13 164.338 L2027.85 164.338 L2027.85 138.412 L2032.13 138.412 L2032.13 142.44 Q2033.59 140.055 2035.62 138.921 Q2037.66 137.787 2040.46 137.787 Q2043.29 137.787 2045.25 139.222 Q2047.24 140.657 2048.19 143.389 Z\" fill=\"#000000\" fill-rule=\"nonzero\" fill-opacity=\"1\" /><path clip-path=\"url(#clip620)\" d=\"M2085.97 151.305 Q2080.81 151.305 2078.82 152.486 Q2076.83 153.666 2076.83 156.514 Q2076.83 158.782 2078.31 160.125 Q2079.81 161.444 2082.38 161.444 Q2085.92 161.444 2088.05 158.944 Q2090.21 156.421 2090.21 152.254 L2090.21 151.305 L2085.97 151.305 M2094.47 149.546 L2094.47 164.338 L2090.21 164.338 L2090.21 160.402 Q2088.75 162.763 2086.57 163.898 Q2084.4 165.009 2081.25 165.009 Q2077.27 165.009 2074.91 162.787 Q2072.57 160.541 2072.57 156.791 Q2072.57 152.416 2075.48 150.194 Q2078.42 147.972 2084.23 147.972 L2090.21 147.972 L2090.21 147.555 Q2090.21 144.615 2088.26 143.018 Q2086.34 141.398 2082.85 141.398 Q2080.62 141.398 2078.52 141.93 Q2076.41 142.463 2074.47 143.527 L2074.47 139.592 Q2076.8 138.69 2079 138.25 Q2081.2 137.787 2083.29 137.787 Q2088.91 137.787 2091.69 140.703 Q2094.47 143.62 2094.47 149.546 Z\" fill=\"#000000\" fill-rule=\"nonzero\" fill-opacity=\"1\" /><path clip-path=\"url(#clip620)\" d=\"M2128.54 128.366 Q2125.44 133.69 2123.93 138.898 Q2122.43 144.106 2122.43 149.453 Q2122.43 154.801 2123.93 160.055 Q2125.46 165.287 2128.54 170.588 L2124.84 170.588 Q2121.36 165.148 2119.63 159.893 Q2117.92 154.639 2117.92 149.453 Q2117.92 144.291 2119.63 139.06 Q2121.34 133.828 2124.84 128.366 L2128.54 128.366 Z\" fill=\"#000000\" fill-rule=\"nonzero\" fill-opacity=\"1\" /><path clip-path=\"url(#clip620)\" d=\"M2148.54 134.384 L2142.2 151.583 L2154.91 151.583 L2148.54 134.384 M2145.9 129.778 L2151.2 129.778 L2164.37 164.338 L2159.51 164.338 L2156.36 155.472 L2140.79 155.472 L2137.64 164.338 L2132.71 164.338 L2145.9 129.778 Z\" fill=\"#000000\" fill-rule=\"nonzero\" fill-opacity=\"1\" /><path clip-path=\"url(#clip620)\" d=\"M2190.79 138.412 L2181.41 151.027 L2191.27 164.338 L2186.25 164.338 L2178.7 154.152 L2171.16 164.338 L2166.13 164.338 L2176.2 150.773 L2166.99 138.412 L2172.01 138.412 L2178.89 147.648 L2185.76 138.412 L2190.79 138.412 Z\" fill=\"#000000\" fill-rule=\"nonzero\" fill-opacity=\"1\" /><path clip-path=\"url(#clip620)\" d=\"M2195.14 149.453 L2207.61 149.453 L2207.61 153.25 L2195.14 153.25 L2195.14 149.453 Z\" fill=\"#000000\" fill-rule=\"nonzero\" fill-opacity=\"1\" /><path clip-path=\"url(#clip620)\" d=\"M2233.01 151.398 Q2233.01 146.699 2231.06 144.037 Q2229.14 141.352 2225.76 141.352 Q2222.38 141.352 2220.44 144.037 Q2218.52 146.699 2218.52 151.398 Q2218.52 156.097 2220.44 158.782 Q2222.38 161.444 2225.76 161.444 Q2229.14 161.444 2231.06 158.782 Q2233.01 156.097 2233.01 151.398 M2218.52 142.347 Q2219.86 140.032 2221.9 138.921 Q2223.96 137.787 2226.8 137.787 Q2231.53 137.787 2234.47 141.537 Q2237.43 145.287 2237.43 151.398 Q2237.43 157.509 2234.47 161.259 Q2231.53 165.009 2226.8 165.009 Q2223.96 165.009 2221.9 163.898 Q2219.86 162.763 2218.52 160.449 L2218.52 164.338 L2214.23 164.338 L2214.23 128.319 L2218.52 128.319 L2218.52 142.347 Z\" fill=\"#000000\" fill-rule=\"nonzero\" fill-opacity=\"1\" /><path clip-path=\"url(#clip620)\" d=\"M2243.82 128.366 L2247.52 128.366 Q2250.99 133.828 2252.71 139.06 Q2254.44 144.291 2254.44 149.453 Q2254.44 154.639 2252.71 159.893 Q2250.99 165.148 2247.52 170.588 L2243.82 170.588 Q2246.9 165.287 2248.4 160.055 Q2249.93 154.801 2249.93 149.453 Q2249.93 144.106 2248.4 138.898 Q2246.9 133.69 2243.82 128.366 Z\" fill=\"#000000\" fill-rule=\"nonzero\" fill-opacity=\"1\" /><polyline clip-path=\"url(#clip620)\" style=\"stroke:#ff0000; stroke-linecap:round; stroke-linejoin:round; stroke-width:4; stroke-opacity:1; fill:none\" stroke-dasharray=\"16, 10\" points=\"1778.09,198.898 1925.56,198.898 \"/>\n<path clip-path=\"url(#clip620)\" d=\"M1971.85 200.529 L1971.85 216.178 L1967.59 216.178 L1967.59 200.668 Q1967.59 196.988 1966.16 195.159 Q1964.72 193.33 1961.85 193.33 Q1958.4 193.33 1956.41 195.53 Q1954.42 197.729 1954.42 201.525 L1954.42 216.178 L1950.14 216.178 L1950.14 190.252 L1954.42 190.252 L1954.42 194.28 Q1955.95 191.942 1958.01 190.784 Q1960.09 189.627 1962.8 189.627 Q1967.27 189.627 1969.56 192.405 Q1971.85 195.159 1971.85 200.529 Z\" fill=\"#000000\" fill-rule=\"nonzero\" fill-opacity=\"1\" /><path clip-path=\"url(#clip620)\" d=\"M1990.39 193.238 Q1986.97 193.238 1984.98 195.923 Q1982.99 198.585 1982.99 203.238 Q1982.99 207.891 1984.95 210.576 Q1986.94 213.238 1990.39 213.238 Q1993.8 213.238 1995.79 210.553 Q1997.78 207.867 1997.78 203.238 Q1997.78 198.631 1995.79 195.946 Q1993.8 193.238 1990.39 193.238 M1990.39 189.627 Q1995.95 189.627 1999.12 193.238 Q2002.29 196.849 2002.29 203.238 Q2002.29 209.604 1999.12 213.238 Q1995.95 216.849 1990.39 216.849 Q1984.81 216.849 1981.64 213.238 Q1978.49 209.604 1978.49 203.238 Q1978.49 196.849 1981.64 193.238 Q1984.81 189.627 1990.39 189.627 Z\" fill=\"#000000\" fill-rule=\"nonzero\" fill-opacity=\"1\" /><path clip-path=\"url(#clip620)\" d=\"M2024.37 194.233 Q2023.66 193.817 2022.8 193.631 Q2021.97 193.423 2020.95 193.423 Q2017.34 193.423 2015.39 195.784 Q2013.47 198.122 2013.47 202.52 L2013.47 216.178 L2009.19 216.178 L2009.19 190.252 L2013.47 190.252 L2013.47 194.28 Q2014.81 191.918 2016.97 190.784 Q2019.12 189.627 2022.2 189.627 Q2022.64 189.627 2023.17 189.696 Q2023.7 189.743 2024.35 189.858 L2024.37 194.233 Z\" fill=\"#000000\" fill-rule=\"nonzero\" fill-opacity=\"1\" /><path clip-path=\"url(#clip620)\" d=\"M2048.19 195.229 Q2049.79 192.358 2052.01 190.993 Q2054.23 189.627 2057.24 189.627 Q2061.29 189.627 2063.49 192.474 Q2065.69 195.298 2065.69 200.529 L2065.69 216.178 L2061.41 216.178 L2061.41 200.668 Q2061.41 196.942 2060.09 195.136 Q2058.77 193.33 2056.06 193.33 Q2052.75 193.33 2050.83 195.53 Q2048.91 197.729 2048.91 201.525 L2048.91 216.178 L2044.63 216.178 L2044.63 200.668 Q2044.63 196.918 2043.31 195.136 Q2041.99 193.33 2039.23 193.33 Q2035.97 193.33 2034.05 195.553 Q2032.13 197.752 2032.13 201.525 L2032.13 216.178 L2027.85 216.178 L2027.85 190.252 L2032.13 190.252 L2032.13 194.28 Q2033.59 191.895 2035.62 190.761 Q2037.66 189.627 2040.46 189.627 Q2043.29 189.627 2045.25 191.062 Q2047.24 192.497 2048.19 195.229 Z\" fill=\"#000000\" fill-rule=\"nonzero\" fill-opacity=\"1\" /><path clip-path=\"url(#clip620)\" d=\"M2085.97 203.145 Q2080.81 203.145 2078.82 204.326 Q2076.83 205.506 2076.83 208.354 Q2076.83 210.622 2078.31 211.965 Q2079.81 213.284 2082.38 213.284 Q2085.92 213.284 2088.05 210.784 Q2090.21 208.261 2090.21 204.094 L2090.21 203.145 L2085.97 203.145 M2094.47 201.386 L2094.47 216.178 L2090.21 216.178 L2090.21 212.242 Q2088.75 214.603 2086.57 215.738 Q2084.4 216.849 2081.25 216.849 Q2077.27 216.849 2074.91 214.627 Q2072.57 212.381 2072.57 208.631 Q2072.57 204.256 2075.48 202.034 Q2078.42 199.812 2084.23 199.812 L2090.21 199.812 L2090.21 199.395 Q2090.21 196.455 2088.26 194.858 Q2086.34 193.238 2082.85 193.238 Q2080.62 193.238 2078.52 193.77 Q2076.41 194.303 2074.47 195.367 L2074.47 191.432 Q2076.8 190.53 2079 190.09 Q2081.2 189.627 2083.29 189.627 Q2088.91 189.627 2091.69 192.543 Q2094.47 195.46 2094.47 201.386 Z\" fill=\"#000000\" fill-rule=\"nonzero\" fill-opacity=\"1\" /><path clip-path=\"url(#clip620)\" d=\"M2113.47 180.206 Q2110.37 185.53 2108.86 190.738 Q2107.36 195.946 2107.36 201.293 Q2107.36 206.641 2108.86 211.895 Q2110.39 217.127 2113.47 222.428 L2109.77 222.428 Q2106.29 216.988 2104.56 211.733 Q2102.85 206.479 2102.85 201.293 Q2102.85 196.131 2104.56 190.9 Q2106.27 185.668 2109.77 180.206 L2113.47 180.206 Z\" fill=\"#000000\" fill-rule=\"nonzero\" fill-opacity=\"1\" /><path clip-path=\"url(#clip620)\" d=\"M2133.47 186.224 L2127.13 203.423 L2139.84 203.423 L2133.47 186.224 M2130.83 181.618 L2136.13 181.618 L2149.3 216.178 L2144.44 216.178 L2141.29 207.312 L2125.72 207.312 L2122.57 216.178 L2117.64 216.178 L2130.83 181.618 Z\" fill=\"#000000\" fill-rule=\"nonzero\" fill-opacity=\"1\" /><path clip-path=\"url(#clip620)\" d=\"M2161.73 218.585 Q2159.93 223.215 2158.22 224.627 Q2156.5 226.039 2153.63 226.039 L2150.23 226.039 L2150.23 222.474 L2152.73 222.474 Q2154.49 222.474 2155.46 221.64 Q2156.43 220.807 2157.61 217.705 L2158.38 215.761 L2147.89 190.252 L2152.41 190.252 L2160.51 210.529 L2168.61 190.252 L2173.12 190.252 L2161.73 218.585 Z\" fill=\"#000000\" fill-rule=\"nonzero\" fill-opacity=\"1\" /><path clip-path=\"url(#clip620)\" d=\"M2176.02 201.293 L2188.49 201.293 L2188.49 205.09 L2176.02 205.09 L2176.02 201.293 Z\" fill=\"#000000\" fill-rule=\"nonzero\" fill-opacity=\"1\" /><path clip-path=\"url(#clip620)\" d=\"M2213.89 203.238 Q2213.89 198.539 2211.94 195.877 Q2210.02 193.192 2206.64 193.192 Q2203.26 193.192 2201.32 195.877 Q2199.4 198.539 2199.4 203.238 Q2199.4 207.937 2201.32 210.622 Q2203.26 213.284 2206.64 213.284 Q2210.02 213.284 2211.94 210.622 Q2213.89 207.937 2213.89 203.238 M2199.4 194.187 Q2200.74 191.872 2202.78 190.761 Q2204.84 189.627 2207.68 189.627 Q2212.41 189.627 2215.35 193.377 Q2218.31 197.127 2218.31 203.238 Q2218.31 209.349 2215.35 213.099 Q2212.41 216.849 2207.68 216.849 Q2204.84 216.849 2202.78 215.738 Q2200.74 214.603 2199.4 212.289 L2199.4 216.178 L2195.11 216.178 L2195.11 180.159 L2199.4 180.159 L2199.4 194.187 Z\" fill=\"#000000\" fill-rule=\"nonzero\" fill-opacity=\"1\" /><path clip-path=\"url(#clip620)\" d=\"M2224.7 180.206 L2228.4 180.206 Q2231.87 185.668 2233.59 190.9 Q2235.32 196.131 2235.32 201.293 Q2235.32 206.479 2233.59 211.733 Q2231.87 216.988 2228.4 222.428 L2224.7 222.428 Q2227.78 217.127 2229.28 211.895 Q2230.81 206.641 2230.81 201.293 Q2230.81 195.946 2229.28 190.738 Q2227.78 185.53 2224.7 180.206 Z\" fill=\"#000000\" fill-rule=\"nonzero\" fill-opacity=\"1\" /></svg>\n"
          },
          "metadata": {},
          "execution_count": 55
        }
      ]
    },
    {
      "cell_type": "code",
      "source": [
        "#Comparemos errores\n",
        "minimum(errores)"
      ],
      "metadata": {
        "colab": {
          "base_uri": "https://localhost:8080/"
        },
        "id": "ufITH_FEvNRL",
        "outputId": "c1da9476-d398-413c-d94c-bbc1de037fb3"
      },
      "id": "ufITH_FEvNRL",
      "execution_count": null,
      "outputs": [
        {
          "output_type": "execute_result",
          "data": {
            "text/plain": [
              "0.6225270135944639"
            ]
          },
          "metadata": {},
          "execution_count": 56
        }
      ]
    },
    {
      "cell_type": "code",
      "source": [
        "norm(A*y-b)"
      ],
      "metadata": {
        "colab": {
          "base_uri": "https://localhost:8080/"
        },
        "id": "QUHtFe5vw0Sa",
        "outputId": "cefc5028-3cf5-4bb5-e89a-56990bcb6246"
      },
      "id": "QUHtFe5vw0Sa",
      "execution_count": null,
      "outputs": [
        {
          "output_type": "execute_result",
          "data": {
            "text/plain": [
              "0.25124037624509826"
            ]
          },
          "metadata": {},
          "execution_count": 57
        }
      ]
    },
    {
      "cell_type": "markdown",
      "id": "9526735a",
      "metadata": {
        "id": "9526735a"
      },
      "source": [
        "## Dependencia Lineal y Rango de una Matriz\n",
        "El rango de una matriz es el número de columnas independientes. Si una columna es combinación lineal de otras, no contribuye a la dimensión del espacio.\n",
        "Consideremos por ejemplo:\n",
        "$$\\mathbf{A} = \\begin{bmatrix} 1 & 4 & 5 \\\\ 2 & 5 & 7 \\\\ 3 & 6 & 9 \\end{bmatrix}$$\n",
        "\n"
      ]
    },
    {
      "cell_type": "markdown",
      "source": [
        "Observar que la última columna de $A_2$ es la suma de las primeras dos."
      ],
      "metadata": {
        "id": "gzwnaTD6yIvR"
      },
      "id": "gzwnaTD6yIvR"
    },
    {
      "cell_type": "code",
      "execution_count": null,
      "id": "bc2c2ff8",
      "metadata": {
        "colab": {
          "base_uri": "https://localhost:8080/",
          "height": 86
        },
        "id": "bc2c2ff8",
        "outputId": "4513921c-96ac-406f-8228-4e780b55a38d"
      },
      "outputs": [
        {
          "output_type": "display_data",
          "data": {
            "text/plain": [
              "3×3 Matrix{Int64}:\n",
              " 1  4  5\n",
              " 2  5  7\n",
              " 3  6  9"
            ]
          },
          "metadata": {}
        }
      ],
      "source": [
        "A = reshape([1,2,3,4,5,6,5,7,9],3,3)\n",
        "display(A)"
      ]
    },
    {
      "cell_type": "code",
      "source": [
        "A*[1,1,-1]"
      ],
      "metadata": {
        "colab": {
          "base_uri": "https://localhost:8080/"
        },
        "id": "HFIAxX_MyVEf",
        "outputId": "457f33c7-c1d3-42c3-f9be-b9e961efd11c"
      },
      "id": "HFIAxX_MyVEf",
      "execution_count": null,
      "outputs": [
        {
          "output_type": "execute_result",
          "data": {
            "text/plain": [
              "3-element Vector{Int64}:\n",
              " 0\n",
              " 0\n",
              " 0"
            ]
          },
          "metadata": {},
          "execution_count": 63
        }
      ]
    },
    {
      "cell_type": "code",
      "source": [
        "rank_A = rank(A)\n",
        "println(\"Rango de A:\", rank_A)"
      ],
      "metadata": {
        "colab": {
          "base_uri": "https://localhost:8080/"
        },
        "id": "71c3PN9kxdCH",
        "outputId": "4e6a3e56-fc75-4898-b133-2b4b1ea13bca"
      },
      "id": "71c3PN9kxdCH",
      "execution_count": null,
      "outputs": [
        {
          "output_type": "stream",
          "name": "stdout",
          "text": [
            "Rango de A:2\n"
          ]
        }
      ]
    },
    {
      "cell_type": "markdown",
      "id": "a17a86fd",
      "metadata": {
        "id": "a17a86fd"
      },
      "source": [
        "## Descomposición en Matrices $C$ y $R$ (columnas y filas)\n",
        "\n",
        "Descomponemos la matriz $A$ como producto de una matriz $C$ que contiene las columnas linealmente independientes, y una matriz de  $R$, de modo que:\n",
        "$$\\mathbf{A} = \\mathbf{C} \\mathbf{R}$$\n"
      ]
    },
    {
      "cell_type": "markdown",
      "source": [
        "En nuestro caso podemos consdierar la matriz C como las dos primeras columnas:\n",
        "$$\n",
        "(*)\\quad\\underbrace{\\begin{pmatrix} 1 & 4 & 5 \\\\ 2 & 5 & 7 \\\\ 3 & 6 & 9 \\end{pmatrix}}_{A}\n",
        "=\n",
        "\\underbrace{\\begin{pmatrix}\n",
        "1&4\\\\2&5\\\\3&6\n",
        "\\end{pmatrix}}_{C}⋅\n",
        "\\underbrace{\\begin{pmatrix}\n",
        "1&0&1\\\\0&1&1\n",
        "\\end{pmatrix}}_R\n",
        "$$\n",
        "Observar que si la matriz $A$ es $n\\times n$, y de rango $r$ entonces en esta descomposición $C$ es de tamaño $n\\times r$ y $R$ de tamaño $r\\times n$:\n",
        "$$\n",
        "\\underbrace{A}_{n\\times n}=\\underbrace{C}_{n\\times r}\\cdot \\underbrace{R}_{r\\times n}\n",
        "$$\n",
        "\n",
        "También es importante notar que la descomposición no es única, dado que podemos elegir de formas distintas las columnas que forman una base del espacio columnas."
      ],
      "metadata": {
        "id": "9-stznql1ghS"
      },
      "id": "9-stznql1ghS"
    },
    {
      "cell_type": "code",
      "source": [
        "C=reshape([1,2,3,4,5,6],3,2)"
      ],
      "metadata": {
        "colab": {
          "base_uri": "https://localhost:8080/"
        },
        "id": "gDDD3XYQ2L0w",
        "outputId": "613be2b0-862d-4b5a-c7a4-d78a1f65792b"
      },
      "id": "gDDD3XYQ2L0w",
      "execution_count": null,
      "outputs": [
        {
          "output_type": "execute_result",
          "data": {
            "text/plain": [
              "3×2 Matrix{Int64}:\n",
              " 1  4\n",
              " 2  5\n",
              " 3  6"
            ]
          },
          "metadata": {},
          "execution_count": 69
        }
      ]
    },
    {
      "cell_type": "code",
      "source": [
        "R=[1 0 1;0 1 1]"
      ],
      "metadata": {
        "colab": {
          "base_uri": "https://localhost:8080/"
        },
        "id": "zGbHMv-X2SI1",
        "outputId": "f2636c2b-47da-4af1-c42b-bcca860b06c7"
      },
      "id": "zGbHMv-X2SI1",
      "execution_count": null,
      "outputs": [
        {
          "output_type": "execute_result",
          "data": {
            "text/plain": [
              "2×3 Matrix{Int64}:\n",
              " 1  0  1\n",
              " 0  1  1"
            ]
          },
          "metadata": {},
          "execution_count": 70
        }
      ]
    },
    {
      "cell_type": "code",
      "source": [
        "A==C*R"
      ],
      "metadata": {
        "colab": {
          "base_uri": "https://localhost:8080/"
        },
        "id": "0Huhfv-T6ovK",
        "outputId": "a980e09e-7e6c-4316-bef0-afc9d50a603d"
      },
      "id": "0Huhfv-T6ovK",
      "execution_count": null,
      "outputs": [
        {
          "output_type": "execute_result",
          "data": {
            "text/plain": [
              "true"
            ]
          },
          "metadata": {},
          "execution_count": 75
        }
      ]
    },
    {
      "cell_type": "markdown",
      "source": [
        "Otro ejemplo sencillo es:\n",
        "$$\n",
        "\\begin{pmatrix}\n",
        "1&2&3&4\\\\\n",
        "1&2&3&4\\\\\n",
        "1&2&3&4\\\\\n",
        "1&2&3&4\n",
        "\\end{pmatrix}=\n",
        "\\begin{pmatrix}1\\\\1\\\\1\\\\1\\end{pmatrix}\\cdot\n",
        "\\begin{pmatrix}1&2&3&4\\end{pmatrix}\n",
        "$$\n",
        "Observar que si conocemos que nuestra matriz tiene rango bajo $r\\ll n$, entonces en vez de tener $n^2$ coeficientes, nuestra matriz puede ser codificada en $2n\\cdot r$ coeficientes que es mucho más chico que $n^2$."
      ],
      "metadata": {
        "id": "BbBoNZ5h6q9s"
      },
      "id": "BbBoNZ5h6q9s"
    },
    {
      "cell_type": "markdown",
      "source": [
        "Realicemos algunas consideraciones.\n",
        "- La matriz $C$ tiene forman una base del espacio columnas de $A$\n",
        "- Un hecho muy interesante es que la matriz $R$ resulta ser una base del espacio de filas de $A$. Este hecho es un resultado importante: \\\\\n",
        " **``la dimensión del espacio columna coincide con la dimensión del espacio fila''**\n",
        "\n",
        " Veamos esto para el caso de nuestra matriz $A$. La prueba se extiende fácilmente para el caso general.\n",
        "\n",
        " Observar que las filas de $R$ son independientes, dado que el primer bloque es la identidad, i.e., $R$ en nuestro caso es de la forma\n",
        " $$\n",
        "R=\\begin{pmatrix}\n",
        "Id_2 & v\n",
        "\\end{pmatrix}\n",
        " $$\n",
        " con $v=\\binom11$. Lo que faltaría ver que son una base del espacio filas de $A$.\n",
        "\n",
        " Veamos que las filas de $A$ se pueden escribir como combinación lineal de las filas de $R$.\n",
        "\n",
        "De $(*)$ tenemos que las filas de $A$ son combinaciones lineales de las filas de $R$:\n",
        "\n",
        " $$\n",
        "(1,4,5)=1(1,0,1)+4(0,1,1)\\\\\n",
        "(2,5,6)=2(1,0,1)+5(0,1,1)\\\\\n",
        "(3,6,9)=3(1,0,1)+6(0,1,1)\n",
        " $$\n",
        "\n",
        " Por lo tanto las filas de $R$ general las filas de $A$. Ya está? o falta algo? tenemos que las filas de $R$ son independientes y cualquier fila de $A$ es combinación lineal de las filas de $R$. Entonces deberían ser una base,no?\n",
        "\n",
        "\n",
        "\n",
        " Faltaría ver que los vectores filas están en el espacio columnas! Eso es lo que entendemos por un \"generador\" de un subespacio.\n",
        "\n",
        " (Observar que la base canónica genera cualquier vector en un subespacio fijo, y obviamente son independientes, pero eso no implica que la base canónica es un generador  dicho subsepacio.)\n",
        "\n",
        "**Ejercicio:** Pruebe que las filas de $R$ están en el espacio fila de $A$.\n",
        "\n",
        "\n",
        " <details>\n",
        " <summary><b>Apriete aquí para ver la respuesta</b></summary>\n",
        "\n",
        " Por qué las filas de $R$ están en el espacio filas $R(A)$ de $A$?\n",
        "\n",
        "$$\n",
        "\\begin{pmatrix} 1 & 4 & 5 \\\\ 2 & 5 & 7\n",
        "\\end{pmatrix}\n",
        "=\n",
        "\\begin{pmatrix}\n",
        "1&4\\\\2&5\n",
        "\\end{pmatrix}\\cdot\n",
        "\\begin{pmatrix}\n",
        "1&0&1\\\\0&1&1\n",
        "\\end{pmatrix}\n",
        "$$\n",
        "Luego como el menor $2x2$ (la primer matriz) es invertible podemos multiplicar a izquierda y obtener\n",
        "$$\n",
        "\\begin{pmatrix}\n",
        "a&c\\\\b&d\n",
        "\\end{pmatrix}\\cdot \\begin{pmatrix} 1 & 4 & 5 \\\\ 2 & 5 & 7\n",
        "\\end{pmatrix}=\n",
        "\\begin{pmatrix}\n",
        "1&0&1\\\\0&1&1\n",
        "\\end{pmatrix}  \n",
        "$$\n",
        "siendo la primer matriz la inversa del menor considerado.\n",
        "\n",
        "Acá es importane que el menor $2\\times 2$ que hemos tomado sea invertible.\n",
        "\n",
        "Recordar que la inversa de una matriz 2x2 viene dada por la fórmula:\n",
        "$$\n",
        "\\begin{pmatrix}\n",
        "\\alpha &\\gamma\\\\\\beta&\\delta\n",
        "\\end{pmatrix}^{-1}=\n",
        "\\frac{1}{\\alpha\\delta-\\beta\\gamma}\n",
        "\\begin{pmatrix}\n",
        "\\delta&-\\beta\\\\-\\gamma&\\alpha\n",
        "\\end{pmatrix}\n",
        "$$\n",
        "\n",
        " </details>\n",
        "\n",
        "\n"
      ],
      "metadata": {
        "id": "sE2gk82U-fBU"
      },
      "id": "sE2gk82U-fBU"
    },
    {
      "cell_type": "markdown",
      "source": [
        "**$(\\dagger)$ Ejercicio:** Argumentar para el caso general. Es decir, dar una prueba de que en la descomposición $A=CR$ (en general), se tiene que las filas de $R$ son una base del espacio filas."
      ],
      "metadata": {
        "id": "Y-tsuy42_id5"
      },
      "id": "Y-tsuy42_id5"
    },
    {
      "cell_type": "markdown",
      "source": [
        "$(\\dagger)$**Ejercicio:** Encontrar la matriz $2\\times 2$ tal que"
      ],
      "metadata": {
        "id": "gLsxCynEKhFm"
      },
      "id": "gLsxCynEKhFm"
    },
    {
      "cell_type": "markdown",
      "source": [
        "$(\\dagger)$ **Ejercicio:** Argumentar porqué siempre podemos descomponer una matriz $A$ de rango $r$ de la forma\n",
        "$$\n",
        "A=C \\Delta R,\n",
        "$$\n",
        "con\n",
        "- $C$ una matriz $n\\times r$ que es base del espacios columnas,\n",
        "- $\\Delta$ matriz $r\\times r$ invertible,\n",
        "- $R$  matriz $r\\times n$ que es una base del espacio filas de $A$."
      ],
      "metadata": {
        "id": "53dfLlLapeNv"
      },
      "id": "53dfLlLapeNv"
    }
  ],
  "metadata": {
    "colab": {
      "provenance": [],
      "toc_visible": true,
      "include_colab_link": true
    },
    "language_info": {
      "name": "julia"
    },
    "kernelspec": {
      "name": "julia",
      "display_name": "Julia"
    }
  },
  "nbformat": 4,
  "nbformat_minor": 5
}