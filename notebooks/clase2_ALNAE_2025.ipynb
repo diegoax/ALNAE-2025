{
  "cells": [
    {
      "cell_type": "markdown",
      "metadata": {
        "colab_type": "text",
        "id": "view-in-github"
      },
      "source": [
        "<a href=\"https://colab.research.google.com/github/diegoax/ALNAE-2025/blob/main/clase2_ALNAE_2025.ipynb\" target=\"_parent\"><img src=\"https://colab.research.google.com/assets/colab-badge.svg\" alt=\"Open In Colab\"/></a>"
      ]
    },
    {
      "cell_type": "markdown",
      "id": "90e33c94",
      "metadata": {
        "id": "90e33c94"
      },
      "source": [
        "---\n",
        "# Álgebra Lineal Numérica con Julia\n",
        "\n",
        "(es importante que este jupyter notebook corra en Julia. Para eso deeplegar la pestaña \"Connect\" y elegir para cambiar el runtime a Julia)\n",
        "\n",
        "Este notebook explora los conceptos fundamentales de la multiplicación de matrices y espacios columna en álgebra lineal.\n",
        "Se utilizan ejemplos prácticos en Julia para reforzar los conceptos clave.\n",
        "\n",
        "Los ejercicios que comiencen con $(\\dagger)$ tienen cierta dificultad.\n",
        "\n",
        "---"
      ]
    },
    {
      "cell_type": "markdown",
      "id": "6dd1ea02",
      "metadata": {
        "id": "6dd1ea02"
      },
      "source": [
        "## Multiplicación de Matrices $Ax$ Usando Columnas de $A$\n",
        "La multiplicación de una matriz $A$ por un vector $x$ se puede hacer de dos maneras:\n",
        "1. Utilizando las filas de $A$ y calculando productos internos.\n",
        "2. Utilizando las columnas de $A$ y combinaciones lineales.\n",
        "\n",
        "La matriz $A$ y el vector $x$ son:$$\\mathbf{A} = \\begin{bmatrix} 1 & 4 \\\\ 2 & 5 \\\\ 3 & 6 \\end{bmatrix}, \\quad \\mathbf{x} = \\begin{bmatrix} x_1 \\\\ x_2 \\end{bmatrix}$$\n",
        "\n",
        "Luego el producto $Ax$ se puede escribir como  el producto escalar de las filas:\n",
        "$$\n",
        "Ax= \\begin{bmatrix} \\langle (1,4), (x_1,x_2)\\rangle \\\\ \\langle (2,5), (x_1,x_2)\\rangle \\\\\\langle (3 ,6),(x_1,x_2)\\rangle \\end{bmatrix}\n",
        "$$\n",
        "o más importante como <u>**combinación lineal**</u> de las columnas:\n",
        "$$Ax= x_1\\begin{bmatrix} 1 \\\\ 2\\\\3 \\end{bmatrix}+x_2\\begin{bmatrix} 4 \\\\ 5 \\\\6\\end{bmatrix}$$\n",
        "\n",
        "\n",
        "### Este último hecho es <u>**fundamental**</u> en álgebra lineal y en particular en este curso!!\n",
        "\n",
        "\n",
        "\n"
      ]
    },
    {
      "cell_type": "markdown",
      "id": "w6jDmJSlMsjX",
      "metadata": {
        "id": "w6jDmJSlMsjX"
      },
      "source": [
        "Variando $x_1$ y $x_2$, nos genera el espacio columnas. Que no es otra cosa que el subesacio generado por las columnas de $A$."
      ]
    },
    {
      "cell_type": "code",
      "execution_count": 1,
      "id": "183808b9",
      "metadata": {
        "id": "183808b9"
      },
      "outputs": [],
      "source": [
        "using LinearAlgebra"
      ]
    },
    {
      "cell_type": "code",
      "execution_count": 2,
      "id": "yi_kDtX7Sdaf",
      "metadata": {
        "colab": {
          "base_uri": "https://localhost:8080/",
          "height": 86
        },
        "id": "yi_kDtX7Sdaf",
        "outputId": "0826a13a-0502-4c71-bf3b-3649f954b1d9"
      },
      "outputs": [
        {
          "data": {
            "text/plain": [
              "3×2 Matrix{Int64}:\n",
              " 1  4\n",
              " 2  5\n",
              " 3  6"
            ]
          },
          "metadata": {},
          "output_type": "display_data"
        }
      ],
      "source": [
        "# Definimos la matriz A\n",
        "A = [1 4; 2 5; 3 6];\n",
        "display(A)"
      ]
    },
    {
      "cell_type": "code",
      "execution_count": 3,
      "id": "KH59uhXkWAl3",
      "metadata": {
        "colab": {
          "base_uri": "https://localhost:8080/"
        },
        "id": "KH59uhXkWAl3",
        "outputId": "24d27295-78ee-4273-c969-3bb47e30e7e5"
      },
      "outputs": [
        {
          "data": {
            "text/plain": [
              "3×2 Matrix{Int64}:\n",
              " 1  4\n",
              " 2  5\n",
              " 3  6"
            ]
          },
          "metadata": {},
          "output_type": "display_data"
        }
      ],
      "source": [
        "# o una forma alternativa\n",
        "A=reshape([1, 2, 3, 4, 5, 6], 3, 2)"
      ]
    },
    {
      "cell_type": "code",
      "execution_count": 4,
      "id": "BZpvz5o2RDu4",
      "metadata": {
        "colab": {
          "base_uri": "https://localhost:8080/"
        },
        "id": "BZpvz5o2RDu4",
        "outputId": "7c37c3a9-cf97-48c8-90dc-926b2aaddbcd"
      },
      "outputs": [
        {
          "data": {
            "text/plain": [
              "2×1 Matrix{Float64}:\n",
              "  1.3907334310960118\n",
              " -0.23596466830461074"
            ]
          },
          "metadata": {},
          "output_type": "display_data"
        }
      ],
      "source": [
        "#Ejemplo\n",
        "x=randn(2,1) #tomamos un vector aleatorio con distribución gaussiana en el plano"
      ]
    },
    {
      "cell_type": "code",
      "execution_count": 5,
      "id": "VQ0qvG_zD4YC",
      "metadata": {
        "colab": {
          "base_uri": "https://localhost:8080/"
        },
        "id": "VQ0qvG_zD4YC",
        "outputId": "042adee2-e067-4107-e1c8-7899a9e7fe5a"
      },
      "outputs": [
        {
          "data": {
            "text/plain": [
              "3×1 Matrix{Float64}:\n",
              " 0.4468747578775688\n",
              " 1.6016435206689699\n",
              " 2.7564122834603713"
            ]
          },
          "metadata": {},
          "output_type": "display_data"
        }
      ],
      "source": [
        "#Realicemos el producto\n",
        "A*x"
      ]
    },
    {
      "cell_type": "code",
      "execution_count": 6,
      "id": "_e-rxo0W_vAy",
      "metadata": {
        "colab": {
          "base_uri": "https://localhost:8080/",
          "height": 104
        },
        "id": "_e-rxo0W_vAy",
        "outputId": "88e05e84-4a04-4d7f-beb9-052cf5e7ab7f"
      },
      "outputs": [
        {
          "data": {
            "text/plain": [
              "3-element Vector{Int64}:\n",
              "  9\n",
              " 12\n",
              " 15"
            ]
          },
          "metadata": {},
          "output_type": "display_data"
        },
        {
          "name": "stdout",
          "output_type": "stream",
          "text": [
            "Resultado utilizando filas:\n"
          ]
        }
      ],
      "source": [
        "# Tomemos un vector x=[1,2]\n",
        "x=[1,2]\n",
        "# Multiplicación usando filas\n",
        "Ax_rows = [dot(A[i, :], x) for i in 1:3]\n",
        "println(\"Resultado utilizando filas:\")\n",
        "display(Ax_rows)"
      ]
    },
    {
      "cell_type": "code",
      "execution_count": 7,
      "id": "8qSdIStKLHI5",
      "metadata": {
        "colab": {
          "base_uri": "https://localhost:8080/"
        },
        "id": "8qSdIStKLHI5",
        "outputId": "956ca163-a2fd-4c95-9f5d-32f456a914bc"
      },
      "outputs": [
        {
          "data": {
            "text/plain": [
              "9"
            ]
          },
          "metadata": {},
          "output_type": "display_data"
        }
      ],
      "source": [
        "dot(A[1,:],x)"
      ]
    },
    {
      "cell_type": "code",
      "execution_count": 8,
      "id": "U6r4nXg2Slpm",
      "metadata": {
        "colab": {
          "base_uri": "https://localhost:8080/",
          "height": 104
        },
        "id": "U6r4nXg2Slpm",
        "outputId": "7a7bb689-1844-4e7b-cbf4-bddf88a6f226"
      },
      "outputs": [
        {
          "data": {
            "text/plain": [
              "3-element Vector{Int64}:\n",
              "  9\n",
              " 12\n",
              " 15"
            ]
          },
          "metadata": {},
          "output_type": "display_data"
        },
        {
          "name": "stdout",
          "output_type": "stream",
          "text": [
            "Resultado utilizando columnas:\n"
          ]
        }
      ],
      "source": [
        "# Multiplicación usando columnas\n",
        "Ax_columns = A * x\n",
        "println(\"Resultado utilizando columnas:\")\n",
        "display(Ax_columns)"
      ]
    },
    {
      "cell_type": "markdown",
      "id": "IiFZy5eYQ3JK",
      "metadata": {
        "id": "IiFZy5eYQ3JK"
      },
      "source": [
        "---\n",
        "### Digresión: Raíces de polinomios\n",
        "\n",
        "La primera versión también es interesante, por ejemplo para la evaluación de polinomios:\n",
        "$$\n",
        "p(t)=c_0+c_1t+\\cdots c_dt^d=\n",
        "%\\left\\langle (c_0,c_1,\\ldots,c_d),(1,t,\\ldots,t^d) \\right\\rangle\n",
        "\\left\\langle \\begin{pmatrix}c_0\\\\c_1\\\\\\vdots\\\\c_d\\end{pmatrix},\n",
        "\\begin{pmatrix}1\\\\t\\\\\\vdots\\\\t^d\\end{pmatrix} \\right\\rangle,\n",
        "$$\n",
        "que podemos escribir de manera matricial como\n",
        "$$\n",
        "p(t)=c^T\\gamma(t),\n",
        "$$\n",
        "siendo $c$ el vector columna con los coeficientes, y $\\gamma(t)$ la curva en $\\mathbb{R}^{d+1}$\n",
        "$$\n",
        "\\gamma(t)=\\begin{pmatrix}1\\\\t\\\\\\vdots\\\\t^d\\end{pmatrix},\\quad t\\in \\mathbb{R}.\n",
        "$$\n",
        "\n",
        "(?) Si $t^*$ es una raíz de $p$, i.e. $p(t^*)=0$, cómo podemos caracterizar la curva $\\gamma$ en $t^*$?"
      ]
    },
    {
      "cell_type": "markdown",
      "id": "k6JGGJx0MMuN",
      "metadata": {
        "id": "k6JGGJx0MMuN"
      },
      "source": [
        "\n",
        "\n",
        "---\n",
        "\n",
        "\n",
        "**Ideas/Ejercicio/Proyecto**: (?) Si $t^*$ es una raíz de $p$, i.e. $p(t^*)=0$, cómo podemos caracterizar la curva $\\gamma$ en $t^*$?\n",
        "\n",
        "*   Considerar el caso d=2. Hacer un bosquejo de la normalizción de la\n",
        "curva para que esté incluida en la esfera $S^2\\subset \\mathbb{R}^3$, i.e. describir $\\gamma(t)/\\|\\gamma(t)\\|$ con $\\|\\cdot\\|$.\n",
        "* De manera análoga proyectar a la esfera un polinomio genérico con coeficientes $(c_0,c_1,c_2)$.\n",
        "\n",
        "* Dar una descripción geométrica de que un polinomio de grado 2 tiene a lo sumo 2 raíces.\n",
        "* Suponga que tiramos un polinomio al azar con coeficientes gaussianos independientes. Cómo se calcularía la esperanza del número de raíces?\n",
        "---"
      ]
    },
    {
      "cell_type": "markdown",
      "id": "558b581b",
      "metadata": {
        "id": "558b581b"
      },
      "source": [
        "## Espacio Columna de A\n",
        "Concentremonos en el espacio columna de A.\n",
        "Recordar que es el conjunto de todas las combinaciones lineales de sus columnas."
      ]
    },
    {
      "cell_type": "markdown",
      "id": "d0ac8dc3",
      "metadata": {
        "id": "d0ac8dc3"
      },
      "source": [
        "El espacio columna de $A$ está definido por todas las combinaciones lineales de sus columnas:$$\\mathbf{Ax} = x_1 \\mathbf{a}_1 + x_2 \\mathbf{a}_2$$\n",
        "Donde:$$\\mathbf{a}_1 = \\begin{bmatrix} 1 \\\\ 2 \\\\ 3 \\end{bmatrix}, \\quad \\mathbf{a}_2 = \\begin{bmatrix} 4 \\\\ 5 \\\\ 6 \\end{bmatrix}$$"
      ]
    },
    {
      "cell_type": "code",
      "execution_count": null,
      "id": "ec2278fe",
      "metadata": {
        "colab": {
          "base_uri": "https://localhost:8080/",
          "height": 173
        },
        "id": "ec2278fe",
        "outputId": "28d33966-7976-4437-e954-8d35122b84b1"
      },
      "outputs": [
        {
          "name": "stdout",
          "output_type": "stream",
          "text": [
            "primer y segunda columnas\n"
          ]
        },
        {
          "data": {
            "text/plain": [
              "3-element Vector{Int64}:\n",
              " 1\n",
              " 2\n",
              " 3"
            ]
          },
          "metadata": {},
          "output_type": "display_data"
        },
        {
          "data": {
            "text/plain": [
              "3-element Vector{Int64}:\n",
              " 4\n",
              " 5\n",
              " 6"
            ]
          },
          "execution_count": 13,
          "metadata": {},
          "output_type": "execute_result"
        }
      ],
      "source": [
        "a1 = A[:, 1]  # Primera columna de A\n",
        "a2 = A[:, 2]  # Segunda columna de A\n",
        "println(\"primer y segunda columnas\")\n",
        "display(a1);\n",
        "a2"
      ]
    },
    {
      "cell_type": "markdown",
      "id": "S7PrXnKtTNrP",
      "metadata": {
        "id": "S7PrXnKtTNrP"
      },
      "source": [
        "Combinaciones de esos dos vectores llenan el epsacio $\\mathbb{R}^3$? Qué conjunto dan?\n",
        "Claro, eso dependerá de si son linealmente dependientes o independientes."
      ]
    },
    {
      "cell_type": "code",
      "execution_count": null,
      "id": "Dv4p5SZXQI8B",
      "metadata": {
        "colab": {
          "base_uri": "https://localhost:8080/"
        },
        "id": "Dv4p5SZXQI8B",
        "outputId": "39f697cb-52be-473d-f847-da62a01a04e0"
      },
      "outputs": [
        {
          "data": {
            "text/plain": [
              "2"
            ]
          },
          "execution_count": 91,
          "metadata": {},
          "output_type": "execute_result"
        }
      ],
      "source": [
        "# Para ver si son linealmente independientes, calculemos el rango\n",
        "rank([a1 a2])"
      ]
    },
    {
      "cell_type": "markdown",
      "id": "fsp2Cb1vQlTp",
      "metadata": {
        "id": "fsp2Cb1vQlTp"
      },
      "source": [
        "Observar que esto implica que alguno de los menores $2\\times 2$ de $A$ es diferente de cero.\n"
      ]
    },
    {
      "cell_type": "code",
      "execution_count": null,
      "id": "aFjUzOEYRJN3",
      "metadata": {
        "colab": {
          "base_uri": "https://localhost:8080/"
        },
        "id": "aFjUzOEYRJN3",
        "outputId": "19107e57-8743-4bfa-889a-c0d41c36e566"
      },
      "outputs": [
        {
          "data": {
            "text/plain": [
              "2×2 Matrix{Int64}:\n",
              " 1  4\n",
              " 2  5"
            ]
          },
          "execution_count": 55,
          "metadata": {},
          "output_type": "execute_result"
        }
      ],
      "source": [
        "M1 = A[[1,2], :]  # Filas 1 y 2"
      ]
    },
    {
      "cell_type": "code",
      "execution_count": null,
      "id": "41OsNd1ARQqh",
      "metadata": {
        "colab": {
          "base_uri": "https://localhost:8080/"
        },
        "id": "41OsNd1ARQqh",
        "outputId": "d0fc41e5-1c4c-47e3-b375-853ab2202441"
      },
      "outputs": [
        {
          "name": "stdout",
          "output_type": "stream",
          "text": [
            "Determinantes menores 2x2:\n",
            "-3.0, -6.0, -3.0\n"
          ]
        }
      ],
      "source": [
        "# Extraer menores 2x2 de la matriz\n",
        "M1 = A[[1,2], :]  # Filas 1 y 2\n",
        "M2 = A[[1,3], :]  # Filas 1 y 3\n",
        "M3 = A[[2,3], :]  # Filas 2 y 3\n",
        "\n",
        "# Calcular determinantes de las matrices 2x2\n",
        "det1 = det(M1)\n",
        "det2 = det(M2)\n",
        "det3 = det(M3)\n",
        "\n",
        "println(\"Determinantes menores 2x2:\")\n",
        "println(det1, \", \", det2, \", \", det3)"
      ]
    },
    {
      "cell_type": "markdown",
      "id": "NuUEHFCWR9PH",
      "metadata": {
        "id": "NuUEHFCWR9PH"
      },
      "source": [
        "Es esto algo general? o tipicamente alguno de los determinantes da cero?"
      ]
    },
    {
      "cell_type": "code",
      "execution_count": null,
      "id": "6bfLbQvJSMHa",
      "metadata": {
        "colab": {
          "base_uri": "https://localhost:8080/"
        },
        "id": "6bfLbQvJSMHa",
        "outputId": "d5b83ab9-c9f4-4e79-92ad-a3ed2e7d422b"
      },
      "outputs": [
        {
          "name": "stdout",
          "output_type": "stream",
          "text": [
            "Determinantes menores 2x2:\n",
            "0.20687758345255894, -0.4627521533568218, -0.29072544250796023\n"
          ]
        }
      ],
      "source": [
        "B = rand(3, 2)  # Matriz 3x2 aleatoria\n",
        "\n",
        "# Extraer menores 2x2 de la matriz\n",
        "M1 = B[[1,2], :]  # Filas 1 y 2\n",
        "M2 = B[[1,3], :]  # Filas 1 y 3\n",
        "M3 = B[[2,3], :]  # Filas 2 y 3\n",
        "\n",
        "# Calcular determinantes de las matrices 2x2\n",
        "det1 = det(M1)\n",
        "det2 = det(M2)\n",
        "det3 = det(M3)\n",
        "\n",
        "println(\"Determinantes menores 2x2:\")\n",
        "println(det1, \", \", det2, \", \", det3)\n"
      ]
    },
    {
      "cell_type": "markdown",
      "id": "MXvtdM5pSwfo",
      "metadata": {
        "id": "MXvtdM5pSwfo"
      },
      "source": [
        "Fabriquemos una función y pongamos a prueba en otros casos"
      ]
    },
    {
      "cell_type": "code",
      "execution_count": null,
      "id": "S_3JIxEsTI7f",
      "metadata": {
        "colab": {
          "base_uri": "https://localhost:8080/"
        },
        "id": "S_3JIxEsTI7f",
        "outputId": "48fcc502-4e75-42c5-d012-29aa39cc4263"
      },
      "outputs": [
        {
          "data": {
            "text/plain": [
              "menores_2x2 (generic function with 2 methods)"
            ]
          },
          "execution_count": 86,
          "metadata": {},
          "output_type": "execute_result"
        }
      ],
      "source": [
        "function menores_2x2(A::Matrix{<:Number})\n",
        "    if size(A) != (3,2)\n",
        "        error(\"La matriz debe ser de tamaño 3x2\")\n",
        "    end\n",
        "\n",
        "    # Seleccionar todas las combinaciones de 2 filas\n",
        "    indices = [(1,2), (1,3), (2,3)]\n",
        "\n",
        "    # Calcular determinantes de los menores 2x2\n",
        "    determinantes = [det(A[[i,j], :]) for (i,j) in indices]\n",
        "\n",
        "    return determinantes\n",
        "end"
      ]
    },
    {
      "cell_type": "code",
      "execution_count": null,
      "id": "hohVYQwOTl5m",
      "metadata": {
        "colab": {
          "base_uri": "https://localhost:8080/"
        },
        "id": "hohVYQwOTl5m",
        "outputId": "41f96dd2-2c7e-468c-89cf-6e11b82609a1"
      },
      "outputs": [
        {
          "name": "stdout",
          "output_type": "stream",
          "text": [
            "Determinantes de los menores 2x2:[-0.009829227141998423, -0.26480991631954937, -0.8760794626946025]\n"
          ]
        }
      ],
      "source": [
        "# Ejemplo de uso:\n",
        "B = randn(3,2)  # Matriz aleatoria 3x2\n",
        "det_menores = menores_2x2(B)\n",
        "\n",
        "println(\"Determinantes de los menores 2x2:\", det_menores)\n"
      ]
    },
    {
      "cell_type": "markdown",
      "id": "sQWkksH1TsII",
      "metadata": {
        "id": "sQWkksH1TsII"
      },
      "source": [
        "Es claro que sería una *particularidad*, y formalmente un evento de probabilidad cero.\n",
        "\n"
      ]
    },
    {
      "cell_type": "markdown",
      "id": "zVbDV4wsUY9B",
      "metadata": {
        "id": "zVbDV4wsUY9B"
      },
      "source": [
        "---\n",
        "**($\\dagger$)Ejercicio:** dar un argumento que ilumine este hecho.\n",
        "\n",
        "<details>\n",
        "  <summary><b>Sugerencia/Idea</b></summary>\n",
        "  Probar que el conjunto de matrices con de $3 \\times 2$ que tiene algún menor con determinante cero es una variedad algebraica: i.e. son los ceros de un polinomio en los coeficientes de la matriz. Esto implica que el conjunto tiene es de una dimensión menor a 3 y por lo tanto tiene medida cero.\n",
        "  </details>\n",
        "\n",
        "  \n",
        "  ---"
      ]
    },
    {
      "cell_type": "markdown",
      "id": "QbTXLYkjVS3L",
      "metadata": {
        "id": "QbTXLYkjVS3L"
      },
      "source": [
        "---\n",
        "**Ejercicio:** Fabrique un ejemplo donde esto no ocurra.\n",
        "<details>\n",
        "  <summary><b>Mostrar solución</b></summary>\n",
        "  Por ejemplo\n",
        "  $$\n",
        "\\begin{pmatrix} 1& 0\\\\ 0&1\\\\ 0&0\\end{pmatrix}\n",
        "  $$\n",
        "\n",
        "   b1=[1,0,0]\n",
        "b2=[0,1,0]\n",
        "B=[b1 b2]\n",
        "menores_2x2(B)\n",
        "</details>\n",
        "\n",
        "---"
      ]
    },
    {
      "cell_type": "markdown",
      "id": "ZIir1T-hfDMj",
      "metadata": {
        "id": "ZIir1T-hfDMj"
      },
      "source": [
        "Bien, el rango de nuestra matriz $A$ es dos, y al menos llegaríamos a cualquier punto del subespacio de dimension 2 (el plano) generado por las columnas de $A$. Veamos que hay vectores que no se pueden obtener como combinación lineal de las columnas."
      ]
    },
    {
      "cell_type": "markdown",
      "id": "gfaDFs2dTKKs",
      "metadata": {
        "id": "gfaDFs2dTKKs"
      },
      "source": [
        "Por ejemplo es fácil ver que $b=[1,1,1]$ no es generado por las columnas de A. Para eso basta ver que el sistema de ecuaciones"
      ]
    },
    {
      "cell_type": "markdown",
      "id": "0VYga67Wt6h_",
      "metadata": {
        "id": "0VYga67Wt6h_"
      },
      "source": [
        "---\n",
        "\n",
        " 📌 ¿Por qué el sistema es incompatible?\n",
        "\n",
        "<details> <summary><b>Detalles</b></summary>\n",
        "## 📌 Incompatibilidad del sistema $A \\mathbf{x} = \\mathbf{b}$\n",
        "\n",
        "\n",
        "Dado el sistema:\n",
        "\n",
        "$$\n",
        "A = \\begin{bmatrix} 1 & 4 \\\\ 2 & 5 \\\\ 3 & 6 \\end{bmatrix}, \\quad\n",
        "\\mathbf{x} = \\begin{bmatrix} x_1 \\\\ x_2 \\end{bmatrix}, \\quad\n",
        "\\mathbf{b} = \\begin{bmatrix} 1 \\\\ 1 \\\\ 1 \\end{bmatrix}\n",
        "$$\n",
        "\n",
        "El sistema de ecuaciones es:\n",
        "\n",
        "$$\n",
        "\\begin{aligned}\n",
        "x_1 + 4x_2 &= 1 \\\\\n",
        "2x_1 + 5x_2 &= 1 \\\\\n",
        "3x_1 + 6x_2 &= 1\n",
        "\\end{aligned}\n",
        "$$\n",
        "\n",
        "**Paso 1:** Restar ecuaciones\n",
        "Restamos la primera ecuación a la segunda:\n",
        "\n",
        "$$\n",
        "(2x_1 + 5x_2) - (x_1 + 4x_2) = 1 - 1\n",
        "$$\n",
        "\n",
        "$$\n",
        "x_1 + x_2 = 0\n",
        "$$\n",
        "\n",
        "**Paso 2:** Identificar inconsistencia\n",
        " Sin embargo, al sustituir en la primera ecuación original:\n",
        "\n",
        "$$\n",
        "x_1 + 4x_2 = 1\n",
        "$$\n",
        "\n",
        "Sustituyendo \\( x_1 = -x_2 \\):\n",
        "\n",
        "$$\n",
        "-x_2 + 4x_2 = 1\n",
        "$$\n",
        "\n",
        "$$\n",
        "3x_2 = 1 \\quad \\Rightarrow \\quad x_2 = \\frac{1}{3}\n",
        "$$\n",
        "\n",
        "Ahora sustituimos en \\( x_1 = -x_2 \\):\n",
        "\n",
        "$$\n",
        "x_1 = -\\frac{1}{3}\n",
        "$$\n",
        "\n",
        " ❌ **Contradicción**\n",
        "Si sustituimos en la tercera ecuación original:\n",
        "\n",
        "$$\n",
        "3x_1 + 6x_2 = 1\n",
        "$$\n",
        "\n",
        "$$\n",
        "3\\left(-\\frac{1}{3}\\right) + 6\\left(\\frac{1}{3}\\right) = -1 + 2 = 1\n",
        "$$\n",
        "\n",
        "⚠ **Pero esta ecuación es redundante y no aporta nueva información.**\n",
        "Dado que el sistema tiene más ecuaciones que restricciones independientes, es **incompatible**.\n",
        "\n",
        "✍️ **Conclusión:** El sistema no tiene solución porque la última ecuación no es consistente con las anteriores.\n",
        "\n",
        "✍️ **Ejercicio:** Realiza los cálculos y explica por qué el sistema no tiene solución.\n",
        "</details>\n",
        "\n",
        "---\n"
      ]
    },
    {
      "cell_type": "markdown",
      "id": "h8b3V09VbGZI",
      "metadata": {
        "id": "h8b3V09VbGZI"
      },
      "source": [
        "Considermos una combinación lineal de las columnas de $A$. Por ejemplo $c=a_1+2a_2$:"
      ]
    },
    {
      "cell_type": "code",
      "execution_count": null,
      "id": "7JjW91IPXTlH",
      "metadata": {
        "colab": {
          "base_uri": "https://localhost:8080/"
        },
        "id": "7JjW91IPXTlH",
        "outputId": "68415078-415b-4317-984a-238570a2a7f8"
      },
      "outputs": [
        {
          "data": {
            "text/plain": [
              "3-element Vector{Int64}:\n",
              "  9\n",
              " 12\n",
              " 15"
            ]
          },
          "execution_count": 18,
          "metadata": {},
          "output_type": "execute_result"
        }
      ],
      "source": [
        "c=1*a1 +2*a2"
      ]
    },
    {
      "cell_type": "markdown",
      "id": "-WCcSJ2xbmKM",
      "metadata": {
        "id": "-WCcSJ2xbmKM"
      },
      "source": [
        "Es claro que este vector es la imagen de aplicar $A$ al vector con coordenadas $[1,2]^T$. Por lo tanto debería ser solución del sistema $Ax=c$."
      ]
    },
    {
      "cell_type": "markdown",
      "id": "5Hm3db4EbVFR",
      "metadata": {
        "id": "5Hm3db4EbVFR"
      },
      "source": [
        "En Julia tenemos el comando \\ para resolver un sistema lineal. Lo veremos en detalle más adelante."
      ]
    },
    {
      "cell_type": "code",
      "execution_count": null,
      "id": "Pb3hS6O0Z_hx",
      "metadata": {
        "colab": {
          "base_uri": "https://localhost:8080/"
        },
        "id": "Pb3hS6O0Z_hx",
        "outputId": "6d0433bd-c6be-4bf6-c391-81ed15e9eacc"
      },
      "outputs": [
        {
          "data": {
            "text/plain": [
              "2-element Vector{Float64}:\n",
              " 0.9999999999999958\n",
              " 2.000000000000002"
            ]
          },
          "execution_count": 22,
          "metadata": {},
          "output_type": "execute_result"
        }
      ],
      "source": [
        "#Resolvamos el sistema usando el comando \"\\\" de Julia.\n",
        "y=A\\c"
      ]
    },
    {
      "cell_type": "code",
      "execution_count": null,
      "id": "Yl1cpIs7b8FE",
      "metadata": {
        "colab": {
          "base_uri": "https://localhost:8080/"
        },
        "id": "Yl1cpIs7b8FE",
        "outputId": "4ccd1673-a2e1-4463-860b-9c7937bd1b10"
      },
      "outputs": [
        {
          "data": {
            "text/plain": [
              "5.891509130072236e-15"
            ]
          },
          "execution_count": 24,
          "metadata": {},
          "output_type": "execute_result"
        }
      ],
      "source": [
        "# Veamos la norma de la diferencia\n",
        "norm(A*y-c)"
      ]
    },
    {
      "cell_type": "markdown",
      "id": "LGNFaIOA2jfp",
      "metadata": {
        "id": "LGNFaIOA2jfp"
      },
      "source": [
        "Considremos un $b$ aleatorio y juguemos un poco con eso."
      ]
    },
    {
      "cell_type": "code",
      "execution_count": null,
      "id": "AeADbk-EfirZ",
      "metadata": {
        "colab": {
          "base_uri": "https://localhost:8080/"
        },
        "id": "AeADbk-EfirZ",
        "outputId": "99f0ad75-f885-402a-db9a-c26f446095c9"
      },
      "outputs": [
        {
          "data": {
            "text/plain": [
              "2×1 Matrix{Float64}:\n",
              " -0.6175210220916475\n",
              "  0.16726500602888852"
            ]
          },
          "execution_count": 25,
          "metadata": {},
          "output_type": "execute_result"
        }
      ],
      "source": [
        "#Tomemnos un punto al azar (con distribución gaussiana en R^3)\n",
        "b=randn(3,1)\n",
        "#Resolvamos el sistema\n",
        "y=A\\b"
      ]
    },
    {
      "cell_type": "markdown",
      "id": "pfrqmWTRc4AM",
      "metadata": {
        "id": "pfrqmWTRc4AM"
      },
      "source": [
        "No debería ser incompatible?"
      ]
    },
    {
      "cell_type": "code",
      "execution_count": null,
      "id": "DpLrW7PBag66",
      "metadata": {
        "colab": {
          "base_uri": "https://localhost:8080/"
        },
        "id": "DpLrW7PBag66",
        "outputId": "f98feddc-62c9-429d-e2d3-e77180c9f5f1"
      },
      "outputs": [
        {
          "data": {
            "text/plain": [
              "1.266866057822118"
            ]
          },
          "execution_count": 117,
          "metadata": {},
          "output_type": "execute_result"
        }
      ],
      "source": [
        "norm(A*y-b)"
      ]
    },
    {
      "cell_type": "markdown",
      "id": "nM8h4KbLcaDb",
      "metadata": {
        "id": "nM8h4KbLcaDb"
      },
      "source": [
        "Qué sucede? La operación $A\\backslash b$ lo que hace es lo que se denomina la **pseudoinversa** de A aplicada a b, y en palabras busca el vector del dominio que su imagen está más cerca de $b$"
      ]
    },
    {
      "cell_type": "markdown",
      "id": "wgmAvzBvvQcH",
      "metadata": {
        "id": "wgmAvzBvvQcH"
      },
      "source": [
        "Considremos muchos puntos aleatorios sobre el dominio, y calculemos la distancia al vector $b$. Y comparemos esa distancia con $Ay$."
      ]
    },
    {
      "cell_type": "code",
      "execution_count": null,
      "id": "DLtaAlNFc--m",
      "metadata": {
        "colab": {
          "base_uri": "https://localhost:8080/",
          "height": 422
        },
        "id": "DLtaAlNFc--m",
        "outputId": "8d82144b-ae1b-45ad-b750-6b8c9b56ed45"
      },
      "outputs": [
        {
          "data": {
            "image/png": "[encoded data removed]",
            "image/svg+xml": [
              "<?xml version=\"1.0\" encoding=\"utf-8\"?>\n",
              "<svg xmlns=\"http://www.w3.org/2000/svg\" xmlns:xlink=\"http://www.w3.org/1999/xlink\" width=\"600\" height=\"400\" viewBox=\"0 0 2400 1600\">\n",
              "<defs>\n",
              "  <clipPath id=\"clip220\">\n",
              "    <rect x=\"0\" y=\"0\" width=\"2400\" height=\"1600\"/>\n",
              "  </clipPath>\n",
              "</defs>\n",
              "<path clip-path=\"url(#clip220)\" d=\"M0 1600 L2400 1600 L2400 0 L0 0  Z\" fill=\"#ffffff\" fill-rule=\"evenodd\" fill-opacity=\"1\"/>\n",
              "<defs>\n",
              "  <clipPath id=\"clip221\">\n",
              "    <rect x=\"480\" y=\"0\" width=\"1681\" height=\"1600\"/>\n",
              "  </clipPath>\n",
              "</defs>\n",
              "<path clip-path=\"url(#clip220)\" d=\"M140.696 1486.45 L2352.76 1486.45 L2352.76 47.2441 L140.696 47.2441  Z\" fill=\"#ffffff\" fill-rule=\"evenodd\" fill-opacity=\"1\"/>\n",
              "<defs>\n",
              "  <clipPath id=\"clip222\">\n",
              "    <rect x=\"140\" y=\"47\" width=\"2213\" height=\"1440\"/>\n",
              "  </clipPath>\n",
              "</defs>\n",
              "<polyline clip-path=\"url(#clip222)\" style=\"stroke:#000000; stroke-linecap:round; stroke-linejoin:round; stroke-width:2; stroke-opacity:0.1; fill:none\" points=\"182.222,1486.45 182.222,47.2441 \"/>\n",
              "<polyline clip-path=\"url(#clip222)\" style=\"stroke:#000000; stroke-linecap:round; stroke-linejoin:round; stroke-width:2; stroke-opacity:0.1; fill:none\" points=\"709.204,1486.45 709.204,47.2441 \"/>\n",
              "<polyline clip-path=\"url(#clip222)\" style=\"stroke:#000000; stroke-linecap:round; stroke-linejoin:round; stroke-width:2; stroke-opacity:0.1; fill:none\" points=\"1236.19,1486.45 1236.19,47.2441 \"/>\n",
              "<polyline clip-path=\"url(#clip222)\" style=\"stroke:#000000; stroke-linecap:round; stroke-linejoin:round; stroke-width:2; stroke-opacity:0.1; fill:none\" points=\"1763.17,1486.45 1763.17,47.2441 \"/>\n",
              "<polyline clip-path=\"url(#clip222)\" style=\"stroke:#000000; stroke-linecap:round; stroke-linejoin:round; stroke-width:2; stroke-opacity:0.1; fill:none\" points=\"2290.15,1486.45 2290.15,47.2441 \"/>\n",
              "<polyline clip-path=\"url(#clip222)\" style=\"stroke:#000000; stroke-linecap:round; stroke-linejoin:round; stroke-width:2; stroke-opacity:0.1; fill:none\" points=\"140.696,1474.34 2352.76,1474.34 \"/>\n",
              "<polyline clip-path=\"url(#clip222)\" style=\"stroke:#000000; stroke-linecap:round; stroke-linejoin:round; stroke-width:2; stroke-opacity:0.1; fill:none\" points=\"140.696,1175.9 2352.76,1175.9 \"/>\n",
              "<polyline clip-path=\"url(#clip222)\" style=\"stroke:#000000; stroke-linecap:round; stroke-linejoin:round; stroke-width:2; stroke-opacity:0.1; fill:none\" points=\"140.696,877.462 2352.76,877.462 \"/>\n",
              "<polyline clip-path=\"url(#clip222)\" style=\"stroke:#000000; stroke-linecap:round; stroke-linejoin:round; stroke-width:2; stroke-opacity:0.1; fill:none\" points=\"140.696,579.02 2352.76,579.02 \"/>\n",
              "<polyline clip-path=\"url(#clip222)\" style=\"stroke:#000000; stroke-linecap:round; stroke-linejoin:round; stroke-width:2; stroke-opacity:0.1; fill:none\" points=\"140.696,280.578 2352.76,280.578 \"/>\n",
              "<polyline clip-path=\"url(#clip220)\" style=\"stroke:#000000; stroke-linecap:round; stroke-linejoin:round; stroke-width:4; stroke-opacity:1; fill:none\" points=\"140.696,1486.45 2352.76,1486.45 \"/>\n",
              "<polyline clip-path=\"url(#clip220)\" style=\"stroke:#000000; stroke-linecap:round; stroke-linejoin:round; stroke-width:4; stroke-opacity:1; fill:none\" points=\"182.222,1486.45 182.222,1467.55 \"/>\n",
              "<polyline clip-path=\"url(#clip220)\" style=\"stroke:#000000; stroke-linecap:round; stroke-linejoin:round; stroke-width:4; stroke-opacity:1; fill:none\" points=\"709.204,1486.45 709.204,1467.55 \"/>\n",
              "<polyline clip-path=\"url(#clip220)\" style=\"stroke:#000000; stroke-linecap:round; stroke-linejoin:round; stroke-width:4; stroke-opacity:1; fill:none\" points=\"1236.19,1486.45 1236.19,1467.55 \"/>\n",
              "<polyline clip-path=\"url(#clip220)\" style=\"stroke:#000000; stroke-linecap:round; stroke-linejoin:round; stroke-width:4; stroke-opacity:1; fill:none\" points=\"1763.17,1486.45 1763.17,1467.55 \"/>\n",
              "<polyline clip-path=\"url(#clip220)\" style=\"stroke:#000000; stroke-linecap:round; stroke-linejoin:round; stroke-width:4; stroke-opacity:1; fill:none\" points=\"2290.15,1486.45 2290.15,1467.55 \"/>\n",
              "<path clip-path=\"url(#clip220)\" d=\"M182.222 1517.37 Q178.611 1517.37 176.782 1520.93 Q174.976 1524.47 174.976 1531.6 Q174.976 1538.71 176.782 1542.27 Q178.611 1545.82 182.222 1545.82 Q185.856 1545.82 187.662 1542.27 Q189.49 1538.71 189.49 1531.6 Q189.49 1524.47 187.662 1520.93 Q185.856 1517.37 182.222 1517.37 M182.222 1513.66 Q188.032 1513.66 191.087 1518.27 Q194.166 1522.85 194.166 1531.6 Q194.166 1540.33 191.087 1544.94 Q188.032 1549.52 182.222 1549.52 Q176.412 1549.52 173.333 1544.94 Q170.277 1540.33 170.277 1531.6 Q170.277 1522.85 173.333 1518.27 Q176.412 1513.66 182.222 1513.66 Z\" fill=\"#000000\" fill-rule=\"nonzero\" fill-opacity=\"1\" /><path clip-path=\"url(#clip220)\" d=\"M688.475 1544.91 L704.794 1544.91 L704.794 1548.85 L682.85 1548.85 L682.85 1544.91 Q685.512 1542.16 690.095 1537.53 Q694.702 1532.88 695.882 1531.53 Q698.128 1529.01 699.007 1527.27 Q699.91 1525.51 699.91 1523.82 Q699.91 1521.07 697.966 1519.33 Q696.044 1517.6 692.942 1517.6 Q690.743 1517.6 688.29 1518.36 Q685.859 1519.13 683.081 1520.68 L683.081 1515.95 Q685.905 1514.82 688.359 1514.24 Q690.813 1513.66 692.85 1513.66 Q698.22 1513.66 701.415 1516.35 Q704.609 1519.03 704.609 1523.52 Q704.609 1525.65 703.799 1527.57 Q703.012 1529.47 700.905 1532.07 Q700.327 1532.74 697.225 1535.95 Q694.123 1539.15 688.475 1544.91 Z\" fill=\"#000000\" fill-rule=\"nonzero\" fill-opacity=\"1\" /><path clip-path=\"url(#clip220)\" d=\"M714.655 1514.29 L733.012 1514.29 L733.012 1518.22 L718.938 1518.22 L718.938 1526.7 Q719.956 1526.35 720.975 1526.19 Q721.993 1526 723.012 1526 Q728.799 1526 732.178 1529.17 Q735.558 1532.34 735.558 1537.76 Q735.558 1543.34 732.086 1546.44 Q728.614 1549.52 722.294 1549.52 Q720.118 1549.52 717.85 1549.15 Q715.604 1548.78 713.197 1548.04 L713.197 1543.34 Q715.28 1544.47 717.502 1545.03 Q719.725 1545.58 722.202 1545.58 Q726.206 1545.58 728.544 1543.48 Q730.882 1541.37 730.882 1537.76 Q730.882 1534.15 728.544 1532.04 Q726.206 1529.94 722.202 1529.94 Q720.327 1529.94 718.452 1530.35 Q716.6 1530.77 714.655 1531.65 L714.655 1514.29 Z\" fill=\"#000000\" fill-rule=\"nonzero\" fill-opacity=\"1\" /><path clip-path=\"url(#clip220)\" d=\"M1210.89 1514.29 L1229.24 1514.29 L1229.24 1518.22 L1215.17 1518.22 L1215.17 1526.7 Q1216.19 1526.35 1217.2 1526.19 Q1218.22 1526 1219.24 1526 Q1225.03 1526 1228.41 1529.17 Q1231.79 1532.34 1231.79 1537.76 Q1231.79 1543.34 1228.32 1546.44 Q1224.84 1549.52 1218.52 1549.52 Q1216.35 1549.52 1214.08 1549.15 Q1211.83 1548.78 1209.43 1548.04 L1209.43 1543.34 Q1211.51 1544.47 1213.73 1545.03 Q1215.95 1545.58 1218.43 1545.58 Q1222.44 1545.58 1224.77 1543.48 Q1227.11 1541.37 1227.11 1537.76 Q1227.11 1534.15 1224.77 1532.04 Q1222.44 1529.94 1218.43 1529.94 Q1216.56 1529.94 1214.68 1530.35 Q1212.83 1530.77 1210.89 1531.65 L1210.89 1514.29 Z\" fill=\"#000000\" fill-rule=\"nonzero\" fill-opacity=\"1\" /><path clip-path=\"url(#clip220)\" d=\"M1251 1517.37 Q1247.39 1517.37 1245.56 1520.93 Q1243.76 1524.47 1243.76 1531.6 Q1243.76 1538.71 1245.56 1542.27 Q1247.39 1545.82 1251 1545.82 Q1254.64 1545.82 1256.44 1542.27 Q1258.27 1538.71 1258.27 1531.6 Q1258.27 1524.47 1256.44 1520.93 Q1254.64 1517.37 1251 1517.37 M1251 1513.66 Q1256.81 1513.66 1259.87 1518.27 Q1262.95 1522.85 1262.95 1531.6 Q1262.95 1540.33 1259.87 1544.94 Q1256.81 1549.52 1251 1549.52 Q1245.19 1549.52 1242.11 1544.94 Q1239.06 1540.33 1239.06 1531.6 Q1239.06 1522.85 1242.11 1518.27 Q1245.19 1513.66 1251 1513.66 Z\" fill=\"#000000\" fill-rule=\"nonzero\" fill-opacity=\"1\" /><path clip-path=\"url(#clip220)\" d=\"M1737.02 1514.29 L1759.24 1514.29 L1759.24 1516.28 L1746.7 1548.85 L1741.81 1548.85 L1753.62 1518.22 L1737.02 1518.22 L1737.02 1514.29 Z\" fill=\"#000000\" fill-rule=\"nonzero\" fill-opacity=\"1\" /><path clip-path=\"url(#clip220)\" d=\"M1768.41 1514.29 L1786.77 1514.29 L1786.77 1518.22 L1772.69 1518.22 L1772.69 1526.7 Q1773.71 1526.35 1774.73 1526.19 Q1775.75 1526 1776.77 1526 Q1782.55 1526 1785.93 1529.17 Q1789.31 1532.34 1789.31 1537.76 Q1789.31 1543.34 1785.84 1546.44 Q1782.37 1549.52 1776.05 1549.52 Q1773.87 1549.52 1771.61 1549.15 Q1769.36 1548.78 1766.95 1548.04 L1766.95 1543.34 Q1769.04 1544.47 1771.26 1545.03 Q1773.48 1545.58 1775.96 1545.58 Q1779.96 1545.58 1782.3 1543.48 Q1784.64 1541.37 1784.64 1537.76 Q1784.64 1534.15 1782.3 1532.04 Q1779.96 1529.94 1775.96 1529.94 Q1774.08 1529.94 1772.21 1530.35 Q1770.36 1530.77 1768.41 1531.65 L1768.41 1514.29 Z\" fill=\"#000000\" fill-rule=\"nonzero\" fill-opacity=\"1\" /><path clip-path=\"url(#clip220)\" d=\"M2249.76 1544.91 L2257.4 1544.91 L2257.4 1518.55 L2249.09 1520.21 L2249.09 1515.95 L2257.35 1514.29 L2262.03 1514.29 L2262.03 1544.91 L2269.66 1544.91 L2269.66 1548.85 L2249.76 1548.85 L2249.76 1544.91 Z\" fill=\"#000000\" fill-rule=\"nonzero\" fill-opacity=\"1\" /><path clip-path=\"url(#clip220)\" d=\"M2289.11 1517.37 Q2285.5 1517.37 2283.67 1520.93 Q2281.86 1524.47 2281.86 1531.6 Q2281.86 1538.71 2283.67 1542.27 Q2285.5 1545.82 2289.11 1545.82 Q2292.74 1545.82 2294.55 1542.27 Q2296.38 1538.71 2296.38 1531.6 Q2296.38 1524.47 2294.55 1520.93 Q2292.74 1517.37 2289.11 1517.37 M2289.11 1513.66 Q2294.92 1513.66 2297.97 1518.27 Q2301.05 1522.85 2301.05 1531.6 Q2301.05 1540.33 2297.97 1544.94 Q2294.92 1549.52 2289.11 1549.52 Q2283.3 1549.52 2280.22 1544.94 Q2277.16 1540.33 2277.16 1531.6 Q2277.16 1522.85 2280.22 1518.27 Q2283.3 1513.66 2289.11 1513.66 Z\" fill=\"#000000\" fill-rule=\"nonzero\" fill-opacity=\"1\" /><path clip-path=\"url(#clip220)\" d=\"M2319.27 1517.37 Q2315.66 1517.37 2313.83 1520.93 Q2312.03 1524.47 2312.03 1531.6 Q2312.03 1538.71 2313.83 1542.27 Q2315.66 1545.82 2319.27 1545.82 Q2322.9 1545.82 2324.71 1542.27 Q2326.54 1538.71 2326.54 1531.6 Q2326.54 1524.47 2324.71 1520.93 Q2322.9 1517.37 2319.27 1517.37 M2319.27 1513.66 Q2325.08 1513.66 2328.14 1518.27 Q2331.22 1522.85 2331.22 1531.6 Q2331.22 1540.33 2328.14 1544.94 Q2325.08 1549.52 2319.27 1549.52 Q2313.46 1549.52 2310.38 1544.94 Q2307.33 1540.33 2307.33 1531.6 Q2307.33 1522.85 2310.38 1518.27 Q2313.46 1513.66 2319.27 1513.66 Z\" fill=\"#000000\" fill-rule=\"nonzero\" fill-opacity=\"1\" /><polyline clip-path=\"url(#clip220)\" style=\"stroke:#000000; stroke-linecap:round; stroke-linejoin:round; stroke-width:4; stroke-opacity:1; fill:none\" points=\"140.696,1486.45 140.696,47.2441 \"/>\n",
              "<polyline clip-path=\"url(#clip220)\" style=\"stroke:#000000; stroke-linecap:round; stroke-linejoin:round; stroke-width:4; stroke-opacity:1; fill:none\" points=\"140.696,1474.34 159.593,1474.34 \"/>\n",
              "<polyline clip-path=\"url(#clip220)\" style=\"stroke:#000000; stroke-linecap:round; stroke-linejoin:round; stroke-width:4; stroke-opacity:1; fill:none\" points=\"140.696,1175.9 159.593,1175.9 \"/>\n",
              "<polyline clip-path=\"url(#clip220)\" style=\"stroke:#000000; stroke-linecap:round; stroke-linejoin:round; stroke-width:4; stroke-opacity:1; fill:none\" points=\"140.696,877.462 159.593,877.462 \"/>\n",
              "<polyline clip-path=\"url(#clip220)\" style=\"stroke:#000000; stroke-linecap:round; stroke-linejoin:round; stroke-width:4; stroke-opacity:1; fill:none\" points=\"140.696,579.02 159.593,579.02 \"/>\n",
              "<polyline clip-path=\"url(#clip220)\" style=\"stroke:#000000; stroke-linecap:round; stroke-linejoin:round; stroke-width:4; stroke-opacity:1; fill:none\" points=\"140.696,280.578 159.593,280.578 \"/>\n",
              "<path clip-path=\"url(#clip220)\" d=\"M92.7512 1460.14 Q89.1401 1460.14 87.3114 1463.71 Q85.5058 1467.25 85.5058 1474.38 Q85.5058 1481.49 87.3114 1485.05 Q89.1401 1488.59 92.7512 1488.59 Q96.3854 1488.59 98.1909 1485.05 Q100.02 1481.49 100.02 1474.38 Q100.02 1467.25 98.1909 1463.71 Q96.3854 1460.14 92.7512 1460.14 M92.7512 1456.44 Q98.5613 1456.44 101.617 1461.05 Q104.696 1465.63 104.696 1474.38 Q104.696 1483.11 101.617 1487.71 Q98.5613 1492.3 92.7512 1492.3 Q86.941 1492.3 83.8623 1487.71 Q80.8068 1483.11 80.8068 1474.38 Q80.8068 1465.63 83.8623 1461.05 Q86.941 1456.44 92.7512 1456.44 Z\" fill=\"#000000\" fill-rule=\"nonzero\" fill-opacity=\"1\" /><path clip-path=\"url(#clip220)\" d=\"M83.7929 1158.62 L102.149 1158.62 L102.149 1162.56 L88.0753 1162.56 L88.0753 1171.03 Q89.0938 1170.68 90.1123 1170.52 Q91.1308 1170.34 92.1493 1170.34 Q97.9363 1170.34 101.316 1173.51 Q104.696 1176.68 104.696 1182.1 Q104.696 1187.67 101.223 1190.78 Q97.7511 1193.85 91.4317 1193.85 Q89.2558 1193.85 86.9873 1193.48 Q84.7419 1193.11 82.3346 1192.37 L82.3346 1187.67 Q84.4179 1188.81 86.6401 1189.36 Q88.8623 1189.92 91.3391 1189.92 Q95.3437 1189.92 97.6817 1187.81 Q100.02 1185.71 100.02 1182.1 Q100.02 1178.48 97.6817 1176.38 Q95.3437 1174.27 91.3391 1174.27 Q89.4641 1174.27 87.5892 1174.69 Q85.7373 1175.1 83.7929 1175.98 L83.7929 1158.62 Z\" fill=\"#000000\" fill-rule=\"nonzero\" fill-opacity=\"1\" /><path clip-path=\"url(#clip220)\" d=\"M53.3995 890.806 L61.0384 890.806 L61.0384 864.441 L52.7282 866.107 L52.7282 861.848 L60.9921 860.182 L65.668 860.182 L65.668 890.806 L73.3068 890.806 L73.3068 894.742 L53.3995 894.742 L53.3995 890.806 Z\" fill=\"#000000\" fill-rule=\"nonzero\" fill-opacity=\"1\" /><path clip-path=\"url(#clip220)\" d=\"M92.7512 863.26 Q89.1401 863.26 87.3114 866.825 Q85.5058 870.367 85.5058 877.496 Q85.5058 884.603 87.3114 888.168 Q89.1401 891.709 92.7512 891.709 Q96.3854 891.709 98.1909 888.168 Q100.02 884.603 100.02 877.496 Q100.02 870.367 98.1909 866.825 Q96.3854 863.26 92.7512 863.26 M92.7512 859.557 Q98.5613 859.557 101.617 864.163 Q104.696 868.746 104.696 877.496 Q104.696 886.223 101.617 890.83 Q98.5613 895.413 92.7512 895.413 Q86.941 895.413 83.8623 890.83 Q80.8068 886.223 80.8068 877.496 Q80.8068 868.746 83.8623 864.163 Q86.941 859.557 92.7512 859.557 Z\" fill=\"#000000\" fill-rule=\"nonzero\" fill-opacity=\"1\" /><path clip-path=\"url(#clip220)\" d=\"M54.3949 592.365 L62.0337 592.365 L62.0337 565.999 L53.7236 567.666 L53.7236 563.407 L61.9874 561.74 L66.6633 561.74 L66.6633 592.365 L74.3022 592.365 L74.3022 596.3 L54.3949 596.3 L54.3949 592.365 Z\" fill=\"#000000\" fill-rule=\"nonzero\" fill-opacity=\"1\" /><path clip-path=\"url(#clip220)\" d=\"M83.7929 561.74 L102.149 561.74 L102.149 565.675 L88.0753 565.675 L88.0753 574.147 Q89.0938 573.8 90.1123 573.638 Q91.1308 573.453 92.1493 573.453 Q97.9363 573.453 101.316 576.624 Q104.696 579.795 104.696 585.212 Q104.696 590.791 101.223 593.893 Q97.7511 596.971 91.4317 596.971 Q89.2558 596.971 86.9873 596.601 Q84.7419 596.231 82.3346 595.49 L82.3346 590.791 Q84.4179 591.925 86.6401 592.481 Q88.8623 593.036 91.3391 593.036 Q95.3437 593.036 97.6817 590.93 Q100.02 588.823 100.02 585.212 Q100.02 581.601 97.6817 579.495 Q95.3437 577.388 91.3391 577.388 Q89.4641 577.388 87.5892 577.805 Q85.7373 578.221 83.7929 579.101 L83.7929 561.74 Z\" fill=\"#000000\" fill-rule=\"nonzero\" fill-opacity=\"1\" /><path clip-path=\"url(#clip220)\" d=\"M56.6171 293.923 L72.9365 293.923 L72.9365 297.858 L50.9921 297.858 L50.9921 293.923 Q53.6541 291.169 58.2375 286.539 Q62.8439 281.886 64.0245 280.544 Q66.2698 278.021 67.1494 276.284 Q68.0522 274.525 68.0522 272.835 Q68.0522 270.081 66.1078 268.345 Q64.1865 266.609 61.0847 266.609 Q58.8856 266.609 56.4319 267.372 Q54.0014 268.136 51.2236 269.687 L51.2236 264.965 Q54.0477 263.831 56.5014 263.252 Q58.955 262.673 60.9921 262.673 Q66.3624 262.673 69.5568 265.359 Q72.7513 268.044 72.7513 272.534 Q72.7513 274.664 71.9411 276.585 Q71.1541 278.483 69.0476 281.076 Q68.4689 281.747 65.367 284.965 Q62.2652 288.159 56.6171 293.923 Z\" fill=\"#000000\" fill-rule=\"nonzero\" fill-opacity=\"1\" /><path clip-path=\"url(#clip220)\" d=\"M92.7512 266.377 Q89.1401 266.377 87.3114 269.942 Q85.5058 273.484 85.5058 280.613 Q85.5058 287.72 87.3114 291.284 Q89.1401 294.826 92.7512 294.826 Q96.3854 294.826 98.1909 291.284 Q100.02 287.72 100.02 280.613 Q100.02 273.484 98.1909 269.942 Q96.3854 266.377 92.7512 266.377 M92.7512 262.673 Q98.5613 262.673 101.617 267.28 Q104.696 271.863 104.696 280.613 Q104.696 289.34 101.617 293.946 Q98.5613 298.53 92.7512 298.53 Q86.941 298.53 83.8623 293.946 Q80.8068 289.34 80.8068 280.613 Q80.8068 271.863 83.8623 267.28 Q86.941 262.673 92.7512 262.673 Z\" fill=\"#000000\" fill-rule=\"nonzero\" fill-opacity=\"1\" /><polyline clip-path=\"url(#clip222)\" style=\"stroke:#009af9; stroke-linecap:round; stroke-linejoin:round; stroke-width:4; stroke-opacity:1; fill:none\" points=\"203.301,1257.27 224.38,1008.3 245.46,1285.6 266.539,1415.35 287.618,519.613 308.697,1149.06 329.777,319.324 350.856,1397.23 371.935,1382.5 393.015,1380.41 414.094,1419.17 435.173,1110.29 456.252,578.335 477.332,1133.69 498.411,990.959 519.49,1265.82 540.57,1293.5 561.649,1375.89 582.728,1155.03 603.807,518.855 624.887,976.359 645.966,643.367 667.045,1427.13 688.125,1189.76 709.204,774.277 730.283,965.779 751.362,975.158 772.442,87.9763 793.521,855.416 814.6,713.322 835.68,1257.11 856.759,1167.98 877.838,979.958 898.917,1436.57 919.997,1054.34 941.076,1352.14 962.155,1379.72 983.235,1062.7 1004.31,1023.67 1025.39,1165.26 1046.47,1090.87 1067.55,1324.78 1088.63,1328.32 1109.71,945.856 1130.79,967.087 1151.87,1267.29 1172.95,1157.88 1194.03,1402.02 1215.11,1357.53 1236.19,1391.34 1257.27,1378.75 1278.34,1296.3 1299.42,1402.66 1320.5,1241.58 1341.58,1225.3 1362.66,1026.02 1383.74,669.1 1404.82,1080.67 1425.9,555.275 1446.98,1410.41 1468.06,214.885 1489.14,646.09 1510.22,1207.61 1531.3,979.232 1552.38,1128.33 1573.45,388.317 1594.53,1182.07 1615.61,1261.08 1636.69,903.92 1657.77,547.435 1678.85,1015.04 1699.93,1227.11 1721.01,894.245 1742.09,1057.18 1763.17,1072.14 1784.25,1422.35 1805.33,1049.15 1826.41,903.205 1847.49,1178.59 1868.56,1232.11 1889.64,740.588 1910.72,606.399 1931.8,1271.84 1952.88,1120.43 1973.96,1149.02 1995.04,707.381 2016.12,1224.69 2037.2,1091.38 2058.28,1182.57 2079.36,674.404 2100.44,1126.66 2121.52,834.906 2142.6,1412.31 2163.67,701.277 2184.75,996.636 2205.83,1320.65 2226.91,1218.6 2247.99,782.448 2269.07,494.166 2290.15,1404.36 \"/>\n",
              "<path clip-path=\"url(#clip222)\" d=\"M203.301 1273.27 L191.989 1268.58 L187.301 1257.27 L191.989 1245.96 L203.301 1241.27 L214.613 1245.96 L219.301 1257.27 L214.613 1268.58 Z\" fill=\"#009af9\" fill-rule=\"evenodd\" fill-opacity=\"1\" stroke=\"#000000\" stroke-opacity=\"1\" stroke-width=\"3.2\"/>\n",
              "<path clip-path=\"url(#clip222)\" d=\"M224.38 1024.3 L213.068 1019.61 L208.38 1008.3 L213.068 996.985 L224.38 992.297 L235.692 996.985 L240.38 1008.3 L235.692 1019.61 Z\" fill=\"#009af9\" fill-rule=\"evenodd\" fill-opacity=\"1\" stroke=\"#000000\" stroke-opacity=\"1\" stroke-width=\"3.2\"/>\n",
              "<path clip-path=\"url(#clip222)\" d=\"M245.46 1301.6 L234.148 1296.91 L229.46 1285.6 L234.148 1274.29 L245.46 1269.6 L256.772 1274.29 L261.46 1285.6 L256.772 1296.91 Z\" fill=\"#009af9\" fill-rule=\"evenodd\" fill-opacity=\"1\" stroke=\"#000000\" stroke-opacity=\"1\" stroke-width=\"3.2\"/>\n",
              "<path clip-path=\"url(#clip222)\" d=\"M266.539 1431.35 L255.227 1426.66 L250.539 1415.35 L255.227 1404.04 L266.539 1399.35 L277.851 1404.04 L282.539 1415.35 L277.851 1426.66 Z\" fill=\"#009af9\" fill-rule=\"evenodd\" fill-opacity=\"1\" stroke=\"#000000\" stroke-opacity=\"1\" stroke-width=\"3.2\"/>\n",
              "<path clip-path=\"url(#clip222)\" d=\"M287.618 535.613 L276.306 530.925 L271.618 519.613 L276.306 508.301 L287.618 503.613 L298.93 508.301 L303.618 519.613 L298.93 530.925 Z\" fill=\"#009af9\" fill-rule=\"evenodd\" fill-opacity=\"1\" stroke=\"#000000\" stroke-opacity=\"1\" stroke-width=\"3.2\"/>\n",
              "<path clip-path=\"url(#clip222)\" d=\"M308.697 1165.06 L297.385 1160.37 L292.697 1149.06 L297.385 1137.75 L308.697 1133.06 L320.009 1137.75 L324.697 1149.06 L320.009 1160.37 Z\" fill=\"#009af9\" fill-rule=\"evenodd\" fill-opacity=\"1\" stroke=\"#000000\" stroke-opacity=\"1\" stroke-width=\"3.2\"/>\n",
              "<path clip-path=\"url(#clip222)\" d=\"M329.777 335.324 L318.465 330.636 L313.777 319.324 L318.465 308.012 L329.777 303.324 L341.089 308.012 L345.777 319.324 L341.089 330.636 Z\" fill=\"#009af9\" fill-rule=\"evenodd\" fill-opacity=\"1\" stroke=\"#000000\" stroke-opacity=\"1\" stroke-width=\"3.2\"/>\n",
              "<path clip-path=\"url(#clip222)\" d=\"M350.856 1413.23 L339.544 1408.54 L334.856 1397.23 L339.544 1385.91 L350.856 1381.23 L362.168 1385.91 L366.856 1397.23 L362.168 1408.54 Z\" fill=\"#009af9\" fill-rule=\"evenodd\" fill-opacity=\"1\" stroke=\"#000000\" stroke-opacity=\"1\" stroke-width=\"3.2\"/>\n",
              "<path clip-path=\"url(#clip222)\" d=\"M371.935 1398.5 L360.623 1393.81 L355.935 1382.5 L360.623 1371.19 L371.935 1366.5 L383.247 1371.19 L387.935 1382.5 L383.247 1393.81 Z\" fill=\"#009af9\" fill-rule=\"evenodd\" fill-opacity=\"1\" stroke=\"#000000\" stroke-opacity=\"1\" stroke-width=\"3.2\"/>\n",
              "<path clip-path=\"url(#clip222)\" d=\"M393.015 1396.41 L381.703 1391.73 L377.015 1380.41 L381.703 1369.1 L393.015 1364.41 L404.327 1369.1 L409.015 1380.41 L404.327 1391.73 Z\" fill=\"#009af9\" fill-rule=\"evenodd\" fill-opacity=\"1\" stroke=\"#000000\" stroke-opacity=\"1\" stroke-width=\"3.2\"/>\n",
              "<path clip-path=\"url(#clip222)\" d=\"M414.094 1435.17 L402.782 1430.48 L398.094 1419.17 L402.782 1407.86 L414.094 1403.17 L425.406 1407.86 L430.094 1419.17 L425.406 1430.48 Z\" fill=\"#009af9\" fill-rule=\"evenodd\" fill-opacity=\"1\" stroke=\"#000000\" stroke-opacity=\"1\" stroke-width=\"3.2\"/>\n",
              "<path clip-path=\"url(#clip222)\" d=\"M435.173 1126.29 L423.861 1121.6 L419.173 1110.29 L423.861 1098.98 L435.173 1094.29 L446.485 1098.98 L451.173 1110.29 L446.485 1121.6 Z\" fill=\"#009af9\" fill-rule=\"evenodd\" fill-opacity=\"1\" stroke=\"#000000\" stroke-opacity=\"1\" stroke-width=\"3.2\"/>\n",
              "<path clip-path=\"url(#clip222)\" d=\"M456.252 594.335 L444.94 589.647 L440.252 578.335 L444.94 567.023 L456.252 562.335 L467.564 567.023 L472.252 578.335 L467.564 589.647 Z\" fill=\"#009af9\" fill-rule=\"evenodd\" fill-opacity=\"1\" stroke=\"#000000\" stroke-opacity=\"1\" stroke-width=\"3.2\"/>\n",
              "<path clip-path=\"url(#clip222)\" d=\"M477.332 1149.69 L466.02 1145 L461.332 1133.69 L466.02 1122.38 L477.332 1117.69 L488.644 1122.38 L493.332 1133.69 L488.644 1145 Z\" fill=\"#009af9\" fill-rule=\"evenodd\" fill-opacity=\"1\" stroke=\"#000000\" stroke-opacity=\"1\" stroke-width=\"3.2\"/>\n",
              "<path clip-path=\"url(#clip222)\" d=\"M498.411 1006.96 L487.099 1002.27 L482.411 990.959 L487.099 979.647 L498.411 974.959 L509.723 979.647 L514.411 990.959 L509.723 1002.27 Z\" fill=\"#009af9\" fill-rule=\"evenodd\" fill-opacity=\"1\" stroke=\"#000000\" stroke-opacity=\"1\" stroke-width=\"3.2\"/>\n",
              "<path clip-path=\"url(#clip222)\" d=\"M519.49 1281.82 L508.178 1277.13 L503.49 1265.82 L508.178 1254.5 L519.49 1249.82 L530.802 1254.5 L535.49 1265.82 L530.802 1277.13 Z\" fill=\"#009af9\" fill-rule=\"evenodd\" fill-opacity=\"1\" stroke=\"#000000\" stroke-opacity=\"1\" stroke-width=\"3.2\"/>\n",
              "<path clip-path=\"url(#clip222)\" d=\"M540.57 1309.5 L529.258 1304.81 L524.57 1293.5 L529.258 1282.18 L540.57 1277.5 L551.882 1282.18 L556.57 1293.5 L551.882 1304.81 Z\" fill=\"#009af9\" fill-rule=\"evenodd\" fill-opacity=\"1\" stroke=\"#000000\" stroke-opacity=\"1\" stroke-width=\"3.2\"/>\n",
              "<path clip-path=\"url(#clip222)\" d=\"M561.649 1391.89 L550.337 1387.21 L545.649 1375.89 L550.337 1364.58 L561.649 1359.89 L572.961 1364.58 L577.649 1375.89 L572.961 1387.21 Z\" fill=\"#009af9\" fill-rule=\"evenodd\" fill-opacity=\"1\" stroke=\"#000000\" stroke-opacity=\"1\" stroke-width=\"3.2\"/>\n",
              "<path clip-path=\"url(#clip222)\" d=\"M582.728 1171.03 L571.416 1166.34 L566.728 1155.03 L571.416 1143.72 L582.728 1139.03 L594.04 1143.72 L598.728 1155.03 L594.04 1166.34 Z\" fill=\"#009af9\" fill-rule=\"evenodd\" fill-opacity=\"1\" stroke=\"#000000\" stroke-opacity=\"1\" stroke-width=\"3.2\"/>\n",
              "<path clip-path=\"url(#clip222)\" d=\"M603.807 534.855 L592.495 530.167 L587.807 518.855 L592.495 507.543 L603.807 502.855 L615.119 507.543 L619.807 518.855 L615.119 530.167 Z\" fill=\"#009af9\" fill-rule=\"evenodd\" fill-opacity=\"1\" stroke=\"#000000\" stroke-opacity=\"1\" stroke-width=\"3.2\"/>\n",
              "<path clip-path=\"url(#clip222)\" d=\"M624.887 992.359 L613.575 987.671 L608.887 976.359 L613.575 965.047 L624.887 960.359 L636.199 965.047 L640.887 976.359 L636.199 987.671 Z\" fill=\"#009af9\" fill-rule=\"evenodd\" fill-opacity=\"1\" stroke=\"#000000\" stroke-opacity=\"1\" stroke-width=\"3.2\"/>\n",
              "<path clip-path=\"url(#clip222)\" d=\"M645.966 659.367 L634.654 654.679 L629.966 643.367 L634.654 632.055 L645.966 627.367 L657.278 632.055 L661.966 643.367 L657.278 654.679 Z\" fill=\"#009af9\" fill-rule=\"evenodd\" fill-opacity=\"1\" stroke=\"#000000\" stroke-opacity=\"1\" stroke-width=\"3.2\"/>\n",
              "<path clip-path=\"url(#clip222)\" d=\"M667.045 1443.13 L655.733 1438.44 L651.045 1427.13 L655.733 1415.82 L667.045 1411.13 L678.357 1415.82 L683.045 1427.13 L678.357 1438.44 Z\" fill=\"#009af9\" fill-rule=\"evenodd\" fill-opacity=\"1\" stroke=\"#000000\" stroke-opacity=\"1\" stroke-width=\"3.2\"/>\n",
              "<path clip-path=\"url(#clip222)\" d=\"M688.125 1205.76 L676.813 1201.07 L672.125 1189.76 L676.813 1178.44 L688.125 1173.76 L699.437 1178.44 L704.125 1189.76 L699.437 1201.07 Z\" fill=\"#009af9\" fill-rule=\"evenodd\" fill-opacity=\"1\" stroke=\"#000000\" stroke-opacity=\"1\" stroke-width=\"3.2\"/>\n",
              "<path clip-path=\"url(#clip222)\" d=\"M709.204 790.277 L697.892 785.589 L693.204 774.277 L697.892 762.965 L709.204 758.277 L720.516 762.965 L725.204 774.277 L720.516 785.589 Z\" fill=\"#009af9\" fill-rule=\"evenodd\" fill-opacity=\"1\" stroke=\"#000000\" stroke-opacity=\"1\" stroke-width=\"3.2\"/>\n",
              "<path clip-path=\"url(#clip222)\" d=\"M730.283 981.779 L718.971 977.091 L714.283 965.779 L718.971 954.467 L730.283 949.779 L741.595 954.467 L746.283 965.779 L741.595 977.091 Z\" fill=\"#009af9\" fill-rule=\"evenodd\" fill-opacity=\"1\" stroke=\"#000000\" stroke-opacity=\"1\" stroke-width=\"3.2\"/>\n",
              "<path clip-path=\"url(#clip222)\" d=\"M751.362 991.158 L740.05 986.47 L735.362 975.158 L740.05 963.846 L751.362 959.158 L762.674 963.846 L767.362 975.158 L762.674 986.47 Z\" fill=\"#009af9\" fill-rule=\"evenodd\" fill-opacity=\"1\" stroke=\"#000000\" stroke-opacity=\"1\" stroke-width=\"3.2\"/>\n",
              "<path clip-path=\"url(#clip222)\" d=\"M772.442 103.976 L761.13 99.2883 L756.442 87.9763 L761.13 76.6643 L772.442 71.9763 L783.754 76.6643 L788.442 87.9763 L783.754 99.2883 Z\" fill=\"#009af9\" fill-rule=\"evenodd\" fill-opacity=\"1\" stroke=\"#000000\" stroke-opacity=\"1\" stroke-width=\"3.2\"/>\n",
              "<path clip-path=\"url(#clip222)\" d=\"M793.521 871.416 L782.209 866.728 L777.521 855.416 L782.209 844.104 L793.521 839.416 L804.833 844.104 L809.521 855.416 L804.833 866.728 Z\" fill=\"#009af9\" fill-rule=\"evenodd\" fill-opacity=\"1\" stroke=\"#000000\" stroke-opacity=\"1\" stroke-width=\"3.2\"/>\n",
              "<path clip-path=\"url(#clip222)\" d=\"M814.6 729.322 L803.288 724.634 L798.6 713.322 L803.288 702.01 L814.6 697.322 L825.912 702.01 L830.6 713.322 L825.912 724.634 Z\" fill=\"#009af9\" fill-rule=\"evenodd\" fill-opacity=\"1\" stroke=\"#000000\" stroke-opacity=\"1\" stroke-width=\"3.2\"/>\n",
              "<path clip-path=\"url(#clip222)\" d=\"M835.68 1273.11 L824.368 1268.43 L819.68 1257.11 L824.368 1245.8 L835.68 1241.11 L846.992 1245.8 L851.68 1257.11 L846.992 1268.43 Z\" fill=\"#009af9\" fill-rule=\"evenodd\" fill-opacity=\"1\" stroke=\"#000000\" stroke-opacity=\"1\" stroke-width=\"3.2\"/>\n",
              "<path clip-path=\"url(#clip222)\" d=\"M856.759 1183.98 L845.447 1179.29 L840.759 1167.98 L845.447 1156.67 L856.759 1151.98 L868.071 1156.67 L872.759 1167.98 L868.071 1179.29 Z\" fill=\"#009af9\" fill-rule=\"evenodd\" fill-opacity=\"1\" stroke=\"#000000\" stroke-opacity=\"1\" stroke-width=\"3.2\"/>\n",
              "<path clip-path=\"url(#clip222)\" d=\"M877.838 995.958 L866.526 991.27 L861.838 979.958 L866.526 968.646 L877.838 963.958 L889.15 968.646 L893.838 979.958 L889.15 991.27 Z\" fill=\"#009af9\" fill-rule=\"evenodd\" fill-opacity=\"1\" stroke=\"#000000\" stroke-opacity=\"1\" stroke-width=\"3.2\"/>\n",
              "<path clip-path=\"url(#clip222)\" d=\"M898.917 1452.57 L887.605 1447.88 L882.917 1436.57 L887.605 1425.26 L898.917 1420.57 L910.229 1425.26 L914.917 1436.57 L910.229 1447.88 Z\" fill=\"#009af9\" fill-rule=\"evenodd\" fill-opacity=\"1\" stroke=\"#000000\" stroke-opacity=\"1\" stroke-width=\"3.2\"/>\n",
              "<path clip-path=\"url(#clip222)\" d=\"M919.997 1070.34 L908.685 1065.65 L903.997 1054.34 L908.685 1043.03 L919.997 1038.34 L931.309 1043.03 L935.997 1054.34 L931.309 1065.65 Z\" fill=\"#009af9\" fill-rule=\"evenodd\" fill-opacity=\"1\" stroke=\"#000000\" stroke-opacity=\"1\" stroke-width=\"3.2\"/>\n",
              "<path clip-path=\"url(#clip222)\" d=\"M941.076 1368.14 L929.764 1363.45 L925.076 1352.14 L929.764 1340.82 L941.076 1336.14 L952.388 1340.82 L957.076 1352.14 L952.388 1363.45 Z\" fill=\"#009af9\" fill-rule=\"evenodd\" fill-opacity=\"1\" stroke=\"#000000\" stroke-opacity=\"1\" stroke-width=\"3.2\"/>\n",
              "<path clip-path=\"url(#clip222)\" d=\"M962.155 1395.72 L950.843 1391.03 L946.155 1379.72 L950.843 1368.41 L962.155 1363.72 L973.467 1368.41 L978.155 1379.72 L973.467 1391.03 Z\" fill=\"#009af9\" fill-rule=\"evenodd\" fill-opacity=\"1\" stroke=\"#000000\" stroke-opacity=\"1\" stroke-width=\"3.2\"/>\n",
              "<path clip-path=\"url(#clip222)\" d=\"M983.235 1078.7 L971.923 1074.01 L967.235 1062.7 L971.923 1051.39 L983.235 1046.7 L994.547 1051.39 L999.235 1062.7 L994.547 1074.01 Z\" fill=\"#009af9\" fill-rule=\"evenodd\" fill-opacity=\"1\" stroke=\"#000000\" stroke-opacity=\"1\" stroke-width=\"3.2\"/>\n",
              "<path clip-path=\"url(#clip222)\" d=\"M1004.31 1039.67 L993.002 1034.98 L988.314 1023.67 L993.002 1012.36 L1004.31 1007.67 L1015.63 1012.36 L1020.31 1023.67 L1015.63 1034.98 Z\" fill=\"#009af9\" fill-rule=\"evenodd\" fill-opacity=\"1\" stroke=\"#000000\" stroke-opacity=\"1\" stroke-width=\"3.2\"/>\n",
              "<path clip-path=\"url(#clip222)\" d=\"M1025.39 1181.26 L1014.08 1176.57 L1009.39 1165.26 L1014.08 1153.95 L1025.39 1149.26 L1036.71 1153.95 L1041.39 1165.26 L1036.71 1176.57 Z\" fill=\"#009af9\" fill-rule=\"evenodd\" fill-opacity=\"1\" stroke=\"#000000\" stroke-opacity=\"1\" stroke-width=\"3.2\"/>\n",
              "<path clip-path=\"url(#clip222)\" d=\"M1046.47 1106.87 L1035.16 1102.19 L1030.47 1090.87 L1035.16 1079.56 L1046.47 1074.87 L1057.78 1079.56 L1062.47 1090.87 L1057.78 1102.19 Z\" fill=\"#009af9\" fill-rule=\"evenodd\" fill-opacity=\"1\" stroke=\"#000000\" stroke-opacity=\"1\" stroke-width=\"3.2\"/>\n",
              "<path clip-path=\"url(#clip222)\" d=\"M1067.55 1340.78 L1056.24 1336.09 L1051.55 1324.78 L1056.24 1313.47 L1067.55 1308.78 L1078.86 1313.47 L1083.55 1324.78 L1078.86 1336.09 Z\" fill=\"#009af9\" fill-rule=\"evenodd\" fill-opacity=\"1\" stroke=\"#000000\" stroke-opacity=\"1\" stroke-width=\"3.2\"/>\n",
              "<path clip-path=\"url(#clip222)\" d=\"M1088.63 1344.32 L1077.32 1339.63 L1072.63 1328.32 L1077.32 1317.01 L1088.63 1312.32 L1099.94 1317.01 L1104.63 1328.32 L1099.94 1339.63 Z\" fill=\"#009af9\" fill-rule=\"evenodd\" fill-opacity=\"1\" stroke=\"#000000\" stroke-opacity=\"1\" stroke-width=\"3.2\"/>\n",
              "<path clip-path=\"url(#clip222)\" d=\"M1109.71 961.856 L1098.4 957.168 L1093.71 945.856 L1098.4 934.544 L1109.71 929.856 L1121.02 934.544 L1125.71 945.856 L1121.02 957.168 Z\" fill=\"#009af9\" fill-rule=\"evenodd\" fill-opacity=\"1\" stroke=\"#000000\" stroke-opacity=\"1\" stroke-width=\"3.2\"/>\n",
              "<path clip-path=\"url(#clip222)\" d=\"M1130.79 983.087 L1119.48 978.399 L1114.79 967.087 L1119.48 955.775 L1130.79 951.087 L1142.1 955.775 L1146.79 967.087 L1142.1 978.399 Z\" fill=\"#009af9\" fill-rule=\"evenodd\" fill-opacity=\"1\" stroke=\"#000000\" stroke-opacity=\"1\" stroke-width=\"3.2\"/>\n",
              "<path clip-path=\"url(#clip222)\" d=\"M1151.87 1283.29 L1140.56 1278.6 L1135.87 1267.29 L1140.56 1255.98 L1151.87 1251.29 L1163.18 1255.98 L1167.87 1267.29 L1163.18 1278.6 Z\" fill=\"#009af9\" fill-rule=\"evenodd\" fill-opacity=\"1\" stroke=\"#000000\" stroke-opacity=\"1\" stroke-width=\"3.2\"/>\n",
              "<path clip-path=\"url(#clip222)\" d=\"M1172.95 1173.88 L1161.64 1169.19 L1156.95 1157.88 L1161.64 1146.57 L1172.95 1141.88 L1184.26 1146.57 L1188.95 1157.88 L1184.26 1169.19 Z\" fill=\"#009af9\" fill-rule=\"evenodd\" fill-opacity=\"1\" stroke=\"#000000\" stroke-opacity=\"1\" stroke-width=\"3.2\"/>\n",
              "<path clip-path=\"url(#clip222)\" d=\"M1194.03 1418.02 L1182.72 1413.33 L1178.03 1402.02 L1182.72 1390.71 L1194.03 1386.02 L1205.34 1390.71 L1210.03 1402.02 L1205.34 1413.33 Z\" fill=\"#009af9\" fill-rule=\"evenodd\" fill-opacity=\"1\" stroke=\"#000000\" stroke-opacity=\"1\" stroke-width=\"3.2\"/>\n",
              "<path clip-path=\"url(#clip222)\" d=\"M1215.11 1373.53 L1203.79 1368.84 L1199.11 1357.53 L1203.79 1346.21 L1215.11 1341.53 L1226.42 1346.21 L1231.11 1357.53 L1226.42 1368.84 Z\" fill=\"#009af9\" fill-rule=\"evenodd\" fill-opacity=\"1\" stroke=\"#000000\" stroke-opacity=\"1\" stroke-width=\"3.2\"/>\n",
              "<path clip-path=\"url(#clip222)\" d=\"M1236.19 1407.34 L1224.87 1402.65 L1220.19 1391.34 L1224.87 1380.03 L1236.19 1375.34 L1247.5 1380.03 L1252.19 1391.34 L1247.5 1402.65 Z\" fill=\"#009af9\" fill-rule=\"evenodd\" fill-opacity=\"1\" stroke=\"#000000\" stroke-opacity=\"1\" stroke-width=\"3.2\"/>\n",
              "<path clip-path=\"url(#clip222)\" d=\"M1257.27 1394.75 L1245.95 1390.06 L1241.27 1378.75 L1245.95 1367.44 L1257.27 1362.75 L1268.58 1367.44 L1273.27 1378.75 L1268.58 1390.06 Z\" fill=\"#009af9\" fill-rule=\"evenodd\" fill-opacity=\"1\" stroke=\"#000000\" stroke-opacity=\"1\" stroke-width=\"3.2\"/>\n",
              "<path clip-path=\"url(#clip222)\" d=\"M1278.34 1312.3 L1267.03 1307.61 L1262.34 1296.3 L1267.03 1284.99 L1278.34 1280.3 L1289.66 1284.99 L1294.34 1296.3 L1289.66 1307.61 Z\" fill=\"#009af9\" fill-rule=\"evenodd\" fill-opacity=\"1\" stroke=\"#000000\" stroke-opacity=\"1\" stroke-width=\"3.2\"/>\n",
              "<path clip-path=\"url(#clip222)\" d=\"M1299.42 1418.66 L1288.11 1413.97 L1283.42 1402.66 L1288.11 1391.35 L1299.42 1386.66 L1310.74 1391.35 L1315.42 1402.66 L1310.74 1413.97 Z\" fill=\"#009af9\" fill-rule=\"evenodd\" fill-opacity=\"1\" stroke=\"#000000\" stroke-opacity=\"1\" stroke-width=\"3.2\"/>\n",
              "<path clip-path=\"url(#clip222)\" d=\"M1320.5 1257.58 L1309.19 1252.89 L1304.5 1241.58 L1309.19 1230.26 L1320.5 1225.58 L1331.82 1230.26 L1336.5 1241.58 L1331.82 1252.89 Z\" fill=\"#009af9\" fill-rule=\"evenodd\" fill-opacity=\"1\" stroke=\"#000000\" stroke-opacity=\"1\" stroke-width=\"3.2\"/>\n",
              "<path clip-path=\"url(#clip222)\" d=\"M1341.58 1241.3 L1330.27 1236.62 L1325.58 1225.3 L1330.27 1213.99 L1341.58 1209.3 L1352.89 1213.99 L1357.58 1225.3 L1352.89 1236.62 Z\" fill=\"#009af9\" fill-rule=\"evenodd\" fill-opacity=\"1\" stroke=\"#000000\" stroke-opacity=\"1\" stroke-width=\"3.2\"/>\n",
              "<path clip-path=\"url(#clip222)\" d=\"M1362.66 1042.02 L1351.35 1037.33 L1346.66 1026.02 L1351.35 1014.71 L1362.66 1010.02 L1373.97 1014.71 L1378.66 1026.02 L1373.97 1037.33 Z\" fill=\"#009af9\" fill-rule=\"evenodd\" fill-opacity=\"1\" stroke=\"#000000\" stroke-opacity=\"1\" stroke-width=\"3.2\"/>\n",
              "<path clip-path=\"url(#clip222)\" d=\"M1383.74 685.1 L1372.43 680.412 L1367.74 669.1 L1372.43 657.788 L1383.74 653.1 L1395.05 657.788 L1399.74 669.1 L1395.05 680.412 Z\" fill=\"#009af9\" fill-rule=\"evenodd\" fill-opacity=\"1\" stroke=\"#000000\" stroke-opacity=\"1\" stroke-width=\"3.2\"/>\n",
              "<path clip-path=\"url(#clip222)\" d=\"M1404.82 1096.67 L1393.51 1091.99 L1388.82 1080.67 L1393.51 1069.36 L1404.82 1064.67 L1416.13 1069.36 L1420.82 1080.67 L1416.13 1091.99 Z\" fill=\"#009af9\" fill-rule=\"evenodd\" fill-opacity=\"1\" stroke=\"#000000\" stroke-opacity=\"1\" stroke-width=\"3.2\"/>\n",
              "<path clip-path=\"url(#clip222)\" d=\"M1425.9 571.275 L1414.59 566.587 L1409.9 555.275 L1414.59 543.963 L1425.9 539.275 L1437.21 543.963 L1441.9 555.275 L1437.21 566.587 Z\" fill=\"#009af9\" fill-rule=\"evenodd\" fill-opacity=\"1\" stroke=\"#000000\" stroke-opacity=\"1\" stroke-width=\"3.2\"/>\n",
              "<path clip-path=\"url(#clip222)\" d=\"M1446.98 1426.41 L1435.67 1421.72 L1430.98 1410.41 L1435.67 1399.09 L1446.98 1394.41 L1458.29 1399.09 L1462.98 1410.41 L1458.29 1421.72 Z\" fill=\"#009af9\" fill-rule=\"evenodd\" fill-opacity=\"1\" stroke=\"#000000\" stroke-opacity=\"1\" stroke-width=\"3.2\"/>\n",
              "<path clip-path=\"url(#clip222)\" d=\"M1468.06 230.885 L1456.75 226.197 L1452.06 214.885 L1456.75 203.573 L1468.06 198.885 L1479.37 203.573 L1484.06 214.885 L1479.37 226.197 Z\" fill=\"#009af9\" fill-rule=\"evenodd\" fill-opacity=\"1\" stroke=\"#000000\" stroke-opacity=\"1\" stroke-width=\"3.2\"/>\n",
              "<path clip-path=\"url(#clip222)\" d=\"M1489.14 662.09 L1477.83 657.402 L1473.14 646.09 L1477.83 634.778 L1489.14 630.09 L1500.45 634.778 L1505.14 646.09 L1500.45 657.402 Z\" fill=\"#009af9\" fill-rule=\"evenodd\" fill-opacity=\"1\" stroke=\"#000000\" stroke-opacity=\"1\" stroke-width=\"3.2\"/>\n",
              "<path clip-path=\"url(#clip222)\" d=\"M1510.22 1223.61 L1498.9 1218.92 L1494.22 1207.61 L1498.9 1196.3 L1510.22 1191.61 L1521.53 1196.3 L1526.22 1207.61 L1521.53 1218.92 Z\" fill=\"#009af9\" fill-rule=\"evenodd\" fill-opacity=\"1\" stroke=\"#000000\" stroke-opacity=\"1\" stroke-width=\"3.2\"/>\n",
              "<path clip-path=\"url(#clip222)\" d=\"M1531.3 995.232 L1519.98 990.544 L1515.3 979.232 L1519.98 967.92 L1531.3 963.232 L1542.61 967.92 L1547.3 979.232 L1542.61 990.544 Z\" fill=\"#009af9\" fill-rule=\"evenodd\" fill-opacity=\"1\" stroke=\"#000000\" stroke-opacity=\"1\" stroke-width=\"3.2\"/>\n",
              "<path clip-path=\"url(#clip222)\" d=\"M1552.38 1144.33 L1541.06 1139.64 L1536.38 1128.33 L1541.06 1117.01 L1552.38 1112.33 L1563.69 1117.01 L1568.38 1128.33 L1563.69 1139.64 Z\" fill=\"#009af9\" fill-rule=\"evenodd\" fill-opacity=\"1\" stroke=\"#000000\" stroke-opacity=\"1\" stroke-width=\"3.2\"/>\n",
              "<path clip-path=\"url(#clip222)\" d=\"M1573.45 404.317 L1562.14 399.629 L1557.45 388.317 L1562.14 377.005 L1573.45 372.317 L1584.77 377.005 L1589.45 388.317 L1584.77 399.629 Z\" fill=\"#009af9\" fill-rule=\"evenodd\" fill-opacity=\"1\" stroke=\"#000000\" stroke-opacity=\"1\" stroke-width=\"3.2\"/>\n",
              "<path clip-path=\"url(#clip222)\" d=\"M1594.53 1198.07 L1583.22 1193.38 L1578.53 1182.07 L1583.22 1170.76 L1594.53 1166.07 L1605.85 1170.76 L1610.53 1182.07 L1605.85 1193.38 Z\" fill=\"#009af9\" fill-rule=\"evenodd\" fill-opacity=\"1\" stroke=\"#000000\" stroke-opacity=\"1\" stroke-width=\"3.2\"/>\n",
              "<path clip-path=\"url(#clip222)\" d=\"M1615.61 1277.08 L1604.3 1272.39 L1599.61 1261.08 L1604.3 1249.77 L1615.61 1245.08 L1626.93 1249.77 L1631.61 1261.08 L1626.93 1272.39 Z\" fill=\"#009af9\" fill-rule=\"evenodd\" fill-opacity=\"1\" stroke=\"#000000\" stroke-opacity=\"1\" stroke-width=\"3.2\"/>\n",
              "<path clip-path=\"url(#clip222)\" d=\"M1636.69 919.92 L1625.38 915.232 L1620.69 903.92 L1625.38 892.608 L1636.69 887.92 L1648 892.608 L1652.69 903.92 L1648 915.232 Z\" fill=\"#009af9\" fill-rule=\"evenodd\" fill-opacity=\"1\" stroke=\"#000000\" stroke-opacity=\"1\" stroke-width=\"3.2\"/>\n",
              "<path clip-path=\"url(#clip222)\" d=\"M1657.77 563.435 L1646.46 558.747 L1641.77 547.435 L1646.46 536.123 L1657.77 531.435 L1669.08 536.123 L1673.77 547.435 L1669.08 558.747 Z\" fill=\"#009af9\" fill-rule=\"evenodd\" fill-opacity=\"1\" stroke=\"#000000\" stroke-opacity=\"1\" stroke-width=\"3.2\"/>\n",
              "<path clip-path=\"url(#clip222)\" d=\"M1678.85 1031.04 L1667.54 1026.35 L1662.85 1015.04 L1667.54 1003.73 L1678.85 999.041 L1690.16 1003.73 L1694.85 1015.04 L1690.16 1026.35 Z\" fill=\"#009af9\" fill-rule=\"evenodd\" fill-opacity=\"1\" stroke=\"#000000\" stroke-opacity=\"1\" stroke-width=\"3.2\"/>\n",
              "<path clip-path=\"url(#clip222)\" d=\"M1699.93 1243.11 L1688.62 1238.42 L1683.93 1227.11 L1688.62 1215.8 L1699.93 1211.11 L1711.24 1215.8 L1715.93 1227.11 L1711.24 1238.42 Z\" fill=\"#009af9\" fill-rule=\"evenodd\" fill-opacity=\"1\" stroke=\"#000000\" stroke-opacity=\"1\" stroke-width=\"3.2\"/>\n",
              "<path clip-path=\"url(#clip222)\" d=\"M1721.01 910.245 L1709.7 905.557 L1705.01 894.245 L1709.7 882.933 L1721.01 878.245 L1732.32 882.933 L1737.01 894.245 L1732.32 905.557 Z\" fill=\"#009af9\" fill-rule=\"evenodd\" fill-opacity=\"1\" stroke=\"#000000\" stroke-opacity=\"1\" stroke-width=\"3.2\"/>\n",
              "<path clip-path=\"url(#clip222)\" d=\"M1742.09 1073.18 L1730.78 1068.5 L1726.09 1057.18 L1730.78 1045.87 L1742.09 1041.18 L1753.4 1045.87 L1758.09 1057.18 L1753.4 1068.5 Z\" fill=\"#009af9\" fill-rule=\"evenodd\" fill-opacity=\"1\" stroke=\"#000000\" stroke-opacity=\"1\" stroke-width=\"3.2\"/>\n",
              "<path clip-path=\"url(#clip222)\" d=\"M1763.17 1088.14 L1751.86 1083.45 L1747.17 1072.14 L1751.86 1060.83 L1763.17 1056.14 L1774.48 1060.83 L1779.17 1072.14 L1774.48 1083.45 Z\" fill=\"#009af9\" fill-rule=\"evenodd\" fill-opacity=\"1\" stroke=\"#000000\" stroke-opacity=\"1\" stroke-width=\"3.2\"/>\n",
              "<path clip-path=\"url(#clip222)\" d=\"M1784.25 1438.35 L1772.94 1433.66 L1768.25 1422.35 L1772.94 1411.04 L1784.25 1406.35 L1795.56 1411.04 L1800.25 1422.35 L1795.56 1433.66 Z\" fill=\"#009af9\" fill-rule=\"evenodd\" fill-opacity=\"1\" stroke=\"#000000\" stroke-opacity=\"1\" stroke-width=\"3.2\"/>\n",
              "<path clip-path=\"url(#clip222)\" d=\"M1805.33 1065.15 L1794.01 1060.46 L1789.33 1049.15 L1794.01 1037.84 L1805.33 1033.15 L1816.64 1037.84 L1821.33 1049.15 L1816.64 1060.46 Z\" fill=\"#009af9\" fill-rule=\"evenodd\" fill-opacity=\"1\" stroke=\"#000000\" stroke-opacity=\"1\" stroke-width=\"3.2\"/>\n",
              "<path clip-path=\"url(#clip222)\" d=\"M1826.41 919.205 L1815.09 914.517 L1810.41 903.205 L1815.09 891.893 L1826.41 887.205 L1837.72 891.893 L1842.41 903.205 L1837.72 914.517 Z\" fill=\"#009af9\" fill-rule=\"evenodd\" fill-opacity=\"1\" stroke=\"#000000\" stroke-opacity=\"1\" stroke-width=\"3.2\"/>\n",
              "<path clip-path=\"url(#clip222)\" d=\"M1847.49 1194.59 L1836.17 1189.9 L1831.49 1178.59 L1836.17 1167.28 L1847.49 1162.59 L1858.8 1167.28 L1863.49 1178.59 L1858.8 1189.9 Z\" fill=\"#009af9\" fill-rule=\"evenodd\" fill-opacity=\"1\" stroke=\"#000000\" stroke-opacity=\"1\" stroke-width=\"3.2\"/>\n",
              "<path clip-path=\"url(#clip222)\" d=\"M1868.56 1248.11 L1857.25 1243.42 L1852.56 1232.11 L1857.25 1220.8 L1868.56 1216.11 L1879.88 1220.8 L1884.56 1232.11 L1879.88 1243.42 Z\" fill=\"#009af9\" fill-rule=\"evenodd\" fill-opacity=\"1\" stroke=\"#000000\" stroke-opacity=\"1\" stroke-width=\"3.2\"/>\n",
              "<path clip-path=\"url(#clip222)\" d=\"M1889.64 756.588 L1878.33 751.9 L1873.64 740.588 L1878.33 729.276 L1889.64 724.588 L1900.96 729.276 L1905.64 740.588 L1900.96 751.9 Z\" fill=\"#009af9\" fill-rule=\"evenodd\" fill-opacity=\"1\" stroke=\"#000000\" stroke-opacity=\"1\" stroke-width=\"3.2\"/>\n",
              "<path clip-path=\"url(#clip222)\" d=\"M1910.72 622.399 L1899.41 617.711 L1894.72 606.399 L1899.41 595.087 L1910.72 590.399 L1922.04 595.087 L1926.72 606.399 L1922.04 617.711 Z\" fill=\"#009af9\" fill-rule=\"evenodd\" fill-opacity=\"1\" stroke=\"#000000\" stroke-opacity=\"1\" stroke-width=\"3.2\"/>\n",
              "<path clip-path=\"url(#clip222)\" d=\"M1931.8 1287.84 L1920.49 1283.15 L1915.8 1271.84 L1920.49 1260.53 L1931.8 1255.84 L1943.11 1260.53 L1947.8 1271.84 L1943.11 1283.15 Z\" fill=\"#009af9\" fill-rule=\"evenodd\" fill-opacity=\"1\" stroke=\"#000000\" stroke-opacity=\"1\" stroke-width=\"3.2\"/>\n",
              "<path clip-path=\"url(#clip222)\" d=\"M1952.88 1136.43 L1941.57 1131.75 L1936.88 1120.43 L1941.57 1109.12 L1952.88 1104.43 L1964.19 1109.12 L1968.88 1120.43 L1964.19 1131.75 Z\" fill=\"#009af9\" fill-rule=\"evenodd\" fill-opacity=\"1\" stroke=\"#000000\" stroke-opacity=\"1\" stroke-width=\"3.2\"/>\n",
              "<path clip-path=\"url(#clip222)\" d=\"M1973.96 1165.02 L1962.65 1160.33 L1957.96 1149.02 L1962.65 1137.7 L1973.96 1133.02 L1985.27 1137.7 L1989.96 1149.02 L1985.27 1160.33 Z\" fill=\"#009af9\" fill-rule=\"evenodd\" fill-opacity=\"1\" stroke=\"#000000\" stroke-opacity=\"1\" stroke-width=\"3.2\"/>\n",
              "<path clip-path=\"url(#clip222)\" d=\"M1995.04 723.381 L1983.73 718.693 L1979.04 707.381 L1983.73 696.069 L1995.04 691.381 L2006.35 696.069 L2011.04 707.381 L2006.35 718.693 Z\" fill=\"#009af9\" fill-rule=\"evenodd\" fill-opacity=\"1\" stroke=\"#000000\" stroke-opacity=\"1\" stroke-width=\"3.2\"/>\n",
              "<path clip-path=\"url(#clip222)\" d=\"M2016.12 1240.69 L2004.81 1236.01 L2000.12 1224.69 L2004.81 1213.38 L2016.12 1208.69 L2027.43 1213.38 L2032.12 1224.69 L2027.43 1236.01 Z\" fill=\"#009af9\" fill-rule=\"evenodd\" fill-opacity=\"1\" stroke=\"#000000\" stroke-opacity=\"1\" stroke-width=\"3.2\"/>\n",
              "<path clip-path=\"url(#clip222)\" d=\"M2037.2 1107.38 L2025.89 1102.69 L2021.2 1091.38 L2025.89 1080.07 L2037.2 1075.38 L2048.51 1080.07 L2053.2 1091.38 L2048.51 1102.69 Z\" fill=\"#009af9\" fill-rule=\"evenodd\" fill-opacity=\"1\" stroke=\"#000000\" stroke-opacity=\"1\" stroke-width=\"3.2\"/>\n",
              "<path clip-path=\"url(#clip222)\" d=\"M2058.28 1198.57 L2046.97 1193.88 L2042.28 1182.57 L2046.97 1171.26 L2058.28 1166.57 L2069.59 1171.26 L2074.28 1182.57 L2069.59 1193.88 Z\" fill=\"#009af9\" fill-rule=\"evenodd\" fill-opacity=\"1\" stroke=\"#000000\" stroke-opacity=\"1\" stroke-width=\"3.2\"/>\n",
              "<path clip-path=\"url(#clip222)\" d=\"M2079.36 690.404 L2068.05 685.716 L2063.36 674.404 L2068.05 663.092 L2079.36 658.404 L2090.67 663.092 L2095.36 674.404 L2090.67 685.716 Z\" fill=\"#009af9\" fill-rule=\"evenodd\" fill-opacity=\"1\" stroke=\"#000000\" stroke-opacity=\"1\" stroke-width=\"3.2\"/>\n",
              "<path clip-path=\"url(#clip222)\" d=\"M2100.44 1142.66 L2089.12 1137.98 L2084.44 1126.66 L2089.12 1115.35 L2100.44 1110.66 L2111.75 1115.35 L2116.44 1126.66 L2111.75 1137.98 Z\" fill=\"#009af9\" fill-rule=\"evenodd\" fill-opacity=\"1\" stroke=\"#000000\" stroke-opacity=\"1\" stroke-width=\"3.2\"/>\n",
              "<path clip-path=\"url(#clip222)\" d=\"M2121.52 850.906 L2110.2 846.218 L2105.52 834.906 L2110.2 823.594 L2121.52 818.906 L2132.83 823.594 L2137.52 834.906 L2132.83 846.218 Z\" fill=\"#009af9\" fill-rule=\"evenodd\" fill-opacity=\"1\" stroke=\"#000000\" stroke-opacity=\"1\" stroke-width=\"3.2\"/>\n",
              "<path clip-path=\"url(#clip222)\" d=\"M2142.6 1428.31 L2131.28 1423.62 L2126.6 1412.31 L2131.28 1400.99 L2142.6 1396.31 L2153.91 1400.99 L2158.6 1412.31 L2153.91 1423.62 Z\" fill=\"#009af9\" fill-rule=\"evenodd\" fill-opacity=\"1\" stroke=\"#000000\" stroke-opacity=\"1\" stroke-width=\"3.2\"/>\n",
              "<path clip-path=\"url(#clip222)\" d=\"M2163.67 717.277 L2152.36 712.589 L2147.67 701.277 L2152.36 689.965 L2163.67 685.277 L2174.99 689.965 L2179.67 701.277 L2174.99 712.589 Z\" fill=\"#009af9\" fill-rule=\"evenodd\" fill-opacity=\"1\" stroke=\"#000000\" stroke-opacity=\"1\" stroke-width=\"3.2\"/>\n",
              "<path clip-path=\"url(#clip222)\" d=\"M2184.75 1012.64 L2173.44 1007.95 L2168.75 996.636 L2173.44 985.324 L2184.75 980.636 L2196.07 985.324 L2200.75 996.636 L2196.07 1007.95 Z\" fill=\"#009af9\" fill-rule=\"evenodd\" fill-opacity=\"1\" stroke=\"#000000\" stroke-opacity=\"1\" stroke-width=\"3.2\"/>\n",
              "<path clip-path=\"url(#clip222)\" d=\"M2205.83 1336.65 L2194.52 1331.96 L2189.83 1320.65 L2194.52 1309.33 L2205.83 1304.65 L2217.15 1309.33 L2221.83 1320.65 L2217.15 1331.96 Z\" fill=\"#009af9\" fill-rule=\"evenodd\" fill-opacity=\"1\" stroke=\"#000000\" stroke-opacity=\"1\" stroke-width=\"3.2\"/>\n",
              "<path clip-path=\"url(#clip222)\" d=\"M2226.91 1234.6 L2215.6 1229.91 L2210.91 1218.6 L2215.6 1207.29 L2226.91 1202.6 L2238.22 1207.29 L2242.91 1218.6 L2238.22 1229.91 Z\" fill=\"#009af9\" fill-rule=\"evenodd\" fill-opacity=\"1\" stroke=\"#000000\" stroke-opacity=\"1\" stroke-width=\"3.2\"/>\n",
              "<path clip-path=\"url(#clip222)\" d=\"M2247.99 798.448 L2236.68 793.76 L2231.99 782.448 L2236.68 771.136 L2247.99 766.448 L2259.3 771.136 L2263.99 782.448 L2259.3 793.76 Z\" fill=\"#009af9\" fill-rule=\"evenodd\" fill-opacity=\"1\" stroke=\"#000000\" stroke-opacity=\"1\" stroke-width=\"3.2\"/>\n",
              "<path clip-path=\"url(#clip222)\" d=\"M2269.07 510.166 L2257.76 505.478 L2253.07 494.166 L2257.76 482.854 L2269.07 478.166 L2280.38 482.854 L2285.07 494.166 L2280.38 505.478 Z\" fill=\"#009af9\" fill-rule=\"evenodd\" fill-opacity=\"1\" stroke=\"#000000\" stroke-opacity=\"1\" stroke-width=\"3.2\"/>\n",
              "<path clip-path=\"url(#clip222)\" d=\"M2290.15 1420.36 L2278.84 1415.67 L2274.15 1404.36 L2278.84 1393.04 L2290.15 1388.36 L2301.46 1393.04 L2306.15 1404.36 L2301.46 1415.67 Z\" fill=\"#009af9\" fill-rule=\"evenodd\" fill-opacity=\"1\" stroke=\"#000000\" stroke-opacity=\"1\" stroke-width=\"3.2\"/>\n",
              "<polyline clip-path=\"url(#clip222)\" style=\"stroke:#ff0000; stroke-linecap:round; stroke-linejoin:round; stroke-width:4; stroke-opacity:1; fill:none\" stroke-dasharray=\"16, 10\" points=\"-2071.36,1445.72 4564.82,1445.72 \"/>\n",
              "<path clip-path=\"url(#clip220)\" d=\"M1753.51 250.738 L2279.02 250.738 L2279.02 95.2176 L1753.51 95.2176  Z\" fill=\"#ffffff\" fill-rule=\"evenodd\" fill-opacity=\"1\"/>\n",
              "<polyline clip-path=\"url(#clip220)\" style=\"stroke:#000000; stroke-linecap:round; stroke-linejoin:round; stroke-width:4; stroke-opacity:1; fill:none\" points=\"1753.51,250.738 2279.02,250.738 2279.02,95.2176 1753.51,95.2176 1753.51,250.738 \"/>\n",
              "<polyline clip-path=\"url(#clip220)\" style=\"stroke:#009af9; stroke-linecap:round; stroke-linejoin:round; stroke-width:4; stroke-opacity:1; fill:none\" points=\"1778.09,147.058 1925.56,147.058 \"/>\n",
              "<path clip-path=\"url(#clip220)\" d=\"M1851.82 169.813 L1835.74 163.146 L1829.07 147.058 L1835.74 130.969 L1851.82 124.302 L1867.91 130.969 L1874.58 147.058 L1867.91 163.146 Z\" fill=\"#009af9\" fill-rule=\"evenodd\" fill-opacity=\"1\" stroke=\"#000000\" stroke-opacity=\"1\" stroke-width=\"4.55111\"/>\n",
              "<path clip-path=\"url(#clip220)\" d=\"M1971.85 148.689 L1971.85 164.338 L1967.59 164.338 L1967.59 148.828 Q1967.59 145.148 1966.16 143.319 Q1964.72 141.49 1961.85 141.49 Q1958.4 141.49 1956.41 143.69 Q1954.42 145.889 1954.42 149.685 L1954.42 164.338 L1950.14 164.338 L1950.14 138.412 L1954.42 138.412 L1954.42 142.44 Q1955.95 140.102 1958.01 138.944 Q1960.09 137.787 1962.8 137.787 Q1967.27 137.787 1969.56 140.565 Q1971.85 143.319 1971.85 148.689 Z\" fill=\"#000000\" fill-rule=\"nonzero\" fill-opacity=\"1\" /><path clip-path=\"url(#clip220)\" d=\"M1990.39 141.398 Q1986.97 141.398 1984.98 144.083 Q1982.99 146.745 1982.99 151.398 Q1982.99 156.051 1984.95 158.736 Q1986.94 161.398 1990.39 161.398 Q1993.8 161.398 1995.79 158.713 Q1997.78 156.027 1997.78 151.398 Q1997.78 146.791 1995.79 144.106 Q1993.8 141.398 1990.39 141.398 M1990.39 137.787 Q1995.95 137.787 1999.12 141.398 Q2002.29 145.009 2002.29 151.398 Q2002.29 157.764 1999.12 161.398 Q1995.95 165.009 1990.39 165.009 Q1984.81 165.009 1981.64 161.398 Q1978.49 157.764 1978.49 151.398 Q1978.49 145.009 1981.64 141.398 Q1984.81 137.787 1990.39 137.787 Z\" fill=\"#000000\" fill-rule=\"nonzero\" fill-opacity=\"1\" /><path clip-path=\"url(#clip220)\" d=\"M2024.37 142.393 Q2023.66 141.977 2022.8 141.791 Q2021.97 141.583 2020.95 141.583 Q2017.34 141.583 2015.39 143.944 Q2013.47 146.282 2013.47 150.68 L2013.47 164.338 L2009.19 164.338 L2009.19 138.412 L2013.47 138.412 L2013.47 142.44 Q2014.81 140.078 2016.97 138.944 Q2019.12 137.787 2022.2 137.787 Q2022.64 137.787 2023.17 137.856 Q2023.7 137.903 2024.35 138.018 L2024.37 142.393 Z\" fill=\"#000000\" fill-rule=\"nonzero\" fill-opacity=\"1\" /><path clip-path=\"url(#clip220)\" d=\"M2048.19 143.389 Q2049.79 140.518 2052.01 139.153 Q2054.23 137.787 2057.24 137.787 Q2061.29 137.787 2063.49 140.634 Q2065.69 143.458 2065.69 148.689 L2065.69 164.338 L2061.41 164.338 L2061.41 148.828 Q2061.41 145.102 2060.09 143.296 Q2058.77 141.49 2056.06 141.49 Q2052.75 141.49 2050.83 143.69 Q2048.91 145.889 2048.91 149.685 L2048.91 164.338 L2044.63 164.338 L2044.63 148.828 Q2044.63 145.078 2043.31 143.296 Q2041.99 141.49 2039.23 141.49 Q2035.97 141.49 2034.05 143.713 Q2032.13 145.912 2032.13 149.685 L2032.13 164.338 L2027.85 164.338 L2027.85 138.412 L2032.13 138.412 L2032.13 142.44 Q2033.59 140.055 2035.62 138.921 Q2037.66 137.787 2040.46 137.787 Q2043.29 137.787 2045.25 139.222 Q2047.24 140.657 2048.19 143.389 Z\" fill=\"#000000\" fill-rule=\"nonzero\" fill-opacity=\"1\" /><path clip-path=\"url(#clip220)\" d=\"M2085.97 151.305 Q2080.81 151.305 2078.82 152.486 Q2076.83 153.666 2076.83 156.514 Q2076.83 158.782 2078.31 160.125 Q2079.81 161.444 2082.38 161.444 Q2085.92 161.444 2088.05 158.944 Q2090.21 156.421 2090.21 152.254 L2090.21 151.305 L2085.97 151.305 M2094.47 149.546 L2094.47 164.338 L2090.21 164.338 L2090.21 160.402 Q2088.75 162.763 2086.57 163.898 Q2084.4 165.009 2081.25 165.009 Q2077.27 165.009 2074.91 162.787 Q2072.57 160.541 2072.57 156.791 Q2072.57 152.416 2075.48 150.194 Q2078.42 147.972 2084.23 147.972 L2090.21 147.972 L2090.21 147.555 Q2090.21 144.615 2088.26 143.018 Q2086.34 141.398 2082.85 141.398 Q2080.62 141.398 2078.52 141.93 Q2076.41 142.463 2074.47 143.527 L2074.47 139.592 Q2076.8 138.69 2079 138.25 Q2081.2 137.787 2083.29 137.787 Q2088.91 137.787 2091.69 140.703 Q2094.47 143.62 2094.47 149.546 Z\" fill=\"#000000\" fill-rule=\"nonzero\" fill-opacity=\"1\" /><path clip-path=\"url(#clip220)\" d=\"M2128.54 128.366 Q2125.44 133.69 2123.93 138.898 Q2122.43 144.106 2122.43 149.453 Q2122.43 154.801 2123.93 160.055 Q2125.46 165.287 2128.54 170.588 L2124.84 170.588 Q2121.36 165.148 2119.63 159.893 Q2117.92 154.639 2117.92 149.453 Q2117.92 144.291 2119.63 139.06 Q2121.34 133.828 2124.84 128.366 L2128.54 128.366 Z\" fill=\"#000000\" fill-rule=\"nonzero\" fill-opacity=\"1\" /><path clip-path=\"url(#clip220)\" d=\"M2148.54 134.384 L2142.2 151.583 L2154.91 151.583 L2148.54 134.384 M2145.9 129.778 L2151.2 129.778 L2164.37 164.338 L2159.51 164.338 L2156.36 155.472 L2140.79 155.472 L2137.64 164.338 L2132.71 164.338 L2145.9 129.778 Z\" fill=\"#000000\" fill-rule=\"nonzero\" fill-opacity=\"1\" /><path clip-path=\"url(#clip220)\" d=\"M2190.79 138.412 L2181.41 151.027 L2191.27 164.338 L2186.25 164.338 L2178.7 154.152 L2171.16 164.338 L2166.13 164.338 L2176.2 150.773 L2166.99 138.412 L2172.01 138.412 L2178.89 147.648 L2185.76 138.412 L2190.79 138.412 Z\" fill=\"#000000\" fill-rule=\"nonzero\" fill-opacity=\"1\" /><path clip-path=\"url(#clip220)\" d=\"M2195.14 149.453 L2207.61 149.453 L2207.61 153.25 L2195.14 153.25 L2195.14 149.453 Z\" fill=\"#000000\" fill-rule=\"nonzero\" fill-opacity=\"1\" /><path clip-path=\"url(#clip220)\" d=\"M2233.01 151.398 Q2233.01 146.699 2231.06 144.037 Q2229.14 141.352 2225.76 141.352 Q2222.38 141.352 2220.44 144.037 Q2218.52 146.699 2218.52 151.398 Q2218.52 156.097 2220.44 158.782 Q2222.38 161.444 2225.76 161.444 Q2229.14 161.444 2231.06 158.782 Q2233.01 156.097 2233.01 151.398 M2218.52 142.347 Q2219.86 140.032 2221.9 138.921 Q2223.96 137.787 2226.8 137.787 Q2231.53 137.787 2234.47 141.537 Q2237.43 145.287 2237.43 151.398 Q2237.43 157.509 2234.47 161.259 Q2231.53 165.009 2226.8 165.009 Q2223.96 165.009 2221.9 163.898 Q2219.86 162.763 2218.52 160.449 L2218.52 164.338 L2214.23 164.338 L2214.23 128.319 L2218.52 128.319 L2218.52 142.347 Z\" fill=\"#000000\" fill-rule=\"nonzero\" fill-opacity=\"1\" /><path clip-path=\"url(#clip220)\" d=\"M2243.82 128.366 L2247.52 128.366 Q2250.99 133.828 2252.71 139.06 Q2254.44 144.291 2254.44 149.453 Q2254.44 154.639 2252.71 159.893 Q2250.99 165.148 2247.52 170.588 L2243.82 170.588 Q2246.9 165.287 2248.4 160.055 Q2249.93 154.801 2249.93 149.453 Q2249.93 144.106 2248.4 138.898 Q2246.9 133.69 2243.82 128.366 Z\" fill=\"#000000\" fill-rule=\"nonzero\" fill-opacity=\"1\" /><polyline clip-path=\"url(#clip220)\" style=\"stroke:#ff0000; stroke-linecap:round; stroke-linejoin:round; stroke-width:4; stroke-opacity:1; fill:none\" stroke-dasharray=\"16, 10\" points=\"1778.09,198.898 1925.56,198.898 \"/>\n",
              "<path clip-path=\"url(#clip220)\" d=\"M1971.85 200.529 L1971.85 216.178 L1967.59 216.178 L1967.59 200.668 Q1967.59 196.988 1966.16 195.159 Q1964.72 193.33 1961.85 193.33 Q1958.4 193.33 1956.41 195.53 Q1954.42 197.729 1954.42 201.525 L1954.42 216.178 L1950.14 216.178 L1950.14 190.252 L1954.42 190.252 L1954.42 194.28 Q1955.95 191.942 1958.01 190.784 Q1960.09 189.627 1962.8 189.627 Q1967.27 189.627 1969.56 192.405 Q1971.85 195.159 1971.85 200.529 Z\" fill=\"#000000\" fill-rule=\"nonzero\" fill-opacity=\"1\" /><path clip-path=\"url(#clip220)\" d=\"M1990.39 193.238 Q1986.97 193.238 1984.98 195.923 Q1982.99 198.585 1982.99 203.238 Q1982.99 207.891 1984.95 210.576 Q1986.94 213.238 1990.39 213.238 Q1993.8 213.238 1995.79 210.553 Q1997.78 207.867 1997.78 203.238 Q1997.78 198.631 1995.79 195.946 Q1993.8 193.238 1990.39 193.238 M1990.39 189.627 Q1995.95 189.627 1999.12 193.238 Q2002.29 196.849 2002.29 203.238 Q2002.29 209.604 1999.12 213.238 Q1995.95 216.849 1990.39 216.849 Q1984.81 216.849 1981.64 213.238 Q1978.49 209.604 1978.49 203.238 Q1978.49 196.849 1981.64 193.238 Q1984.81 189.627 1990.39 189.627 Z\" fill=\"#000000\" fill-rule=\"nonzero\" fill-opacity=\"1\" /><path clip-path=\"url(#clip220)\" d=\"M2024.37 194.233 Q2023.66 193.817 2022.8 193.631 Q2021.97 193.423 2020.95 193.423 Q2017.34 193.423 2015.39 195.784 Q2013.47 198.122 2013.47 202.52 L2013.47 216.178 L2009.19 216.178 L2009.19 190.252 L2013.47 190.252 L2013.47 194.28 Q2014.81 191.918 2016.97 190.784 Q2019.12 189.627 2022.2 189.627 Q2022.64 189.627 2023.17 189.696 Q2023.7 189.743 2024.35 189.858 L2024.37 194.233 Z\" fill=\"#000000\" fill-rule=\"nonzero\" fill-opacity=\"1\" /><path clip-path=\"url(#clip220)\" d=\"M2048.19 195.229 Q2049.79 192.358 2052.01 190.993 Q2054.23 189.627 2057.24 189.627 Q2061.29 189.627 2063.49 192.474 Q2065.69 195.298 2065.69 200.529 L2065.69 216.178 L2061.41 216.178 L2061.41 200.668 Q2061.41 196.942 2060.09 195.136 Q2058.77 193.33 2056.06 193.33 Q2052.75 193.33 2050.83 195.53 Q2048.91 197.729 2048.91 201.525 L2048.91 216.178 L2044.63 216.178 L2044.63 200.668 Q2044.63 196.918 2043.31 195.136 Q2041.99 193.33 2039.23 193.33 Q2035.97 193.33 2034.05 195.553 Q2032.13 197.752 2032.13 201.525 L2032.13 216.178 L2027.85 216.178 L2027.85 190.252 L2032.13 190.252 L2032.13 194.28 Q2033.59 191.895 2035.62 190.761 Q2037.66 189.627 2040.46 189.627 Q2043.29 189.627 2045.25 191.062 Q2047.24 192.497 2048.19 195.229 Z\" fill=\"#000000\" fill-rule=\"nonzero\" fill-opacity=\"1\" /><path clip-path=\"url(#clip220)\" d=\"M2085.97 203.145 Q2080.81 203.145 2078.82 204.326 Q2076.83 205.506 2076.83 208.354 Q2076.83 210.622 2078.31 211.965 Q2079.81 213.284 2082.38 213.284 Q2085.92 213.284 2088.05 210.784 Q2090.21 208.261 2090.21 204.094 L2090.21 203.145 L2085.97 203.145 M2094.47 201.386 L2094.47 216.178 L2090.21 216.178 L2090.21 212.242 Q2088.75 214.603 2086.57 215.738 Q2084.4 216.849 2081.25 216.849 Q2077.27 216.849 2074.91 214.627 Q2072.57 212.381 2072.57 208.631 Q2072.57 204.256 2075.48 202.034 Q2078.42 199.812 2084.23 199.812 L2090.21 199.812 L2090.21 199.395 Q2090.21 196.455 2088.26 194.858 Q2086.34 193.238 2082.85 193.238 Q2080.62 193.238 2078.52 193.77 Q2076.41 194.303 2074.47 195.367 L2074.47 191.432 Q2076.8 190.53 2079 190.09 Q2081.2 189.627 2083.29 189.627 Q2088.91 189.627 2091.69 192.543 Q2094.47 195.46 2094.47 201.386 Z\" fill=\"#000000\" fill-rule=\"nonzero\" fill-opacity=\"1\" /><path clip-path=\"url(#clip220)\" d=\"M2113.47 180.206 Q2110.37 185.53 2108.86 190.738 Q2107.36 195.946 2107.36 201.293 Q2107.36 206.641 2108.86 211.895 Q2110.39 217.127 2113.47 222.428 L2109.77 222.428 Q2106.29 216.988 2104.56 211.733 Q2102.85 206.479 2102.85 201.293 Q2102.85 196.131 2104.56 190.9 Q2106.27 185.668 2109.77 180.206 L2113.47 180.206 Z\" fill=\"#000000\" fill-rule=\"nonzero\" fill-opacity=\"1\" /><path clip-path=\"url(#clip220)\" d=\"M2133.47 186.224 L2127.13 203.423 L2139.84 203.423 L2133.47 186.224 M2130.83 181.618 L2136.13 181.618 L2149.3 216.178 L2144.44 216.178 L2141.29 207.312 L2125.72 207.312 L2122.57 216.178 L2117.64 216.178 L2130.83 181.618 Z\" fill=\"#000000\" fill-rule=\"nonzero\" fill-opacity=\"1\" /><path clip-path=\"url(#clip220)\" d=\"M2161.73 218.585 Q2159.93 223.215 2158.22 224.627 Q2156.5 226.039 2153.63 226.039 L2150.23 226.039 L2150.23 222.474 L2152.73 222.474 Q2154.49 222.474 2155.46 221.64 Q2156.43 220.807 2157.61 217.705 L2158.38 215.761 L2147.89 190.252 L2152.41 190.252 L2160.51 210.529 L2168.61 190.252 L2173.12 190.252 L2161.73 218.585 Z\" fill=\"#000000\" fill-rule=\"nonzero\" fill-opacity=\"1\" /><path clip-path=\"url(#clip220)\" d=\"M2176.02 201.293 L2188.49 201.293 L2188.49 205.09 L2176.02 205.09 L2176.02 201.293 Z\" fill=\"#000000\" fill-rule=\"nonzero\" fill-opacity=\"1\" /><path clip-path=\"url(#clip220)\" d=\"M2213.89 203.238 Q2213.89 198.539 2211.94 195.877 Q2210.02 193.192 2206.64 193.192 Q2203.26 193.192 2201.32 195.877 Q2199.4 198.539 2199.4 203.238 Q2199.4 207.937 2201.32 210.622 Q2203.26 213.284 2206.64 213.284 Q2210.02 213.284 2211.94 210.622 Q2213.89 207.937 2213.89 203.238 M2199.4 194.187 Q2200.74 191.872 2202.78 190.761 Q2204.84 189.627 2207.68 189.627 Q2212.41 189.627 2215.35 193.377 Q2218.31 197.127 2218.31 203.238 Q2218.31 209.349 2215.35 213.099 Q2212.41 216.849 2207.68 216.849 Q2204.84 216.849 2202.78 215.738 Q2200.74 214.603 2199.4 212.289 L2199.4 216.178 L2195.11 216.178 L2195.11 180.159 L2199.4 180.159 L2199.4 194.187 Z\" fill=\"#000000\" fill-rule=\"nonzero\" fill-opacity=\"1\" /><path clip-path=\"url(#clip220)\" d=\"M2224.7 180.206 L2228.4 180.206 Q2231.87 185.668 2233.59 190.9 Q2235.32 196.131 2235.32 201.293 Q2235.32 206.479 2233.59 211.733 Q2231.87 216.988 2228.4 222.428 L2224.7 222.428 Q2227.78 217.127 2229.28 211.895 Q2230.81 206.641 2230.81 201.293 Q2230.81 195.946 2229.28 190.738 Q2227.78 185.53 2224.7 180.206 Z\" fill=\"#000000\" fill-rule=\"nonzero\" fill-opacity=\"1\" /></svg>\n"
            ],
            "text/html": [
              "<?xml version=\"1.0\" encoding=\"utf-8\"?>\n",
              "<svg xmlns=\"http://www.w3.org/2000/svg\" xmlns:xlink=\"http://www.w3.org/1999/xlink\" width=\"600\" height=\"400\" viewBox=\"0 0 2400 1600\">\n",
              "<defs>\n",
              "  <clipPath id=\"clip270\">\n",
              "    <rect x=\"0\" y=\"0\" width=\"2400\" height=\"1600\"/>\n",
              "  </clipPath>\n",
              "</defs>\n",
              "<path clip-path=\"url(#clip270)\" d=\"M0 1600 L2400 1600 L2400 0 L0 0  Z\" fill=\"#ffffff\" fill-rule=\"evenodd\" fill-opacity=\"1\"/>\n",
              "<defs>\n",
              "  <clipPath id=\"clip271\">\n",
              "    <rect x=\"480\" y=\"0\" width=\"1681\" height=\"1600\"/>\n",
              "  </clipPath>\n",
              "</defs>\n",
              "<path clip-path=\"url(#clip270)\" d=\"M140.696 1486.45 L2352.76 1486.45 L2352.76 47.2441 L140.696 47.2441  Z\" fill=\"#ffffff\" fill-rule=\"evenodd\" fill-opacity=\"1\"/>\n",
              "<defs>\n",
              "  <clipPath id=\"clip272\">\n",
              "    <rect x=\"140\" y=\"47\" width=\"2213\" height=\"1440\"/>\n",
              "  </clipPath>\n",
              "</defs>\n",
              "<polyline clip-path=\"url(#clip272)\" style=\"stroke:#000000; stroke-linecap:round; stroke-linejoin:round; stroke-width:2; stroke-opacity:0.1; fill:none\" points=\"182.222,1486.45 182.222,47.2441 \"/>\n",
              "<polyline clip-path=\"url(#clip272)\" style=\"stroke:#000000; stroke-linecap:round; stroke-linejoin:round; stroke-width:2; stroke-opacity:0.1; fill:none\" points=\"709.204,1486.45 709.204,47.2441 \"/>\n",
              "<polyline clip-path=\"url(#clip272)\" style=\"stroke:#000000; stroke-linecap:round; stroke-linejoin:round; stroke-width:2; stroke-opacity:0.1; fill:none\" points=\"1236.19,1486.45 1236.19,47.2441 \"/>\n",
              "<polyline clip-path=\"url(#clip272)\" style=\"stroke:#000000; stroke-linecap:round; stroke-linejoin:round; stroke-width:2; stroke-opacity:0.1; fill:none\" points=\"1763.17,1486.45 1763.17,47.2441 \"/>\n",
              "<polyline clip-path=\"url(#clip272)\" style=\"stroke:#000000; stroke-linecap:round; stroke-linejoin:round; stroke-width:2; stroke-opacity:0.1; fill:none\" points=\"2290.15,1486.45 2290.15,47.2441 \"/>\n",
              "<polyline clip-path=\"url(#clip272)\" style=\"stroke:#000000; stroke-linecap:round; stroke-linejoin:round; stroke-width:2; stroke-opacity:0.1; fill:none\" points=\"140.696,1474.34 2352.76,1474.34 \"/>\n",
              "<polyline clip-path=\"url(#clip272)\" style=\"stroke:#000000; stroke-linecap:round; stroke-linejoin:round; stroke-width:2; stroke-opacity:0.1; fill:none\" points=\"140.696,1175.9 2352.76,1175.9 \"/>\n",
              "<polyline clip-path=\"url(#clip272)\" style=\"stroke:#000000; stroke-linecap:round; stroke-linejoin:round; stroke-width:2; stroke-opacity:0.1; fill:none\" points=\"140.696,877.462 2352.76,877.462 \"/>\n",
              "<polyline clip-path=\"url(#clip272)\" style=\"stroke:#000000; stroke-linecap:round; stroke-linejoin:round; stroke-width:2; stroke-opacity:0.1; fill:none\" points=\"140.696,579.02 2352.76,579.02 \"/>\n",
              "<polyline clip-path=\"url(#clip272)\" style=\"stroke:#000000; stroke-linecap:round; stroke-linejoin:round; stroke-width:2; stroke-opacity:0.1; fill:none\" points=\"140.696,280.578 2352.76,280.578 \"/>\n",
              "<polyline clip-path=\"url(#clip270)\" style=\"stroke:#000000; stroke-linecap:round; stroke-linejoin:round; stroke-width:4; stroke-opacity:1; fill:none\" points=\"140.696,1486.45 2352.76,1486.45 \"/>\n",
              "<polyline clip-path=\"url(#clip270)\" style=\"stroke:#000000; stroke-linecap:round; stroke-linejoin:round; stroke-width:4; stroke-opacity:1; fill:none\" points=\"182.222,1486.45 182.222,1467.55 \"/>\n",
              "<polyline clip-path=\"url(#clip270)\" style=\"stroke:#000000; stroke-linecap:round; stroke-linejoin:round; stroke-width:4; stroke-opacity:1; fill:none\" points=\"709.204,1486.45 709.204,1467.55 \"/>\n",
              "<polyline clip-path=\"url(#clip270)\" style=\"stroke:#000000; stroke-linecap:round; stroke-linejoin:round; stroke-width:4; stroke-opacity:1; fill:none\" points=\"1236.19,1486.45 1236.19,1467.55 \"/>\n",
              "<polyline clip-path=\"url(#clip270)\" style=\"stroke:#000000; stroke-linecap:round; stroke-linejoin:round; stroke-width:4; stroke-opacity:1; fill:none\" points=\"1763.17,1486.45 1763.17,1467.55 \"/>\n",
              "<polyline clip-path=\"url(#clip270)\" style=\"stroke:#000000; stroke-linecap:round; stroke-linejoin:round; stroke-width:4; stroke-opacity:1; fill:none\" points=\"2290.15,1486.45 2290.15,1467.55 \"/>\n",
              "<path clip-path=\"url(#clip270)\" d=\"M182.222 1517.37 Q178.611 1517.37 176.782 1520.93 Q174.976 1524.47 174.976 1531.6 Q174.976 1538.71 176.782 1542.27 Q178.611 1545.82 182.222 1545.82 Q185.856 1545.82 187.662 1542.27 Q189.49 1538.71 189.49 1531.6 Q189.49 1524.47 187.662 1520.93 Q185.856 1517.37 182.222 1517.37 M182.222 1513.66 Q188.032 1513.66 191.087 1518.27 Q194.166 1522.85 194.166 1531.6 Q194.166 1540.33 191.087 1544.94 Q188.032 1549.52 182.222 1549.52 Q176.412 1549.52 173.333 1544.94 Q170.277 1540.33 170.277 1531.6 Q170.277 1522.85 173.333 1518.27 Q176.412 1513.66 182.222 1513.66 Z\" fill=\"#000000\" fill-rule=\"nonzero\" fill-opacity=\"1\" /><path clip-path=\"url(#clip270)\" d=\"M688.475 1544.91 L704.794 1544.91 L704.794 1548.85 L682.85 1548.85 L682.85 1544.91 Q685.512 1542.16 690.095 1537.53 Q694.702 1532.88 695.882 1531.53 Q698.128 1529.01 699.007 1527.27 Q699.91 1525.51 699.91 1523.82 Q699.91 1521.07 697.966 1519.33 Q696.044 1517.6 692.942 1517.6 Q690.743 1517.6 688.29 1518.36 Q685.859 1519.13 683.081 1520.68 L683.081 1515.95 Q685.905 1514.82 688.359 1514.24 Q690.813 1513.66 692.85 1513.66 Q698.22 1513.66 701.415 1516.35 Q704.609 1519.03 704.609 1523.52 Q704.609 1525.65 703.799 1527.57 Q703.012 1529.47 700.905 1532.07 Q700.327 1532.74 697.225 1535.95 Q694.123 1539.15 688.475 1544.91 Z\" fill=\"#000000\" fill-rule=\"nonzero\" fill-opacity=\"1\" /><path clip-path=\"url(#clip270)\" d=\"M714.655 1514.29 L733.012 1514.29 L733.012 1518.22 L718.938 1518.22 L718.938 1526.7 Q719.956 1526.35 720.975 1526.19 Q721.993 1526 723.012 1526 Q728.799 1526 732.178 1529.17 Q735.558 1532.34 735.558 1537.76 Q735.558 1543.34 732.086 1546.44 Q728.614 1549.52 722.294 1549.52 Q720.118 1549.52 717.85 1549.15 Q715.604 1548.78 713.197 1548.04 L713.197 1543.34 Q715.28 1544.47 717.502 1545.03 Q719.725 1545.58 722.202 1545.58 Q726.206 1545.58 728.544 1543.48 Q730.882 1541.37 730.882 1537.76 Q730.882 1534.15 728.544 1532.04 Q726.206 1529.94 722.202 1529.94 Q720.327 1529.94 718.452 1530.35 Q716.6 1530.77 714.655 1531.65 L714.655 1514.29 Z\" fill=\"#000000\" fill-rule=\"nonzero\" fill-opacity=\"1\" /><path clip-path=\"url(#clip270)\" d=\"M1210.89 1514.29 L1229.24 1514.29 L1229.24 1518.22 L1215.17 1518.22 L1215.17 1526.7 Q1216.19 1526.35 1217.2 1526.19 Q1218.22 1526 1219.24 1526 Q1225.03 1526 1228.41 1529.17 Q1231.79 1532.34 1231.79 1537.76 Q1231.79 1543.34 1228.32 1546.44 Q1224.84 1549.52 1218.52 1549.52 Q1216.35 1549.52 1214.08 1549.15 Q1211.83 1548.78 1209.43 1548.04 L1209.43 1543.34 Q1211.51 1544.47 1213.73 1545.03 Q1215.95 1545.58 1218.43 1545.58 Q1222.44 1545.58 1224.77 1543.48 Q1227.11 1541.37 1227.11 1537.76 Q1227.11 1534.15 1224.77 1532.04 Q1222.44 1529.94 1218.43 1529.94 Q1216.56 1529.94 1214.68 1530.35 Q1212.83 1530.77 1210.89 1531.65 L1210.89 1514.29 Z\" fill=\"#000000\" fill-rule=\"nonzero\" fill-opacity=\"1\" /><path clip-path=\"url(#clip270)\" d=\"M1251 1517.37 Q1247.39 1517.37 1245.56 1520.93 Q1243.76 1524.47 1243.76 1531.6 Q1243.76 1538.71 1245.56 1542.27 Q1247.39 1545.82 1251 1545.82 Q1254.64 1545.82 1256.44 1542.27 Q1258.27 1538.71 1258.27 1531.6 Q1258.27 1524.47 1256.44 1520.93 Q1254.64 1517.37 1251 1517.37 M1251 1513.66 Q1256.81 1513.66 1259.87 1518.27 Q1262.95 1522.85 1262.95 1531.6 Q1262.95 1540.33 1259.87 1544.94 Q1256.81 1549.52 1251 1549.52 Q1245.19 1549.52 1242.11 1544.94 Q1239.06 1540.33 1239.06 1531.6 Q1239.06 1522.85 1242.11 1518.27 Q1245.19 1513.66 1251 1513.66 Z\" fill=\"#000000\" fill-rule=\"nonzero\" fill-opacity=\"1\" /><path clip-path=\"url(#clip270)\" d=\"M1737.02 1514.29 L1759.24 1514.29 L1759.24 1516.28 L1746.7 1548.85 L1741.81 1548.85 L1753.62 1518.22 L1737.02 1518.22 L1737.02 1514.29 Z\" fill=\"#000000\" fill-rule=\"nonzero\" fill-opacity=\"1\" /><path clip-path=\"url(#clip270)\" d=\"M1768.41 1514.29 L1786.77 1514.29 L1786.77 1518.22 L1772.69 1518.22 L1772.69 1526.7 Q1773.71 1526.35 1774.73 1526.19 Q1775.75 1526 1776.77 1526 Q1782.55 1526 1785.93 1529.17 Q1789.31 1532.34 1789.31 1537.76 Q1789.31 1543.34 1785.84 1546.44 Q1782.37 1549.52 1776.05 1549.52 Q1773.87 1549.52 1771.61 1549.15 Q1769.36 1548.78 1766.95 1548.04 L1766.95 1543.34 Q1769.04 1544.47 1771.26 1545.03 Q1773.48 1545.58 1775.96 1545.58 Q1779.96 1545.58 1782.3 1543.48 Q1784.64 1541.37 1784.64 1537.76 Q1784.64 1534.15 1782.3 1532.04 Q1779.96 1529.94 1775.96 1529.94 Q1774.08 1529.94 1772.21 1530.35 Q1770.36 1530.77 1768.41 1531.65 L1768.41 1514.29 Z\" fill=\"#000000\" fill-rule=\"nonzero\" fill-opacity=\"1\" /><path clip-path=\"url(#clip270)\" d=\"M2249.76 1544.91 L2257.4 1544.91 L2257.4 1518.55 L2249.09 1520.21 L2249.09 1515.95 L2257.35 1514.29 L2262.03 1514.29 L2262.03 1544.91 L2269.66 1544.91 L2269.66 1548.85 L2249.76 1548.85 L2249.76 1544.91 Z\" fill=\"#000000\" fill-rule=\"nonzero\" fill-opacity=\"1\" /><path clip-path=\"url(#clip270)\" d=\"M2289.11 1517.37 Q2285.5 1517.37 2283.67 1520.93 Q2281.86 1524.47 2281.86 1531.6 Q2281.86 1538.71 2283.67 1542.27 Q2285.5 1545.82 2289.11 1545.82 Q2292.74 1545.82 2294.55 1542.27 Q2296.38 1538.71 2296.38 1531.6 Q2296.38 1524.47 2294.55 1520.93 Q2292.74 1517.37 2289.11 1517.37 M2289.11 1513.66 Q2294.92 1513.66 2297.97 1518.27 Q2301.05 1522.85 2301.05 1531.6 Q2301.05 1540.33 2297.97 1544.94 Q2294.92 1549.52 2289.11 1549.52 Q2283.3 1549.52 2280.22 1544.94 Q2277.16 1540.33 2277.16 1531.6 Q2277.16 1522.85 2280.22 1518.27 Q2283.3 1513.66 2289.11 1513.66 Z\" fill=\"#000000\" fill-rule=\"nonzero\" fill-opacity=\"1\" /><path clip-path=\"url(#clip270)\" d=\"M2319.27 1517.37 Q2315.66 1517.37 2313.83 1520.93 Q2312.03 1524.47 2312.03 1531.6 Q2312.03 1538.71 2313.83 1542.27 Q2315.66 1545.82 2319.27 1545.82 Q2322.9 1545.82 2324.71 1542.27 Q2326.54 1538.71 2326.54 1531.6 Q2326.54 1524.47 2324.71 1520.93 Q2322.9 1517.37 2319.27 1517.37 M2319.27 1513.66 Q2325.08 1513.66 2328.14 1518.27 Q2331.22 1522.85 2331.22 1531.6 Q2331.22 1540.33 2328.14 1544.94 Q2325.08 1549.52 2319.27 1549.52 Q2313.46 1549.52 2310.38 1544.94 Q2307.33 1540.33 2307.33 1531.6 Q2307.33 1522.85 2310.38 1518.27 Q2313.46 1513.66 2319.27 1513.66 Z\" fill=\"#000000\" fill-rule=\"nonzero\" fill-opacity=\"1\" /><polyline clip-path=\"url(#clip270)\" style=\"stroke:#000000; stroke-linecap:round; stroke-linejoin:round; stroke-width:4; stroke-opacity:1; fill:none\" points=\"140.696,1486.45 140.696,47.2441 \"/>\n",
              "<polyline clip-path=\"url(#clip270)\" style=\"stroke:#000000; stroke-linecap:round; stroke-linejoin:round; stroke-width:4; stroke-opacity:1; fill:none\" points=\"140.696,1474.34 159.593,1474.34 \"/>\n",
              "<polyline clip-path=\"url(#clip270)\" style=\"stroke:#000000; stroke-linecap:round; stroke-linejoin:round; stroke-width:4; stroke-opacity:1; fill:none\" points=\"140.696,1175.9 159.593,1175.9 \"/>\n",
              "<polyline clip-path=\"url(#clip270)\" style=\"stroke:#000000; stroke-linecap:round; stroke-linejoin:round; stroke-width:4; stroke-opacity:1; fill:none\" points=\"140.696,877.462 159.593,877.462 \"/>\n",
              "<polyline clip-path=\"url(#clip270)\" style=\"stroke:#000000; stroke-linecap:round; stroke-linejoin:round; stroke-width:4; stroke-opacity:1; fill:none\" points=\"140.696,579.02 159.593,579.02 \"/>\n",
              "<polyline clip-path=\"url(#clip270)\" style=\"stroke:#000000; stroke-linecap:round; stroke-linejoin:round; stroke-width:4; stroke-opacity:1; fill:none\" points=\"140.696,280.578 159.593,280.578 \"/>\n",
              "<path clip-path=\"url(#clip270)\" d=\"M92.7512 1460.14 Q89.1401 1460.14 87.3114 1463.71 Q85.5058 1467.25 85.5058 1474.38 Q85.5058 1481.49 87.3114 1485.05 Q89.1401 1488.59 92.7512 1488.59 Q96.3854 1488.59 98.1909 1485.05 Q100.02 1481.49 100.02 1474.38 Q100.02 1467.25 98.1909 1463.71 Q96.3854 1460.14 92.7512 1460.14 M92.7512 1456.44 Q98.5613 1456.44 101.617 1461.05 Q104.696 1465.63 104.696 1474.38 Q104.696 1483.11 101.617 1487.71 Q98.5613 1492.3 92.7512 1492.3 Q86.941 1492.3 83.8623 1487.71 Q80.8068 1483.11 80.8068 1474.38 Q80.8068 1465.63 83.8623 1461.05 Q86.941 1456.44 92.7512 1456.44 Z\" fill=\"#000000\" fill-rule=\"nonzero\" fill-opacity=\"1\" /><path clip-path=\"url(#clip270)\" d=\"M83.7929 1158.62 L102.149 1158.62 L102.149 1162.56 L88.0753 1162.56 L88.0753 1171.03 Q89.0938 1170.68 90.1123 1170.52 Q91.1308 1170.34 92.1493 1170.34 Q97.9363 1170.34 101.316 1173.51 Q104.696 1176.68 104.696 1182.1 Q104.696 1187.67 101.223 1190.78 Q97.7511 1193.85 91.4317 1193.85 Q89.2558 1193.85 86.9873 1193.48 Q84.7419 1193.11 82.3346 1192.37 L82.3346 1187.67 Q84.4179 1188.81 86.6401 1189.36 Q88.8623 1189.92 91.3391 1189.92 Q95.3437 1189.92 97.6817 1187.81 Q100.02 1185.71 100.02 1182.1 Q100.02 1178.48 97.6817 1176.38 Q95.3437 1174.27 91.3391 1174.27 Q89.4641 1174.27 87.5892 1174.69 Q85.7373 1175.1 83.7929 1175.98 L83.7929 1158.62 Z\" fill=\"#000000\" fill-rule=\"nonzero\" fill-opacity=\"1\" /><path clip-path=\"url(#clip270)\" d=\"M53.3995 890.806 L61.0384 890.806 L61.0384 864.441 L52.7282 866.107 L52.7282 861.848 L60.9921 860.182 L65.668 860.182 L65.668 890.806 L73.3068 890.806 L73.3068 894.742 L53.3995 894.742 L53.3995 890.806 Z\" fill=\"#000000\" fill-rule=\"nonzero\" fill-opacity=\"1\" /><path clip-path=\"url(#clip270)\" d=\"M92.7512 863.26 Q89.1401 863.26 87.3114 866.825 Q85.5058 870.367 85.5058 877.496 Q85.5058 884.603 87.3114 888.168 Q89.1401 891.709 92.7512 891.709 Q96.3854 891.709 98.1909 888.168 Q100.02 884.603 100.02 877.496 Q100.02 870.367 98.1909 866.825 Q96.3854 863.26 92.7512 863.26 M92.7512 859.557 Q98.5613 859.557 101.617 864.163 Q104.696 868.746 104.696 877.496 Q104.696 886.223 101.617 890.83 Q98.5613 895.413 92.7512 895.413 Q86.941 895.413 83.8623 890.83 Q80.8068 886.223 80.8068 877.496 Q80.8068 868.746 83.8623 864.163 Q86.941 859.557 92.7512 859.557 Z\" fill=\"#000000\" fill-rule=\"nonzero\" fill-opacity=\"1\" /><path clip-path=\"url(#clip270)\" d=\"M54.3949 592.365 L62.0337 592.365 L62.0337 565.999 L53.7236 567.666 L53.7236 563.407 L61.9874 561.74 L66.6633 561.74 L66.6633 592.365 L74.3022 592.365 L74.3022 596.3 L54.3949 596.3 L54.3949 592.365 Z\" fill=\"#000000\" fill-rule=\"nonzero\" fill-opacity=\"1\" /><path clip-path=\"url(#clip270)\" d=\"M83.7929 561.74 L102.149 561.74 L102.149 565.675 L88.0753 565.675 L88.0753 574.147 Q89.0938 573.8 90.1123 573.638 Q91.1308 573.453 92.1493 573.453 Q97.9363 573.453 101.316 576.624 Q104.696 579.795 104.696 585.212 Q104.696 590.791 101.223 593.893 Q97.7511 596.971 91.4317 596.971 Q89.2558 596.971 86.9873 596.601 Q84.7419 596.231 82.3346 595.49 L82.3346 590.791 Q84.4179 591.925 86.6401 592.481 Q88.8623 593.036 91.3391 593.036 Q95.3437 593.036 97.6817 590.93 Q100.02 588.823 100.02 585.212 Q100.02 581.601 97.6817 579.495 Q95.3437 577.388 91.3391 577.388 Q89.4641 577.388 87.5892 577.805 Q85.7373 578.221 83.7929 579.101 L83.7929 561.74 Z\" fill=\"#000000\" fill-rule=\"nonzero\" fill-opacity=\"1\" /><path clip-path=\"url(#clip270)\" d=\"M56.6171 293.923 L72.9365 293.923 L72.9365 297.858 L50.9921 297.858 L50.9921 293.923 Q53.6541 291.169 58.2375 286.539 Q62.8439 281.886 64.0245 280.544 Q66.2698 278.021 67.1494 276.284 Q68.0522 274.525 68.0522 272.835 Q68.0522 270.081 66.1078 268.345 Q64.1865 266.609 61.0847 266.609 Q58.8856 266.609 56.4319 267.372 Q54.0014 268.136 51.2236 269.687 L51.2236 264.965 Q54.0477 263.831 56.5014 263.252 Q58.955 262.673 60.9921 262.673 Q66.3624 262.673 69.5568 265.359 Q72.7513 268.044 72.7513 272.534 Q72.7513 274.664 71.9411 276.585 Q71.1541 278.483 69.0476 281.076 Q68.4689 281.747 65.367 284.965 Q62.2652 288.159 56.6171 293.923 Z\" fill=\"#000000\" fill-rule=\"nonzero\" fill-opacity=\"1\" /><path clip-path=\"url(#clip270)\" d=\"M92.7512 266.377 Q89.1401 266.377 87.3114 269.942 Q85.5058 273.484 85.5058 280.613 Q85.5058 287.72 87.3114 291.284 Q89.1401 294.826 92.7512 294.826 Q96.3854 294.826 98.1909 291.284 Q100.02 287.72 100.02 280.613 Q100.02 273.484 98.1909 269.942 Q96.3854 266.377 92.7512 266.377 M92.7512 262.673 Q98.5613 262.673 101.617 267.28 Q104.696 271.863 104.696 280.613 Q104.696 289.34 101.617 293.946 Q98.5613 298.53 92.7512 298.53 Q86.941 298.53 83.8623 293.946 Q80.8068 289.34 80.8068 280.613 Q80.8068 271.863 83.8623 267.28 Q86.941 262.673 92.7512 262.673 Z\" fill=\"#000000\" fill-rule=\"nonzero\" fill-opacity=\"1\" /><polyline clip-path=\"url(#clip272)\" style=\"stroke:#009af9; stroke-linecap:round; stroke-linejoin:round; stroke-width:4; stroke-opacity:1; fill:none\" points=\"203.301,1257.27 224.38,1008.3 245.46,1285.6 266.539,1415.35 287.618,519.613 308.697,1149.06 329.777,319.324 350.856,1397.23 371.935,1382.5 393.015,1380.41 414.094,1419.17 435.173,1110.29 456.252,578.335 477.332,1133.69 498.411,990.959 519.49,1265.82 540.57,1293.5 561.649,1375.89 582.728,1155.03 603.807,518.855 624.887,976.359 645.966,643.367 667.045,1427.13 688.125,1189.76 709.204,774.277 730.283,965.779 751.362,975.158 772.442,87.9763 793.521,855.416 814.6,713.322 835.68,1257.11 856.759,1167.98 877.838,979.958 898.917,1436.57 919.997,1054.34 941.076,1352.14 962.155,1379.72 983.235,1062.7 1004.31,1023.67 1025.39,1165.26 1046.47,1090.87 1067.55,1324.78 1088.63,1328.32 1109.71,945.856 1130.79,967.087 1151.87,1267.29 1172.95,1157.88 1194.03,1402.02 1215.11,1357.53 1236.19,1391.34 1257.27,1378.75 1278.34,1296.3 1299.42,1402.66 1320.5,1241.58 1341.58,1225.3 1362.66,1026.02 1383.74,669.1 1404.82,1080.67 1425.9,555.275 1446.98,1410.41 1468.06,214.885 1489.14,646.09 1510.22,1207.61 1531.3,979.232 1552.38,1128.33 1573.45,388.317 1594.53,1182.07 1615.61,1261.08 1636.69,903.92 1657.77,547.435 1678.85,1015.04 1699.93,1227.11 1721.01,894.245 1742.09,1057.18 1763.17,1072.14 1784.25,1422.35 1805.33,1049.15 1826.41,903.205 1847.49,1178.59 1868.56,1232.11 1889.64,740.588 1910.72,606.399 1931.8,1271.84 1952.88,1120.43 1973.96,1149.02 1995.04,707.381 2016.12,1224.69 2037.2,1091.38 2058.28,1182.57 2079.36,674.404 2100.44,1126.66 2121.52,834.906 2142.6,1412.31 2163.67,701.277 2184.75,996.636 2205.83,1320.65 2226.91,1218.6 2247.99,782.448 2269.07,494.166 2290.15,1404.36 \"/>\n",
              "<path clip-path=\"url(#clip272)\" d=\"M203.301 1273.27 L191.989 1268.58 L187.301 1257.27 L191.989 1245.96 L203.301 1241.27 L214.613 1245.96 L219.301 1257.27 L214.613 1268.58 Z\" fill=\"#009af9\" fill-rule=\"evenodd\" fill-opacity=\"1\" stroke=\"#000000\" stroke-opacity=\"1\" stroke-width=\"3.2\"/>\n",
              "<path clip-path=\"url(#clip272)\" d=\"M224.38 1024.3 L213.068 1019.61 L208.38 1008.3 L213.068 996.985 L224.38 992.297 L235.692 996.985 L240.38 1008.3 L235.692 1019.61 Z\" fill=\"#009af9\" fill-rule=\"evenodd\" fill-opacity=\"1\" stroke=\"#000000\" stroke-opacity=\"1\" stroke-width=\"3.2\"/>\n",
              "<path clip-path=\"url(#clip272)\" d=\"M245.46 1301.6 L234.148 1296.91 L229.46 1285.6 L234.148 1274.29 L245.46 1269.6 L256.772 1274.29 L261.46 1285.6 L256.772 1296.91 Z\" fill=\"#009af9\" fill-rule=\"evenodd\" fill-opacity=\"1\" stroke=\"#000000\" stroke-opacity=\"1\" stroke-width=\"3.2\"/>\n",
              "<path clip-path=\"url(#clip272)\" d=\"M266.539 1431.35 L255.227 1426.66 L250.539 1415.35 L255.227 1404.04 L266.539 1399.35 L277.851 1404.04 L282.539 1415.35 L277.851 1426.66 Z\" fill=\"#009af9\" fill-rule=\"evenodd\" fill-opacity=\"1\" stroke=\"#000000\" stroke-opacity=\"1\" stroke-width=\"3.2\"/>\n",
              "<path clip-path=\"url(#clip272)\" d=\"M287.618 535.613 L276.306 530.925 L271.618 519.613 L276.306 508.301 L287.618 503.613 L298.93 508.301 L303.618 519.613 L298.93 530.925 Z\" fill=\"#009af9\" fill-rule=\"evenodd\" fill-opacity=\"1\" stroke=\"#000000\" stroke-opacity=\"1\" stroke-width=\"3.2\"/>\n",
              "<path clip-path=\"url(#clip272)\" d=\"M308.697 1165.06 L297.385 1160.37 L292.697 1149.06 L297.385 1137.75 L308.697 1133.06 L320.009 1137.75 L324.697 1149.06 L320.009 1160.37 Z\" fill=\"#009af9\" fill-rule=\"evenodd\" fill-opacity=\"1\" stroke=\"#000000\" stroke-opacity=\"1\" stroke-width=\"3.2\"/>\n",
              "<path clip-path=\"url(#clip272)\" d=\"M329.777 335.324 L318.465 330.636 L313.777 319.324 L318.465 308.012 L329.777 303.324 L341.089 308.012 L345.777 319.324 L341.089 330.636 Z\" fill=\"#009af9\" fill-rule=\"evenodd\" fill-opacity=\"1\" stroke=\"#000000\" stroke-opacity=\"1\" stroke-width=\"3.2\"/>\n",
              "<path clip-path=\"url(#clip272)\" d=\"M350.856 1413.23 L339.544 1408.54 L334.856 1397.23 L339.544 1385.91 L350.856 1381.23 L362.168 1385.91 L366.856 1397.23 L362.168 1408.54 Z\" fill=\"#009af9\" fill-rule=\"evenodd\" fill-opacity=\"1\" stroke=\"#000000\" stroke-opacity=\"1\" stroke-width=\"3.2\"/>\n",
              "<path clip-path=\"url(#clip272)\" d=\"M371.935 1398.5 L360.623 1393.81 L355.935 1382.5 L360.623 1371.19 L371.935 1366.5 L383.247 1371.19 L387.935 1382.5 L383.247 1393.81 Z\" fill=\"#009af9\" fill-rule=\"evenodd\" fill-opacity=\"1\" stroke=\"#000000\" stroke-opacity=\"1\" stroke-width=\"3.2\"/>\n",
              "<path clip-path=\"url(#clip272)\" d=\"M393.015 1396.41 L381.703 1391.73 L377.015 1380.41 L381.703 1369.1 L393.015 1364.41 L404.327 1369.1 L409.015 1380.41 L404.327 1391.73 Z\" fill=\"#009af9\" fill-rule=\"evenodd\" fill-opacity=\"1\" stroke=\"#000000\" stroke-opacity=\"1\" stroke-width=\"3.2\"/>\n",
              "<path clip-path=\"url(#clip272)\" d=\"M414.094 1435.17 L402.782 1430.48 L398.094 1419.17 L402.782 1407.86 L414.094 1403.17 L425.406 1407.86 L430.094 1419.17 L425.406 1430.48 Z\" fill=\"#009af9\" fill-rule=\"evenodd\" fill-opacity=\"1\" stroke=\"#000000\" stroke-opacity=\"1\" stroke-width=\"3.2\"/>\n",
              "<path clip-path=\"url(#clip272)\" d=\"M435.173 1126.29 L423.861 1121.6 L419.173 1110.29 L423.861 1098.98 L435.173 1094.29 L446.485 1098.98 L451.173 1110.29 L446.485 1121.6 Z\" fill=\"#009af9\" fill-rule=\"evenodd\" fill-opacity=\"1\" stroke=\"#000000\" stroke-opacity=\"1\" stroke-width=\"3.2\"/>\n",
              "<path clip-path=\"url(#clip272)\" d=\"M456.252 594.335 L444.94 589.647 L440.252 578.335 L444.94 567.023 L456.252 562.335 L467.564 567.023 L472.252 578.335 L467.564 589.647 Z\" fill=\"#009af9\" fill-rule=\"evenodd\" fill-opacity=\"1\" stroke=\"#000000\" stroke-opacity=\"1\" stroke-width=\"3.2\"/>\n",
              "<path clip-path=\"url(#clip272)\" d=\"M477.332 1149.69 L466.02 1145 L461.332 1133.69 L466.02 1122.38 L477.332 1117.69 L488.644 1122.38 L493.332 1133.69 L488.644 1145 Z\" fill=\"#009af9\" fill-rule=\"evenodd\" fill-opacity=\"1\" stroke=\"#000000\" stroke-opacity=\"1\" stroke-width=\"3.2\"/>\n",
              "<path clip-path=\"url(#clip272)\" d=\"M498.411 1006.96 L487.099 1002.27 L482.411 990.959 L487.099 979.647 L498.411 974.959 L509.723 979.647 L514.411 990.959 L509.723 1002.27 Z\" fill=\"#009af9\" fill-rule=\"evenodd\" fill-opacity=\"1\" stroke=\"#000000\" stroke-opacity=\"1\" stroke-width=\"3.2\"/>\n",
              "<path clip-path=\"url(#clip272)\" d=\"M519.49 1281.82 L508.178 1277.13 L503.49 1265.82 L508.178 1254.5 L519.49 1249.82 L530.802 1254.5 L535.49 1265.82 L530.802 1277.13 Z\" fill=\"#009af9\" fill-rule=\"evenodd\" fill-opacity=\"1\" stroke=\"#000000\" stroke-opacity=\"1\" stroke-width=\"3.2\"/>\n",
              "<path clip-path=\"url(#clip272)\" d=\"M540.57 1309.5 L529.258 1304.81 L524.57 1293.5 L529.258 1282.18 L540.57 1277.5 L551.882 1282.18 L556.57 1293.5 L551.882 1304.81 Z\" fill=\"#009af9\" fill-rule=\"evenodd\" fill-opacity=\"1\" stroke=\"#000000\" stroke-opacity=\"1\" stroke-width=\"3.2\"/>\n",
              "<path clip-path=\"url(#clip272)\" d=\"M561.649 1391.89 L550.337 1387.21 L545.649 1375.89 L550.337 1364.58 L561.649 1359.89 L572.961 1364.58 L577.649 1375.89 L572.961 1387.21 Z\" fill=\"#009af9\" fill-rule=\"evenodd\" fill-opacity=\"1\" stroke=\"#000000\" stroke-opacity=\"1\" stroke-width=\"3.2\"/>\n",
              "<path clip-path=\"url(#clip272)\" d=\"M582.728 1171.03 L571.416 1166.34 L566.728 1155.03 L571.416 1143.72 L582.728 1139.03 L594.04 1143.72 L598.728 1155.03 L594.04 1166.34 Z\" fill=\"#009af9\" fill-rule=\"evenodd\" fill-opacity=\"1\" stroke=\"#000000\" stroke-opacity=\"1\" stroke-width=\"3.2\"/>\n",
              "<path clip-path=\"url(#clip272)\" d=\"M603.807 534.855 L592.495 530.167 L587.807 518.855 L592.495 507.543 L603.807 502.855 L615.119 507.543 L619.807 518.855 L615.119 530.167 Z\" fill=\"#009af9\" fill-rule=\"evenodd\" fill-opacity=\"1\" stroke=\"#000000\" stroke-opacity=\"1\" stroke-width=\"3.2\"/>\n",
              "<path clip-path=\"url(#clip272)\" d=\"M624.887 992.359 L613.575 987.671 L608.887 976.359 L613.575 965.047 L624.887 960.359 L636.199 965.047 L640.887 976.359 L636.199 987.671 Z\" fill=\"#009af9\" fill-rule=\"evenodd\" fill-opacity=\"1\" stroke=\"#000000\" stroke-opacity=\"1\" stroke-width=\"3.2\"/>\n",
              "<path clip-path=\"url(#clip272)\" d=\"M645.966 659.367 L634.654 654.679 L629.966 643.367 L634.654 632.055 L645.966 627.367 L657.278 632.055 L661.966 643.367 L657.278 654.679 Z\" fill=\"#009af9\" fill-rule=\"evenodd\" fill-opacity=\"1\" stroke=\"#000000\" stroke-opacity=\"1\" stroke-width=\"3.2\"/>\n",
              "<path clip-path=\"url(#clip272)\" d=\"M667.045 1443.13 L655.733 1438.44 L651.045 1427.13 L655.733 1415.82 L667.045 1411.13 L678.357 1415.82 L683.045 1427.13 L678.357 1438.44 Z\" fill=\"#009af9\" fill-rule=\"evenodd\" fill-opacity=\"1\" stroke=\"#000000\" stroke-opacity=\"1\" stroke-width=\"3.2\"/>\n",
              "<path clip-path=\"url(#clip272)\" d=\"M688.125 1205.76 L676.813 1201.07 L672.125 1189.76 L676.813 1178.44 L688.125 1173.76 L699.437 1178.44 L704.125 1189.76 L699.437 1201.07 Z\" fill=\"#009af9\" fill-rule=\"evenodd\" fill-opacity=\"1\" stroke=\"#000000\" stroke-opacity=\"1\" stroke-width=\"3.2\"/>\n",
              "<path clip-path=\"url(#clip272)\" d=\"M709.204 790.277 L697.892 785.589 L693.204 774.277 L697.892 762.965 L709.204 758.277 L720.516 762.965 L725.204 774.277 L720.516 785.589 Z\" fill=\"#009af9\" fill-rule=\"evenodd\" fill-opacity=\"1\" stroke=\"#000000\" stroke-opacity=\"1\" stroke-width=\"3.2\"/>\n",
              "<path clip-path=\"url(#clip272)\" d=\"M730.283 981.779 L718.971 977.091 L714.283 965.779 L718.971 954.467 L730.283 949.779 L741.595 954.467 L746.283 965.779 L741.595 977.091 Z\" fill=\"#009af9\" fill-rule=\"evenodd\" fill-opacity=\"1\" stroke=\"#000000\" stroke-opacity=\"1\" stroke-width=\"3.2\"/>\n",
              "<path clip-path=\"url(#clip272)\" d=\"M751.362 991.158 L740.05 986.47 L735.362 975.158 L740.05 963.846 L751.362 959.158 L762.674 963.846 L767.362 975.158 L762.674 986.47 Z\" fill=\"#009af9\" fill-rule=\"evenodd\" fill-opacity=\"1\" stroke=\"#000000\" stroke-opacity=\"1\" stroke-width=\"3.2\"/>\n",
              "<path clip-path=\"url(#clip272)\" d=\"M772.442 103.976 L761.13 99.2883 L756.442 87.9763 L761.13 76.6643 L772.442 71.9763 L783.754 76.6643 L788.442 87.9763 L783.754 99.2883 Z\" fill=\"#009af9\" fill-rule=\"evenodd\" fill-opacity=\"1\" stroke=\"#000000\" stroke-opacity=\"1\" stroke-width=\"3.2\"/>\n",
              "<path clip-path=\"url(#clip272)\" d=\"M793.521 871.416 L782.209 866.728 L777.521 855.416 L782.209 844.104 L793.521 839.416 L804.833 844.104 L809.521 855.416 L804.833 866.728 Z\" fill=\"#009af9\" fill-rule=\"evenodd\" fill-opacity=\"1\" stroke=\"#000000\" stroke-opacity=\"1\" stroke-width=\"3.2\"/>\n",
              "<path clip-path=\"url(#clip272)\" d=\"M814.6 729.322 L803.288 724.634 L798.6 713.322 L803.288 702.01 L814.6 697.322 L825.912 702.01 L830.6 713.322 L825.912 724.634 Z\" fill=\"#009af9\" fill-rule=\"evenodd\" fill-opacity=\"1\" stroke=\"#000000\" stroke-opacity=\"1\" stroke-width=\"3.2\"/>\n",
              "<path clip-path=\"url(#clip272)\" d=\"M835.68 1273.11 L824.368 1268.43 L819.68 1257.11 L824.368 1245.8 L835.68 1241.11 L846.992 1245.8 L851.68 1257.11 L846.992 1268.43 Z\" fill=\"#009af9\" fill-rule=\"evenodd\" fill-opacity=\"1\" stroke=\"#000000\" stroke-opacity=\"1\" stroke-width=\"3.2\"/>\n",
              "<path clip-path=\"url(#clip272)\" d=\"M856.759 1183.98 L845.447 1179.29 L840.759 1167.98 L845.447 1156.67 L856.759 1151.98 L868.071 1156.67 L872.759 1167.98 L868.071 1179.29 Z\" fill=\"#009af9\" fill-rule=\"evenodd\" fill-opacity=\"1\" stroke=\"#000000\" stroke-opacity=\"1\" stroke-width=\"3.2\"/>\n",
              "<path clip-path=\"url(#clip272)\" d=\"M877.838 995.958 L866.526 991.27 L861.838 979.958 L866.526 968.646 L877.838 963.958 L889.15 968.646 L893.838 979.958 L889.15 991.27 Z\" fill=\"#009af9\" fill-rule=\"evenodd\" fill-opacity=\"1\" stroke=\"#000000\" stroke-opacity=\"1\" stroke-width=\"3.2\"/>\n",
              "<path clip-path=\"url(#clip272)\" d=\"M898.917 1452.57 L887.605 1447.88 L882.917 1436.57 L887.605 1425.26 L898.917 1420.57 L910.229 1425.26 L914.917 1436.57 L910.229 1447.88 Z\" fill=\"#009af9\" fill-rule=\"evenodd\" fill-opacity=\"1\" stroke=\"#000000\" stroke-opacity=\"1\" stroke-width=\"3.2\"/>\n",
              "<path clip-path=\"url(#clip272)\" d=\"M919.997 1070.34 L908.685 1065.65 L903.997 1054.34 L908.685 1043.03 L919.997 1038.34 L931.309 1043.03 L935.997 1054.34 L931.309 1065.65 Z\" fill=\"#009af9\" fill-rule=\"evenodd\" fill-opacity=\"1\" stroke=\"#000000\" stroke-opacity=\"1\" stroke-width=\"3.2\"/>\n",
              "<path clip-path=\"url(#clip272)\" d=\"M941.076 1368.14 L929.764 1363.45 L925.076 1352.14 L929.764 1340.82 L941.076 1336.14 L952.388 1340.82 L957.076 1352.14 L952.388 1363.45 Z\" fill=\"#009af9\" fill-rule=\"evenodd\" fill-opacity=\"1\" stroke=\"#000000\" stroke-opacity=\"1\" stroke-width=\"3.2\"/>\n",
              "<path clip-path=\"url(#clip272)\" d=\"M962.155 1395.72 L950.843 1391.03 L946.155 1379.72 L950.843 1368.41 L962.155 1363.72 L973.467 1368.41 L978.155 1379.72 L973.467 1391.03 Z\" fill=\"#009af9\" fill-rule=\"evenodd\" fill-opacity=\"1\" stroke=\"#000000\" stroke-opacity=\"1\" stroke-width=\"3.2\"/>\n",
              "<path clip-path=\"url(#clip272)\" d=\"M983.235 1078.7 L971.923 1074.01 L967.235 1062.7 L971.923 1051.39 L983.235 1046.7 L994.547 1051.39 L999.235 1062.7 L994.547 1074.01 Z\" fill=\"#009af9\" fill-rule=\"evenodd\" fill-opacity=\"1\" stroke=\"#000000\" stroke-opacity=\"1\" stroke-width=\"3.2\"/>\n",
              "<path clip-path=\"url(#clip272)\" d=\"M1004.31 1039.67 L993.002 1034.98 L988.314 1023.67 L993.002 1012.36 L1004.31 1007.67 L1015.63 1012.36 L1020.31 1023.67 L1015.63 1034.98 Z\" fill=\"#009af9\" fill-rule=\"evenodd\" fill-opacity=\"1\" stroke=\"#000000\" stroke-opacity=\"1\" stroke-width=\"3.2\"/>\n",
              "<path clip-path=\"url(#clip272)\" d=\"M1025.39 1181.26 L1014.08 1176.57 L1009.39 1165.26 L1014.08 1153.95 L1025.39 1149.26 L1036.71 1153.95 L1041.39 1165.26 L1036.71 1176.57 Z\" fill=\"#009af9\" fill-rule=\"evenodd\" fill-opacity=\"1\" stroke=\"#000000\" stroke-opacity=\"1\" stroke-width=\"3.2\"/>\n",
              "<path clip-path=\"url(#clip272)\" d=\"M1046.47 1106.87 L1035.16 1102.19 L1030.47 1090.87 L1035.16 1079.56 L1046.47 1074.87 L1057.78 1079.56 L1062.47 1090.87 L1057.78 1102.19 Z\" fill=\"#009af9\" fill-rule=\"evenodd\" fill-opacity=\"1\" stroke=\"#000000\" stroke-opacity=\"1\" stroke-width=\"3.2\"/>\n",
              "<path clip-path=\"url(#clip272)\" d=\"M1067.55 1340.78 L1056.24 1336.09 L1051.55 1324.78 L1056.24 1313.47 L1067.55 1308.78 L1078.86 1313.47 L1083.55 1324.78 L1078.86 1336.09 Z\" fill=\"#009af9\" fill-rule=\"evenodd\" fill-opacity=\"1\" stroke=\"#000000\" stroke-opacity=\"1\" stroke-width=\"3.2\"/>\n",
              "<path clip-path=\"url(#clip272)\" d=\"M1088.63 1344.32 L1077.32 1339.63 L1072.63 1328.32 L1077.32 1317.01 L1088.63 1312.32 L1099.94 1317.01 L1104.63 1328.32 L1099.94 1339.63 Z\" fill=\"#009af9\" fill-rule=\"evenodd\" fill-opacity=\"1\" stroke=\"#000000\" stroke-opacity=\"1\" stroke-width=\"3.2\"/>\n",
              "<path clip-path=\"url(#clip272)\" d=\"M1109.71 961.856 L1098.4 957.168 L1093.71 945.856 L1098.4 934.544 L1109.71 929.856 L1121.02 934.544 L1125.71 945.856 L1121.02 957.168 Z\" fill=\"#009af9\" fill-rule=\"evenodd\" fill-opacity=\"1\" stroke=\"#000000\" stroke-opacity=\"1\" stroke-width=\"3.2\"/>\n",
              "<path clip-path=\"url(#clip272)\" d=\"M1130.79 983.087 L1119.48 978.399 L1114.79 967.087 L1119.48 955.775 L1130.79 951.087 L1142.1 955.775 L1146.79 967.087 L1142.1 978.399 Z\" fill=\"#009af9\" fill-rule=\"evenodd\" fill-opacity=\"1\" stroke=\"#000000\" stroke-opacity=\"1\" stroke-width=\"3.2\"/>\n",
              "<path clip-path=\"url(#clip272)\" d=\"M1151.87 1283.29 L1140.56 1278.6 L1135.87 1267.29 L1140.56 1255.98 L1151.87 1251.29 L1163.18 1255.98 L1167.87 1267.29 L1163.18 1278.6 Z\" fill=\"#009af9\" fill-rule=\"evenodd\" fill-opacity=\"1\" stroke=\"#000000\" stroke-opacity=\"1\" stroke-width=\"3.2\"/>\n",
              "<path clip-path=\"url(#clip272)\" d=\"M1172.95 1173.88 L1161.64 1169.19 L1156.95 1157.88 L1161.64 1146.57 L1172.95 1141.88 L1184.26 1146.57 L1188.95 1157.88 L1184.26 1169.19 Z\" fill=\"#009af9\" fill-rule=\"evenodd\" fill-opacity=\"1\" stroke=\"#000000\" stroke-opacity=\"1\" stroke-width=\"3.2\"/>\n",
              "<path clip-path=\"url(#clip272)\" d=\"M1194.03 1418.02 L1182.72 1413.33 L1178.03 1402.02 L1182.72 1390.71 L1194.03 1386.02 L1205.34 1390.71 L1210.03 1402.02 L1205.34 1413.33 Z\" fill=\"#009af9\" fill-rule=\"evenodd\" fill-opacity=\"1\" stroke=\"#000000\" stroke-opacity=\"1\" stroke-width=\"3.2\"/>\n",
              "<path clip-path=\"url(#clip272)\" d=\"M1215.11 1373.53 L1203.79 1368.84 L1199.11 1357.53 L1203.79 1346.21 L1215.11 1341.53 L1226.42 1346.21 L1231.11 1357.53 L1226.42 1368.84 Z\" fill=\"#009af9\" fill-rule=\"evenodd\" fill-opacity=\"1\" stroke=\"#000000\" stroke-opacity=\"1\" stroke-width=\"3.2\"/>\n",
              "<path clip-path=\"url(#clip272)\" d=\"M1236.19 1407.34 L1224.87 1402.65 L1220.19 1391.34 L1224.87 1380.03 L1236.19 1375.34 L1247.5 1380.03 L1252.19 1391.34 L1247.5 1402.65 Z\" fill=\"#009af9\" fill-rule=\"evenodd\" fill-opacity=\"1\" stroke=\"#000000\" stroke-opacity=\"1\" stroke-width=\"3.2\"/>\n",
              "<path clip-path=\"url(#clip272)\" d=\"M1257.27 1394.75 L1245.95 1390.06 L1241.27 1378.75 L1245.95 1367.44 L1257.27 1362.75 L1268.58 1367.44 L1273.27 1378.75 L1268.58 1390.06 Z\" fill=\"#009af9\" fill-rule=\"evenodd\" fill-opacity=\"1\" stroke=\"#000000\" stroke-opacity=\"1\" stroke-width=\"3.2\"/>\n",
              "<path clip-path=\"url(#clip272)\" d=\"M1278.34 1312.3 L1267.03 1307.61 L1262.34 1296.3 L1267.03 1284.99 L1278.34 1280.3 L1289.66 1284.99 L1294.34 1296.3 L1289.66 1307.61 Z\" fill=\"#009af9\" fill-rule=\"evenodd\" fill-opacity=\"1\" stroke=\"#000000\" stroke-opacity=\"1\" stroke-width=\"3.2\"/>\n",
              "<path clip-path=\"url(#clip272)\" d=\"M1299.42 1418.66 L1288.11 1413.97 L1283.42 1402.66 L1288.11 1391.35 L1299.42 1386.66 L1310.74 1391.35 L1315.42 1402.66 L1310.74 1413.97 Z\" fill=\"#009af9\" fill-rule=\"evenodd\" fill-opacity=\"1\" stroke=\"#000000\" stroke-opacity=\"1\" stroke-width=\"3.2\"/>\n",
              "<path clip-path=\"url(#clip272)\" d=\"M1320.5 1257.58 L1309.19 1252.89 L1304.5 1241.58 L1309.19 1230.26 L1320.5 1225.58 L1331.82 1230.26 L1336.5 1241.58 L1331.82 1252.89 Z\" fill=\"#009af9\" fill-rule=\"evenodd\" fill-opacity=\"1\" stroke=\"#000000\" stroke-opacity=\"1\" stroke-width=\"3.2\"/>\n",
              "<path clip-path=\"url(#clip272)\" d=\"M1341.58 1241.3 L1330.27 1236.62 L1325.58 1225.3 L1330.27 1213.99 L1341.58 1209.3 L1352.89 1213.99 L1357.58 1225.3 L1352.89 1236.62 Z\" fill=\"#009af9\" fill-rule=\"evenodd\" fill-opacity=\"1\" stroke=\"#000000\" stroke-opacity=\"1\" stroke-width=\"3.2\"/>\n",
              "<path clip-path=\"url(#clip272)\" d=\"M1362.66 1042.02 L1351.35 1037.33 L1346.66 1026.02 L1351.35 1014.71 L1362.66 1010.02 L1373.97 1014.71 L1378.66 1026.02 L1373.97 1037.33 Z\" fill=\"#009af9\" fill-rule=\"evenodd\" fill-opacity=\"1\" stroke=\"#000000\" stroke-opacity=\"1\" stroke-width=\"3.2\"/>\n",
              "<path clip-path=\"url(#clip272)\" d=\"M1383.74 685.1 L1372.43 680.412 L1367.74 669.1 L1372.43 657.788 L1383.74 653.1 L1395.05 657.788 L1399.74 669.1 L1395.05 680.412 Z\" fill=\"#009af9\" fill-rule=\"evenodd\" fill-opacity=\"1\" stroke=\"#000000\" stroke-opacity=\"1\" stroke-width=\"3.2\"/>\n",
              "<path clip-path=\"url(#clip272)\" d=\"M1404.82 1096.67 L1393.51 1091.99 L1388.82 1080.67 L1393.51 1069.36 L1404.82 1064.67 L1416.13 1069.36 L1420.82 1080.67 L1416.13 1091.99 Z\" fill=\"#009af9\" fill-rule=\"evenodd\" fill-opacity=\"1\" stroke=\"#000000\" stroke-opacity=\"1\" stroke-width=\"3.2\"/>\n",
              "<path clip-path=\"url(#clip272)\" d=\"M1425.9 571.275 L1414.59 566.587 L1409.9 555.275 L1414.59 543.963 L1425.9 539.275 L1437.21 543.963 L1441.9 555.275 L1437.21 566.587 Z\" fill=\"#009af9\" fill-rule=\"evenodd\" fill-opacity=\"1\" stroke=\"#000000\" stroke-opacity=\"1\" stroke-width=\"3.2\"/>\n",
              "<path clip-path=\"url(#clip272)\" d=\"M1446.98 1426.41 L1435.67 1421.72 L1430.98 1410.41 L1435.67 1399.09 L1446.98 1394.41 L1458.29 1399.09 L1462.98 1410.41 L1458.29 1421.72 Z\" fill=\"#009af9\" fill-rule=\"evenodd\" fill-opacity=\"1\" stroke=\"#000000\" stroke-opacity=\"1\" stroke-width=\"3.2\"/>\n",
              "<path clip-path=\"url(#clip272)\" d=\"M1468.06 230.885 L1456.75 226.197 L1452.06 214.885 L1456.75 203.573 L1468.06 198.885 L1479.37 203.573 L1484.06 214.885 L1479.37 226.197 Z\" fill=\"#009af9\" fill-rule=\"evenodd\" fill-opacity=\"1\" stroke=\"#000000\" stroke-opacity=\"1\" stroke-width=\"3.2\"/>\n",
              "<path clip-path=\"url(#clip272)\" d=\"M1489.14 662.09 L1477.83 657.402 L1473.14 646.09 L1477.83 634.778 L1489.14 630.09 L1500.45 634.778 L1505.14 646.09 L1500.45 657.402 Z\" fill=\"#009af9\" fill-rule=\"evenodd\" fill-opacity=\"1\" stroke=\"#000000\" stroke-opacity=\"1\" stroke-width=\"3.2\"/>\n",
              "<path clip-path=\"url(#clip272)\" d=\"M1510.22 1223.61 L1498.9 1218.92 L1494.22 1207.61 L1498.9 1196.3 L1510.22 1191.61 L1521.53 1196.3 L1526.22 1207.61 L1521.53 1218.92 Z\" fill=\"#009af9\" fill-rule=\"evenodd\" fill-opacity=\"1\" stroke=\"#000000\" stroke-opacity=\"1\" stroke-width=\"3.2\"/>\n",
              "<path clip-path=\"url(#clip272)\" d=\"M1531.3 995.232 L1519.98 990.544 L1515.3 979.232 L1519.98 967.92 L1531.3 963.232 L1542.61 967.92 L1547.3 979.232 L1542.61 990.544 Z\" fill=\"#009af9\" fill-rule=\"evenodd\" fill-opacity=\"1\" stroke=\"#000000\" stroke-opacity=\"1\" stroke-width=\"3.2\"/>\n",
              "<path clip-path=\"url(#clip272)\" d=\"M1552.38 1144.33 L1541.06 1139.64 L1536.38 1128.33 L1541.06 1117.01 L1552.38 1112.33 L1563.69 1117.01 L1568.38 1128.33 L1563.69 1139.64 Z\" fill=\"#009af9\" fill-rule=\"evenodd\" fill-opacity=\"1\" stroke=\"#000000\" stroke-opacity=\"1\" stroke-width=\"3.2\"/>\n",
              "<path clip-path=\"url(#clip272)\" d=\"M1573.45 404.317 L1562.14 399.629 L1557.45 388.317 L1562.14 377.005 L1573.45 372.317 L1584.77 377.005 L1589.45 388.317 L1584.77 399.629 Z\" fill=\"#009af9\" fill-rule=\"evenodd\" fill-opacity=\"1\" stroke=\"#000000\" stroke-opacity=\"1\" stroke-width=\"3.2\"/>\n",
              "<path clip-path=\"url(#clip272)\" d=\"M1594.53 1198.07 L1583.22 1193.38 L1578.53 1182.07 L1583.22 1170.76 L1594.53 1166.07 L1605.85 1170.76 L1610.53 1182.07 L1605.85 1193.38 Z\" fill=\"#009af9\" fill-rule=\"evenodd\" fill-opacity=\"1\" stroke=\"#000000\" stroke-opacity=\"1\" stroke-width=\"3.2\"/>\n",
              "<path clip-path=\"url(#clip272)\" d=\"M1615.61 1277.08 L1604.3 1272.39 L1599.61 1261.08 L1604.3 1249.77 L1615.61 1245.08 L1626.93 1249.77 L1631.61 1261.08 L1626.93 1272.39 Z\" fill=\"#009af9\" fill-rule=\"evenodd\" fill-opacity=\"1\" stroke=\"#000000\" stroke-opacity=\"1\" stroke-width=\"3.2\"/>\n",
              "<path clip-path=\"url(#clip272)\" d=\"M1636.69 919.92 L1625.38 915.232 L1620.69 903.92 L1625.38 892.608 L1636.69 887.92 L1648 892.608 L1652.69 903.92 L1648 915.232 Z\" fill=\"#009af9\" fill-rule=\"evenodd\" fill-opacity=\"1\" stroke=\"#000000\" stroke-opacity=\"1\" stroke-width=\"3.2\"/>\n",
              "<path clip-path=\"url(#clip272)\" d=\"M1657.77 563.435 L1646.46 558.747 L1641.77 547.435 L1646.46 536.123 L1657.77 531.435 L1669.08 536.123 L1673.77 547.435 L1669.08 558.747 Z\" fill=\"#009af9\" fill-rule=\"evenodd\" fill-opacity=\"1\" stroke=\"#000000\" stroke-opacity=\"1\" stroke-width=\"3.2\"/>\n",
              "<path clip-path=\"url(#clip272)\" d=\"M1678.85 1031.04 L1667.54 1026.35 L1662.85 1015.04 L1667.54 1003.73 L1678.85 999.041 L1690.16 1003.73 L1694.85 1015.04 L1690.16 1026.35 Z\" fill=\"#009af9\" fill-rule=\"evenodd\" fill-opacity=\"1\" stroke=\"#000000\" stroke-opacity=\"1\" stroke-width=\"3.2\"/>\n",
              "<path clip-path=\"url(#clip272)\" d=\"M1699.93 1243.11 L1688.62 1238.42 L1683.93 1227.11 L1688.62 1215.8 L1699.93 1211.11 L1711.24 1215.8 L1715.93 1227.11 L1711.24 1238.42 Z\" fill=\"#009af9\" fill-rule=\"evenodd\" fill-opacity=\"1\" stroke=\"#000000\" stroke-opacity=\"1\" stroke-width=\"3.2\"/>\n",
              "<path clip-path=\"url(#clip272)\" d=\"M1721.01 910.245 L1709.7 905.557 L1705.01 894.245 L1709.7 882.933 L1721.01 878.245 L1732.32 882.933 L1737.01 894.245 L1732.32 905.557 Z\" fill=\"#009af9\" fill-rule=\"evenodd\" fill-opacity=\"1\" stroke=\"#000000\" stroke-opacity=\"1\" stroke-width=\"3.2\"/>\n",
              "<path clip-path=\"url(#clip272)\" d=\"M1742.09 1073.18 L1730.78 1068.5 L1726.09 1057.18 L1730.78 1045.87 L1742.09 1041.18 L1753.4 1045.87 L1758.09 1057.18 L1753.4 1068.5 Z\" fill=\"#009af9\" fill-rule=\"evenodd\" fill-opacity=\"1\" stroke=\"#000000\" stroke-opacity=\"1\" stroke-width=\"3.2\"/>\n",
              "<path clip-path=\"url(#clip272)\" d=\"M1763.17 1088.14 L1751.86 1083.45 L1747.17 1072.14 L1751.86 1060.83 L1763.17 1056.14 L1774.48 1060.83 L1779.17 1072.14 L1774.48 1083.45 Z\" fill=\"#009af9\" fill-rule=\"evenodd\" fill-opacity=\"1\" stroke=\"#000000\" stroke-opacity=\"1\" stroke-width=\"3.2\"/>\n",
              "<path clip-path=\"url(#clip272)\" d=\"M1784.25 1438.35 L1772.94 1433.66 L1768.25 1422.35 L1772.94 1411.04 L1784.25 1406.35 L1795.56 1411.04 L1800.25 1422.35 L1795.56 1433.66 Z\" fill=\"#009af9\" fill-rule=\"evenodd\" fill-opacity=\"1\" stroke=\"#000000\" stroke-opacity=\"1\" stroke-width=\"3.2\"/>\n",
              "<path clip-path=\"url(#clip272)\" d=\"M1805.33 1065.15 L1794.01 1060.46 L1789.33 1049.15 L1794.01 1037.84 L1805.33 1033.15 L1816.64 1037.84 L1821.33 1049.15 L1816.64 1060.46 Z\" fill=\"#009af9\" fill-rule=\"evenodd\" fill-opacity=\"1\" stroke=\"#000000\" stroke-opacity=\"1\" stroke-width=\"3.2\"/>\n",
              "<path clip-path=\"url(#clip272)\" d=\"M1826.41 919.205 L1815.09 914.517 L1810.41 903.205 L1815.09 891.893 L1826.41 887.205 L1837.72 891.893 L1842.41 903.205 L1837.72 914.517 Z\" fill=\"#009af9\" fill-rule=\"evenodd\" fill-opacity=\"1\" stroke=\"#000000\" stroke-opacity=\"1\" stroke-width=\"3.2\"/>\n",
              "<path clip-path=\"url(#clip272)\" d=\"M1847.49 1194.59 L1836.17 1189.9 L1831.49 1178.59 L1836.17 1167.28 L1847.49 1162.59 L1858.8 1167.28 L1863.49 1178.59 L1858.8 1189.9 Z\" fill=\"#009af9\" fill-rule=\"evenodd\" fill-opacity=\"1\" stroke=\"#000000\" stroke-opacity=\"1\" stroke-width=\"3.2\"/>\n",
              "<path clip-path=\"url(#clip272)\" d=\"M1868.56 1248.11 L1857.25 1243.42 L1852.56 1232.11 L1857.25 1220.8 L1868.56 1216.11 L1879.88 1220.8 L1884.56 1232.11 L1879.88 1243.42 Z\" fill=\"#009af9\" fill-rule=\"evenodd\" fill-opacity=\"1\" stroke=\"#000000\" stroke-opacity=\"1\" stroke-width=\"3.2\"/>\n",
              "<path clip-path=\"url(#clip272)\" d=\"M1889.64 756.588 L1878.33 751.9 L1873.64 740.588 L1878.33 729.276 L1889.64 724.588 L1900.96 729.276 L1905.64 740.588 L1900.96 751.9 Z\" fill=\"#009af9\" fill-rule=\"evenodd\" fill-opacity=\"1\" stroke=\"#000000\" stroke-opacity=\"1\" stroke-width=\"3.2\"/>\n",
              "<path clip-path=\"url(#clip272)\" d=\"M1910.72 622.399 L1899.41 617.711 L1894.72 606.399 L1899.41 595.087 L1910.72 590.399 L1922.04 595.087 L1926.72 606.399 L1922.04 617.711 Z\" fill=\"#009af9\" fill-rule=\"evenodd\" fill-opacity=\"1\" stroke=\"#000000\" stroke-opacity=\"1\" stroke-width=\"3.2\"/>\n",
              "<path clip-path=\"url(#clip272)\" d=\"M1931.8 1287.84 L1920.49 1283.15 L1915.8 1271.84 L1920.49 1260.53 L1931.8 1255.84 L1943.11 1260.53 L1947.8 1271.84 L1943.11 1283.15 Z\" fill=\"#009af9\" fill-rule=\"evenodd\" fill-opacity=\"1\" stroke=\"#000000\" stroke-opacity=\"1\" stroke-width=\"3.2\"/>\n",
              "<path clip-path=\"url(#clip272)\" d=\"M1952.88 1136.43 L1941.57 1131.75 L1936.88 1120.43 L1941.57 1109.12 L1952.88 1104.43 L1964.19 1109.12 L1968.88 1120.43 L1964.19 1131.75 Z\" fill=\"#009af9\" fill-rule=\"evenodd\" fill-opacity=\"1\" stroke=\"#000000\" stroke-opacity=\"1\" stroke-width=\"3.2\"/>\n",
              "<path clip-path=\"url(#clip272)\" d=\"M1973.96 1165.02 L1962.65 1160.33 L1957.96 1149.02 L1962.65 1137.7 L1973.96 1133.02 L1985.27 1137.7 L1989.96 1149.02 L1985.27 1160.33 Z\" fill=\"#009af9\" fill-rule=\"evenodd\" fill-opacity=\"1\" stroke=\"#000000\" stroke-opacity=\"1\" stroke-width=\"3.2\"/>\n",
              "<path clip-path=\"url(#clip272)\" d=\"M1995.04 723.381 L1983.73 718.693 L1979.04 707.381 L1983.73 696.069 L1995.04 691.381 L2006.35 696.069 L2011.04 707.381 L2006.35 718.693 Z\" fill=\"#009af9\" fill-rule=\"evenodd\" fill-opacity=\"1\" stroke=\"#000000\" stroke-opacity=\"1\" stroke-width=\"3.2\"/>\n",
              "<path clip-path=\"url(#clip272)\" d=\"M2016.12 1240.69 L2004.81 1236.01 L2000.12 1224.69 L2004.81 1213.38 L2016.12 1208.69 L2027.43 1213.38 L2032.12 1224.69 L2027.43 1236.01 Z\" fill=\"#009af9\" fill-rule=\"evenodd\" fill-opacity=\"1\" stroke=\"#000000\" stroke-opacity=\"1\" stroke-width=\"3.2\"/>\n",
              "<path clip-path=\"url(#clip272)\" d=\"M2037.2 1107.38 L2025.89 1102.69 L2021.2 1091.38 L2025.89 1080.07 L2037.2 1075.38 L2048.51 1080.07 L2053.2 1091.38 L2048.51 1102.69 Z\" fill=\"#009af9\" fill-rule=\"evenodd\" fill-opacity=\"1\" stroke=\"#000000\" stroke-opacity=\"1\" stroke-width=\"3.2\"/>\n",
              "<path clip-path=\"url(#clip272)\" d=\"M2058.28 1198.57 L2046.97 1193.88 L2042.28 1182.57 L2046.97 1171.26 L2058.28 1166.57 L2069.59 1171.26 L2074.28 1182.57 L2069.59 1193.88 Z\" fill=\"#009af9\" fill-rule=\"evenodd\" fill-opacity=\"1\" stroke=\"#000000\" stroke-opacity=\"1\" stroke-width=\"3.2\"/>\n",
              "<path clip-path=\"url(#clip272)\" d=\"M2079.36 690.404 L2068.05 685.716 L2063.36 674.404 L2068.05 663.092 L2079.36 658.404 L2090.67 663.092 L2095.36 674.404 L2090.67 685.716 Z\" fill=\"#009af9\" fill-rule=\"evenodd\" fill-opacity=\"1\" stroke=\"#000000\" stroke-opacity=\"1\" stroke-width=\"3.2\"/>\n",
              "<path clip-path=\"url(#clip272)\" d=\"M2100.44 1142.66 L2089.12 1137.98 L2084.44 1126.66 L2089.12 1115.35 L2100.44 1110.66 L2111.75 1115.35 L2116.44 1126.66 L2111.75 1137.98 Z\" fill=\"#009af9\" fill-rule=\"evenodd\" fill-opacity=\"1\" stroke=\"#000000\" stroke-opacity=\"1\" stroke-width=\"3.2\"/>\n",
              "<path clip-path=\"url(#clip272)\" d=\"M2121.52 850.906 L2110.2 846.218 L2105.52 834.906 L2110.2 823.594 L2121.52 818.906 L2132.83 823.594 L2137.52 834.906 L2132.83 846.218 Z\" fill=\"#009af9\" fill-rule=\"evenodd\" fill-opacity=\"1\" stroke=\"#000000\" stroke-opacity=\"1\" stroke-width=\"3.2\"/>\n",
              "<path clip-path=\"url(#clip272)\" d=\"M2142.6 1428.31 L2131.28 1423.62 L2126.6 1412.31 L2131.28 1400.99 L2142.6 1396.31 L2153.91 1400.99 L2158.6 1412.31 L2153.91 1423.62 Z\" fill=\"#009af9\" fill-rule=\"evenodd\" fill-opacity=\"1\" stroke=\"#000000\" stroke-opacity=\"1\" stroke-width=\"3.2\"/>\n",
              "<path clip-path=\"url(#clip272)\" d=\"M2163.67 717.277 L2152.36 712.589 L2147.67 701.277 L2152.36 689.965 L2163.67 685.277 L2174.99 689.965 L2179.67 701.277 L2174.99 712.589 Z\" fill=\"#009af9\" fill-rule=\"evenodd\" fill-opacity=\"1\" stroke=\"#000000\" stroke-opacity=\"1\" stroke-width=\"3.2\"/>\n",
              "<path clip-path=\"url(#clip272)\" d=\"M2184.75 1012.64 L2173.44 1007.95 L2168.75 996.636 L2173.44 985.324 L2184.75 980.636 L2196.07 985.324 L2200.75 996.636 L2196.07 1007.95 Z\" fill=\"#009af9\" fill-rule=\"evenodd\" fill-opacity=\"1\" stroke=\"#000000\" stroke-opacity=\"1\" stroke-width=\"3.2\"/>\n",
              "<path clip-path=\"url(#clip272)\" d=\"M2205.83 1336.65 L2194.52 1331.96 L2189.83 1320.65 L2194.52 1309.33 L2205.83 1304.65 L2217.15 1309.33 L2221.83 1320.65 L2217.15 1331.96 Z\" fill=\"#009af9\" fill-rule=\"evenodd\" fill-opacity=\"1\" stroke=\"#000000\" stroke-opacity=\"1\" stroke-width=\"3.2\"/>\n",
              "<path clip-path=\"url(#clip272)\" d=\"M2226.91 1234.6 L2215.6 1229.91 L2210.91 1218.6 L2215.6 1207.29 L2226.91 1202.6 L2238.22 1207.29 L2242.91 1218.6 L2238.22 1229.91 Z\" fill=\"#009af9\" fill-rule=\"evenodd\" fill-opacity=\"1\" stroke=\"#000000\" stroke-opacity=\"1\" stroke-width=\"3.2\"/>\n",
              "<path clip-path=\"url(#clip272)\" d=\"M2247.99 798.448 L2236.68 793.76 L2231.99 782.448 L2236.68 771.136 L2247.99 766.448 L2259.3 771.136 L2263.99 782.448 L2259.3 793.76 Z\" fill=\"#009af9\" fill-rule=\"evenodd\" fill-opacity=\"1\" stroke=\"#000000\" stroke-opacity=\"1\" stroke-width=\"3.2\"/>\n",
              "<path clip-path=\"url(#clip272)\" d=\"M2269.07 510.166 L2257.76 505.478 L2253.07 494.166 L2257.76 482.854 L2269.07 478.166 L2280.38 482.854 L2285.07 494.166 L2280.38 505.478 Z\" fill=\"#009af9\" fill-rule=\"evenodd\" fill-opacity=\"1\" stroke=\"#000000\" stroke-opacity=\"1\" stroke-width=\"3.2\"/>\n",
              "<path clip-path=\"url(#clip272)\" d=\"M2290.15 1420.36 L2278.84 1415.67 L2274.15 1404.36 L2278.84 1393.04 L2290.15 1388.36 L2301.46 1393.04 L2306.15 1404.36 L2301.46 1415.67 Z\" fill=\"#009af9\" fill-rule=\"evenodd\" fill-opacity=\"1\" stroke=\"#000000\" stroke-opacity=\"1\" stroke-width=\"3.2\"/>\n",
              "<polyline clip-path=\"url(#clip272)\" style=\"stroke:#ff0000; stroke-linecap:round; stroke-linejoin:round; stroke-width:4; stroke-opacity:1; fill:none\" stroke-dasharray=\"16, 10\" points=\"-2071.36,1445.72 4564.82,1445.72 \"/>\n",
              "<path clip-path=\"url(#clip270)\" d=\"M1753.51 250.738 L2279.02 250.738 L2279.02 95.2176 L1753.51 95.2176  Z\" fill=\"#ffffff\" fill-rule=\"evenodd\" fill-opacity=\"1\"/>\n",
              "<polyline clip-path=\"url(#clip270)\" style=\"stroke:#000000; stroke-linecap:round; stroke-linejoin:round; stroke-width:4; stroke-opacity:1; fill:none\" points=\"1753.51,250.738 2279.02,250.738 2279.02,95.2176 1753.51,95.2176 1753.51,250.738 \"/>\n",
              "<polyline clip-path=\"url(#clip270)\" style=\"stroke:#009af9; stroke-linecap:round; stroke-linejoin:round; stroke-width:4; stroke-opacity:1; fill:none\" points=\"1778.09,147.058 1925.56,147.058 \"/>\n",
              "<path clip-path=\"url(#clip270)\" d=\"M1851.82 169.813 L1835.74 163.146 L1829.07 147.058 L1835.74 130.969 L1851.82 124.302 L1867.91 130.969 L1874.58 147.058 L1867.91 163.146 Z\" fill=\"#009af9\" fill-rule=\"evenodd\" fill-opacity=\"1\" stroke=\"#000000\" stroke-opacity=\"1\" stroke-width=\"4.55111\"/>\n",
              "<path clip-path=\"url(#clip270)\" d=\"M1971.85 148.689 L1971.85 164.338 L1967.59 164.338 L1967.59 148.828 Q1967.59 145.148 1966.16 143.319 Q1964.72 141.49 1961.85 141.49 Q1958.4 141.49 1956.41 143.69 Q1954.42 145.889 1954.42 149.685 L1954.42 164.338 L1950.14 164.338 L1950.14 138.412 L1954.42 138.412 L1954.42 142.44 Q1955.95 140.102 1958.01 138.944 Q1960.09 137.787 1962.8 137.787 Q1967.27 137.787 1969.56 140.565 Q1971.85 143.319 1971.85 148.689 Z\" fill=\"#000000\" fill-rule=\"nonzero\" fill-opacity=\"1\" /><path clip-path=\"url(#clip270)\" d=\"M1990.39 141.398 Q1986.97 141.398 1984.98 144.083 Q1982.99 146.745 1982.99 151.398 Q1982.99 156.051 1984.95 158.736 Q1986.94 161.398 1990.39 161.398 Q1993.8 161.398 1995.79 158.713 Q1997.78 156.027 1997.78 151.398 Q1997.78 146.791 1995.79 144.106 Q1993.8 141.398 1990.39 141.398 M1990.39 137.787 Q1995.95 137.787 1999.12 141.398 Q2002.29 145.009 2002.29 151.398 Q2002.29 157.764 1999.12 161.398 Q1995.95 165.009 1990.39 165.009 Q1984.81 165.009 1981.64 161.398 Q1978.49 157.764 1978.49 151.398 Q1978.49 145.009 1981.64 141.398 Q1984.81 137.787 1990.39 137.787 Z\" fill=\"#000000\" fill-rule=\"nonzero\" fill-opacity=\"1\" /><path clip-path=\"url(#clip270)\" d=\"M2024.37 142.393 Q2023.66 141.977 2022.8 141.791 Q2021.97 141.583 2020.95 141.583 Q2017.34 141.583 2015.39 143.944 Q2013.47 146.282 2013.47 150.68 L2013.47 164.338 L2009.19 164.338 L2009.19 138.412 L2013.47 138.412 L2013.47 142.44 Q2014.81 140.078 2016.97 138.944 Q2019.12 137.787 2022.2 137.787 Q2022.64 137.787 2023.17 137.856 Q2023.7 137.903 2024.35 138.018 L2024.37 142.393 Z\" fill=\"#000000\" fill-rule=\"nonzero\" fill-opacity=\"1\" /><path clip-path=\"url(#clip270)\" d=\"M2048.19 143.389 Q2049.79 140.518 2052.01 139.153 Q2054.23 137.787 2057.24 137.787 Q2061.29 137.787 2063.49 140.634 Q2065.69 143.458 2065.69 148.689 L2065.69 164.338 L2061.41 164.338 L2061.41 148.828 Q2061.41 145.102 2060.09 143.296 Q2058.77 141.49 2056.06 141.49 Q2052.75 141.49 2050.83 143.69 Q2048.91 145.889 2048.91 149.685 L2048.91 164.338 L2044.63 164.338 L2044.63 148.828 Q2044.63 145.078 2043.31 143.296 Q2041.99 141.49 2039.23 141.49 Q2035.97 141.49 2034.05 143.713 Q2032.13 145.912 2032.13 149.685 L2032.13 164.338 L2027.85 164.338 L2027.85 138.412 L2032.13 138.412 L2032.13 142.44 Q2033.59 140.055 2035.62 138.921 Q2037.66 137.787 2040.46 137.787 Q2043.29 137.787 2045.25 139.222 Q2047.24 140.657 2048.19 143.389 Z\" fill=\"#000000\" fill-rule=\"nonzero\" fill-opacity=\"1\" /><path clip-path=\"url(#clip270)\" d=\"M2085.97 151.305 Q2080.81 151.305 2078.82 152.486 Q2076.83 153.666 2076.83 156.514 Q2076.83 158.782 2078.31 160.125 Q2079.81 161.444 2082.38 161.444 Q2085.92 161.444 2088.05 158.944 Q2090.21 156.421 2090.21 152.254 L2090.21 151.305 L2085.97 151.305 M2094.47 149.546 L2094.47 164.338 L2090.21 164.338 L2090.21 160.402 Q2088.75 162.763 2086.57 163.898 Q2084.4 165.009 2081.25 165.009 Q2077.27 165.009 2074.91 162.787 Q2072.57 160.541 2072.57 156.791 Q2072.57 152.416 2075.48 150.194 Q2078.42 147.972 2084.23 147.972 L2090.21 147.972 L2090.21 147.555 Q2090.21 144.615 2088.26 143.018 Q2086.34 141.398 2082.85 141.398 Q2080.62 141.398 2078.52 141.93 Q2076.41 142.463 2074.47 143.527 L2074.47 139.592 Q2076.8 138.69 2079 138.25 Q2081.2 137.787 2083.29 137.787 Q2088.91 137.787 2091.69 140.703 Q2094.47 143.62 2094.47 149.546 Z\" fill=\"#000000\" fill-rule=\"nonzero\" fill-opacity=\"1\" /><path clip-path=\"url(#clip270)\" d=\"M2128.54 128.366 Q2125.44 133.69 2123.93 138.898 Q2122.43 144.106 2122.43 149.453 Q2122.43 154.801 2123.93 160.055 Q2125.46 165.287 2128.54 170.588 L2124.84 170.588 Q2121.36 165.148 2119.63 159.893 Q2117.92 154.639 2117.92 149.453 Q2117.92 144.291 2119.63 139.06 Q2121.34 133.828 2124.84 128.366 L2128.54 128.366 Z\" fill=\"#000000\" fill-rule=\"nonzero\" fill-opacity=\"1\" /><path clip-path=\"url(#clip270)\" d=\"M2148.54 134.384 L2142.2 151.583 L2154.91 151.583 L2148.54 134.384 M2145.9 129.778 L2151.2 129.778 L2164.37 164.338 L2159.51 164.338 L2156.36 155.472 L2140.79 155.472 L2137.64 164.338 L2132.71 164.338 L2145.9 129.778 Z\" fill=\"#000000\" fill-rule=\"nonzero\" fill-opacity=\"1\" /><path clip-path=\"url(#clip270)\" d=\"M2190.79 138.412 L2181.41 151.027 L2191.27 164.338 L2186.25 164.338 L2178.7 154.152 L2171.16 164.338 L2166.13 164.338 L2176.2 150.773 L2166.99 138.412 L2172.01 138.412 L2178.89 147.648 L2185.76 138.412 L2190.79 138.412 Z\" fill=\"#000000\" fill-rule=\"nonzero\" fill-opacity=\"1\" /><path clip-path=\"url(#clip270)\" d=\"M2195.14 149.453 L2207.61 149.453 L2207.61 153.25 L2195.14 153.25 L2195.14 149.453 Z\" fill=\"#000000\" fill-rule=\"nonzero\" fill-opacity=\"1\" /><path clip-path=\"url(#clip270)\" d=\"M2233.01 151.398 Q2233.01 146.699 2231.06 144.037 Q2229.14 141.352 2225.76 141.352 Q2222.38 141.352 2220.44 144.037 Q2218.52 146.699 2218.52 151.398 Q2218.52 156.097 2220.44 158.782 Q2222.38 161.444 2225.76 161.444 Q2229.14 161.444 2231.06 158.782 Q2233.01 156.097 2233.01 151.398 M2218.52 142.347 Q2219.86 140.032 2221.9 138.921 Q2223.96 137.787 2226.8 137.787 Q2231.53 137.787 2234.47 141.537 Q2237.43 145.287 2237.43 151.398 Q2237.43 157.509 2234.47 161.259 Q2231.53 165.009 2226.8 165.009 Q2223.96 165.009 2221.9 163.898 Q2219.86 162.763 2218.52 160.449 L2218.52 164.338 L2214.23 164.338 L2214.23 128.319 L2218.52 128.319 L2218.52 142.347 Z\" fill=\"#000000\" fill-rule=\"nonzero\" fill-opacity=\"1\" /><path clip-path=\"url(#clip270)\" d=\"M2243.82 128.366 L2247.52 128.366 Q2250.99 133.828 2252.71 139.06 Q2254.44 144.291 2254.44 149.453 Q2254.44 154.639 2252.71 159.893 Q2250.99 165.148 2247.52 170.588 L2243.82 170.588 Q2246.9 165.287 2248.4 160.055 Q2249.93 154.801 2249.93 149.453 Q2249.93 144.106 2248.4 138.898 Q2246.9 133.69 2243.82 128.366 Z\" fill=\"#000000\" fill-rule=\"nonzero\" fill-opacity=\"1\" /><polyline clip-path=\"url(#clip270)\" style=\"stroke:#ff0000; stroke-linecap:round; stroke-linejoin:round; stroke-width:4; stroke-opacity:1; fill:none\" stroke-dasharray=\"16, 10\" points=\"1778.09,198.898 1925.56,198.898 \"/>\n",
              "<path clip-path=\"url(#clip270)\" d=\"M1971.85 200.529 L1971.85 216.178 L1967.59 216.178 L1967.59 200.668 Q1967.59 196.988 1966.16 195.159 Q1964.72 193.33 1961.85 193.33 Q1958.4 193.33 1956.41 195.53 Q1954.42 197.729 1954.42 201.525 L1954.42 216.178 L1950.14 216.178 L1950.14 190.252 L1954.42 190.252 L1954.42 194.28 Q1955.95 191.942 1958.01 190.784 Q1960.09 189.627 1962.8 189.627 Q1967.27 189.627 1969.56 192.405 Q1971.85 195.159 1971.85 200.529 Z\" fill=\"#000000\" fill-rule=\"nonzero\" fill-opacity=\"1\" /><path clip-path=\"url(#clip270)\" d=\"M1990.39 193.238 Q1986.97 193.238 1984.98 195.923 Q1982.99 198.585 1982.99 203.238 Q1982.99 207.891 1984.95 210.576 Q1986.94 213.238 1990.39 213.238 Q1993.8 213.238 1995.79 210.553 Q1997.78 207.867 1997.78 203.238 Q1997.78 198.631 1995.79 195.946 Q1993.8 193.238 1990.39 193.238 M1990.39 189.627 Q1995.95 189.627 1999.12 193.238 Q2002.29 196.849 2002.29 203.238 Q2002.29 209.604 1999.12 213.238 Q1995.95 216.849 1990.39 216.849 Q1984.81 216.849 1981.64 213.238 Q1978.49 209.604 1978.49 203.238 Q1978.49 196.849 1981.64 193.238 Q1984.81 189.627 1990.39 189.627 Z\" fill=\"#000000\" fill-rule=\"nonzero\" fill-opacity=\"1\" /><path clip-path=\"url(#clip270)\" d=\"M2024.37 194.233 Q2023.66 193.817 2022.8 193.631 Q2021.97 193.423 2020.95 193.423 Q2017.34 193.423 2015.39 195.784 Q2013.47 198.122 2013.47 202.52 L2013.47 216.178 L2009.19 216.178 L2009.19 190.252 L2013.47 190.252 L2013.47 194.28 Q2014.81 191.918 2016.97 190.784 Q2019.12 189.627 2022.2 189.627 Q2022.64 189.627 2023.17 189.696 Q2023.7 189.743 2024.35 189.858 L2024.37 194.233 Z\" fill=\"#000000\" fill-rule=\"nonzero\" fill-opacity=\"1\" /><path clip-path=\"url(#clip270)\" d=\"M2048.19 195.229 Q2049.79 192.358 2052.01 190.993 Q2054.23 189.627 2057.24 189.627 Q2061.29 189.627 2063.49 192.474 Q2065.69 195.298 2065.69 200.529 L2065.69 216.178 L2061.41 216.178 L2061.41 200.668 Q2061.41 196.942 2060.09 195.136 Q2058.77 193.33 2056.06 193.33 Q2052.75 193.33 2050.83 195.53 Q2048.91 197.729 2048.91 201.525 L2048.91 216.178 L2044.63 216.178 L2044.63 200.668 Q2044.63 196.918 2043.31 195.136 Q2041.99 193.33 2039.23 193.33 Q2035.97 193.33 2034.05 195.553 Q2032.13 197.752 2032.13 201.525 L2032.13 216.178 L2027.85 216.178 L2027.85 190.252 L2032.13 190.252 L2032.13 194.28 Q2033.59 191.895 2035.62 190.761 Q2037.66 189.627 2040.46 189.627 Q2043.29 189.627 2045.25 191.062 Q2047.24 192.497 2048.19 195.229 Z\" fill=\"#000000\" fill-rule=\"nonzero\" fill-opacity=\"1\" /><path clip-path=\"url(#clip270)\" d=\"M2085.97 203.145 Q2080.81 203.145 2078.82 204.326 Q2076.83 205.506 2076.83 208.354 Q2076.83 210.622 2078.31 211.965 Q2079.81 213.284 2082.38 213.284 Q2085.92 213.284 2088.05 210.784 Q2090.21 208.261 2090.21 204.094 L2090.21 203.145 L2085.97 203.145 M2094.47 201.386 L2094.47 216.178 L2090.21 216.178 L2090.21 212.242 Q2088.75 214.603 2086.57 215.738 Q2084.4 216.849 2081.25 216.849 Q2077.27 216.849 2074.91 214.627 Q2072.57 212.381 2072.57 208.631 Q2072.57 204.256 2075.48 202.034 Q2078.42 199.812 2084.23 199.812 L2090.21 199.812 L2090.21 199.395 Q2090.21 196.455 2088.26 194.858 Q2086.34 193.238 2082.85 193.238 Q2080.62 193.238 2078.52 193.77 Q2076.41 194.303 2074.47 195.367 L2074.47 191.432 Q2076.8 190.53 2079 190.09 Q2081.2 189.627 2083.29 189.627 Q2088.91 189.627 2091.69 192.543 Q2094.47 195.46 2094.47 201.386 Z\" fill=\"#000000\" fill-rule=\"nonzero\" fill-opacity=\"1\" /><path clip-path=\"url(#clip270)\" d=\"M2113.47 180.206 Q2110.37 185.53 2108.86 190.738 Q2107.36 195.946 2107.36 201.293 Q2107.36 206.641 2108.86 211.895 Q2110.39 217.127 2113.47 222.428 L2109.77 222.428 Q2106.29 216.988 2104.56 211.733 Q2102.85 206.479 2102.85 201.293 Q2102.85 196.131 2104.56 190.9 Q2106.27 185.668 2109.77 180.206 L2113.47 180.206 Z\" fill=\"#000000\" fill-rule=\"nonzero\" fill-opacity=\"1\" /><path clip-path=\"url(#clip270)\" d=\"M2133.47 186.224 L2127.13 203.423 L2139.84 203.423 L2133.47 186.224 M2130.83 181.618 L2136.13 181.618 L2149.3 216.178 L2144.44 216.178 L2141.29 207.312 L2125.72 207.312 L2122.57 216.178 L2117.64 216.178 L2130.83 181.618 Z\" fill=\"#000000\" fill-rule=\"nonzero\" fill-opacity=\"1\" /><path clip-path=\"url(#clip270)\" d=\"M2161.73 218.585 Q2159.93 223.215 2158.22 224.627 Q2156.5 226.039 2153.63 226.039 L2150.23 226.039 L2150.23 222.474 L2152.73 222.474 Q2154.49 222.474 2155.46 221.64 Q2156.43 220.807 2157.61 217.705 L2158.38 215.761 L2147.89 190.252 L2152.41 190.252 L2160.51 210.529 L2168.61 190.252 L2173.12 190.252 L2161.73 218.585 Z\" fill=\"#000000\" fill-rule=\"nonzero\" fill-opacity=\"1\" /><path clip-path=\"url(#clip270)\" d=\"M2176.02 201.293 L2188.49 201.293 L2188.49 205.09 L2176.02 205.09 L2176.02 201.293 Z\" fill=\"#000000\" fill-rule=\"nonzero\" fill-opacity=\"1\" /><path clip-path=\"url(#clip270)\" d=\"M2213.89 203.238 Q2213.89 198.539 2211.94 195.877 Q2210.02 193.192 2206.64 193.192 Q2203.26 193.192 2201.32 195.877 Q2199.4 198.539 2199.4 203.238 Q2199.4 207.937 2201.32 210.622 Q2203.26 213.284 2206.64 213.284 Q2210.02 213.284 2211.94 210.622 Q2213.89 207.937 2213.89 203.238 M2199.4 194.187 Q2200.74 191.872 2202.78 190.761 Q2204.84 189.627 2207.68 189.627 Q2212.41 189.627 2215.35 193.377 Q2218.31 197.127 2218.31 203.238 Q2218.31 209.349 2215.35 213.099 Q2212.41 216.849 2207.68 216.849 Q2204.84 216.849 2202.78 215.738 Q2200.74 214.603 2199.4 212.289 L2199.4 216.178 L2195.11 216.178 L2195.11 180.159 L2199.4 180.159 L2199.4 194.187 Z\" fill=\"#000000\" fill-rule=\"nonzero\" fill-opacity=\"1\" /><path clip-path=\"url(#clip270)\" d=\"M2224.7 180.206 L2228.4 180.206 Q2231.87 185.668 2233.59 190.9 Q2235.32 196.131 2235.32 201.293 Q2235.32 206.479 2233.59 211.733 Q2231.87 216.988 2228.4 222.428 L2224.7 222.428 Q2227.78 217.127 2229.28 211.895 Q2230.81 206.641 2230.81 201.293 Q2230.81 195.946 2229.28 190.738 Q2227.78 185.53 2224.7 180.206 Z\" fill=\"#000000\" fill-rule=\"nonzero\" fill-opacity=\"1\" /></svg>\n"
            ]
          },
          "execution_count": 32,
          "metadata": {},
          "output_type": "execute_result"
        }
      ],
      "source": [
        "using Random, Plots\n",
        "\n",
        "# Parámetros\n",
        "num_samples = 100  # Número de muestras aleatorias\n",
        "\n",
        "\n",
        "# Cálculo del error para muchas x aleatorias\n",
        "errores = Float64[]\n",
        "for _ in 1:num_samples\n",
        "    x = randn(2)  # x aleatorio en R^n\n",
        "    push!(errores, norm(A * x - b))  # Error de la norma\n",
        "end\n",
        "#plot(errores)\n",
        "p=plot(errores, marker=:o, label=\"norma (Ax-b)\")#, linewidth=2)\n",
        "# Comparar con la norma de la proyección de b\n",
        "#error_proyeccion = norm(b - b_proj)\n",
        "y=A\\b #solución por mínimos\n",
        "min=norm(A*y-b)\n",
        "# Graficar los resultados\n",
        "\n",
        "#title!(\"Comparación del error ||Ax - b|| con proyección\")\n",
        "#xlabel!(\"Norma del error\")\n",
        "#ylabel!(\"Frecuencia\")\n",
        "hline!([min], linewidth=1, linestyle=:dash, color=:red, label=\"norma(Ay-b)\")"
      ]
    },
    {
      "cell_type": "code",
      "execution_count": null,
      "id": "ufITH_FEvNRL",
      "metadata": {
        "colab": {
          "base_uri": "https://localhost:8080/"
        },
        "id": "ufITH_FEvNRL",
        "outputId": "8c096148-3ca9-4696-c426-75c94531ab1d"
      },
      "outputs": [
        {
          "data": {
            "text/plain": [
              "0.6328386722219786"
            ]
          },
          "execution_count": 35,
          "metadata": {},
          "output_type": "execute_result"
        }
      ],
      "source": [
        "#Comparemos errores\n",
        "minimum(errores)"
      ]
    },
    {
      "cell_type": "code",
      "execution_count": null,
      "id": "QUHtFe5vw0Sa",
      "metadata": {
        "colab": {
          "base_uri": "https://localhost:8080/"
        },
        "id": "QUHtFe5vw0Sa",
        "outputId": "fa0caba1-49b5-4ce0-bd48-f6a870f2e57f"
      },
      "outputs": [
        {
          "data": {
            "text/plain": [
              "0.4796437805095313"
            ]
          },
          "execution_count": 37,
          "metadata": {},
          "output_type": "execute_result"
        }
      ],
      "source": [
        "norm(A*y-b)"
      ]
    },
    {
      "cell_type": "markdown",
      "id": "9526735a",
      "metadata": {
        "id": "9526735a"
      },
      "source": [
        "## Dependencia Lineal y Rango de una Matriz\n",
        "El rango de una matriz es el número de columnas independientes. Si una columna es combinación lineal de otras, no contribuye a la dimensión del espacio.\n",
        "Consideremos por ejemplo:\n",
        "$$\\mathbf{A} = \\begin{bmatrix} 1 & 4 & 5 \\\\ 2 & 5 & 7 \\\\ 3 & 6 & 9 \\end{bmatrix}$$\n",
        "\n"
      ]
    },
    {
      "cell_type": "markdown",
      "id": "gzwnaTD6yIvR",
      "metadata": {
        "id": "gzwnaTD6yIvR"
      },
      "source": [
        "Observar que la última columna de $A_2$ es la suma de las primeras dos."
      ]
    },
    {
      "cell_type": "code",
      "execution_count": null,
      "id": "bc2c2ff8",
      "metadata": {
        "colab": {
          "base_uri": "https://localhost:8080/",
          "height": 86
        },
        "id": "bc2c2ff8",
        "outputId": "4513921c-96ac-406f-8228-4e780b55a38d"
      },
      "outputs": [
        {
          "data": {
            "text/plain": [
              "3×3 Matrix{Int64}:\n",
              " 1  4  5\n",
              " 2  5  7\n",
              " 3  6  9"
            ]
          },
          "metadata": {},
          "output_type": "display_data"
        }
      ],
      "source": [
        "A = reshape([1,2,3,4,5,6,5,7,9],3,3)\n",
        "display(A)"
      ]
    },
    {
      "cell_type": "code",
      "execution_count": null,
      "id": "HFIAxX_MyVEf",
      "metadata": {
        "colab": {
          "base_uri": "https://localhost:8080/"
        },
        "id": "HFIAxX_MyVEf",
        "outputId": "457f33c7-c1d3-42c3-f9be-b9e961efd11c"
      },
      "outputs": [
        {
          "data": {
            "text/plain": [
              "3-element Vector{Int64}:\n",
              " 0\n",
              " 0\n",
              " 0"
            ]
          },
          "execution_count": 63,
          "metadata": {},
          "output_type": "execute_result"
        }
      ],
      "source": [
        "A*[1,1,-1]"
      ]
    },
    {
      "cell_type": "code",
      "execution_count": null,
      "id": "71c3PN9kxdCH",
      "metadata": {
        "colab": {
          "base_uri": "https://localhost:8080/"
        },
        "id": "71c3PN9kxdCH",
        "outputId": "4e6a3e56-fc75-4898-b133-2b4b1ea13bca"
      },
      "outputs": [
        {
          "name": "stdout",
          "output_type": "stream",
          "text": [
            "Rango de A:2\n"
          ]
        }
      ],
      "source": [
        "rank_A = rank(A)\n",
        "println(\"Rango de A:\", rank_A)"
      ]
    },
    {
      "cell_type": "markdown",
      "id": "a17a86fd",
      "metadata": {
        "id": "a17a86fd"
      },
      "source": [
        "## Descomposición en Matrices $C$ y $R$ (columnas y filas)\n",
        "\n",
        "Descomponemos la matriz $A$ como producto de una matriz $C$ que contiene las columnas linealmente independientes, y una matriz de  $R$, de modo que:\n",
        "$$\\mathbf{A} = \\mathbf{C} \\mathbf{R}$$\n"
      ]
    },
    {
      "cell_type": "markdown",
      "id": "9-stznql1ghS",
      "metadata": {
        "id": "9-stznql1ghS"
      },
      "source": [
        "En nuestro caso podemos consdierar la matriz C como las dos primeras columnas:\n",
        "$$\n",
        "(*)\\quad\\underbrace{\\begin{pmatrix} 1 & 4 & 5 \\\\ 2 & 5 & 7 \\\\ 3 & 6 & 9 \\end{pmatrix}}_{A}\n",
        "=\n",
        "\\underbrace{\\begin{pmatrix}\n",
        "1&4\\\\2&5\\\\3&6\n",
        "\\end{pmatrix}}_{C}⋅\n",
        "\\underbrace{\\begin{pmatrix}\n",
        "1&0&1\\\\0&1&1\n",
        "\\end{pmatrix}}_R\n",
        "$$\n",
        "Observar que si la matriz $A$ es $n\\times n$, y de rango $r$ entonces en esta descomposición $C$ es de tamaño $n\\times r$ y $R$ de tamaño $r\\times n$:\n",
        "$$\n",
        "\\underbrace{A}_{n\\times n}=\\underbrace{C}_{n\\times r}\\cdot \\underbrace{R}_{r\\times n}\n",
        "$$\n",
        "\n",
        "También es importante notar que la descomposición no es única, dado que podemos elegir de formas distintas las columnas que forman una base del espacio columnas."
      ]
    },
    {
      "cell_type": "code",
      "execution_count": null,
      "id": "gDDD3XYQ2L0w",
      "metadata": {
        "colab": {
          "base_uri": "https://localhost:8080/"
        },
        "id": "gDDD3XYQ2L0w",
        "outputId": "613be2b0-862d-4b5a-c7a4-d78a1f65792b"
      },
      "outputs": [
        {
          "data": {
            "text/plain": [
              "3×2 Matrix{Int64}:\n",
              " 1  4\n",
              " 2  5\n",
              " 3  6"
            ]
          },
          "execution_count": 69,
          "metadata": {},
          "output_type": "execute_result"
        }
      ],
      "source": [
        "C=reshape([1,2,3,4,5,6],3,2)"
      ]
    },
    {
      "cell_type": "code",
      "execution_count": null,
      "id": "zGbHMv-X2SI1",
      "metadata": {
        "colab": {
          "base_uri": "https://localhost:8080/"
        },
        "id": "zGbHMv-X2SI1",
        "outputId": "f2636c2b-47da-4af1-c42b-bcca860b06c7"
      },
      "outputs": [
        {
          "data": {
            "text/plain": [
              "2×3 Matrix{Int64}:\n",
              " 1  0  1\n",
              " 0  1  1"
            ]
          },
          "execution_count": 70,
          "metadata": {},
          "output_type": "execute_result"
        }
      ],
      "source": [
        "R=[1 0 1;0 1 1]"
      ]
    },
    {
      "cell_type": "code",
      "execution_count": null,
      "id": "0Huhfv-T6ovK",
      "metadata": {
        "colab": {
          "base_uri": "https://localhost:8080/"
        },
        "id": "0Huhfv-T6ovK",
        "outputId": "a980e09e-7e6c-4316-bef0-afc9d50a603d"
      },
      "outputs": [
        {
          "data": {
            "text/plain": [
              "true"
            ]
          },
          "execution_count": 75,
          "metadata": {},
          "output_type": "execute_result"
        }
      ],
      "source": [
        "A==C*R"
      ]
    },
    {
      "cell_type": "markdown",
      "id": "BbBoNZ5h6q9s",
      "metadata": {
        "id": "BbBoNZ5h6q9s"
      },
      "source": [
        "Otro ejemplo sencillo es:\n",
        "$$\n",
        "\\begin{pmatrix}\n",
        "1&2&3&4\\\\\n",
        "1&2&3&4\\\\\n",
        "1&2&3&4\\\\\n",
        "1&2&3&4\n",
        "\\end{pmatrix}=\n",
        "\\begin{pmatrix}1\\\\1\\\\1\\\\1\\end{pmatrix}\\cdot\n",
        "\\begin{pmatrix}1&2&3&4\\end{pmatrix}\n",
        "$$\n",
        "Observar que si conocemos que nuestra matriz tiene rango bajo $r\\ll n$, entonces en vez de tener $n^2$ coeficientes, nuestra matriz puede ser codificada en $2n\\cdot r$ coeficientes que es mucho más chico que $n^2$."
      ]
    },
    {
      "cell_type": "markdown",
      "id": "sE2gk82U-fBU",
      "metadata": {
        "id": "sE2gk82U-fBU"
      },
      "source": [
        "Realicemos algunas consideraciones.\n",
        "- La matriz $C$ tiene forman una base del espacio columnas de $A$\n",
        "- Un hecho muy interesante es que la matriz $R$ resulta ser una base del espacio de filas de $A$. Este hecho es un resultado importante: \\\\\n",
        " **``la dimensión del espacio columna coincide con la dimensión del espacio fila''**\n",
        "\n",
        " Veamos esto para el caso de nuestra matriz $A$. La prueba se extiende fácilmente para el caso general.\n",
        "\n",
        " Observar que las filas de $R$ son independientes, dado que el primer bloque es la identidad, i.e., $R$ en nuestro caso es de la forma\n",
        " $$\n",
        "R=\\begin{pmatrix}\n",
        "Id_2 & v\n",
        "\\end{pmatrix}\n",
        " $$\n",
        " con $v=\\binom11$. Lo que faltaría ver que son una base del espacio filas de $A$.\n",
        "\n",
        " Veamos que las filas de $A$ se pueden escribir como combinación lineal de las filas de $R$.\n",
        "\n",
        "De $(*)$ tenemos que las filas de $A$ son combinaciones lineales de las filas de $R$:\n",
        "\n",
        " $$\n",
        "(1,4,5)=1(1,0,1)+4(0,1,1)\\\\\n",
        "(2,5,6)=2(1,0,1)+5(0,1,1)\\\\\n",
        "(3,6,9)=3(1,0,1)+6(0,1,1)\n",
        " $$\n",
        "\n",
        " Por lo tanto las filas de $R$ general las filas de $A$. Ya está? o falta algo? tenemos que las filas de $R$ son independientes y cualquier fila de $A$ es combinación lineal de las filas de $R$. Entonces deberían ser una base,no?\n",
        "\n",
        "\n",
        "\n",
        " Faltaría ver que los vectores filas están en el espacio columnas! Eso es lo que entendemos por un \"generador\" de un subespacio.\n",
        "\n",
        " (Observar que la base canónica genera cualquier vector en un subespacio fijo, y obviamente son independientes, pero eso no implica que la base canónica es un generador  dicho subsepacio.)\n",
        "\n",
        "**Ejercicio:** Pruebe que las filas de $R$ están en el espacio fila de $A$.\n",
        "\n",
        "\n",
        " <details>\n",
        " <summary><b>Apriete aquí para ver la respuesta</b></summary>\n",
        "\n",
        " Por qué las filas de $R$ están en el espacio filas $R(A)$ de $A$?\n",
        "\n",
        "$$\n",
        "\\begin{pmatrix} 1 & 4 & 5 \\\\ 2 & 5 & 7\n",
        "\\end{pmatrix}\n",
        "=\n",
        "\\begin{pmatrix}\n",
        "1&4\\\\2&5\n",
        "\\end{pmatrix}\\cdot\n",
        "\\begin{pmatrix}\n",
        "1&0&1\\\\0&1&1\n",
        "\\end{pmatrix}\n",
        "$$\n",
        "Luego como el menor $2x2$ (la primer matriz) es invertible podemos multiplicar a izquierda y obtener\n",
        "$$\n",
        "\\begin{pmatrix}\n",
        "a&c\\\\b&d\n",
        "\\end{pmatrix}\\cdot \\begin{pmatrix} 1 & 4 & 5 \\\\ 2 & 5 & 7\n",
        "\\end{pmatrix}=\n",
        "\\begin{pmatrix}\n",
        "1&0&1\\\\0&1&1\n",
        "\\end{pmatrix}  \n",
        "$$\n",
        "siendo la primer matriz la inversa del menor considerado.\n",
        "\n",
        "Acá es importane que el menor $2\\times 2$ que hemos tomado sea invertible.\n",
        "\n",
        "Recordar que la inversa de una matriz 2x2 viene dada por la fórmula:\n",
        "$$\n",
        "\\begin{pmatrix}\n",
        "\\alpha &\\gamma\\\\\\beta&\\delta\n",
        "\\end{pmatrix}^{-1}=\n",
        "\\frac{1}{\\alpha\\delta-\\beta\\gamma}\n",
        "\\begin{pmatrix}\n",
        "\\delta&-\\beta\\\\-\\gamma&\\alpha\n",
        "\\end{pmatrix}\n",
        "$$\n",
        "\n",
        " </details>\n",
        "\n",
        "\n"
      ]
    },
    {
      "cell_type": "markdown",
      "id": "Y-tsuy42_id5",
      "metadata": {
        "id": "Y-tsuy42_id5"
      },
      "source": [
        "**$(\\dagger)$ Ejercicio:** Argumentar para el caso general. Es decir, dar una prueba de que en la descomposición $A=CR$ (en general), se tiene que las filas de $R$ son una base del espacio filas."
      ]
    },
    {
      "cell_type": "markdown",
      "id": "gLsxCynEKhFm",
      "metadata": {
        "id": "gLsxCynEKhFm"
      },
      "source": [
        "$(\\dagger)$**Ejercicio:** Encontrar la matriz $2\\times 2$ tal que"
      ]
    },
    {
      "cell_type": "markdown",
      "id": "53dfLlLapeNv",
      "metadata": {
        "id": "53dfLlLapeNv"
      },
      "source": [
        "$(\\dagger)$ **Ejercicio:** Argumentar porqué siempre podemos descomponer una matriz $A$ de rango $r$ de la forma\n",
        "$$\n",
        "A=C \\Delta R,\n",
        "$$\n",
        "con\n",
        "- $C$ una matriz $n\\times r$ que es base del espacios columnas,\n",
        "- $\\Delta$ matriz $r\\times r$ invertible,\n",
        "- $R$  matriz $r\\times n$ que es una base del espacio filas de $A$."
      ]
    },
    {
      "cell_type": "markdown",
      "id": "wtIryIE1sNc-",
      "metadata": {
        "id": "wtIryIE1sNc-"
      },
      "source": [
        "# Multiplicación de Matrices AB"
      ]
    },
    {
      "cell_type": "markdown",
      "id": "LIg9o_jlqjIw",
      "metadata": {
        "id": "LIg9o_jlqjIw"
      },
      "source": [
        "## Inner products\n",
        "\n",
        "Las **inner products** (filas por columnas) producen cada uno de los números en \\( AB = C \\):\n",
        "\n",
        "$$\n",
        "\\text{fila 2 de } A \\quad \\cdot \\quad \\text{columna 3 de } B \\quad \\Rightarrow \\quad \\text{da } c_{23} \\text{ en } C\n",
        "$$\n",
        "\n",
        "$$\n",
        "\\begin{bmatrix}\n",
        "a_{21} & a_{22} & a_{23}\n",
        "\\end{bmatrix}\n",
        "\\cdot\n",
        "\\begin{bmatrix}\n",
        "b_{13} \\\\ b_{23} \\\\ b_{33}\n",
        "\\end{bmatrix}\n",
        "=\n",
        "c_{23}\n",
        "$$\n",
        "\n",
        "Ese producto puntual se calcula como:\n",
        "\n",
        "$$\n",
        "c_{23} = (\\text{fila 2 de } A) \\cdot (\\text{columna 3 de } B) = \\sum a's \\cdot b's\n",
        "$$\n",
        "\n",
        "$$\n",
        "c_{23} = a_{21} b_{13} + a_{22} b_{23} + a_{23} b_{33} = \\sum a_{2k} b_{k3}, \\quad \\text{donde} \\quad c_{ij} = \\sum a_{ik} b_{kj}\n",
        "$$\n",
        "\n",
        "Este es el método usual para computar cada número en $AB = C$. Sin embargo, hay otro enfoque.\n",
        "\n",
        "## Outer product\n",
        "\n",
        "Otra forma de multiplicar matrices es como suma de productos exteriores de **columnas** de $A$ y **filas** de $B$. Para ver esto, comencemos con un caso especial:\n",
        "\n",
        "$$\n",
        "\\text{\"Outer product\"} \\quad = \\quad uv^T\n",
        "$$\n",
        "\n",
        "Ejemplo:\n",
        "\n",
        "$$\n",
        "\\begin{bmatrix} 2 \\\\ 1 \\end{bmatrix}\n",
        "\\begin{bmatrix} 3 & 4 & 6 \\end{bmatrix}\n",
        "=\n",
        "\\begin{bmatrix} 6 & 8 & 12 \\\\ 3 & 4 & 6 \\end{bmatrix}\n",
        "$$\n",
        "\n",
        "Este producto genera una matriz de rango uno. De manera general, un producto exterior $uv^T$ produce una matriz de rango uno, ya que todas sus columnas son múltiplos de $u$ y todas sus filas son múltiplos de $v^T$.\n",
        "\n",
        "La dimensión del espacio generado por $uv^T$ es de una dimensión: **la línea en la dirección de $u$**. Así, toda matriz de rango uno tiene un espacio columna de dimensión uno.\n",
        "\n",
        "### Transposición y el producto exterior\n",
        "\n",
        "$$\n",
        "(uv^T)^T =\n",
        "\\begin{bmatrix} 6 & 8 & 12 \\\\ 3 & 4 & 6 \\end{bmatrix}^T\n",
        "=\n",
        "\\begin{bmatrix} 6 & 3 \\\\ 8 & 4 \\\\ 12 & 6 \\end{bmatrix}\n",
        "$$\n",
        "\n",
        "Podemos escribir:\n",
        "\n",
        "$$\n",
        "(uv^T)^T = vu^T\n",
        "$$\n"
      ]
    },
    {
      "cell_type": "markdown",
      "id": "_iClU2_Fsa_3",
      "metadata": {
        "id": "_iClU2_Fsa_3"
      },
      "source": [
        "# Flashes del Álgebra Lineal\n",
        "\n",
        "## Teorema del Rango (teorema de las dimensiones)\n",
        "\n",
        "Estamos viendo el ejemplo más claro del primer gran teorema del álgebra lineal:\n",
        "\n",
        "**Rango por columnas= rango por filas**\n",
        "\n",
        "$r$ columnas independientes $\\Leftrightarrow r$ filas independendientes\n",
        "\n",
        "\n",
        " <details>\n",
        " <summary><b>\n",
        "*$(\\dagger)$ Cómo se relaciona con el teorema de las dimensiones?*</b></summary>\n",
        "Nuestra matriz $A$ de tamaño $m\\times n$, se puede pensar como una transformación lineal\n",
        "$$\n",
        "A:\\mathbb{R}^n\\ to \\mathbb{R}^m.\n",
        "$$\n",
        "Observar que la matriz traspuesta $A^T$ satisface $$\\langle Av,w\\rangle =\\langle v,A^Tw\\rangle\\qquad v\\in\\R^{n}, w\\in\\mathbb{R}^m.\n",
        "$$\n",
        "De esta igualdad resulta que el núcleo de $A^T$ es ortogonal a la imagen de $A$ (*verificar eso*).\n",
        "Luego tenemos que el núcleo de $A$ y la imagen de $A^T$ dan una descomposición ortogonal del dominio $\\R^n$. Es decir:\n",
        "$$\n",
        "n=\\dim (\\ker(A)) + \\dim Im(A^T).\n",
        "$$\n",
        "Luego como el rango por filas es igual al rango por columnas resulta que $\\dim Im(A^T)=\\dim(Im(A))$. Lo cual implica el teorema de las dimensiones.\n",
        " </details>\n",
        "\n",
        "---\n",
        "\n",
        "Una matriz no nula $uv^T$ tiene exactamente **una columna independiente y una fila independiente**. Todas sus columnas son múltiplos de $u$ y todas sus filas son múltiplos de $v^T$. El rango es $r = 1$ para esta matriz.\n",
        "\n",
        "---\n",
        "\n",
        "## $AB = $ Suma de Matrices de Rango Uno\n",
        "\n",
        "Ahora consideramos el producto completo $AB$, usando columnas de $A$ multiplicadas por filas de $B$. Sean $a_1, a_2, \\dots, a_n$ las columnas de $A$. Entonces, $B$ debe tener $n$ filas $b_1^T, b_2^T, \\dots, b_n^T$. La matriz $A$ multiplica a la matriz $B$. Su producto $AB$ es la suma de **columnas de $A$ multiplicadas por filas de $B$**:\n",
        "\n",
        "### Column-row multiplication of matrices\n",
        "\n",
        "$$\n",
        "AB =\n",
        "\\begin{bmatrix}\n",
        "a_1 & a_2 & \\dots & a_n\n",
        "\\end{bmatrix}\n",
        "\\begin{bmatrix}\n",
        "b_1^T \\\\ b_2^T \\\\ \\vdots \\\\ b_n^T\n",
        "\\end{bmatrix}\n",
        "=\n",
        "a_1 b_1^T + a_2 b_2^T + \\dots + a_n b_n^T\n",
        "$$\n",
        "\n",
        "(suma de matrices de rango uno)\n",
        "\n",
        "Un ejemplo con una matriz $2 \\times 2$ para ilustrar la suma de $n = 2$ piezas:\n",
        "\n",
        "$$\n",
        "AB =\n",
        "\\begin{bmatrix} 1 \\\\ 3 \\end{bmatrix}\n",
        "\\begin{bmatrix} 2 & 4 \\end{bmatrix}\n",
        "+\n",
        "\\begin{bmatrix} 0 \\\\ 1 \\end{bmatrix}\n",
        "\\begin{bmatrix} 0 & 5 \\end{bmatrix}\n",
        "=\n",
        "\\begin{bmatrix} 2 & 4 \\\\ 6 & 12 \\end{bmatrix}\n",
        "+\n",
        "\\begin{bmatrix} 0 & 0 \\\\ 0 & 5 \\end{bmatrix}\n",
        "=\n",
        "\\begin{bmatrix} 2 & 4 \\\\ 6 & 17 \\end{bmatrix}\n",
        "$$\n",
        "\n",
        "---\n",
        "\n",
        "Podemos contar las multiplicaciones de números en los productos. Cuatro multiplicaciones para obtener $2, 4, 6, 12$. Otras cuatro para obtener $0, 0, 0, 5$.  \n",
        "El total de $2 \\times 2 = 8$ multiplicaciones.  \n",
        "Siempre hay $m \\times n \\times p$ multiplicaciones cuando $A$ es $m \\times n$ y $B$ es $n \\times p$.  \n",
        "La multiplicación de matrices se puede ver como la suma de $n$ matrices de **rango uno**, cada una de ellas de tamaño $m \\times p$.\n",
        "\n",
        "El conteo es el mismo para el método de productos internos usual. La fila $i$ de $A$ con la columna $j$ de $B$ da $mp$ productos internos. Hacer esto para cada una de las $n$ columnas de $A$ es nuevamente **$mnp$**.  \n",
        "La cuenta total es otra vez **$mnp$** cuando multiplicamos $(m \\times n)$ por $(n \\times p)$.\n",
        "\n",
        "- Columnas $\\times$ filas $\\quad \\Rightarrow \\quad$ **inner products**, $mnp$\n",
        "- Columnas $\\times$ filas $\\quad \\Rightarrow \\quad$ **outer products**, $mnp$\n",
        "- Multiplicaciones de cada fila $\\times$ cada columna $\\quad \\Rightarrow \\quad$ **mnp**\n",
        "\n",
        "Cuando observamos más de cerca, **vemos exactamente las mismas multiplicaciones $a_{ik} b_{kj}$ en diferentes órdenes**. Aquí está la prueba algebraica de que cada número $c_{ij}$ en $C = AB$ es la misma suma de productos exteriores en $(3)$ y productos internos en $(2)$:\n",
        "\n",
        "El $(i, j)$-ésimo término de $AB$, es:\n",
        "\n",
        "$$\n",
        "c_{ij} = a_{i1} b_{1j} + a_{i2} b_{2j} + \\dots + a_{in} b_{nj} = \\sum a_{ik} b_{kj}\n",
        "$$\n",
        "\n",
        "(fila $i$ $\\cdot$ columna $j$)\n",
        "\n"
      ]
    },
    {
      "cell_type": "markdown",
      "id": "7nbzNYPYspc5",
      "metadata": {
        "id": "7nbzNYPYspc5"
      },
      "source": [
        "# Insight from Column times Row\n",
        "\n",
        "¿Por qué el enfoque del producto exterior es esencial en ciencia de datos?  \n",
        "La respuesta corta es: **estamos buscando la parte más importante de una matriz**.  \n",
        "\n",
        "No siempre necesitamos todas las entradas de una matriz $A$, pero sí nos interesa su mayor parte en términos de información. **Esos elementos clave son las matrices de rango uno $uv^T$**. Un tema dominante en álgebra lineal aplicada es:\n",
        "\n",
        "**Factoriza $A$ en $CR$ y observa las piezas $c_k r_k^T$ en $A = CR$.**\n",
        "\n",
        "Factorizar $A$ en $CR$ es lo opuesto a multiplicar $CR = A$. Factorizar suele ser más largo, especialmente si el objetivo involucra **autovalores** o **valores singulares**.  \n",
        "Pero estas factorizaciones revelan información oculta sobre la matriz $A$, que **no es visible solo al multiplicar**.\n",
        "\n",
        "A continuación, las factorizaciones más importantes con la elección estándar de centros (usualmente $A$) para la matriz original y las formas que toman sus factores:\n",
        "\n",
        "$$\n",
        "A = LU \\quad A = QR \\quad S = Q \\Lambda Q^T \\quad A = X \\Lambda X^{-1} \\quad A = U \\Sigma V^T\n",
        "$$\n",
        "\n",
        "### Propiedades clave de estas factorizaciones:\n",
        "\n",
        "1. **$A = LU$** proviene de la **eliminación**.  \n",
        "   - Combinaciones de filas llevan $A$ a $L U$ y viceversa.  \n",
        "   - $L$ es **triangular inferior** y $U$ es **triangular superior** en la ecuación (4).\n",
        "\n",
        "2. **$A = QR$** proviene de **ortogonalizar** las columnas de $Q$, como en \"Gram-Schmidt\".  \n",
        "   - $Q$ tiene **columnas ortogonales** ($Q^T Q = I$) y $R$ es **triangular superior**.\n",
        "\n",
        "3. **$S = Q \\Lambda Q^T$** proviene de los **autovalores $\\lambda_1, \\dots, \\lambda_n$** de la **matriz simétrica** $S = S^T$.  \n",
        "   - **Autovalores en la diagonal de $\\Lambda$.**  \n",
        "   - **Autovectores en las columnas de $Q$.**\n",
        "\n",
        "4. **$A = X \\Lambda X^{-1}$** es la **diagonalización** cuando $A$ tiene $n$ **autovectores independientes**.  \n",
        "   - **Autovalores en la diagonal de $\\Lambda$.**  \n",
        "   - **Autovectores en las columnas de $X$.**\n",
        "\n",
        "5. **$A = U \\Sigma V^T$** es la **Singular Value Decomposition (SVD)** para cualquier matriz $A$ (cuadrada o no).  \n",
        "   - **Valores singulares $\\sigma_1, \\dots, \\sigma_r$ en $\\Sigma$.**  \n",
        "   - **Matriz ortogonal de valores singulares en $U$ y $V^T$.**\n",
        "\n",
        "---\n",
        "\n",
        "### Simetría y Matrices Ortogonales\n",
        "\n",
        "Tomemos una matriz de tamaño **dos** para ilustrar la idea. La factorización especial $Q \\Lambda Q^T$ inicia con una **matriz simétrica** $S$.  \n",
        "Esa matriz tiene **autovalores reales** y **autovectores ortogonales** $q_1, q_2, \\dots$.  \n",
        "Esos autovectores diagonalizan $S$ y definen las **propiedades clave de matrices simétricas y ortogonales**:\n",
        "\n",
        "#### Matriz Simétrica $S = S^T$\n",
        "\n",
        "- Todos $a_{ij} = a_{ji}$\n",
        "\n",
        "#### Matriz Ortogonal $Q$\n",
        "\n",
        "- $Q^T Q = Q Q^T = I$\n",
        "- Todas las $q_i$ son ortonormales:\n",
        "\n",
        "$$\n",
        "q_i \\cdot q_j =\n",
        "\\begin{cases}\n",
        "1, & \\text{si } i = j \\\\\n",
        "0, & \\text{si } i \\neq j\n",
        "\\end{cases}\n",
        "$$\n"
      ]
    },
    {
      "cell_type": "markdown",
      "id": "ojYgm84Ps3kN",
      "metadata": {
        "id": "ojYgm84Ps3kN"
      },
      "source": [
        "# Eigenvector $q$ and Eigenvalue $\\lambda$\n",
        "\n",
        "La matriz diagonal $\\Lambda$ contiene autovalores $\\lambda_1, \\lambda_2, \\dots, \\lambda_n$.  \n",
        "Toda **matriz simétrica** $S$ tiene una **base ortonormal de autovectores** $q_1, q_2, \\dots, q_n$.  \n",
        "Cuando multiplicamos $S$ por $q_i$, los autovectores permanecen en la misma dirección, solo escalados por $\\lambda_i$:\n",
        "\n",
        "$$\n",
        "S q = \\lambda q\n",
        "$$\n",
        "\n",
        "(5)\n",
        "\n",
        "---\n",
        "\n",
        "Encontrar $\\lambda$ y $q$ **no es fácil** en matrices grandes.  \n",
        "Pero los pares $(\\lambda, q)$ **siempre existen** cuando $S$ es **simétrica**.  \n",
        "Nuestra prueba aquí es ver cómo $SQ = Q \\Lambda$ se obtiene únicamente con **multiplicación de matrices**:\n",
        "\n",
        "$$\n",
        "SQ =\n",
        "S \\begin{bmatrix} q_1 & q_2 & \\dots & q_n \\end{bmatrix}\n",
        "=\n",
        "\\begin{bmatrix} S q_1 & S q_2 & \\dots & S q_n \\end{bmatrix}\n",
        "=\n",
        "\\begin{bmatrix} \\lambda_1 q_1 & \\lambda_2 q_2 & \\dots & \\lambda_n q_n \\end{bmatrix}\n",
        "=\n",
        "Q \\Lambda.\n",
        "$$\n",
        "\n",
        "Multiplicando por $Q^{-1}$ a la derecha:\n",
        "\n",
        "$$\n",
        "SQ Q^{-1} = Q \\Lambda Q^T\n",
        "$$\n",
        "\n",
        "Obtenemos **$S = Q \\Lambda Q^T$**, una matriz **simétrica**.  \n",
        "\n",
        "Cada autovalor $\\lambda_i$ y su autovector $q_i$ contribuyen con una **matriz de rango uno**:\n",
        "\n",
        "$$\n",
        "\\lambda_i q_i q_i^T.\n",
        "$$\n",
        "\n",
        "---\n",
        "\n",
        "### Rank one pieces\n",
        "\n",
        "$$\n",
        "S = (Q \\Lambda Q^T) = (\\lambda_1 q_1 q_1^T + \\lambda_2 q_2 q_2^T + \\dots + \\lambda_n q_n q_n^T).\n",
        "$$\n",
        "\n",
        "(Todas son **matrices simétricas**.)\n",
        "\n",
        "La transposición de $q_i q_i^T$ es:\n",
        "\n",
        "$$\n",
        "q_i q_i^T = q_i q_i^T.\n",
        "$$\n",
        "\n",
        "(8)\n",
        "\n",
        "---\n",
        "\n",
        "**Observación:**  \n",
        "Las columnas de $Q \\Lambda$ son simplemente $\\lambda_i q_i, \\lambda_2 q_2, \\dots$.  \n",
        "Multiplicar una matriz a la **derecha** por $\\Lambda$ **multiplica sus columnas por los autovalores $\\lambda_i$**.\n",
        "\n",
        "---\n",
        "\n",
        "## Comentario sobre el **Teorema Espectral**\n",
        "\n",
        "**Teorema Espectral**:  \n",
        "$$\n",
        "S = Q \\Lambda Q^T.\n",
        "$$\n",
        "Toda **matriz simétrica** $S$ tiene **autovalores reales** y **autovectores ortonormales**.  \n",
        "\n",
        "La sección 1.6 construirá los autovalores como las raíces del polinomio característico $\\det(S - \\lambda I)$.  \n",
        "Son **números reales** porque **$S = S^T$**.  \n",
        "\n",
        "Un detalle delicado en la prueba ocurre cuando **un autovalor es repetido**.  \n",
        "Si $\\lambda$ es una raíz doble de $\\det(S - \\lambda I)$,  \n",
        "necesitamos encontrar **$M$ autovectores independientes** asociados a $\\lambda$, donde $M$ es la **multiplicidad de $\\lambda$** en $\\det(S - \\lambda I)$.\n",
        "\n",
        "---\n",
        "\n",
        "### Singular Value Decomposition\n",
        "\n",
        "De manera similar, la **Descomposición en Valores Singulares (SVD)**\n",
        "\n",
        "$$\n",
        "A = U \\Sigma V^T\n",
        "$$\n",
        "\n",
        "requiere un **par ortonormal** cuando un **valor singular** $\\sigma$ se repite **$M$ veces en la matriz diagonal $\\Sigma$**.  \n",
        "En este caso, encontramos **$M$ autovectores ortogonales**.\n",
        "\n",
        "---\n",
        "\n",
        "### Notación de Filas y Transposición\n",
        "\n",
        "La notación para las **filas de $B$** ha sido **$b_1^T, b_2^T, \\dots$**, pero esta notación puede ser confusa.  \n",
        "Podríamos haber esperado **$b_1, b_2$**, pero **eso fue un descuido**.  \n",
        "\n",
        "Para evitar confusión, es mejor decir con precisión:\n",
        "\n",
        "> **\"Queremos las filas de esa matriz.\"**\n"
      ]
    },
    {
      "cell_type": "code",
      "execution_count": null,
      "id": "HpeydOLns_MG",
      "metadata": {
        "id": "HpeydOLns_MG"
      },
      "outputs": [],
      "source": []
    }
  ],
  "metadata": {
    "colab": {
      "include_colab_link": true,
      "provenance": [],
      "toc_visible": true
    },
    "kernelspec": {
      "display_name": "Julia 1.8.1",
      "language": "julia",
      "name": "julia-1.8"
    },
    "language_info": {
      "file_extension": ".jl",
      "mimetype": "application/julia",
      "name": "julia",
      "version": "1.8.1"
    }
  },
  "nbformat": 4,
  "nbformat_minor": 5
}
